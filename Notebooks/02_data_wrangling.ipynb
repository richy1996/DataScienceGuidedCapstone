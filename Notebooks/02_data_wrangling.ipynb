{
  "cells": [
    {
      "cell_type": "markdown",
      "metadata": {
        "id": "VayVSVK071d7"
      },
      "source": [
        "# 2 Data wrangling<a id='2_Data_wrangling'></a>"
      ]
    },
    {
      "cell_type": "markdown",
      "metadata": {
        "id": "QU_g_Btd71eB"
      },
      "source": [
        "## 2.1 Contents<a id='2.1_Contents'></a>\n",
        "* [2 Data wrangling](#2_Data_wrangling)\n",
        "  * [2.1 Contents](#2.1_Contents)\n",
        "  * [2.2 Introduction](#2.2_Introduction)\n",
        "    * [2.2.1 Recap Of Data Science Problem](#2.2.1_Recap_Of_Data_Science_Problem)\n",
        "    * [2.2.2 Introduction To Notebook](#2.2.2_Introduction_To_Notebook)\n",
        "  * [2.3 Imports](#2.3_Imports)\n",
        "  * [2.4 Objectives](#2.4_Objectives)\n",
        "  * [2.5 Load The Ski Resort Data](#2.5_Load_The_Ski_Resort_Data)\n",
        "  * [2.6 Explore The Data](#2.6_Explore_The_Data)\n",
        "    * [2.6.1 Find Your Resort Of Interest](#2.6.1_Find_Your_Resort_Of_Interest)\n",
        "    * [2.6.2 Number Of Missing Values By Column](#2.6.2_Number_Of_Missing_Values_By_Column)\n",
        "    * [2.6.3 Categorical Features](#2.6.3_Categorical_Features)\n",
        "      * [2.6.3.1 Unique Resort Names](#2.6.3.1_Unique_Resort_Names)\n",
        "      * [2.6.3.2 Region And State](#2.6.3.2_Region_And_State)\n",
        "      * [2.6.3.3 Number of distinct regions and states](#2.6.3.3_Number_of_distinct_regions_and_states)\n",
        "      * [2.6.3.4 Distribution Of Resorts By Region And State](#2.6.3.4_Distribution_Of_Resorts_By_Region_And_State)\n",
        "      * [2.6.3.5 Distribution Of Ticket Price By State](#2.6.3.5_Distribution_Of_Ticket_Price_By_State)\n",
        "        * [2.6.3.5.1 Average weekend and weekday price by state](#2.6.3.5.1_Average_weekend_and_weekday_price_by_state)\n",
        "        * [2.6.3.5.2 Distribution of weekday and weekend price by state](#2.6.3.5.2_Distribution_of_weekday_and_weekend_price_by_state)\n",
        "    * [2.6.4 Numeric Features](#2.6.4_Numeric_Features)\n",
        "      * [2.6.4.1 Numeric data summary](#2.6.4.1_Numeric_data_summary)\n",
        "      * [2.6.4.2 Distributions Of Feature Values](#2.6.4.2_Distributions_Of_Feature_Values)\n",
        "        * [2.6.4.2.1 SkiableTerrain_ac](#2.6.4.2.1_SkiableTerrain_ac)\n",
        "        * [2.6.4.2.2 Snow Making_ac](#2.6.4.2.2_Snow_Making_ac)\n",
        "        * [2.6.4.2.3 fastEight](#2.6.4.2.3_fastEight)\n",
        "        * [2.6.4.2.4 fastSixes and Trams](#2.6.4.2.4_fastSixes_and_Trams)\n",
        "  * [2.7 Derive State-wide Summary Statistics For Our Market Segment](#2.7_Derive_State-wide_Summary_Statistics_For_Our_Market_Segment)\n",
        "  * [2.8 Drop Rows With No Price Data](#2.8_Drop_Rows_With_No_Price_Data)\n",
        "  * [2.9 Review distributions](#2.9_Review_distributions)\n",
        "  * [2.10 Population data](#2.10_Population_data)\n",
        "  * [2.11 Target Feature](#2.11_Target_Feature)\n",
        "    * [2.11.1 Number Of Missing Values By Row - Resort](#2.11.1_Number_Of_Missing_Values_By_Row_-_Resort)\n",
        "  * [2.12 Save data](#2.12_Save_data)\n",
        "  * [2.13 Summary](#2.13_Summary)\n"
      ]
    },
    {
      "cell_type": "markdown",
      "metadata": {
        "id": "T2KuRIyz71eD"
      },
      "source": [
        "## 2.2 Introduction<a id='2.2_Introduction'></a>"
      ]
    },
    {
      "cell_type": "markdown",
      "metadata": {
        "id": "Q9n5IVXH71eE"
      },
      "source": [
        "This step focuses on collecting your data, organizing it, and making sure it's well defined. Paying attention to these tasks will pay off greatly later on. Some data cleaning can be done at this stage, but it's important not to be overzealous in your cleaning before you've explored the data to better understand it."
      ]
    },
    {
      "cell_type": "markdown",
      "metadata": {
        "id": "E3d0oxH771eE"
      },
      "source": [
        "### 2.2.1 Recap Of Data Science Problem<a id='2.2.1_Recap_Of_Data_Science_Problem'></a>"
      ]
    },
    {
      "cell_type": "markdown",
      "metadata": {
        "id": "ax1Vc_Yb71eF"
      },
      "source": [
        "The purpose of this data science project is to come up with a pricing model for ski resort tickets in our market segment. Big Mountain suspects it may not be maximizing its returns, relative to its position in the market. It also does not have a strong sense of what facilities matter most to visitors, particularly which ones they're most likely to pay more for. This project aims to build a predictive model for ticket price based on a number of facilities, or properties, boasted by resorts (*at the resorts).* \n",
        "This model will be used to provide guidance for Big Mountain's pricing and future facility investment plans."
      ]
    },
    {
      "cell_type": "markdown",
      "metadata": {
        "id": "Y8jmUXq571eG"
      },
      "source": [
        "### 2.2.2 Introduction To Notebook<a id='2.2.2_Introduction_To_Notebook'></a>"
      ]
    },
    {
      "cell_type": "markdown",
      "metadata": {
        "id": "wnu0diGE71eG"
      },
      "source": [
        "Notebooks grow organically as we explore our data. If you used paper notebooks, you could discover a mistake and cross out or revise some earlier work. Later work may give you a reason to revisit earlier work and explore it further. The great thing about Jupyter notebooks is that you can edit, add, and move cells around without needing to cross out figures or scrawl in the margin. However, this means you can lose track of your changes easily. If you worked in a regulated environment, the company may have a a policy of always dating entries and clearly crossing out any mistakes, with your initials and the date.\n",
        "\n",
        "**Best practice here is to commit your changes using a version control system such as Git.** Try to get into the habit of adding and committing your files to the Git repository you're working in after you save them. You're are working in a Git repository, right? If you make a significant change, save the notebook and commit it to Git. In fact, if you're about to make a significant change, it's a good idea to commit before as well. Then if the change is a mess, you've got the previous version to go back to.\n",
        "\n",
        "**Another best practice with notebooks is to try to keep them organized with helpful headings and comments.** Not only can a good structure, but associated headings help you keep track of what you've done and your current focus. Anyone reading your notebook will have a much easier time following the flow of work. Remember, that 'anyone' will most likely be you. Be kind to future you!\n",
        "\n",
        "In this notebook, note how we try to use well structured, helpful headings that frequently are self-explanatory, and we make a brief note after any results to highlight key takeaways. This is an immense help to anyone reading your notebook and it will greatly help you when you come to summarise your findings. **Top tip: jot down key findings in a final summary at the end of the notebook as they arise. You can tidy this up later.** This is a great way to ensure important results don't get lost in the middle of your notebooks."
      ]
    },
    {
      "cell_type": "markdown",
      "metadata": {
        "id": "vv5gA_tS71eH"
      },
      "source": [
        "In this, and subsequent notebooks, there are coding tasks marked with `#Code task n#` with code to complete. The `___` will guide you to where you need to insert code."
      ]
    },
    {
      "cell_type": "markdown",
      "metadata": {
        "id": "Fr9ntGsR71eI"
      },
      "source": [
        "## 2.3 Imports<a id='2.3_Imports'></a>"
      ]
    },
    {
      "cell_type": "markdown",
      "metadata": {
        "id": "rb1TQKdk71eI"
      },
      "source": [
        "Placing your imports all together at the start of your notebook means you only need to consult one place to check your notebook's dependencies. By all means import something 'in situ' later on when you're experimenting, but if the imported dependency ends up being kept, you should subsequently move the import statement here with the rest."
      ]
    },
    {
      "cell_type": "code",
      "execution_count": 1,
      "metadata": {
        "id": "UHaELY1571eJ"
      },
      "outputs": [],
      "source": [
        "#Code task 1#\n",
        "#Import pandas, matplotlib.pyplot, and seaborn in the correct lines below\n",
        "import pandas as pd\n",
        "import matplotlib.pyplot as plt\n",
        "import seaborn as sns\n",
        "import os\n",
        "\n",
        "from library.sb_utils import save_file\n"
      ]
    },
    {
      "cell_type": "markdown",
      "metadata": {
        "id": "0yWr1Phu71eK"
      },
      "source": [
        "## 2.4 Objectives<a id='2.4_Objectives'></a>"
      ]
    },
    {
      "cell_type": "markdown",
      "metadata": {
        "id": "6Hj__rFz71eL"
      },
      "source": [
        "There are some fundamental questions to resolve in this notebook before you move on.\n",
        "\n",
        "* Do you think you may have the data you need to tackle the desired question?\n",
        "    * Have you identified the required target value?\n",
        "    * Do you have potentially useful features?\n",
        "* Do you have any fundamental issues with the data?"
      ]
    },
    {
      "cell_type": "markdown",
      "metadata": {
        "id": "CVmmhSDs71eL"
      },
      "source": [
        "## 2.5 Load The Ski Resort Data<a id='2.5_Load_The_Ski_Resort_Data'></a>"
      ]
    },
    {
      "cell_type": "code",
      "execution_count": 2,
      "metadata": {
        "id": "BFoiFfed71eL"
      },
      "outputs": [],
      "source": [
        "# the supplied CSV data file is the raw_data directory\n",
        "ski_data = pd.read_csv('../raw_data/ski_resort_data.csv')"
      ]
    },
    {
      "cell_type": "markdown",
      "metadata": {
        "id": "S0IDfzZJ71eM"
      },
      "source": [
        "Good first steps in auditing the data are the info method and displaying the first few records with head."
      ]
    },
    {
      "cell_type": "code",
      "execution_count": 3,
      "metadata": {
        "colab": {
          "base_uri": "https://localhost:8080/"
        },
        "id": "YbUzqokm71eM",
        "outputId": "1b00310e-1085-4458-8550-46f2610135f9"
      },
      "outputs": [
        {
          "output_type": "stream",
          "name": "stdout",
          "text": [
            "<class 'pandas.core.frame.DataFrame'>\n",
            "RangeIndex: 330 entries, 0 to 329\n",
            "Data columns (total 27 columns):\n",
            " #   Column             Non-Null Count  Dtype  \n",
            "---  ------             --------------  -----  \n",
            " 0   Name               330 non-null    object \n",
            " 1   Region             330 non-null    object \n",
            " 2   state              330 non-null    object \n",
            " 3   summit_elev        330 non-null    int64  \n",
            " 4   vertical_drop      330 non-null    int64  \n",
            " 5   base_elev          330 non-null    int64  \n",
            " 6   trams              330 non-null    int64  \n",
            " 7   fastEight          164 non-null    float64\n",
            " 8   fastSixes          330 non-null    int64  \n",
            " 9   fastQuads          330 non-null    int64  \n",
            " 10  quad               330 non-null    int64  \n",
            " 11  triple             330 non-null    int64  \n",
            " 12  double             330 non-null    int64  \n",
            " 13  surface            330 non-null    int64  \n",
            " 14  total_chairs       330 non-null    int64  \n",
            " 15  Runs               326 non-null    float64\n",
            " 16  TerrainParks       279 non-null    float64\n",
            " 17  LongestRun_mi      325 non-null    float64\n",
            " 18  SkiableTerrain_ac  327 non-null    float64\n",
            " 19  Snow Making_ac     284 non-null    float64\n",
            " 20  daysOpenLastYear   279 non-null    float64\n",
            " 21  yearsOpen          329 non-null    float64\n",
            " 22  averageSnowfall    316 non-null    float64\n",
            " 23  AdultWeekday       276 non-null    float64\n",
            " 24  AdultWeekend       279 non-null    float64\n",
            " 25  projectedDaysOpen  283 non-null    float64\n",
            " 26  NightSkiing_ac     187 non-null    float64\n",
            "dtypes: float64(13), int64(11), object(3)\n",
            "memory usage: 69.7+ KB\n"
          ]
        }
      ],
      "source": [
        "#Code task 2#\n",
        "#Call the info method on ski_data to see a summary of the data\n",
        "ski_data.info()"
      ]
    },
    {
      "cell_type": "markdown",
      "metadata": {
        "id": "UeCeyzmu71eN"
      },
      "source": [
        "`AdultWeekday` is the price of an adult weekday ticket. `AdultWeekend` is the price of an adult weekend ticket. The other columns are potential features."
      ]
    },
    {
      "cell_type": "markdown",
      "metadata": {
        "id": "YCyD7mbv71eN"
      },
      "source": [
        "This immediately raises the question of what quantity will you want to model? You know you want to model the ticket price, but you realise there are two kinds of ticket price!"
      ]
    },
    {
      "cell_type": "code",
      "execution_count": 4,
      "metadata": {
        "scrolled": true,
        "colab": {
          "base_uri": "https://localhost:8080/",
          "height": 421
        },
        "id": "SaaF8Bqk71eO",
        "outputId": "88c23484-e09b-4e49-8858-8a9748863413"
      },
      "outputs": [
        {
          "output_type": "execute_result",
          "data": {
            "text/plain": [
              "                  Name   Region    state  summit_elev  vertical_drop  \\\n",
              "0       Alyeska Resort   Alaska   Alaska         3939           2500   \n",
              "1  Eaglecrest Ski Area   Alaska   Alaska         2600           1540   \n",
              "2     Hilltop Ski Area   Alaska   Alaska         2090            294   \n",
              "3     Arizona Snowbowl  Arizona  Arizona        11500           2300   \n",
              "4  Sunrise Park Resort  Arizona  Arizona        11100           1800   \n",
              "\n",
              "   base_elev  trams  fastEight  fastSixes  fastQuads  ...  LongestRun_mi  \\\n",
              "0        250      1        0.0          0          2  ...            1.0   \n",
              "1       1200      0        0.0          0          0  ...            2.0   \n",
              "2       1796      0        0.0          0          0  ...            1.0   \n",
              "3       9200      0        0.0          1          0  ...            2.0   \n",
              "4       9200      0        NaN          0          1  ...            1.2   \n",
              "\n",
              "   SkiableTerrain_ac  Snow Making_ac  daysOpenLastYear  yearsOpen  \\\n",
              "0             1610.0           113.0             150.0       60.0   \n",
              "1              640.0            60.0              45.0       44.0   \n",
              "2               30.0            30.0             150.0       36.0   \n",
              "3              777.0           104.0             122.0       81.0   \n",
              "4              800.0            80.0             115.0       49.0   \n",
              "\n",
              "   averageSnowfall  AdultWeekday  AdultWeekend  projectedDaysOpen  \\\n",
              "0            669.0          65.0          85.0              150.0   \n",
              "1            350.0          47.0          53.0               90.0   \n",
              "2             69.0          30.0          34.0              152.0   \n",
              "3            260.0          89.0          89.0              122.0   \n",
              "4            250.0          74.0          78.0              104.0   \n",
              "\n",
              "   NightSkiing_ac  \n",
              "0           550.0  \n",
              "1             NaN  \n",
              "2            30.0  \n",
              "3             NaN  \n",
              "4            80.0  \n",
              "\n",
              "[5 rows x 27 columns]"
            ],
            "text/html": [
              "\n",
              "  <div id=\"df-469867f7-7212-4d5d-9ff0-5900afc8e4ab\">\n",
              "    <div class=\"colab-df-container\">\n",
              "      <div>\n",
              "<style scoped>\n",
              "    .dataframe tbody tr th:only-of-type {\n",
              "        vertical-align: middle;\n",
              "    }\n",
              "\n",
              "    .dataframe tbody tr th {\n",
              "        vertical-align: top;\n",
              "    }\n",
              "\n",
              "    .dataframe thead th {\n",
              "        text-align: right;\n",
              "    }\n",
              "</style>\n",
              "<table border=\"1\" class=\"dataframe\">\n",
              "  <thead>\n",
              "    <tr style=\"text-align: right;\">\n",
              "      <th></th>\n",
              "      <th>Name</th>\n",
              "      <th>Region</th>\n",
              "      <th>state</th>\n",
              "      <th>summit_elev</th>\n",
              "      <th>vertical_drop</th>\n",
              "      <th>base_elev</th>\n",
              "      <th>trams</th>\n",
              "      <th>fastEight</th>\n",
              "      <th>fastSixes</th>\n",
              "      <th>fastQuads</th>\n",
              "      <th>...</th>\n",
              "      <th>LongestRun_mi</th>\n",
              "      <th>SkiableTerrain_ac</th>\n",
              "      <th>Snow Making_ac</th>\n",
              "      <th>daysOpenLastYear</th>\n",
              "      <th>yearsOpen</th>\n",
              "      <th>averageSnowfall</th>\n",
              "      <th>AdultWeekday</th>\n",
              "      <th>AdultWeekend</th>\n",
              "      <th>projectedDaysOpen</th>\n",
              "      <th>NightSkiing_ac</th>\n",
              "    </tr>\n",
              "  </thead>\n",
              "  <tbody>\n",
              "    <tr>\n",
              "      <th>0</th>\n",
              "      <td>Alyeska Resort</td>\n",
              "      <td>Alaska</td>\n",
              "      <td>Alaska</td>\n",
              "      <td>3939</td>\n",
              "      <td>2500</td>\n",
              "      <td>250</td>\n",
              "      <td>1</td>\n",
              "      <td>0.0</td>\n",
              "      <td>0</td>\n",
              "      <td>2</td>\n",
              "      <td>...</td>\n",
              "      <td>1.0</td>\n",
              "      <td>1610.0</td>\n",
              "      <td>113.0</td>\n",
              "      <td>150.0</td>\n",
              "      <td>60.0</td>\n",
              "      <td>669.0</td>\n",
              "      <td>65.0</td>\n",
              "      <td>85.0</td>\n",
              "      <td>150.0</td>\n",
              "      <td>550.0</td>\n",
              "    </tr>\n",
              "    <tr>\n",
              "      <th>1</th>\n",
              "      <td>Eaglecrest Ski Area</td>\n",
              "      <td>Alaska</td>\n",
              "      <td>Alaska</td>\n",
              "      <td>2600</td>\n",
              "      <td>1540</td>\n",
              "      <td>1200</td>\n",
              "      <td>0</td>\n",
              "      <td>0.0</td>\n",
              "      <td>0</td>\n",
              "      <td>0</td>\n",
              "      <td>...</td>\n",
              "      <td>2.0</td>\n",
              "      <td>640.0</td>\n",
              "      <td>60.0</td>\n",
              "      <td>45.0</td>\n",
              "      <td>44.0</td>\n",
              "      <td>350.0</td>\n",
              "      <td>47.0</td>\n",
              "      <td>53.0</td>\n",
              "      <td>90.0</td>\n",
              "      <td>NaN</td>\n",
              "    </tr>\n",
              "    <tr>\n",
              "      <th>2</th>\n",
              "      <td>Hilltop Ski Area</td>\n",
              "      <td>Alaska</td>\n",
              "      <td>Alaska</td>\n",
              "      <td>2090</td>\n",
              "      <td>294</td>\n",
              "      <td>1796</td>\n",
              "      <td>0</td>\n",
              "      <td>0.0</td>\n",
              "      <td>0</td>\n",
              "      <td>0</td>\n",
              "      <td>...</td>\n",
              "      <td>1.0</td>\n",
              "      <td>30.0</td>\n",
              "      <td>30.0</td>\n",
              "      <td>150.0</td>\n",
              "      <td>36.0</td>\n",
              "      <td>69.0</td>\n",
              "      <td>30.0</td>\n",
              "      <td>34.0</td>\n",
              "      <td>152.0</td>\n",
              "      <td>30.0</td>\n",
              "    </tr>\n",
              "    <tr>\n",
              "      <th>3</th>\n",
              "      <td>Arizona Snowbowl</td>\n",
              "      <td>Arizona</td>\n",
              "      <td>Arizona</td>\n",
              "      <td>11500</td>\n",
              "      <td>2300</td>\n",
              "      <td>9200</td>\n",
              "      <td>0</td>\n",
              "      <td>0.0</td>\n",
              "      <td>1</td>\n",
              "      <td>0</td>\n",
              "      <td>...</td>\n",
              "      <td>2.0</td>\n",
              "      <td>777.0</td>\n",
              "      <td>104.0</td>\n",
              "      <td>122.0</td>\n",
              "      <td>81.0</td>\n",
              "      <td>260.0</td>\n",
              "      <td>89.0</td>\n",
              "      <td>89.0</td>\n",
              "      <td>122.0</td>\n",
              "      <td>NaN</td>\n",
              "    </tr>\n",
              "    <tr>\n",
              "      <th>4</th>\n",
              "      <td>Sunrise Park Resort</td>\n",
              "      <td>Arizona</td>\n",
              "      <td>Arizona</td>\n",
              "      <td>11100</td>\n",
              "      <td>1800</td>\n",
              "      <td>9200</td>\n",
              "      <td>0</td>\n",
              "      <td>NaN</td>\n",
              "      <td>0</td>\n",
              "      <td>1</td>\n",
              "      <td>...</td>\n",
              "      <td>1.2</td>\n",
              "      <td>800.0</td>\n",
              "      <td>80.0</td>\n",
              "      <td>115.0</td>\n",
              "      <td>49.0</td>\n",
              "      <td>250.0</td>\n",
              "      <td>74.0</td>\n",
              "      <td>78.0</td>\n",
              "      <td>104.0</td>\n",
              "      <td>80.0</td>\n",
              "    </tr>\n",
              "  </tbody>\n",
              "</table>\n",
              "<p>5 rows × 27 columns</p>\n",
              "</div>\n",
              "      <button class=\"colab-df-convert\" onclick=\"convertToInteractive('df-469867f7-7212-4d5d-9ff0-5900afc8e4ab')\"\n",
              "              title=\"Convert this dataframe to an interactive table.\"\n",
              "              style=\"display:none;\">\n",
              "        \n",
              "  <svg xmlns=\"http://www.w3.org/2000/svg\" height=\"24px\"viewBox=\"0 0 24 24\"\n",
              "       width=\"24px\">\n",
              "    <path d=\"M0 0h24v24H0V0z\" fill=\"none\"/>\n",
              "    <path d=\"M18.56 5.44l.94 2.06.94-2.06 2.06-.94-2.06-.94-.94-2.06-.94 2.06-2.06.94zm-11 1L8.5 8.5l.94-2.06 2.06-.94-2.06-.94L8.5 2.5l-.94 2.06-2.06.94zm10 10l.94 2.06.94-2.06 2.06-.94-2.06-.94-.94-2.06-.94 2.06-2.06.94z\"/><path d=\"M17.41 7.96l-1.37-1.37c-.4-.4-.92-.59-1.43-.59-.52 0-1.04.2-1.43.59L10.3 9.45l-7.72 7.72c-.78.78-.78 2.05 0 2.83L4 21.41c.39.39.9.59 1.41.59.51 0 1.02-.2 1.41-.59l7.78-7.78 2.81-2.81c.8-.78.8-2.07 0-2.86zM5.41 20L4 18.59l7.72-7.72 1.47 1.35L5.41 20z\"/>\n",
              "  </svg>\n",
              "      </button>\n",
              "      \n",
              "  <style>\n",
              "    .colab-df-container {\n",
              "      display:flex;\n",
              "      flex-wrap:wrap;\n",
              "      gap: 12px;\n",
              "    }\n",
              "\n",
              "    .colab-df-convert {\n",
              "      background-color: #E8F0FE;\n",
              "      border: none;\n",
              "      border-radius: 50%;\n",
              "      cursor: pointer;\n",
              "      display: none;\n",
              "      fill: #1967D2;\n",
              "      height: 32px;\n",
              "      padding: 0 0 0 0;\n",
              "      width: 32px;\n",
              "    }\n",
              "\n",
              "    .colab-df-convert:hover {\n",
              "      background-color: #E2EBFA;\n",
              "      box-shadow: 0px 1px 2px rgba(60, 64, 67, 0.3), 0px 1px 3px 1px rgba(60, 64, 67, 0.15);\n",
              "      fill: #174EA6;\n",
              "    }\n",
              "\n",
              "    [theme=dark] .colab-df-convert {\n",
              "      background-color: #3B4455;\n",
              "      fill: #D2E3FC;\n",
              "    }\n",
              "\n",
              "    [theme=dark] .colab-df-convert:hover {\n",
              "      background-color: #434B5C;\n",
              "      box-shadow: 0px 1px 3px 1px rgba(0, 0, 0, 0.15);\n",
              "      filter: drop-shadow(0px 1px 2px rgba(0, 0, 0, 0.3));\n",
              "      fill: #FFFFFF;\n",
              "    }\n",
              "  </style>\n",
              "\n",
              "      <script>\n",
              "        const buttonEl =\n",
              "          document.querySelector('#df-469867f7-7212-4d5d-9ff0-5900afc8e4ab button.colab-df-convert');\n",
              "        buttonEl.style.display =\n",
              "          google.colab.kernel.accessAllowed ? 'block' : 'none';\n",
              "\n",
              "        async function convertToInteractive(key) {\n",
              "          const element = document.querySelector('#df-469867f7-7212-4d5d-9ff0-5900afc8e4ab');\n",
              "          const dataTable =\n",
              "            await google.colab.kernel.invokeFunction('convertToInteractive',\n",
              "                                                     [key], {});\n",
              "          if (!dataTable) return;\n",
              "\n",
              "          const docLinkHtml = 'Like what you see? Visit the ' +\n",
              "            '<a target=\"_blank\" href=https://colab.research.google.com/notebooks/data_table.ipynb>data table notebook</a>'\n",
              "            + ' to learn more about interactive tables.';\n",
              "          element.innerHTML = '';\n",
              "          dataTable['output_type'] = 'display_data';\n",
              "          await google.colab.output.renderOutput(dataTable, element);\n",
              "          const docLink = document.createElement('div');\n",
              "          docLink.innerHTML = docLinkHtml;\n",
              "          element.appendChild(docLink);\n",
              "        }\n",
              "      </script>\n",
              "    </div>\n",
              "  </div>\n",
              "  "
            ]
          },
          "metadata": {},
          "execution_count": 4
        }
      ],
      "source": [
        "#Code task 3#\n",
        "#Call the head method on ski_data to print the first several rows of the data\n",
        "ski_data.head()"
      ]
    },
    {
      "cell_type": "markdown",
      "metadata": {
        "id": "-5prr_zv71eO"
      },
      "source": [
        "The output above suggests you've made a good start getting the ski resort data organized. You have plausible column headings. You can already see you have a missing value in the `fastEight` column"
      ]
    },
    {
      "cell_type": "markdown",
      "metadata": {
        "id": "e1d6Hef871eO"
      },
      "source": [
        "## 2.6 Explore The Data<a id='2.6_Explore_The_Data'></a>"
      ]
    },
    {
      "cell_type": "markdown",
      "metadata": {
        "id": "vEKTqdRl71eP"
      },
      "source": [
        "### 2.6.1 Find Your Resort Of Interest<a id='2.6.1_Find_Your_Resort_Of_Interest'></a>"
      ]
    },
    {
      "cell_type": "markdown",
      "metadata": {
        "id": "XSuIVIeJ71eP"
      },
      "source": [
        "Your resort of interest is called Big Mountain Resort. Check it's in the data:"
      ]
    },
    {
      "cell_type": "code",
      "execution_count": null,
      "metadata": {
        "colab": {
          "base_uri": "https://localhost:8080/",
          "height": 896
        },
        "id": "nhlT4Vdz71eP",
        "outputId": "558b7102-5111-4b9c-88c4-c7a80b4cc6b7"
      },
      "outputs": [
        {
          "output_type": "execute_result",
          "data": {
            "text/plain": [
              "                                   151\n",
              "Name               Big Mountain Resort\n",
              "Region                         Montana\n",
              "state                          Montana\n",
              "summit_elev                       6817\n",
              "vertical_drop                     2353\n",
              "base_elev                         4464\n",
              "trams                                0\n",
              "fastEight                          0.0\n",
              "fastSixes                            0\n",
              "fastQuads                            3\n",
              "quad                                 2\n",
              "triple                               6\n",
              "double                               0\n",
              "surface                              3\n",
              "total_chairs                        14\n",
              "Runs                             105.0\n",
              "TerrainParks                       4.0\n",
              "LongestRun_mi                      3.3\n",
              "SkiableTerrain_ac               3000.0\n",
              "Snow Making_ac                   600.0\n",
              "daysOpenLastYear                 123.0\n",
              "yearsOpen                         72.0\n",
              "averageSnowfall                  333.0\n",
              "AdultWeekday                      81.0\n",
              "AdultWeekend                      81.0\n",
              "projectedDaysOpen                123.0\n",
              "NightSkiing_ac                   600.0"
            ],
            "text/html": [
              "\n",
              "  <div id=\"df-cff02123-a245-43c5-bd83-107f2a2dd81b\">\n",
              "    <div class=\"colab-df-container\">\n",
              "      <div>\n",
              "<style scoped>\n",
              "    .dataframe tbody tr th:only-of-type {\n",
              "        vertical-align: middle;\n",
              "    }\n",
              "\n",
              "    .dataframe tbody tr th {\n",
              "        vertical-align: top;\n",
              "    }\n",
              "\n",
              "    .dataframe thead th {\n",
              "        text-align: right;\n",
              "    }\n",
              "</style>\n",
              "<table border=\"1\" class=\"dataframe\">\n",
              "  <thead>\n",
              "    <tr style=\"text-align: right;\">\n",
              "      <th></th>\n",
              "      <th>151</th>\n",
              "    </tr>\n",
              "  </thead>\n",
              "  <tbody>\n",
              "    <tr>\n",
              "      <th>Name</th>\n",
              "      <td>Big Mountain Resort</td>\n",
              "    </tr>\n",
              "    <tr>\n",
              "      <th>Region</th>\n",
              "      <td>Montana</td>\n",
              "    </tr>\n",
              "    <tr>\n",
              "      <th>state</th>\n",
              "      <td>Montana</td>\n",
              "    </tr>\n",
              "    <tr>\n",
              "      <th>summit_elev</th>\n",
              "      <td>6817</td>\n",
              "    </tr>\n",
              "    <tr>\n",
              "      <th>vertical_drop</th>\n",
              "      <td>2353</td>\n",
              "    </tr>\n",
              "    <tr>\n",
              "      <th>base_elev</th>\n",
              "      <td>4464</td>\n",
              "    </tr>\n",
              "    <tr>\n",
              "      <th>trams</th>\n",
              "      <td>0</td>\n",
              "    </tr>\n",
              "    <tr>\n",
              "      <th>fastEight</th>\n",
              "      <td>0.0</td>\n",
              "    </tr>\n",
              "    <tr>\n",
              "      <th>fastSixes</th>\n",
              "      <td>0</td>\n",
              "    </tr>\n",
              "    <tr>\n",
              "      <th>fastQuads</th>\n",
              "      <td>3</td>\n",
              "    </tr>\n",
              "    <tr>\n",
              "      <th>quad</th>\n",
              "      <td>2</td>\n",
              "    </tr>\n",
              "    <tr>\n",
              "      <th>triple</th>\n",
              "      <td>6</td>\n",
              "    </tr>\n",
              "    <tr>\n",
              "      <th>double</th>\n",
              "      <td>0</td>\n",
              "    </tr>\n",
              "    <tr>\n",
              "      <th>surface</th>\n",
              "      <td>3</td>\n",
              "    </tr>\n",
              "    <tr>\n",
              "      <th>total_chairs</th>\n",
              "      <td>14</td>\n",
              "    </tr>\n",
              "    <tr>\n",
              "      <th>Runs</th>\n",
              "      <td>105.0</td>\n",
              "    </tr>\n",
              "    <tr>\n",
              "      <th>TerrainParks</th>\n",
              "      <td>4.0</td>\n",
              "    </tr>\n",
              "    <tr>\n",
              "      <th>LongestRun_mi</th>\n",
              "      <td>3.3</td>\n",
              "    </tr>\n",
              "    <tr>\n",
              "      <th>SkiableTerrain_ac</th>\n",
              "      <td>3000.0</td>\n",
              "    </tr>\n",
              "    <tr>\n",
              "      <th>Snow Making_ac</th>\n",
              "      <td>600.0</td>\n",
              "    </tr>\n",
              "    <tr>\n",
              "      <th>daysOpenLastYear</th>\n",
              "      <td>123.0</td>\n",
              "    </tr>\n",
              "    <tr>\n",
              "      <th>yearsOpen</th>\n",
              "      <td>72.0</td>\n",
              "    </tr>\n",
              "    <tr>\n",
              "      <th>averageSnowfall</th>\n",
              "      <td>333.0</td>\n",
              "    </tr>\n",
              "    <tr>\n",
              "      <th>AdultWeekday</th>\n",
              "      <td>81.0</td>\n",
              "    </tr>\n",
              "    <tr>\n",
              "      <th>AdultWeekend</th>\n",
              "      <td>81.0</td>\n",
              "    </tr>\n",
              "    <tr>\n",
              "      <th>projectedDaysOpen</th>\n",
              "      <td>123.0</td>\n",
              "    </tr>\n",
              "    <tr>\n",
              "      <th>NightSkiing_ac</th>\n",
              "      <td>600.0</td>\n",
              "    </tr>\n",
              "  </tbody>\n",
              "</table>\n",
              "</div>\n",
              "      <button class=\"colab-df-convert\" onclick=\"convertToInteractive('df-cff02123-a245-43c5-bd83-107f2a2dd81b')\"\n",
              "              title=\"Convert this dataframe to an interactive table.\"\n",
              "              style=\"display:none;\">\n",
              "        \n",
              "  <svg xmlns=\"http://www.w3.org/2000/svg\" height=\"24px\"viewBox=\"0 0 24 24\"\n",
              "       width=\"24px\">\n",
              "    <path d=\"M0 0h24v24H0V0z\" fill=\"none\"/>\n",
              "    <path d=\"M18.56 5.44l.94 2.06.94-2.06 2.06-.94-2.06-.94-.94-2.06-.94 2.06-2.06.94zm-11 1L8.5 8.5l.94-2.06 2.06-.94-2.06-.94L8.5 2.5l-.94 2.06-2.06.94zm10 10l.94 2.06.94-2.06 2.06-.94-2.06-.94-.94-2.06-.94 2.06-2.06.94z\"/><path d=\"M17.41 7.96l-1.37-1.37c-.4-.4-.92-.59-1.43-.59-.52 0-1.04.2-1.43.59L10.3 9.45l-7.72 7.72c-.78.78-.78 2.05 0 2.83L4 21.41c.39.39.9.59 1.41.59.51 0 1.02-.2 1.41-.59l7.78-7.78 2.81-2.81c.8-.78.8-2.07 0-2.86zM5.41 20L4 18.59l7.72-7.72 1.47 1.35L5.41 20z\"/>\n",
              "  </svg>\n",
              "      </button>\n",
              "      \n",
              "  <style>\n",
              "    .colab-df-container {\n",
              "      display:flex;\n",
              "      flex-wrap:wrap;\n",
              "      gap: 12px;\n",
              "    }\n",
              "\n",
              "    .colab-df-convert {\n",
              "      background-color: #E8F0FE;\n",
              "      border: none;\n",
              "      border-radius: 50%;\n",
              "      cursor: pointer;\n",
              "      display: none;\n",
              "      fill: #1967D2;\n",
              "      height: 32px;\n",
              "      padding: 0 0 0 0;\n",
              "      width: 32px;\n",
              "    }\n",
              "\n",
              "    .colab-df-convert:hover {\n",
              "      background-color: #E2EBFA;\n",
              "      box-shadow: 0px 1px 2px rgba(60, 64, 67, 0.3), 0px 1px 3px 1px rgba(60, 64, 67, 0.15);\n",
              "      fill: #174EA6;\n",
              "    }\n",
              "\n",
              "    [theme=dark] .colab-df-convert {\n",
              "      background-color: #3B4455;\n",
              "      fill: #D2E3FC;\n",
              "    }\n",
              "\n",
              "    [theme=dark] .colab-df-convert:hover {\n",
              "      background-color: #434B5C;\n",
              "      box-shadow: 0px 1px 3px 1px rgba(0, 0, 0, 0.15);\n",
              "      filter: drop-shadow(0px 1px 2px rgba(0, 0, 0, 0.3));\n",
              "      fill: #FFFFFF;\n",
              "    }\n",
              "  </style>\n",
              "\n",
              "      <script>\n",
              "        const buttonEl =\n",
              "          document.querySelector('#df-cff02123-a245-43c5-bd83-107f2a2dd81b button.colab-df-convert');\n",
              "        buttonEl.style.display =\n",
              "          google.colab.kernel.accessAllowed ? 'block' : 'none';\n",
              "\n",
              "        async function convertToInteractive(key) {\n",
              "          const element = document.querySelector('#df-cff02123-a245-43c5-bd83-107f2a2dd81b');\n",
              "          const dataTable =\n",
              "            await google.colab.kernel.invokeFunction('convertToInteractive',\n",
              "                                                     [key], {});\n",
              "          if (!dataTable) return;\n",
              "\n",
              "          const docLinkHtml = 'Like what you see? Visit the ' +\n",
              "            '<a target=\"_blank\" href=https://colab.research.google.com/notebooks/data_table.ipynb>data table notebook</a>'\n",
              "            + ' to learn more about interactive tables.';\n",
              "          element.innerHTML = '';\n",
              "          dataTable['output_type'] = 'display_data';\n",
              "          await google.colab.output.renderOutput(dataTable, element);\n",
              "          const docLink = document.createElement('div');\n",
              "          docLink.innerHTML = docLinkHtml;\n",
              "          element.appendChild(docLink);\n",
              "        }\n",
              "      </script>\n",
              "    </div>\n",
              "  </div>\n",
              "  "
            ]
          },
          "metadata": {},
          "execution_count": 5
        }
      ],
      "source": [
        "#Code task 4#\n",
        "#Filter the ski_data dataframe to display just the row for our resort with the name 'Big Mountain Resort'\n",
        "#Hint: you will find that the transpose of the row will give a nicer output. DataFrame's do have a\n",
        "#transpose method, but you can access this conveniently with the `T` property.\n",
        "ski_data[ski_data.Name == 'Big Mountain Resort'].T"
      ]
    },
    {
      "cell_type": "markdown",
      "metadata": {
        "id": "mp7CSXta71eQ"
      },
      "source": [
        "It's good that your resort doesn't appear to have any missing values."
      ]
    },
    {
      "cell_type": "markdown",
      "metadata": {
        "id": "r-Nm9LUS71eQ"
      },
      "source": [
        "### 2.6.2 Number Of Missing Values By Column<a id='2.6.2_Number_Of_Missing_Values_By_Column'></a>"
      ]
    },
    {
      "cell_type": "markdown",
      "metadata": {
        "id": "U0lEK0i_71eQ"
      },
      "source": [
        "Count the number of missing values in each column and sort them."
      ]
    },
    {
      "cell_type": "code",
      "source": [
        "ski_data.head(1)"
      ],
      "metadata": {
        "colab": {
          "base_uri": "https://localhost:8080/",
          "height": 208
        },
        "id": "1khdxXGohAzE",
        "outputId": "20d3c1d9-d48d-48ba-8b13-cbd1ea7969d9"
      },
      "execution_count": null,
      "outputs": [
        {
          "output_type": "execute_result",
          "data": {
            "text/plain": [
              "             Name  Region   state  summit_elev  vertical_drop  base_elev  \\\n",
              "0  Alyeska Resort  Alaska  Alaska         3939           2500        250   \n",
              "\n",
              "   trams  fastEight  fastSixes  fastQuads  ...  LongestRun_mi  \\\n",
              "0      1        0.0          0          2  ...            1.0   \n",
              "\n",
              "   SkiableTerrain_ac  Snow Making_ac  daysOpenLastYear  yearsOpen  \\\n",
              "0             1610.0           113.0             150.0       60.0   \n",
              "\n",
              "   averageSnowfall  AdultWeekday  AdultWeekend  projectedDaysOpen  \\\n",
              "0            669.0          65.0          85.0              150.0   \n",
              "\n",
              "   NightSkiing_ac  \n",
              "0           550.0  \n",
              "\n",
              "[1 rows x 27 columns]"
            ],
            "text/html": [
              "\n",
              "  <div id=\"df-8aa3b68b-6237-4b55-b5d0-f745db818387\">\n",
              "    <div class=\"colab-df-container\">\n",
              "      <div>\n",
              "<style scoped>\n",
              "    .dataframe tbody tr th:only-of-type {\n",
              "        vertical-align: middle;\n",
              "    }\n",
              "\n",
              "    .dataframe tbody tr th {\n",
              "        vertical-align: top;\n",
              "    }\n",
              "\n",
              "    .dataframe thead th {\n",
              "        text-align: right;\n",
              "    }\n",
              "</style>\n",
              "<table border=\"1\" class=\"dataframe\">\n",
              "  <thead>\n",
              "    <tr style=\"text-align: right;\">\n",
              "      <th></th>\n",
              "      <th>Name</th>\n",
              "      <th>Region</th>\n",
              "      <th>state</th>\n",
              "      <th>summit_elev</th>\n",
              "      <th>vertical_drop</th>\n",
              "      <th>base_elev</th>\n",
              "      <th>trams</th>\n",
              "      <th>fastEight</th>\n",
              "      <th>fastSixes</th>\n",
              "      <th>fastQuads</th>\n",
              "      <th>...</th>\n",
              "      <th>LongestRun_mi</th>\n",
              "      <th>SkiableTerrain_ac</th>\n",
              "      <th>Snow Making_ac</th>\n",
              "      <th>daysOpenLastYear</th>\n",
              "      <th>yearsOpen</th>\n",
              "      <th>averageSnowfall</th>\n",
              "      <th>AdultWeekday</th>\n",
              "      <th>AdultWeekend</th>\n",
              "      <th>projectedDaysOpen</th>\n",
              "      <th>NightSkiing_ac</th>\n",
              "    </tr>\n",
              "  </thead>\n",
              "  <tbody>\n",
              "    <tr>\n",
              "      <th>0</th>\n",
              "      <td>Alyeska Resort</td>\n",
              "      <td>Alaska</td>\n",
              "      <td>Alaska</td>\n",
              "      <td>3939</td>\n",
              "      <td>2500</td>\n",
              "      <td>250</td>\n",
              "      <td>1</td>\n",
              "      <td>0.0</td>\n",
              "      <td>0</td>\n",
              "      <td>2</td>\n",
              "      <td>...</td>\n",
              "      <td>1.0</td>\n",
              "      <td>1610.0</td>\n",
              "      <td>113.0</td>\n",
              "      <td>150.0</td>\n",
              "      <td>60.0</td>\n",
              "      <td>669.0</td>\n",
              "      <td>65.0</td>\n",
              "      <td>85.0</td>\n",
              "      <td>150.0</td>\n",
              "      <td>550.0</td>\n",
              "    </tr>\n",
              "  </tbody>\n",
              "</table>\n",
              "<p>1 rows × 27 columns</p>\n",
              "</div>\n",
              "      <button class=\"colab-df-convert\" onclick=\"convertToInteractive('df-8aa3b68b-6237-4b55-b5d0-f745db818387')\"\n",
              "              title=\"Convert this dataframe to an interactive table.\"\n",
              "              style=\"display:none;\">\n",
              "        \n",
              "  <svg xmlns=\"http://www.w3.org/2000/svg\" height=\"24px\"viewBox=\"0 0 24 24\"\n",
              "       width=\"24px\">\n",
              "    <path d=\"M0 0h24v24H0V0z\" fill=\"none\"/>\n",
              "    <path d=\"M18.56 5.44l.94 2.06.94-2.06 2.06-.94-2.06-.94-.94-2.06-.94 2.06-2.06.94zm-11 1L8.5 8.5l.94-2.06 2.06-.94-2.06-.94L8.5 2.5l-.94 2.06-2.06.94zm10 10l.94 2.06.94-2.06 2.06-.94-2.06-.94-.94-2.06-.94 2.06-2.06.94z\"/><path d=\"M17.41 7.96l-1.37-1.37c-.4-.4-.92-.59-1.43-.59-.52 0-1.04.2-1.43.59L10.3 9.45l-7.72 7.72c-.78.78-.78 2.05 0 2.83L4 21.41c.39.39.9.59 1.41.59.51 0 1.02-.2 1.41-.59l7.78-7.78 2.81-2.81c.8-.78.8-2.07 0-2.86zM5.41 20L4 18.59l7.72-7.72 1.47 1.35L5.41 20z\"/>\n",
              "  </svg>\n",
              "      </button>\n",
              "      \n",
              "  <style>\n",
              "    .colab-df-container {\n",
              "      display:flex;\n",
              "      flex-wrap:wrap;\n",
              "      gap: 12px;\n",
              "    }\n",
              "\n",
              "    .colab-df-convert {\n",
              "      background-color: #E8F0FE;\n",
              "      border: none;\n",
              "      border-radius: 50%;\n",
              "      cursor: pointer;\n",
              "      display: none;\n",
              "      fill: #1967D2;\n",
              "      height: 32px;\n",
              "      padding: 0 0 0 0;\n",
              "      width: 32px;\n",
              "    }\n",
              "\n",
              "    .colab-df-convert:hover {\n",
              "      background-color: #E2EBFA;\n",
              "      box-shadow: 0px 1px 2px rgba(60, 64, 67, 0.3), 0px 1px 3px 1px rgba(60, 64, 67, 0.15);\n",
              "      fill: #174EA6;\n",
              "    }\n",
              "\n",
              "    [theme=dark] .colab-df-convert {\n",
              "      background-color: #3B4455;\n",
              "      fill: #D2E3FC;\n",
              "    }\n",
              "\n",
              "    [theme=dark] .colab-df-convert:hover {\n",
              "      background-color: #434B5C;\n",
              "      box-shadow: 0px 1px 3px 1px rgba(0, 0, 0, 0.15);\n",
              "      filter: drop-shadow(0px 1px 2px rgba(0, 0, 0, 0.3));\n",
              "      fill: #FFFFFF;\n",
              "    }\n",
              "  </style>\n",
              "\n",
              "      <script>\n",
              "        const buttonEl =\n",
              "          document.querySelector('#df-8aa3b68b-6237-4b55-b5d0-f745db818387 button.colab-df-convert');\n",
              "        buttonEl.style.display =\n",
              "          google.colab.kernel.accessAllowed ? 'block' : 'none';\n",
              "\n",
              "        async function convertToInteractive(key) {\n",
              "          const element = document.querySelector('#df-8aa3b68b-6237-4b55-b5d0-f745db818387');\n",
              "          const dataTable =\n",
              "            await google.colab.kernel.invokeFunction('convertToInteractive',\n",
              "                                                     [key], {});\n",
              "          if (!dataTable) return;\n",
              "\n",
              "          const docLinkHtml = 'Like what you see? Visit the ' +\n",
              "            '<a target=\"_blank\" href=https://colab.research.google.com/notebooks/data_table.ipynb>data table notebook</a>'\n",
              "            + ' to learn more about interactive tables.';\n",
              "          element.innerHTML = '';\n",
              "          dataTable['output_type'] = 'display_data';\n",
              "          await google.colab.output.renderOutput(dataTable, element);\n",
              "          const docLink = document.createElement('div');\n",
              "          docLink.innerHTML = docLinkHtml;\n",
              "          element.appendChild(docLink);\n",
              "        }\n",
              "      </script>\n",
              "    </div>\n",
              "  </div>\n",
              "  "
            ]
          },
          "metadata": {},
          "execution_count": 7
        }
      ]
    },
    {
      "cell_type": "code",
      "execution_count": 5,
      "metadata": {
        "colab": {
          "base_uri": "https://localhost:8080/",
          "height": 896
        },
        "id": "HMAYJOPl71eQ",
        "outputId": "311c3f6b-f6f5-4692-d0a4-e79e45110089"
      },
      "outputs": [
        {
          "output_type": "execute_result",
          "data": {
            "text/plain": [
              "                   count          %\n",
              "Name                   0   0.000000\n",
              "total_chairs           0   0.000000\n",
              "double                 0   0.000000\n",
              "triple                 0   0.000000\n",
              "quad                   0   0.000000\n",
              "fastQuads              0   0.000000\n",
              "fastSixes              0   0.000000\n",
              "surface                0   0.000000\n",
              "trams                  0   0.000000\n",
              "base_elev              0   0.000000\n",
              "vertical_drop          0   0.000000\n",
              "summit_elev            0   0.000000\n",
              "state                  0   0.000000\n",
              "Region                 0   0.000000\n",
              "yearsOpen              1   0.303030\n",
              "SkiableTerrain_ac      3   0.909091\n",
              "Runs                   4   1.212121\n",
              "LongestRun_mi          5   1.515152\n",
              "averageSnowfall       14   4.242424\n",
              "Snow Making_ac        46  13.939394\n",
              "projectedDaysOpen     47  14.242424\n",
              "TerrainParks          51  15.454545\n",
              "daysOpenLastYear      51  15.454545\n",
              "AdultWeekend          51  15.454545\n",
              "AdultWeekday          54  16.363636\n",
              "NightSkiing_ac       143  43.333333\n",
              "fastEight            166  50.303030"
            ],
            "text/html": [
              "\n",
              "  <div id=\"df-c4d27e07-d705-4577-b1a2-b3781bea0270\">\n",
              "    <div class=\"colab-df-container\">\n",
              "      <div>\n",
              "<style scoped>\n",
              "    .dataframe tbody tr th:only-of-type {\n",
              "        vertical-align: middle;\n",
              "    }\n",
              "\n",
              "    .dataframe tbody tr th {\n",
              "        vertical-align: top;\n",
              "    }\n",
              "\n",
              "    .dataframe thead th {\n",
              "        text-align: right;\n",
              "    }\n",
              "</style>\n",
              "<table border=\"1\" class=\"dataframe\">\n",
              "  <thead>\n",
              "    <tr style=\"text-align: right;\">\n",
              "      <th></th>\n",
              "      <th>count</th>\n",
              "      <th>%</th>\n",
              "    </tr>\n",
              "  </thead>\n",
              "  <tbody>\n",
              "    <tr>\n",
              "      <th>Name</th>\n",
              "      <td>0</td>\n",
              "      <td>0.000000</td>\n",
              "    </tr>\n",
              "    <tr>\n",
              "      <th>total_chairs</th>\n",
              "      <td>0</td>\n",
              "      <td>0.000000</td>\n",
              "    </tr>\n",
              "    <tr>\n",
              "      <th>double</th>\n",
              "      <td>0</td>\n",
              "      <td>0.000000</td>\n",
              "    </tr>\n",
              "    <tr>\n",
              "      <th>triple</th>\n",
              "      <td>0</td>\n",
              "      <td>0.000000</td>\n",
              "    </tr>\n",
              "    <tr>\n",
              "      <th>quad</th>\n",
              "      <td>0</td>\n",
              "      <td>0.000000</td>\n",
              "    </tr>\n",
              "    <tr>\n",
              "      <th>fastQuads</th>\n",
              "      <td>0</td>\n",
              "      <td>0.000000</td>\n",
              "    </tr>\n",
              "    <tr>\n",
              "      <th>fastSixes</th>\n",
              "      <td>0</td>\n",
              "      <td>0.000000</td>\n",
              "    </tr>\n",
              "    <tr>\n",
              "      <th>surface</th>\n",
              "      <td>0</td>\n",
              "      <td>0.000000</td>\n",
              "    </tr>\n",
              "    <tr>\n",
              "      <th>trams</th>\n",
              "      <td>0</td>\n",
              "      <td>0.000000</td>\n",
              "    </tr>\n",
              "    <tr>\n",
              "      <th>base_elev</th>\n",
              "      <td>0</td>\n",
              "      <td>0.000000</td>\n",
              "    </tr>\n",
              "    <tr>\n",
              "      <th>vertical_drop</th>\n",
              "      <td>0</td>\n",
              "      <td>0.000000</td>\n",
              "    </tr>\n",
              "    <tr>\n",
              "      <th>summit_elev</th>\n",
              "      <td>0</td>\n",
              "      <td>0.000000</td>\n",
              "    </tr>\n",
              "    <tr>\n",
              "      <th>state</th>\n",
              "      <td>0</td>\n",
              "      <td>0.000000</td>\n",
              "    </tr>\n",
              "    <tr>\n",
              "      <th>Region</th>\n",
              "      <td>0</td>\n",
              "      <td>0.000000</td>\n",
              "    </tr>\n",
              "    <tr>\n",
              "      <th>yearsOpen</th>\n",
              "      <td>1</td>\n",
              "      <td>0.303030</td>\n",
              "    </tr>\n",
              "    <tr>\n",
              "      <th>SkiableTerrain_ac</th>\n",
              "      <td>3</td>\n",
              "      <td>0.909091</td>\n",
              "    </tr>\n",
              "    <tr>\n",
              "      <th>Runs</th>\n",
              "      <td>4</td>\n",
              "      <td>1.212121</td>\n",
              "    </tr>\n",
              "    <tr>\n",
              "      <th>LongestRun_mi</th>\n",
              "      <td>5</td>\n",
              "      <td>1.515152</td>\n",
              "    </tr>\n",
              "    <tr>\n",
              "      <th>averageSnowfall</th>\n",
              "      <td>14</td>\n",
              "      <td>4.242424</td>\n",
              "    </tr>\n",
              "    <tr>\n",
              "      <th>Snow Making_ac</th>\n",
              "      <td>46</td>\n",
              "      <td>13.939394</td>\n",
              "    </tr>\n",
              "    <tr>\n",
              "      <th>projectedDaysOpen</th>\n",
              "      <td>47</td>\n",
              "      <td>14.242424</td>\n",
              "    </tr>\n",
              "    <tr>\n",
              "      <th>TerrainParks</th>\n",
              "      <td>51</td>\n",
              "      <td>15.454545</td>\n",
              "    </tr>\n",
              "    <tr>\n",
              "      <th>daysOpenLastYear</th>\n",
              "      <td>51</td>\n",
              "      <td>15.454545</td>\n",
              "    </tr>\n",
              "    <tr>\n",
              "      <th>AdultWeekend</th>\n",
              "      <td>51</td>\n",
              "      <td>15.454545</td>\n",
              "    </tr>\n",
              "    <tr>\n",
              "      <th>AdultWeekday</th>\n",
              "      <td>54</td>\n",
              "      <td>16.363636</td>\n",
              "    </tr>\n",
              "    <tr>\n",
              "      <th>NightSkiing_ac</th>\n",
              "      <td>143</td>\n",
              "      <td>43.333333</td>\n",
              "    </tr>\n",
              "    <tr>\n",
              "      <th>fastEight</th>\n",
              "      <td>166</td>\n",
              "      <td>50.303030</td>\n",
              "    </tr>\n",
              "  </tbody>\n",
              "</table>\n",
              "</div>\n",
              "      <button class=\"colab-df-convert\" onclick=\"convertToInteractive('df-c4d27e07-d705-4577-b1a2-b3781bea0270')\"\n",
              "              title=\"Convert this dataframe to an interactive table.\"\n",
              "              style=\"display:none;\">\n",
              "        \n",
              "  <svg xmlns=\"http://www.w3.org/2000/svg\" height=\"24px\"viewBox=\"0 0 24 24\"\n",
              "       width=\"24px\">\n",
              "    <path d=\"M0 0h24v24H0V0z\" fill=\"none\"/>\n",
              "    <path d=\"M18.56 5.44l.94 2.06.94-2.06 2.06-.94-2.06-.94-.94-2.06-.94 2.06-2.06.94zm-11 1L8.5 8.5l.94-2.06 2.06-.94-2.06-.94L8.5 2.5l-.94 2.06-2.06.94zm10 10l.94 2.06.94-2.06 2.06-.94-2.06-.94-.94-2.06-.94 2.06-2.06.94z\"/><path d=\"M17.41 7.96l-1.37-1.37c-.4-.4-.92-.59-1.43-.59-.52 0-1.04.2-1.43.59L10.3 9.45l-7.72 7.72c-.78.78-.78 2.05 0 2.83L4 21.41c.39.39.9.59 1.41.59.51 0 1.02-.2 1.41-.59l7.78-7.78 2.81-2.81c.8-.78.8-2.07 0-2.86zM5.41 20L4 18.59l7.72-7.72 1.47 1.35L5.41 20z\"/>\n",
              "  </svg>\n",
              "      </button>\n",
              "      \n",
              "  <style>\n",
              "    .colab-df-container {\n",
              "      display:flex;\n",
              "      flex-wrap:wrap;\n",
              "      gap: 12px;\n",
              "    }\n",
              "\n",
              "    .colab-df-convert {\n",
              "      background-color: #E8F0FE;\n",
              "      border: none;\n",
              "      border-radius: 50%;\n",
              "      cursor: pointer;\n",
              "      display: none;\n",
              "      fill: #1967D2;\n",
              "      height: 32px;\n",
              "      padding: 0 0 0 0;\n",
              "      width: 32px;\n",
              "    }\n",
              "\n",
              "    .colab-df-convert:hover {\n",
              "      background-color: #E2EBFA;\n",
              "      box-shadow: 0px 1px 2px rgba(60, 64, 67, 0.3), 0px 1px 3px 1px rgba(60, 64, 67, 0.15);\n",
              "      fill: #174EA6;\n",
              "    }\n",
              "\n",
              "    [theme=dark] .colab-df-convert {\n",
              "      background-color: #3B4455;\n",
              "      fill: #D2E3FC;\n",
              "    }\n",
              "\n",
              "    [theme=dark] .colab-df-convert:hover {\n",
              "      background-color: #434B5C;\n",
              "      box-shadow: 0px 1px 3px 1px rgba(0, 0, 0, 0.15);\n",
              "      filter: drop-shadow(0px 1px 2px rgba(0, 0, 0, 0.3));\n",
              "      fill: #FFFFFF;\n",
              "    }\n",
              "  </style>\n",
              "\n",
              "      <script>\n",
              "        const buttonEl =\n",
              "          document.querySelector('#df-c4d27e07-d705-4577-b1a2-b3781bea0270 button.colab-df-convert');\n",
              "        buttonEl.style.display =\n",
              "          google.colab.kernel.accessAllowed ? 'block' : 'none';\n",
              "\n",
              "        async function convertToInteractive(key) {\n",
              "          const element = document.querySelector('#df-c4d27e07-d705-4577-b1a2-b3781bea0270');\n",
              "          const dataTable =\n",
              "            await google.colab.kernel.invokeFunction('convertToInteractive',\n",
              "                                                     [key], {});\n",
              "          if (!dataTable) return;\n",
              "\n",
              "          const docLinkHtml = 'Like what you see? Visit the ' +\n",
              "            '<a target=\"_blank\" href=https://colab.research.google.com/notebooks/data_table.ipynb>data table notebook</a>'\n",
              "            + ' to learn more about interactive tables.';\n",
              "          element.innerHTML = '';\n",
              "          dataTable['output_type'] = 'display_data';\n",
              "          await google.colab.output.renderOutput(dataTable, element);\n",
              "          const docLink = document.createElement('div');\n",
              "          docLink.innerHTML = docLinkHtml;\n",
              "          element.appendChild(docLink);\n",
              "        }\n",
              "      </script>\n",
              "    </div>\n",
              "  </div>\n",
              "  "
            ]
          },
          "metadata": {},
          "execution_count": 5
        }
      ],
      "source": [
        "#Code task 5#\n",
        "#Count (using `.sum()`) the number of missing values (`.isnull()`) in each column of \n",
        "#ski_data as well as the percentages (using `.mean()` instead of `.sum()`).\n",
        "#Order them (increasing or decreasing) using sort_values\n",
        "#Call `pd.concat` to present these in a single table (DataFrame) with the helpful column names 'count' and '%'\n",
        "missing = pd.concat([ski_data.isnull().sum(), 100 * ski_data.isnull().mean()], axis=1)\n",
        "missing.columns=['count', \"%\"]\n",
        "missing.sort_values(by='count')"
      ]
    },
    {
      "cell_type": "markdown",
      "metadata": {
        "id": "40B_SW2A71eR"
      },
      "source": [
        "`fastEight` has the most missing values, at just over 50%. Unfortunately, you see you're also missing quite a few of your desired target quantity, the ticket price, which is missing 15-16% of values. `AdultWeekday` is missing in a few more records than `AdultWeekend`. What overlap is there in these missing values? This is a question you'll want to investigate. You should also point out that `isnull()` is not the only indicator of missing data. Sometimes 'missingness' can be encoded, perhaps by a -1 or 999. Such values are typically chosen because they are \"obviously\" not genuine values. If you were capturing data on people's heights and weights but missing someone's height, you could certainly encode that as a 0 because no one has a height of zero (in any units). Yet such entries would not be revealed by `isnull()`. Here, you need a data dictionary and/or to spot such values as part of looking for outliers. Someone with a height of zero should definitely show up as an outlier!"
      ]
    },
    {
      "cell_type": "markdown",
      "metadata": {
        "id": "Oma5Llt-71eR"
      },
      "source": [
        "### 2.6.3 Categorical Features<a id='2.6.3_Categorical_Features'></a>"
      ]
    },
    {
      "cell_type": "markdown",
      "metadata": {
        "id": "xMJpjzyM71eS"
      },
      "source": [
        "So far you've examined only the numeric features. Now you inspect categorical ones such as resort name and state. These are discrete entities. 'Alaska' is a name. Although names can be sorted alphabetically, it makes no sense to take the average of 'Alaska' and 'Arizona'. Similarly, 'Alaska' is before 'Arizona' only lexicographically; it is neither 'less than' nor 'greater than' 'Arizona'. As such, they tend to require different handling than strictly numeric quantities. Note, a feature _can_ be numeric but also categorical. For example, instead of giving the number of `fastEight` lifts, a feature might be `has_fastEights` and have the value 0 or 1 to denote absence or presence of such a lift. In such a case it would not make sense to take an average of this or perform other mathematical calculations on it. Although you digress a little to make a point, month numbers are also, strictly speaking, categorical features. Yes, when a month is represented by its number (1 for January, 2 for Februrary etc.) it provides a convenient way to graph trends over a year. And, arguably, there is some logical interpretation of the average of 1 and 3 (January and March) being 2 (February). However, clearly December of one years precedes January of the next and yet 12 as a number is not less than 1. The numeric quantities in the section above are truly numeric; they are the number of feet in the drop, or acres or years open or the amount of snowfall etc."
      ]
    },
    {
      "cell_type": "code",
      "execution_count": null,
      "metadata": {
        "colab": {
          "base_uri": "https://localhost:8080/",
          "height": 423
        },
        "id": "aVSoc6RN71eS",
        "outputId": "cf5f9964-40fc-4b1c-daaa-197445d5b5ca"
      },
      "outputs": [
        {
          "output_type": "execute_result",
          "data": {
            "text/plain": [
              "                                  Name   Region    state\n",
              "0                       Alyeska Resort   Alaska   Alaska\n",
              "1                  Eaglecrest Ski Area   Alaska   Alaska\n",
              "2                     Hilltop Ski Area   Alaska   Alaska\n",
              "3                     Arizona Snowbowl  Arizona  Arizona\n",
              "4                  Sunrise Park Resort  Arizona  Arizona\n",
              "..                                 ...      ...      ...\n",
              "325               Meadowlark Ski Lodge  Wyoming  Wyoming\n",
              "326          Sleeping Giant Ski Resort  Wyoming  Wyoming\n",
              "327                   Snow King Resort  Wyoming  Wyoming\n",
              "328  Snowy Range Ski & Recreation Area  Wyoming  Wyoming\n",
              "329                White Pine Ski Area  Wyoming  Wyoming\n",
              "\n",
              "[330 rows x 3 columns]"
            ],
            "text/html": [
              "\n",
              "  <div id=\"df-025c9f0f-08c5-48db-89f2-184483aeb753\">\n",
              "    <div class=\"colab-df-container\">\n",
              "      <div>\n",
              "<style scoped>\n",
              "    .dataframe tbody tr th:only-of-type {\n",
              "        vertical-align: middle;\n",
              "    }\n",
              "\n",
              "    .dataframe tbody tr th {\n",
              "        vertical-align: top;\n",
              "    }\n",
              "\n",
              "    .dataframe thead th {\n",
              "        text-align: right;\n",
              "    }\n",
              "</style>\n",
              "<table border=\"1\" class=\"dataframe\">\n",
              "  <thead>\n",
              "    <tr style=\"text-align: right;\">\n",
              "      <th></th>\n",
              "      <th>Name</th>\n",
              "      <th>Region</th>\n",
              "      <th>state</th>\n",
              "    </tr>\n",
              "  </thead>\n",
              "  <tbody>\n",
              "    <tr>\n",
              "      <th>0</th>\n",
              "      <td>Alyeska Resort</td>\n",
              "      <td>Alaska</td>\n",
              "      <td>Alaska</td>\n",
              "    </tr>\n",
              "    <tr>\n",
              "      <th>1</th>\n",
              "      <td>Eaglecrest Ski Area</td>\n",
              "      <td>Alaska</td>\n",
              "      <td>Alaska</td>\n",
              "    </tr>\n",
              "    <tr>\n",
              "      <th>2</th>\n",
              "      <td>Hilltop Ski Area</td>\n",
              "      <td>Alaska</td>\n",
              "      <td>Alaska</td>\n",
              "    </tr>\n",
              "    <tr>\n",
              "      <th>3</th>\n",
              "      <td>Arizona Snowbowl</td>\n",
              "      <td>Arizona</td>\n",
              "      <td>Arizona</td>\n",
              "    </tr>\n",
              "    <tr>\n",
              "      <th>4</th>\n",
              "      <td>Sunrise Park Resort</td>\n",
              "      <td>Arizona</td>\n",
              "      <td>Arizona</td>\n",
              "    </tr>\n",
              "    <tr>\n",
              "      <th>...</th>\n",
              "      <td>...</td>\n",
              "      <td>...</td>\n",
              "      <td>...</td>\n",
              "    </tr>\n",
              "    <tr>\n",
              "      <th>325</th>\n",
              "      <td>Meadowlark Ski Lodge</td>\n",
              "      <td>Wyoming</td>\n",
              "      <td>Wyoming</td>\n",
              "    </tr>\n",
              "    <tr>\n",
              "      <th>326</th>\n",
              "      <td>Sleeping Giant Ski Resort</td>\n",
              "      <td>Wyoming</td>\n",
              "      <td>Wyoming</td>\n",
              "    </tr>\n",
              "    <tr>\n",
              "      <th>327</th>\n",
              "      <td>Snow King Resort</td>\n",
              "      <td>Wyoming</td>\n",
              "      <td>Wyoming</td>\n",
              "    </tr>\n",
              "    <tr>\n",
              "      <th>328</th>\n",
              "      <td>Snowy Range Ski &amp; Recreation Area</td>\n",
              "      <td>Wyoming</td>\n",
              "      <td>Wyoming</td>\n",
              "    </tr>\n",
              "    <tr>\n",
              "      <th>329</th>\n",
              "      <td>White Pine Ski Area</td>\n",
              "      <td>Wyoming</td>\n",
              "      <td>Wyoming</td>\n",
              "    </tr>\n",
              "  </tbody>\n",
              "</table>\n",
              "<p>330 rows × 3 columns</p>\n",
              "</div>\n",
              "      <button class=\"colab-df-convert\" onclick=\"convertToInteractive('df-025c9f0f-08c5-48db-89f2-184483aeb753')\"\n",
              "              title=\"Convert this dataframe to an interactive table.\"\n",
              "              style=\"display:none;\">\n",
              "        \n",
              "  <svg xmlns=\"http://www.w3.org/2000/svg\" height=\"24px\"viewBox=\"0 0 24 24\"\n",
              "       width=\"24px\">\n",
              "    <path d=\"M0 0h24v24H0V0z\" fill=\"none\"/>\n",
              "    <path d=\"M18.56 5.44l.94 2.06.94-2.06 2.06-.94-2.06-.94-.94-2.06-.94 2.06-2.06.94zm-11 1L8.5 8.5l.94-2.06 2.06-.94-2.06-.94L8.5 2.5l-.94 2.06-2.06.94zm10 10l.94 2.06.94-2.06 2.06-.94-2.06-.94-.94-2.06-.94 2.06-2.06.94z\"/><path d=\"M17.41 7.96l-1.37-1.37c-.4-.4-.92-.59-1.43-.59-.52 0-1.04.2-1.43.59L10.3 9.45l-7.72 7.72c-.78.78-.78 2.05 0 2.83L4 21.41c.39.39.9.59 1.41.59.51 0 1.02-.2 1.41-.59l7.78-7.78 2.81-2.81c.8-.78.8-2.07 0-2.86zM5.41 20L4 18.59l7.72-7.72 1.47 1.35L5.41 20z\"/>\n",
              "  </svg>\n",
              "      </button>\n",
              "      \n",
              "  <style>\n",
              "    .colab-df-container {\n",
              "      display:flex;\n",
              "      flex-wrap:wrap;\n",
              "      gap: 12px;\n",
              "    }\n",
              "\n",
              "    .colab-df-convert {\n",
              "      background-color: #E8F0FE;\n",
              "      border: none;\n",
              "      border-radius: 50%;\n",
              "      cursor: pointer;\n",
              "      display: none;\n",
              "      fill: #1967D2;\n",
              "      height: 32px;\n",
              "      padding: 0 0 0 0;\n",
              "      width: 32px;\n",
              "    }\n",
              "\n",
              "    .colab-df-convert:hover {\n",
              "      background-color: #E2EBFA;\n",
              "      box-shadow: 0px 1px 2px rgba(60, 64, 67, 0.3), 0px 1px 3px 1px rgba(60, 64, 67, 0.15);\n",
              "      fill: #174EA6;\n",
              "    }\n",
              "\n",
              "    [theme=dark] .colab-df-convert {\n",
              "      background-color: #3B4455;\n",
              "      fill: #D2E3FC;\n",
              "    }\n",
              "\n",
              "    [theme=dark] .colab-df-convert:hover {\n",
              "      background-color: #434B5C;\n",
              "      box-shadow: 0px 1px 3px 1px rgba(0, 0, 0, 0.15);\n",
              "      filter: drop-shadow(0px 1px 2px rgba(0, 0, 0, 0.3));\n",
              "      fill: #FFFFFF;\n",
              "    }\n",
              "  </style>\n",
              "\n",
              "      <script>\n",
              "        const buttonEl =\n",
              "          document.querySelector('#df-025c9f0f-08c5-48db-89f2-184483aeb753 button.colab-df-convert');\n",
              "        buttonEl.style.display =\n",
              "          google.colab.kernel.accessAllowed ? 'block' : 'none';\n",
              "\n",
              "        async function convertToInteractive(key) {\n",
              "          const element = document.querySelector('#df-025c9f0f-08c5-48db-89f2-184483aeb753');\n",
              "          const dataTable =\n",
              "            await google.colab.kernel.invokeFunction('convertToInteractive',\n",
              "                                                     [key], {});\n",
              "          if (!dataTable) return;\n",
              "\n",
              "          const docLinkHtml = 'Like what you see? Visit the ' +\n",
              "            '<a target=\"_blank\" href=https://colab.research.google.com/notebooks/data_table.ipynb>data table notebook</a>'\n",
              "            + ' to learn more about interactive tables.';\n",
              "          element.innerHTML = '';\n",
              "          dataTable['output_type'] = 'display_data';\n",
              "          await google.colab.output.renderOutput(dataTable, element);\n",
              "          const docLink = document.createElement('div');\n",
              "          docLink.innerHTML = docLinkHtml;\n",
              "          element.appendChild(docLink);\n",
              "        }\n",
              "      </script>\n",
              "    </div>\n",
              "  </div>\n",
              "  "
            ]
          },
          "metadata": {},
          "execution_count": 14
        }
      ],
      "source": [
        "#Code task 6#\n",
        "#Use ski_data's `select_dtypes` method to select columns of dtype 'object'\n",
        "ski_data.select_dtypes(include='object')"
      ]
    },
    {
      "cell_type": "markdown",
      "metadata": {
        "id": "-0iTVf6w71eS"
      },
      "source": [
        "You saw earlier on that these three columns had no missing values. But are there any other issues with these columns? Sensible questions to ask here include:\n",
        "\n",
        "* Is `Name` (or at least a combination of Name/Region/State) unique?\n",
        "* Is `Region` always the same as `state`?"
      ]
    },
    {
      "cell_type": "markdown",
      "metadata": {
        "id": "k-VSlYCc71eT"
      },
      "source": [
        "#### 2.6.3.1 Unique Resort Names<a id='2.6.3.1_Unique_Resort_Names'></a>"
      ]
    },
    {
      "cell_type": "code",
      "execution_count": null,
      "metadata": {
        "colab": {
          "base_uri": "https://localhost:8080/"
        },
        "id": "ezY_47-l71eT",
        "outputId": "9d7d1bee-e1fe-40fb-d514-3a19bb0a3504"
      },
      "outputs": [
        {
          "output_type": "execute_result",
          "data": {
            "text/plain": [
              "Crystal Mountain    2\n",
              "Alyeska Resort      1\n",
              "Brandywine          1\n",
              "Boston Mills        1\n",
              "Alpine Valley       1\n",
              "Name: Name, dtype: int64"
            ]
          },
          "metadata": {},
          "execution_count": 15
        }
      ],
      "source": [
        "#Code task 7#\n",
        "#Use pandas' Series method `value_counts` to find any duplicated resort names\n",
        "ski_data['Name'].value_counts().head()"
      ]
    },
    {
      "cell_type": "markdown",
      "metadata": {
        "id": "FhNmWnV571eU"
      },
      "source": [
        "You have a duplicated resort name: Crystal Mountain."
      ]
    },
    {
      "cell_type": "markdown",
      "metadata": {
        "id": "nBSJSoy971eU"
      },
      "source": [
        "**Q: 1** Is this resort duplicated if you take into account Region and/or state as well?"
      ]
    },
    {
      "cell_type": "code",
      "execution_count": null,
      "metadata": {
        "colab": {
          "base_uri": "https://localhost:8080/"
        },
        "id": "gxhphnXG71ef",
        "outputId": "8bc86925-ccd2-4b23-94c9-80f06cd5544e"
      },
      "outputs": [
        {
          "output_type": "execute_result",
          "data": {
            "text/plain": [
              "Alyeska Resort, Alaska    1\n",
              "Snow Trails, Ohio         1\n",
              "Brandywine, Ohio          1\n",
              "Boston Mills, Ohio        1\n",
              "Alpine Valley, Ohio       1\n",
              "dtype: int64"
            ]
          },
          "metadata": {},
          "execution_count": 16
        }
      ],
      "source": [
        "#Code task 8#\n",
        "#Concatenate the string columns 'Name' and 'Region' and count the values again (as above)\n",
        "(ski_data['Name'] + ', ' + ski_data['Region']).value_counts().head()"
      ]
    },
    {
      "cell_type": "code",
      "execution_count": null,
      "metadata": {
        "colab": {
          "base_uri": "https://localhost:8080/"
        },
        "id": "BcJD_lZS71eg",
        "outputId": "5446a91f-ef04-4236-d5fb-a67889cbd89b"
      },
      "outputs": [
        {
          "output_type": "execute_result",
          "data": {
            "text/plain": [
              "Alyeska Resort, Alaska    1\n",
              "Snow Trails, Ohio         1\n",
              "Brandywine, Ohio          1\n",
              "Boston Mills, Ohio        1\n",
              "Alpine Valley, Ohio       1\n",
              "dtype: int64"
            ]
          },
          "metadata": {},
          "execution_count": 17
        }
      ],
      "source": [
        "#Code task 9#\n",
        "#Concatenate 'Name' and 'state' and count the values again (as above)\n",
        "(ski_data[\"Name\"] + ', ' + ski_data['state']).value_counts().head()"
      ]
    },
    {
      "cell_type": "markdown",
      "source": [
        "**NB** because you know `value_counts()` sorts descending, you can use the `head()` method and know the rest of the counts must be 1."
      ],
      "metadata": {
        "id": "TMWbpYrb71eg"
      }
    },
    {
      "cell_type": "code",
      "source": [
        "ski_data[['state', 'Region', 'Name']][ski_data['Name'] == 'Crystal Mountain']"
      ],
      "metadata": {
        "colab": {
          "base_uri": "https://localhost:8080/",
          "height": 112
        },
        "id": "l-ZnXWzUfQzi",
        "outputId": "dcf01445-656d-4b83-a0c0-1ed652218898"
      },
      "execution_count": 32,
      "outputs": [
        {
          "output_type": "execute_result",
          "data": {
            "text/plain": [
              "          state      Region              Name\n",
              "104    Michigan    Michigan  Crystal Mountain\n",
              "295  Washington  Washington  Crystal Mountain"
            ],
            "text/html": [
              "\n",
              "  <div id=\"df-2ffc8244-15a5-4169-9790-1f7eb938c408\">\n",
              "    <div class=\"colab-df-container\">\n",
              "      <div>\n",
              "<style scoped>\n",
              "    .dataframe tbody tr th:only-of-type {\n",
              "        vertical-align: middle;\n",
              "    }\n",
              "\n",
              "    .dataframe tbody tr th {\n",
              "        vertical-align: top;\n",
              "    }\n",
              "\n",
              "    .dataframe thead th {\n",
              "        text-align: right;\n",
              "    }\n",
              "</style>\n",
              "<table border=\"1\" class=\"dataframe\">\n",
              "  <thead>\n",
              "    <tr style=\"text-align: right;\">\n",
              "      <th></th>\n",
              "      <th>state</th>\n",
              "      <th>Region</th>\n",
              "      <th>Name</th>\n",
              "    </tr>\n",
              "  </thead>\n",
              "  <tbody>\n",
              "    <tr>\n",
              "      <th>104</th>\n",
              "      <td>Michigan</td>\n",
              "      <td>Michigan</td>\n",
              "      <td>Crystal Mountain</td>\n",
              "    </tr>\n",
              "    <tr>\n",
              "      <th>295</th>\n",
              "      <td>Washington</td>\n",
              "      <td>Washington</td>\n",
              "      <td>Crystal Mountain</td>\n",
              "    </tr>\n",
              "  </tbody>\n",
              "</table>\n",
              "</div>\n",
              "      <button class=\"colab-df-convert\" onclick=\"convertToInteractive('df-2ffc8244-15a5-4169-9790-1f7eb938c408')\"\n",
              "              title=\"Convert this dataframe to an interactive table.\"\n",
              "              style=\"display:none;\">\n",
              "        \n",
              "  <svg xmlns=\"http://www.w3.org/2000/svg\" height=\"24px\"viewBox=\"0 0 24 24\"\n",
              "       width=\"24px\">\n",
              "    <path d=\"M0 0h24v24H0V0z\" fill=\"none\"/>\n",
              "    <path d=\"M18.56 5.44l.94 2.06.94-2.06 2.06-.94-2.06-.94-.94-2.06-.94 2.06-2.06.94zm-11 1L8.5 8.5l.94-2.06 2.06-.94-2.06-.94L8.5 2.5l-.94 2.06-2.06.94zm10 10l.94 2.06.94-2.06 2.06-.94-2.06-.94-.94-2.06-.94 2.06-2.06.94z\"/><path d=\"M17.41 7.96l-1.37-1.37c-.4-.4-.92-.59-1.43-.59-.52 0-1.04.2-1.43.59L10.3 9.45l-7.72 7.72c-.78.78-.78 2.05 0 2.83L4 21.41c.39.39.9.59 1.41.59.51 0 1.02-.2 1.41-.59l7.78-7.78 2.81-2.81c.8-.78.8-2.07 0-2.86zM5.41 20L4 18.59l7.72-7.72 1.47 1.35L5.41 20z\"/>\n",
              "  </svg>\n",
              "      </button>\n",
              "      \n",
              "  <style>\n",
              "    .colab-df-container {\n",
              "      display:flex;\n",
              "      flex-wrap:wrap;\n",
              "      gap: 12px;\n",
              "    }\n",
              "\n",
              "    .colab-df-convert {\n",
              "      background-color: #E8F0FE;\n",
              "      border: none;\n",
              "      border-radius: 50%;\n",
              "      cursor: pointer;\n",
              "      display: none;\n",
              "      fill: #1967D2;\n",
              "      height: 32px;\n",
              "      padding: 0 0 0 0;\n",
              "      width: 32px;\n",
              "    }\n",
              "\n",
              "    .colab-df-convert:hover {\n",
              "      background-color: #E2EBFA;\n",
              "      box-shadow: 0px 1px 2px rgba(60, 64, 67, 0.3), 0px 1px 3px 1px rgba(60, 64, 67, 0.15);\n",
              "      fill: #174EA6;\n",
              "    }\n",
              "\n",
              "    [theme=dark] .colab-df-convert {\n",
              "      background-color: #3B4455;\n",
              "      fill: #D2E3FC;\n",
              "    }\n",
              "\n",
              "    [theme=dark] .colab-df-convert:hover {\n",
              "      background-color: #434B5C;\n",
              "      box-shadow: 0px 1px 3px 1px rgba(0, 0, 0, 0.15);\n",
              "      filter: drop-shadow(0px 1px 2px rgba(0, 0, 0, 0.3));\n",
              "      fill: #FFFFFF;\n",
              "    }\n",
              "  </style>\n",
              "\n",
              "      <script>\n",
              "        const buttonEl =\n",
              "          document.querySelector('#df-2ffc8244-15a5-4169-9790-1f7eb938c408 button.colab-df-convert');\n",
              "        buttonEl.style.display =\n",
              "          google.colab.kernel.accessAllowed ? 'block' : 'none';\n",
              "\n",
              "        async function convertToInteractive(key) {\n",
              "          const element = document.querySelector('#df-2ffc8244-15a5-4169-9790-1f7eb938c408');\n",
              "          const dataTable =\n",
              "            await google.colab.kernel.invokeFunction('convertToInteractive',\n",
              "                                                     [key], {});\n",
              "          if (!dataTable) return;\n",
              "\n",
              "          const docLinkHtml = 'Like what you see? Visit the ' +\n",
              "            '<a target=\"_blank\" href=https://colab.research.google.com/notebooks/data_table.ipynb>data table notebook</a>'\n",
              "            + ' to learn more about interactive tables.';\n",
              "          element.innerHTML = '';\n",
              "          dataTable['output_type'] = 'display_data';\n",
              "          await google.colab.output.renderOutput(dataTable, element);\n",
              "          const docLink = document.createElement('div');\n",
              "          docLink.innerHTML = docLinkHtml;\n",
              "          element.appendChild(docLink);\n",
              "        }\n",
              "      </script>\n",
              "    </div>\n",
              "  </div>\n",
              "  "
            ]
          },
          "metadata": {},
          "execution_count": 32
        }
      ]
    },
    {
      "cell_type": "markdown",
      "metadata": {
        "id": "mCaGkTMt71eh"
      },
      "source": [
        "**A: 1** No the resort Name \"Crystal Mountain\" is not duplicated once you factor in state and region. As one is in Michigan and the other in Washington. So it just so happens that two different resorts have the same name."
      ]
    },
    {
      "cell_type": "code",
      "execution_count": 6,
      "metadata": {
        "id": "HwtC4seq71eh",
        "outputId": "0a2db3a9-935b-45e9-d3f1-84649596c7ff",
        "colab": {
          "base_uri": "https://localhost:8080/",
          "height": 257
        }
      },
      "outputs": [
        {
          "output_type": "execute_result",
          "data": {
            "text/plain": [
              "                 Name      Region       state  summit_elev  vertical_drop  \\\n",
              "104  Crystal Mountain    Michigan    Michigan         1132            375   \n",
              "295  Crystal Mountain  Washington  Washington         7012           3100   \n",
              "\n",
              "     base_elev  trams  fastEight  fastSixes  fastQuads  ...  LongestRun_mi  \\\n",
              "104        757      0        0.0          0          1  ...            0.3   \n",
              "295       4400      1        NaN          2          2  ...            2.5   \n",
              "\n",
              "     SkiableTerrain_ac  Snow Making_ac  daysOpenLastYear  yearsOpen  \\\n",
              "104              102.0            96.0             120.0       63.0   \n",
              "295             2600.0            10.0               NaN       57.0   \n",
              "\n",
              "     averageSnowfall  AdultWeekday  AdultWeekend  projectedDaysOpen  \\\n",
              "104            132.0          54.0          64.0              135.0   \n",
              "295            486.0          99.0          99.0                NaN   \n",
              "\n",
              "     NightSkiing_ac  \n",
              "104            56.0  \n",
              "295             NaN  \n",
              "\n",
              "[2 rows x 27 columns]"
            ],
            "text/html": [
              "\n",
              "  <div id=\"df-f348adf8-f7fc-4b9c-bde8-2b844c72bc18\">\n",
              "    <div class=\"colab-df-container\">\n",
              "      <div>\n",
              "<style scoped>\n",
              "    .dataframe tbody tr th:only-of-type {\n",
              "        vertical-align: middle;\n",
              "    }\n",
              "\n",
              "    .dataframe tbody tr th {\n",
              "        vertical-align: top;\n",
              "    }\n",
              "\n",
              "    .dataframe thead th {\n",
              "        text-align: right;\n",
              "    }\n",
              "</style>\n",
              "<table border=\"1\" class=\"dataframe\">\n",
              "  <thead>\n",
              "    <tr style=\"text-align: right;\">\n",
              "      <th></th>\n",
              "      <th>Name</th>\n",
              "      <th>Region</th>\n",
              "      <th>state</th>\n",
              "      <th>summit_elev</th>\n",
              "      <th>vertical_drop</th>\n",
              "      <th>base_elev</th>\n",
              "      <th>trams</th>\n",
              "      <th>fastEight</th>\n",
              "      <th>fastSixes</th>\n",
              "      <th>fastQuads</th>\n",
              "      <th>...</th>\n",
              "      <th>LongestRun_mi</th>\n",
              "      <th>SkiableTerrain_ac</th>\n",
              "      <th>Snow Making_ac</th>\n",
              "      <th>daysOpenLastYear</th>\n",
              "      <th>yearsOpen</th>\n",
              "      <th>averageSnowfall</th>\n",
              "      <th>AdultWeekday</th>\n",
              "      <th>AdultWeekend</th>\n",
              "      <th>projectedDaysOpen</th>\n",
              "      <th>NightSkiing_ac</th>\n",
              "    </tr>\n",
              "  </thead>\n",
              "  <tbody>\n",
              "    <tr>\n",
              "      <th>104</th>\n",
              "      <td>Crystal Mountain</td>\n",
              "      <td>Michigan</td>\n",
              "      <td>Michigan</td>\n",
              "      <td>1132</td>\n",
              "      <td>375</td>\n",
              "      <td>757</td>\n",
              "      <td>0</td>\n",
              "      <td>0.0</td>\n",
              "      <td>0</td>\n",
              "      <td>1</td>\n",
              "      <td>...</td>\n",
              "      <td>0.3</td>\n",
              "      <td>102.0</td>\n",
              "      <td>96.0</td>\n",
              "      <td>120.0</td>\n",
              "      <td>63.0</td>\n",
              "      <td>132.0</td>\n",
              "      <td>54.0</td>\n",
              "      <td>64.0</td>\n",
              "      <td>135.0</td>\n",
              "      <td>56.0</td>\n",
              "    </tr>\n",
              "    <tr>\n",
              "      <th>295</th>\n",
              "      <td>Crystal Mountain</td>\n",
              "      <td>Washington</td>\n",
              "      <td>Washington</td>\n",
              "      <td>7012</td>\n",
              "      <td>3100</td>\n",
              "      <td>4400</td>\n",
              "      <td>1</td>\n",
              "      <td>NaN</td>\n",
              "      <td>2</td>\n",
              "      <td>2</td>\n",
              "      <td>...</td>\n",
              "      <td>2.5</td>\n",
              "      <td>2600.0</td>\n",
              "      <td>10.0</td>\n",
              "      <td>NaN</td>\n",
              "      <td>57.0</td>\n",
              "      <td>486.0</td>\n",
              "      <td>99.0</td>\n",
              "      <td>99.0</td>\n",
              "      <td>NaN</td>\n",
              "      <td>NaN</td>\n",
              "    </tr>\n",
              "  </tbody>\n",
              "</table>\n",
              "<p>2 rows × 27 columns</p>\n",
              "</div>\n",
              "      <button class=\"colab-df-convert\" onclick=\"convertToInteractive('df-f348adf8-f7fc-4b9c-bde8-2b844c72bc18')\"\n",
              "              title=\"Convert this dataframe to an interactive table.\"\n",
              "              style=\"display:none;\">\n",
              "        \n",
              "  <svg xmlns=\"http://www.w3.org/2000/svg\" height=\"24px\"viewBox=\"0 0 24 24\"\n",
              "       width=\"24px\">\n",
              "    <path d=\"M0 0h24v24H0V0z\" fill=\"none\"/>\n",
              "    <path d=\"M18.56 5.44l.94 2.06.94-2.06 2.06-.94-2.06-.94-.94-2.06-.94 2.06-2.06.94zm-11 1L8.5 8.5l.94-2.06 2.06-.94-2.06-.94L8.5 2.5l-.94 2.06-2.06.94zm10 10l.94 2.06.94-2.06 2.06-.94-2.06-.94-.94-2.06-.94 2.06-2.06.94z\"/><path d=\"M17.41 7.96l-1.37-1.37c-.4-.4-.92-.59-1.43-.59-.52 0-1.04.2-1.43.59L10.3 9.45l-7.72 7.72c-.78.78-.78 2.05 0 2.83L4 21.41c.39.39.9.59 1.41.59.51 0 1.02-.2 1.41-.59l7.78-7.78 2.81-2.81c.8-.78.8-2.07 0-2.86zM5.41 20L4 18.59l7.72-7.72 1.47 1.35L5.41 20z\"/>\n",
              "  </svg>\n",
              "      </button>\n",
              "      \n",
              "  <style>\n",
              "    .colab-df-container {\n",
              "      display:flex;\n",
              "      flex-wrap:wrap;\n",
              "      gap: 12px;\n",
              "    }\n",
              "\n",
              "    .colab-df-convert {\n",
              "      background-color: #E8F0FE;\n",
              "      border: none;\n",
              "      border-radius: 50%;\n",
              "      cursor: pointer;\n",
              "      display: none;\n",
              "      fill: #1967D2;\n",
              "      height: 32px;\n",
              "      padding: 0 0 0 0;\n",
              "      width: 32px;\n",
              "    }\n",
              "\n",
              "    .colab-df-convert:hover {\n",
              "      background-color: #E2EBFA;\n",
              "      box-shadow: 0px 1px 2px rgba(60, 64, 67, 0.3), 0px 1px 3px 1px rgba(60, 64, 67, 0.15);\n",
              "      fill: #174EA6;\n",
              "    }\n",
              "\n",
              "    [theme=dark] .colab-df-convert {\n",
              "      background-color: #3B4455;\n",
              "      fill: #D2E3FC;\n",
              "    }\n",
              "\n",
              "    [theme=dark] .colab-df-convert:hover {\n",
              "      background-color: #434B5C;\n",
              "      box-shadow: 0px 1px 3px 1px rgba(0, 0, 0, 0.15);\n",
              "      filter: drop-shadow(0px 1px 2px rgba(0, 0, 0, 0.3));\n",
              "      fill: #FFFFFF;\n",
              "    }\n",
              "  </style>\n",
              "\n",
              "      <script>\n",
              "        const buttonEl =\n",
              "          document.querySelector('#df-f348adf8-f7fc-4b9c-bde8-2b844c72bc18 button.colab-df-convert');\n",
              "        buttonEl.style.display =\n",
              "          google.colab.kernel.accessAllowed ? 'block' : 'none';\n",
              "\n",
              "        async function convertToInteractive(key) {\n",
              "          const element = document.querySelector('#df-f348adf8-f7fc-4b9c-bde8-2b844c72bc18');\n",
              "          const dataTable =\n",
              "            await google.colab.kernel.invokeFunction('convertToInteractive',\n",
              "                                                     [key], {});\n",
              "          if (!dataTable) return;\n",
              "\n",
              "          const docLinkHtml = 'Like what you see? Visit the ' +\n",
              "            '<a target=\"_blank\" href=https://colab.research.google.com/notebooks/data_table.ipynb>data table notebook</a>'\n",
              "            + ' to learn more about interactive tables.';\n",
              "          element.innerHTML = '';\n",
              "          dataTable['output_type'] = 'display_data';\n",
              "          await google.colab.output.renderOutput(dataTable, element);\n",
              "          const docLink = document.createElement('div');\n",
              "          docLink.innerHTML = docLinkHtml;\n",
              "          element.appendChild(docLink);\n",
              "        }\n",
              "      </script>\n",
              "    </div>\n",
              "  </div>\n",
              "  "
            ]
          },
          "metadata": {},
          "execution_count": 6
        }
      ],
      "source": [
        "ski_data[ski_data['Name'] == 'Crystal Mountain']"
      ]
    },
    {
      "cell_type": "markdown",
      "metadata": {
        "id": "w4LbpyaK71ei"
      },
      "source": [
        "So there are two Crystal Mountain resorts, but they are clearly two different resorts in two different states. This is a powerful signal that you have unique records on each row."
      ]
    },
    {
      "cell_type": "markdown",
      "metadata": {
        "id": "pNq-El5S71ej"
      },
      "source": [
        "#### 2.6.3.2 Region And State<a id='2.6.3.2_Region_And_State'></a>"
      ]
    },
    {
      "cell_type": "markdown",
      "metadata": {
        "id": "Z21R4jRg71ej"
      },
      "source": [
        "What's the relationship between region and state?"
      ]
    },
    {
      "cell_type": "markdown",
      "metadata": {
        "id": "xpDGxz8U71ej"
      },
      "source": [
        "You know they are the same in many cases (e.g. both the Region and the state are given as 'Michigan'). In how many cases do they differ?"
      ]
    },
    {
      "cell_type": "code",
      "execution_count": 9,
      "metadata": {
        "id": "NC236wPe71ek",
        "colab": {
          "base_uri": "https://localhost:8080/"
        },
        "outputId": "afdf1943-5dde-434e-abaf-5e8fcf051a1d"
      },
      "outputs": [
        {
          "output_type": "execute_result",
          "data": {
            "text/plain": [
              "False    297\n",
              "True      33\n",
              "dtype: int64"
            ]
          },
          "metadata": {},
          "execution_count": 9
        }
      ],
      "source": [
        "#Code task 10#\n",
        "#Calculate the number of times Region does not equal state\n",
        "(ski_data.Region != ski_data.state).value_counts()"
      ]
    },
    {
      "cell_type": "markdown",
      "metadata": {
        "id": "k4YRjcs_71ek"
      },
      "source": [
        "You know what a state is. What is a region? You can tabulate the distinct values along with their respective frequencies using `value_counts()`."
      ]
    },
    {
      "cell_type": "code",
      "execution_count": null,
      "metadata": {
        "id": "ZhFuC-GF71ek",
        "outputId": "cfc308bd-4874-46ce-bd9d-9f1a93501ae1"
      },
      "outputs": [
        {
          "data": {
            "text/plain": [
              "New York               33\n",
              "Michigan               29\n",
              "Sierra Nevada          22\n",
              "Colorado               22\n",
              "Pennsylvania           19\n",
              "Wisconsin              16\n",
              "New Hampshire          16\n",
              "Vermont                15\n",
              "Minnesota              14\n",
              "Montana                12\n",
              "Idaho                  12\n",
              "Massachusetts          11\n",
              "Washington             10\n",
              "Maine                   9\n",
              "New Mexico              9\n",
              "Wyoming                 8\n",
              "Utah                    7\n",
              "Oregon                  6\n",
              "Salt Lake City          6\n",
              "North Carolina          6\n",
              "Connecticut             5\n",
              "Ohio                    5\n",
              "West Virginia           4\n",
              "Virginia                4\n",
              "Mt. Hood                4\n",
              "Illinois                4\n",
              "Alaska                  3\n",
              "Iowa                    3\n",
              "Missouri                2\n",
              "Arizona                 2\n",
              "Indiana                 2\n",
              "South Dakota            2\n",
              "New Jersey              2\n",
              "Nevada                  2\n",
              "Rhode Island            1\n",
              "Maryland                1\n",
              "Tennessee               1\n",
              "Northern California     1\n",
              "Name: Region, dtype: int64"
            ]
          },
          "execution_count": 13,
          "metadata": {},
          "output_type": "execute_result"
        }
      ],
      "source": [
        "ski_data['Region'].value_counts()"
      ]
    },
    {
      "cell_type": "markdown",
      "metadata": {
        "id": "Twfa0H9x71el"
      },
      "source": [
        "A casual inspection by eye reveals some non-state names such as Sierra Nevada, Salt Lake City, and Northern California. Tabulate the differences between Region and state. On a note regarding scaling to larger data sets, you might wonder how you could spot such cases when presented with millions of rows. This is an interesting point. Imagine you have access to a database with a Region and state column in a table and there are millions of rows. You wouldn't eyeball all the rows looking for differences! Bear in mind that our first interest lies in establishing the answer to the question \"Are they always the same?\" One approach might be to ask the database to return records where they differ, but limit the output to 10 rows. If there were differences, you'd only get up to 10 results, and so you wouldn't know whether you'd located all differences, but you'd know that there were 'a nonzero number' of differences. If you got an empty result set back, then you would know that the two columns always had the same value. At the risk of digressing, some values in one column only might be NULL (missing) and different databases treat NULL differently, so be aware that on many an occasion a seamingly 'simple' question gets very interesting to answer very quickly!"
      ]
    },
    {
      "cell_type": "code",
      "execution_count": 10,
      "metadata": {
        "id": "pa9PMcqb71el",
        "colab": {
          "base_uri": "https://localhost:8080/"
        },
        "outputId": "87a98f51-9925-4743-9e80-b844059f2673"
      },
      "outputs": [
        {
          "output_type": "execute_result",
          "data": {
            "text/plain": [
              "state       Region             \n",
              "California  Sierra Nevada          20\n",
              "            Northern California     1\n",
              "Nevada      Sierra Nevada           2\n",
              "Oregon      Mt. Hood                4\n",
              "Utah        Salt Lake City          6\n",
              "Name: Region, dtype: int64"
            ]
          },
          "metadata": {},
          "execution_count": 10
        }
      ],
      "source": [
        "#Code task 11#\n",
        "#Filter the ski_data dataframe for rows where 'Region' and 'state' are different,\n",
        "#group that by 'state' and perform `value_counts` on the 'Region'\n",
        "(ski_data[ski_data.Region != ski_data.state]\n",
        " .groupby('state')['Region']\n",
        " .value_counts())"
      ]
    },
    {
      "cell_type": "markdown",
      "metadata": {
        "id": "5XfqFYYl71em"
      },
      "source": [
        "The vast majority of the differences are in California, with most Regions being called Sierra Nevada and just one referred to as Northern California."
      ]
    },
    {
      "cell_type": "markdown",
      "metadata": {
        "id": "wscYjgfD71em"
      },
      "source": [
        "#### 2.6.3.3 Number of distinct regions and states<a id='2.6.3.3_Number_of_distinct_regions_and_states'></a>"
      ]
    },
    {
      "cell_type": "code",
      "execution_count": 11,
      "metadata": {
        "id": "6DtTKXEq71em",
        "colab": {
          "base_uri": "https://localhost:8080/"
        },
        "outputId": "b26506b2-17e3-4af4-9c2f-4fc53cc3703f"
      },
      "outputs": [
        {
          "output_type": "execute_result",
          "data": {
            "text/plain": [
              "Region    38\n",
              "state     35\n",
              "dtype: int64"
            ]
          },
          "metadata": {},
          "execution_count": 11
        }
      ],
      "source": [
        "#Code task 12#\n",
        "#Select the 'Region' and 'state' columns from ski_data and use the `nunique` method to calculate\n",
        "#the number of unique values in each\n",
        "ski_data[['Region', 'state']].nunique()"
      ]
    },
    {
      "cell_type": "markdown",
      "metadata": {
        "id": "kFmE1MFe71en"
      },
      "source": [
        "Because a few states are split across multiple named regions, there are slightly more unique regions than states."
      ]
    },
    {
      "cell_type": "markdown",
      "metadata": {
        "id": "p9m5sZc071en"
      },
      "source": [
        "#### 2.6.3.4 Distribution Of Resorts By Region And State<a id='2.6.3.4_Distribution_Of_Resorts_By_Region_And_State'></a>"
      ]
    },
    {
      "cell_type": "markdown",
      "metadata": {
        "id": "PXoHYntN71en"
      },
      "source": [
        "If this is your first time using [matplotlib](https://matplotlib.org/3.2.2/index.html)'s [subplots](https://matplotlib.org/3.2.2/api/_as_gen/matplotlib.pyplot.subplots.html), you may find the online documentation useful."
      ]
    },
    {
      "cell_type": "code",
      "execution_count": 14,
      "metadata": {
        "id": "KO8JjL0j71en",
        "colab": {
          "base_uri": "https://localhost:8080/",
          "height": 564
        },
        "outputId": "abc37bbf-a445-4819-f7ed-4f493b21b88d"
      },
      "outputs": [
        {
          "output_type": "display_data",
          "data": {
            "text/plain": [
              "<Figure size 1000x600 with 2 Axes>"
            ],
            "image/png": "[encoded data removed]"
          },
          "metadata": {}
        }
      ],
      "source": [
        "#Code task 13#\n",
        "#Create two subplots on 1 row and 2 columns with a figsize of (12, 8)\n",
        "fig, ax = plt.subplots(1, 2, figsize=(10,6))\n",
        "#Specify a horizontal barplot ('barh') as kind of plot (kind=)\n",
        "ski_data.Region.value_counts().plot(kind='barh', ax=ax[0])\n",
        "#Give the plot a helpful title of 'Region'\n",
        "ax[0].set_title('Region')\n",
        "#Label the xaxis 'Count'\n",
        "ax[0].set_xlabel('Count')\n",
        "#Specify a horizontal barplot ('barh') as kind of plot (kind=)\n",
        "ski_data.state.value_counts().plot(kind='barh', ax=ax[1])\n",
        "#Give the plot a helpful title of 'state'\n",
        "ax[1].set_title('state')\n",
        "#Label the xaxis 'Count'\n",
        "ax[1].set_xlabel('Count')\n",
        "#Give the subplots a little \"breathing room\" with a wspace of 0.5\n",
        "plt.subplots_adjust(wspace=0.4);\n",
        "#You're encouraged to explore a few different figure sizes, orientations, and spacing here\n",
        "# as the importance of easy-to-read and informative figures is frequently understated\n",
        "# and you will find the ability to tweak figures invaluable later on"
      ]
    },
    {
      "cell_type": "markdown",
      "metadata": {
        "id": "iwUmrFXi71eo"
      },
      "source": [
        "How's your geography? Looking at the distribution of States, you see New York accounting for the majority of resorts. Our target resort is in Montana, which comes in at 13th place. You should think carefully about how, or whether, you use this information. Does New York command a premium because of its proximity to population? Even if a resort's State were a useful predictor of ticket price, your main interest lies in Montana. Would you want a model that is skewed for accuracy by New York? Should you just filter for Montana and create a Montana-specific model? This would slash your available data volume. Your problem task includes the contextual insight that the data are for resorts all belonging to the same market share. This suggests one might expect prices to be similar amongst them. You can look into this. A boxplot grouped by State is an ideal way to quickly compare prices. Another side note worth bringing up here is that, in reality, the best approach here definitely would include consulting with the client or other domain expert. They might know of good reasons for treating states equivalently or differently. The data scientist is rarely the final arbiter of such a decision. But here, you'll see if we can find any supporting evidence for treating states the same or differently."
      ]
    },
    {
      "cell_type": "markdown",
      "metadata": {
        "id": "M7g_Sywa71eo"
      },
      "source": [
        "#### 2.6.3.5 Distribution Of Ticket Price By State<a id='2.6.3.5_Distribution_Of_Ticket_Price_By_State'></a>"
      ]
    },
    {
      "cell_type": "markdown",
      "metadata": {
        "id": "J2J4uqlY71eo"
      },
      "source": [
        "Our primary focus is our Big Mountain resort, in Montana. Does the state give you any clues to help decide what your primary target response feature should be (weekend or weekday ticket prices)?"
      ]
    },
    {
      "cell_type": "markdown",
      "metadata": {
        "id": "BYa_e2df71ep"
      },
      "source": [
        "##### 2.6.3.5.1 Average weekend and weekday price by state<a id='2.6.3.5.1_Average_weekend_and_weekday_price_by_state'></a>"
      ]
    },
    {
      "cell_type": "code",
      "execution_count": 16,
      "metadata": {
        "id": "8pW54iyc71ep",
        "colab": {
          "base_uri": "https://localhost:8080/",
          "height": 237
        },
        "outputId": "9b3b33fe-5cbe-43bf-d633-82382ca41d8e"
      },
      "outputs": [
        {
          "output_type": "execute_result",
          "data": {
            "text/plain": [
              "             AdultWeekday  AdultWeekend\n",
              "state                                  \n",
              "Alaska          47.333333     57.333333\n",
              "Arizona         81.500000     83.500000\n",
              "California      78.214286     81.416667\n",
              "Colorado        90.714286     90.714286\n",
              "Connecticut     47.800000     56.800000"
            ],
            "text/html": [
              "\n",
              "  <div id=\"df-c23d48e3-97a6-474d-8b73-6d1ae2c19a68\">\n",
              "    <div class=\"colab-df-container\">\n",
              "      <div>\n",
              "<style scoped>\n",
              "    .dataframe tbody tr th:only-of-type {\n",
              "        vertical-align: middle;\n",
              "    }\n",
              "\n",
              "    .dataframe tbody tr th {\n",
              "        vertical-align: top;\n",
              "    }\n",
              "\n",
              "    .dataframe thead th {\n",
              "        text-align: right;\n",
              "    }\n",
              "</style>\n",
              "<table border=\"1\" class=\"dataframe\">\n",
              "  <thead>\n",
              "    <tr style=\"text-align: right;\">\n",
              "      <th></th>\n",
              "      <th>AdultWeekday</th>\n",
              "      <th>AdultWeekend</th>\n",
              "    </tr>\n",
              "    <tr>\n",
              "      <th>state</th>\n",
              "      <th></th>\n",
              "      <th></th>\n",
              "    </tr>\n",
              "  </thead>\n",
              "  <tbody>\n",
              "    <tr>\n",
              "      <th>Alaska</th>\n",
              "      <td>47.333333</td>\n",
              "      <td>57.333333</td>\n",
              "    </tr>\n",
              "    <tr>\n",
              "      <th>Arizona</th>\n",
              "      <td>81.500000</td>\n",
              "      <td>83.500000</td>\n",
              "    </tr>\n",
              "    <tr>\n",
              "      <th>California</th>\n",
              "      <td>78.214286</td>\n",
              "      <td>81.416667</td>\n",
              "    </tr>\n",
              "    <tr>\n",
              "      <th>Colorado</th>\n",
              "      <td>90.714286</td>\n",
              "      <td>90.714286</td>\n",
              "    </tr>\n",
              "    <tr>\n",
              "      <th>Connecticut</th>\n",
              "      <td>47.800000</td>\n",
              "      <td>56.800000</td>\n",
              "    </tr>\n",
              "  </tbody>\n",
              "</table>\n",
              "</div>\n",
              "      <button class=\"colab-df-convert\" onclick=\"convertToInteractive('df-c23d48e3-97a6-474d-8b73-6d1ae2c19a68')\"\n",
              "              title=\"Convert this dataframe to an interactive table.\"\n",
              "              style=\"display:none;\">\n",
              "        \n",
              "  <svg xmlns=\"http://www.w3.org/2000/svg\" height=\"24px\"viewBox=\"0 0 24 24\"\n",
              "       width=\"24px\">\n",
              "    <path d=\"M0 0h24v24H0V0z\" fill=\"none\"/>\n",
              "    <path d=\"M18.56 5.44l.94 2.06.94-2.06 2.06-.94-2.06-.94-.94-2.06-.94 2.06-2.06.94zm-11 1L8.5 8.5l.94-2.06 2.06-.94-2.06-.94L8.5 2.5l-.94 2.06-2.06.94zm10 10l.94 2.06.94-2.06 2.06-.94-2.06-.94-.94-2.06-.94 2.06-2.06.94z\"/><path d=\"M17.41 7.96l-1.37-1.37c-.4-.4-.92-.59-1.43-.59-.52 0-1.04.2-1.43.59L10.3 9.45l-7.72 7.72c-.78.78-.78 2.05 0 2.83L4 21.41c.39.39.9.59 1.41.59.51 0 1.02-.2 1.41-.59l7.78-7.78 2.81-2.81c.8-.78.8-2.07 0-2.86zM5.41 20L4 18.59l7.72-7.72 1.47 1.35L5.41 20z\"/>\n",
              "  </svg>\n",
              "      </button>\n",
              "      \n",
              "  <style>\n",
              "    .colab-df-container {\n",
              "      display:flex;\n",
              "      flex-wrap:wrap;\n",
              "      gap: 12px;\n",
              "    }\n",
              "\n",
              "    .colab-df-convert {\n",
              "      background-color: #E8F0FE;\n",
              "      border: none;\n",
              "      border-radius: 50%;\n",
              "      cursor: pointer;\n",
              "      display: none;\n",
              "      fill: #1967D2;\n",
              "      height: 32px;\n",
              "      padding: 0 0 0 0;\n",
              "      width: 32px;\n",
              "    }\n",
              "\n",
              "    .colab-df-convert:hover {\n",
              "      background-color: #E2EBFA;\n",
              "      box-shadow: 0px 1px 2px rgba(60, 64, 67, 0.3), 0px 1px 3px 1px rgba(60, 64, 67, 0.15);\n",
              "      fill: #174EA6;\n",
              "    }\n",
              "\n",
              "    [theme=dark] .colab-df-convert {\n",
              "      background-color: #3B4455;\n",
              "      fill: #D2E3FC;\n",
              "    }\n",
              "\n",
              "    [theme=dark] .colab-df-convert:hover {\n",
              "      background-color: #434B5C;\n",
              "      box-shadow: 0px 1px 3px 1px rgba(0, 0, 0, 0.15);\n",
              "      filter: drop-shadow(0px 1px 2px rgba(0, 0, 0, 0.3));\n",
              "      fill: #FFFFFF;\n",
              "    }\n",
              "  </style>\n",
              "\n",
              "      <script>\n",
              "        const buttonEl =\n",
              "          document.querySelector('#df-c23d48e3-97a6-474d-8b73-6d1ae2c19a68 button.colab-df-convert');\n",
              "        buttonEl.style.display =\n",
              "          google.colab.kernel.accessAllowed ? 'block' : 'none';\n",
              "\n",
              "        async function convertToInteractive(key) {\n",
              "          const element = document.querySelector('#df-c23d48e3-97a6-474d-8b73-6d1ae2c19a68');\n",
              "          const dataTable =\n",
              "            await google.colab.kernel.invokeFunction('convertToInteractive',\n",
              "                                                     [key], {});\n",
              "          if (!dataTable) return;\n",
              "\n",
              "          const docLinkHtml = 'Like what you see? Visit the ' +\n",
              "            '<a target=\"_blank\" href=https://colab.research.google.com/notebooks/data_table.ipynb>data table notebook</a>'\n",
              "            + ' to learn more about interactive tables.';\n",
              "          element.innerHTML = '';\n",
              "          dataTable['output_type'] = 'display_data';\n",
              "          await google.colab.output.renderOutput(dataTable, element);\n",
              "          const docLink = document.createElement('div');\n",
              "          docLink.innerHTML = docLinkHtml;\n",
              "          element.appendChild(docLink);\n",
              "        }\n",
              "      </script>\n",
              "    </div>\n",
              "  </div>\n",
              "  "
            ]
          },
          "metadata": {},
          "execution_count": 16
        }
      ],
      "source": [
        "#Code task 14#\n",
        "# Calculate average weekday and weekend price by state and sort by the average of the two\n",
        "# Hint: use the pattern dataframe.groupby(<grouping variable>)[<list of columns>].mean()\n",
        "state_price_means = ski_data.groupby('state')[['AdultWeekday', 'AdultWeekend']].mean()\n",
        "state_price_means.head()"
      ]
    },
    {
      "cell_type": "code",
      "source": [
        "state_price_means.index"
      ],
      "metadata": {
        "colab": {
          "base_uri": "https://localhost:8080/"
        },
        "id": "rX3kSSKjYFch",
        "outputId": "14bfdb39-1560-4035-c13f-3889c2ca86c8"
      },
      "execution_count": 17,
      "outputs": [
        {
          "output_type": "execute_result",
          "data": {
            "text/plain": [
              "Index(['Alaska', 'Arizona', 'California', 'Colorado', 'Connecticut', 'Idaho',\n",
              "       'Illinois', 'Indiana', 'Iowa', 'Maine', 'Maryland', 'Massachusetts',\n",
              "       'Michigan', 'Minnesota', 'Missouri', 'Montana', 'Nevada',\n",
              "       'New Hampshire', 'New Jersey', 'New Mexico', 'New York',\n",
              "       'North Carolina', 'Ohio', 'Oregon', 'Pennsylvania', 'Rhode Island',\n",
              "       'South Dakota', 'Tennessee', 'Utah', 'Vermont', 'Virginia',\n",
              "       'Washington', 'West Virginia', 'Wisconsin', 'Wyoming'],\n",
              "      dtype='object', name='state')"
            ]
          },
          "metadata": {},
          "execution_count": 17
        }
      ]
    },
    {
      "cell_type": "code",
      "source": [
        "state_price_means.mean(axis=1).sort_values(ascending=False).index"
      ],
      "metadata": {
        "colab": {
          "base_uri": "https://localhost:8080/"
        },
        "id": "_ioGA2TCYL7d",
        "outputId": "0a3120bd-11be-4e56-99c4-df8520a45636"
      },
      "execution_count": 21,
      "outputs": [
        {
          "output_type": "execute_result",
          "data": {
            "text/plain": [
              "Index(['Utah', 'Colorado', 'Vermont', 'Arizona', 'New Jersey', 'California',\n",
              "       'Nevada', 'West Virginia', 'New Hampshire', 'Maryland', 'Washington',\n",
              "       'New Mexico', 'Virginia', 'Oregon', 'Pennsylvania', 'Wyoming', 'Maine',\n",
              "       'Idaho', 'New York', 'North Carolina', 'Alaska', 'Connecticut',\n",
              "       'Montana', 'South Dakota', 'Tennessee', 'Wisconsin', 'Massachusetts',\n",
              "       'Michigan', 'Minnesota', 'Indiana', 'Missouri', 'Ohio', 'Illinois',\n",
              "       'Iowa', 'Rhode Island'],\n",
              "      dtype='object', name='state')"
            ]
          },
          "metadata": {},
          "execution_count": 21
        }
      ]
    },
    {
      "cell_type": "code",
      "execution_count": null,
      "metadata": {
        "id": "46ExGZD-71ep",
        "outputId": "ef44fd2e-adfe-4f25-9009-60774ec7f552"
      },
      "outputs": [
        {
          "data": {
            "image/png": "[encoded data removed]",
            "text/plain": [
              "<Figure size 720x720 with 1 Axes>"
            ]
          },
          "metadata": {
            "needs_background": "light"
          },
          "output_type": "display_data"
        }
      ],
      "source": [
        "# The next bit simply reorders the index by increasing average of weekday and weekend prices\n",
        "# Compare the index order you get from\n",
        "# state_price_means.index\n",
        "# with\n",
        "# state_price_means.mean(axis=1).sort_values(ascending=False).index\n",
        "# See how this expression simply sits within the reindex()\n",
        "(state_price_means.reindex(index=state_price_means.mean(axis=1)\n",
        "    .sort_values(ascending=False)\n",
        "    .index)\n",
        "    .plot(kind='barh', figsize=(10, 10), title='Average ticket price by State'))\n",
        "plt.xlabel('Price ($)');"
      ]
    },
    {
      "cell_type": "markdown",
      "source": [
        "The figure above represents a dataframe with two columns, one for the average prices of each kind of ticket. This tells you how the average ticket price varies from state to state. But can you get more insight into the difference in the distributions between states?"
      ],
      "metadata": {
        "id": "dYtmZ6Ew71eq"
      }
    },
    {
      "cell_type": "markdown",
      "metadata": {
        "id": "GeLCpY2P71eq"
      },
      "source": [
        "##### 2.6.3.5.2 Distribution of weekday and weekend price by state<a id='2.6.3.5.2_Distribution_of_weekday_and_weekend_price_by_state'></a>"
      ]
    },
    {
      "cell_type": "markdown",
      "metadata": {
        "id": "s4j0OWwz71eq"
      },
      "source": [
        "Next, you can transform the data into a single column for price with a new categorical column that represents the ticket type."
      ]
    },
    {
      "cell_type": "code",
      "execution_count": 24,
      "metadata": {
        "id": "8ZPb31qg71er"
      },
      "outputs": [],
      "source": [
        "#Code task 15#\n",
        "#Use the pd.melt function, pass in the ski_data columns 'state', 'AdultWeekday', and 'AdultWeekend' only,\n",
        "#specify 'state' for `id_vars`\n",
        "#gather the ticket prices from the 'AdultWeekday' and 'AdultWeekend' columns using the `value_vars` argument,\n",
        "#call the resultant price column 'Price' via the `value_name` argument,\n",
        "#name the weekday/weekend indicator column 'Ticket' via the `var_name` argument\n",
        "ticket_prices = pd.melt(ski_data[['state', 'AdultWeekday', 'AdultWeekend']], \n",
        "                        id_vars='state', \n",
        "                        var_name=\"Ticket\", \n",
        "                        value_vars=['AdultWeekday', 'AdultWeekend'], \n",
        "                        value_name=\"Price\") "
      ]
    },
    {
      "cell_type": "code",
      "execution_count": 25,
      "metadata": {
        "id": "9Jad50JW71er",
        "outputId": "e8a1cf6c-d810-498f-ce01-42d6e968b799",
        "colab": {
          "base_uri": "https://localhost:8080/",
          "height": 206
        }
      },
      "outputs": [
        {
          "output_type": "execute_result",
          "data": {
            "text/plain": [
              "     state        Ticket  Price\n",
              "0   Alaska  AdultWeekday   65.0\n",
              "1   Alaska  AdultWeekday   47.0\n",
              "2   Alaska  AdultWeekday   30.0\n",
              "3  Arizona  AdultWeekday   89.0\n",
              "4  Arizona  AdultWeekday   74.0"
            ],
            "text/html": [
              "\n",
              "  <div id=\"df-c6c80bc8-e091-4793-bae7-de60257d81c2\">\n",
              "    <div class=\"colab-df-container\">\n",
              "      <div>\n",
              "<style scoped>\n",
              "    .dataframe tbody tr th:only-of-type {\n",
              "        vertical-align: middle;\n",
              "    }\n",
              "\n",
              "    .dataframe tbody tr th {\n",
              "        vertical-align: top;\n",
              "    }\n",
              "\n",
              "    .dataframe thead th {\n",
              "        text-align: right;\n",
              "    }\n",
              "</style>\n",
              "<table border=\"1\" class=\"dataframe\">\n",
              "  <thead>\n",
              "    <tr style=\"text-align: right;\">\n",
              "      <th></th>\n",
              "      <th>state</th>\n",
              "      <th>Ticket</th>\n",
              "      <th>Price</th>\n",
              "    </tr>\n",
              "  </thead>\n",
              "  <tbody>\n",
              "    <tr>\n",
              "      <th>0</th>\n",
              "      <td>Alaska</td>\n",
              "      <td>AdultWeekday</td>\n",
              "      <td>65.0</td>\n",
              "    </tr>\n",
              "    <tr>\n",
              "      <th>1</th>\n",
              "      <td>Alaska</td>\n",
              "      <td>AdultWeekday</td>\n",
              "      <td>47.0</td>\n",
              "    </tr>\n",
              "    <tr>\n",
              "      <th>2</th>\n",
              "      <td>Alaska</td>\n",
              "      <td>AdultWeekday</td>\n",
              "      <td>30.0</td>\n",
              "    </tr>\n",
              "    <tr>\n",
              "      <th>3</th>\n",
              "      <td>Arizona</td>\n",
              "      <td>AdultWeekday</td>\n",
              "      <td>89.0</td>\n",
              "    </tr>\n",
              "    <tr>\n",
              "      <th>4</th>\n",
              "      <td>Arizona</td>\n",
              "      <td>AdultWeekday</td>\n",
              "      <td>74.0</td>\n",
              "    </tr>\n",
              "  </tbody>\n",
              "</table>\n",
              "</div>\n",
              "      <button class=\"colab-df-convert\" onclick=\"convertToInteractive('df-c6c80bc8-e091-4793-bae7-de60257d81c2')\"\n",
              "              title=\"Convert this dataframe to an interactive table.\"\n",
              "              style=\"display:none;\">\n",
              "        \n",
              "  <svg xmlns=\"http://www.w3.org/2000/svg\" height=\"24px\"viewBox=\"0 0 24 24\"\n",
              "       width=\"24px\">\n",
              "    <path d=\"M0 0h24v24H0V0z\" fill=\"none\"/>\n",
              "    <path d=\"M18.56 5.44l.94 2.06.94-2.06 2.06-.94-2.06-.94-.94-2.06-.94 2.06-2.06.94zm-11 1L8.5 8.5l.94-2.06 2.06-.94-2.06-.94L8.5 2.5l-.94 2.06-2.06.94zm10 10l.94 2.06.94-2.06 2.06-.94-2.06-.94-.94-2.06-.94 2.06-2.06.94z\"/><path d=\"M17.41 7.96l-1.37-1.37c-.4-.4-.92-.59-1.43-.59-.52 0-1.04.2-1.43.59L10.3 9.45l-7.72 7.72c-.78.78-.78 2.05 0 2.83L4 21.41c.39.39.9.59 1.41.59.51 0 1.02-.2 1.41-.59l7.78-7.78 2.81-2.81c.8-.78.8-2.07 0-2.86zM5.41 20L4 18.59l7.72-7.72 1.47 1.35L5.41 20z\"/>\n",
              "  </svg>\n",
              "      </button>\n",
              "      \n",
              "  <style>\n",
              "    .colab-df-container {\n",
              "      display:flex;\n",
              "      flex-wrap:wrap;\n",
              "      gap: 12px;\n",
              "    }\n",
              "\n",
              "    .colab-df-convert {\n",
              "      background-color: #E8F0FE;\n",
              "      border: none;\n",
              "      border-radius: 50%;\n",
              "      cursor: pointer;\n",
              "      display: none;\n",
              "      fill: #1967D2;\n",
              "      height: 32px;\n",
              "      padding: 0 0 0 0;\n",
              "      width: 32px;\n",
              "    }\n",
              "\n",
              "    .colab-df-convert:hover {\n",
              "      background-color: #E2EBFA;\n",
              "      box-shadow: 0px 1px 2px rgba(60, 64, 67, 0.3), 0px 1px 3px 1px rgba(60, 64, 67, 0.15);\n",
              "      fill: #174EA6;\n",
              "    }\n",
              "\n",
              "    [theme=dark] .colab-df-convert {\n",
              "      background-color: #3B4455;\n",
              "      fill: #D2E3FC;\n",
              "    }\n",
              "\n",
              "    [theme=dark] .colab-df-convert:hover {\n",
              "      background-color: #434B5C;\n",
              "      box-shadow: 0px 1px 3px 1px rgba(0, 0, 0, 0.15);\n",
              "      filter: drop-shadow(0px 1px 2px rgba(0, 0, 0, 0.3));\n",
              "      fill: #FFFFFF;\n",
              "    }\n",
              "  </style>\n",
              "\n",
              "      <script>\n",
              "        const buttonEl =\n",
              "          document.querySelector('#df-c6c80bc8-e091-4793-bae7-de60257d81c2 button.colab-df-convert');\n",
              "        buttonEl.style.display =\n",
              "          google.colab.kernel.accessAllowed ? 'block' : 'none';\n",
              "\n",
              "        async function convertToInteractive(key) {\n",
              "          const element = document.querySelector('#df-c6c80bc8-e091-4793-bae7-de60257d81c2');\n",
              "          const dataTable =\n",
              "            await google.colab.kernel.invokeFunction('convertToInteractive',\n",
              "                                                     [key], {});\n",
              "          if (!dataTable) return;\n",
              "\n",
              "          const docLinkHtml = 'Like what you see? Visit the ' +\n",
              "            '<a target=\"_blank\" href=https://colab.research.google.com/notebooks/data_table.ipynb>data table notebook</a>'\n",
              "            + ' to learn more about interactive tables.';\n",
              "          element.innerHTML = '';\n",
              "          dataTable['output_type'] = 'display_data';\n",
              "          await google.colab.output.renderOutput(dataTable, element);\n",
              "          const docLink = document.createElement('div');\n",
              "          docLink.innerHTML = docLinkHtml;\n",
              "          element.appendChild(docLink);\n",
              "        }\n",
              "      </script>\n",
              "    </div>\n",
              "  </div>\n",
              "  "
            ]
          },
          "metadata": {},
          "execution_count": 25
        }
      ],
      "source": [
        "ticket_prices.head()"
      ]
    },
    {
      "cell_type": "markdown",
      "metadata": {
        "id": "gnhzmqaO71er"
      },
      "source": [
        "This is now in a format we can pass to [seaborn](https://seaborn.pydata.org/)'s [boxplot](https://seaborn.pydata.org/generated/seaborn.boxplot.html) function to create boxplots of the ticket price distributions for each ticket type for each state."
      ]
    },
    {
      "cell_type": "code",
      "execution_count": 26,
      "metadata": {
        "id": "IiMX-N9r71es",
        "colab": {
          "base_uri": "https://localhost:8080/",
          "height": 792
        },
        "outputId": "be734e5c-e990-4b88-8d68-bae941077451"
      },
      "outputs": [
        {
          "output_type": "display_data",
          "data": {
            "text/plain": [
              "<Figure size 1200x800 with 1 Axes>"
            ],
            "image/png": "[encoded data removed]"
          },
          "metadata": {}
        }
      ],
      "source": [
        "#Code task 16#\n",
        "#Create a seaborn boxplot of the ticket price dataframe we created above,\n",
        "#with 'state' on the x-axis, 'Price' as the y-value, and a hue that indicates 'Ticket'\n",
        "#This will use boxplot's x, y, hue, and data arguments.\n",
        "plt.subplots(figsize=(12, 8))\n",
        "sns.boxplot(x='state', y='Price', hue='Ticket', data=ticket_prices)\n",
        "plt.xticks(rotation='vertical')\n",
        "plt.ylabel('Price ($)')\n",
        "plt.xlabel('State');"
      ]
    },
    {
      "cell_type": "markdown",
      "metadata": {
        "id": "Rh5UMGx671es"
      },
      "source": [
        "Aside from some relatively expensive ticket prices in California, Colorado, and Utah, most prices appear to lie in a broad band from around 25 to over 100 dollars. Some States show more variability than others. Montana and South Dakota, for example, both show fairly small variability as well as matching weekend and weekday ticket prices. Nevada and Utah, on the other hand, show the most range in prices. Some States, notably North Carolina and Virginia, have weekend prices far higher than weekday prices. You could be inspired from this exploration to consider a few potential groupings of resorts, those with low spread, those with lower averages, and those that charge a premium for weekend tickets. However, you're told that you are taking all resorts to be part of the same market share, you  could argue against further segment the resorts. Nevertheless, ways to consider using the State information in your modelling include:\n",
        "\n",
        "* disregard State completely\n",
        "* retain all State information\n",
        "* retain State in the form of Montana vs not Montana, as our target resort is in Montana\n",
        "\n",
        "You've also noted another effect above: some States show a marked difference between weekday and weekend ticket prices. It may make sense to allow a model to take into account not just State but also weekend vs weekday."
      ]
    },
    {
      "cell_type": "markdown",
      "metadata": {
        "id": "8bzddDmQ71es"
      },
      "source": [
        "Thus we currently have two main questions you want to resolve:\n",
        "\n",
        "* What do you do about the two types of ticket price?\n",
        "* What do you do about the state information?"
      ]
    },
    {
      "cell_type": "markdown",
      "metadata": {
        "id": "JSKcmWrs71et"
      },
      "source": [
        "### 2.6.4 Numeric Features<a id='2.6.4_Numeric_Features'></a>"
      ]
    },
    {
      "cell_type": "markdown",
      "source": [
        "Having decided to reserve judgement on how exactly you utilize the State, turn your attention to cleaning the numeric features."
      ],
      "metadata": {
        "id": "2TD4Ib4J71et"
      }
    },
    {
      "cell_type": "markdown",
      "metadata": {
        "id": "SxzN6o7b71et"
      },
      "source": [
        "#### 2.6.4.1 Numeric data summary<a id='2.6.4.1_Numeric_data_summary'></a>"
      ]
    },
    {
      "cell_type": "code",
      "execution_count": 27,
      "metadata": {
        "id": "RUb7GScp71eu",
        "colab": {
          "base_uri": "https://localhost:8080/",
          "height": 802
        },
        "outputId": "92379415-ed6e-4726-e5b9-91e1087e4e10"
      },
      "outputs": [
        {
          "output_type": "execute_result",
          "data": {
            "text/plain": [
              "                   count         mean          std    min      25%     50%  \\\n",
              "summit_elev        330.0  4591.818182  3735.535934  315.0  1403.75  3127.5   \n",
              "vertical_drop      330.0  1215.427273   947.864557   60.0   461.25   964.5   \n",
              "base_elev          330.0  3374.000000  3117.121621   70.0   869.00  1561.5   \n",
              "trams              330.0     0.172727     0.559946    0.0     0.00     0.0   \n",
              "fastEight          164.0     0.006098     0.078087    0.0     0.00     0.0   \n",
              "fastSixes          330.0     0.184848     0.651685    0.0     0.00     0.0   \n",
              "fastQuads          330.0     1.018182     2.198294    0.0     0.00     0.0   \n",
              "quad               330.0     0.933333     1.312245    0.0     0.00     0.0   \n",
              "triple             330.0     1.500000     1.619130    0.0     0.00     1.0   \n",
              "double             330.0     1.833333     1.815028    0.0     1.00     1.0   \n",
              "surface            330.0     2.621212     2.059636    0.0     1.00     2.0   \n",
              "total_chairs       330.0     8.266667     5.798683    0.0     5.00     7.0   \n",
              "Runs               326.0    48.214724    46.364077    3.0    19.00    33.0   \n",
              "TerrainParks       279.0     2.820789     2.008113    1.0     1.00     2.0   \n",
              "LongestRun_mi      325.0     1.433231     1.156171    0.0     0.50     1.0   \n",
              "SkiableTerrain_ac  327.0   739.801223  1816.167441    8.0    85.00   200.0   \n",
              "Snow Making_ac     284.0   174.873239   261.336125    2.0    50.00   100.0   \n",
              "daysOpenLastYear   279.0   115.103943    35.063251    3.0    97.00   114.0   \n",
              "yearsOpen          329.0    63.656535   109.429928    6.0    50.00    58.0   \n",
              "averageSnowfall    316.0   185.316456   136.356842   18.0    69.00   150.0   \n",
              "AdultWeekday       276.0    57.916957    26.140126   15.0    40.00    50.0   \n",
              "AdultWeekend       279.0    64.166810    24.554584   17.0    47.00    60.0   \n",
              "projectedDaysOpen  283.0   120.053004    31.045963   30.0   100.00   120.0   \n",
              "NightSkiing_ac     187.0   100.395722   105.169620    2.0    40.00    72.0   \n",
              "\n",
              "                       75%      max  \n",
              "summit_elev        7806.00  13487.0  \n",
              "vertical_drop      1800.00   4425.0  \n",
              "base_elev          6325.25  10800.0  \n",
              "trams                 0.00      4.0  \n",
              "fastEight             0.00      1.0  \n",
              "fastSixes             0.00      6.0  \n",
              "fastQuads             1.00     15.0  \n",
              "quad                  1.00      8.0  \n",
              "triple                2.00      8.0  \n",
              "double                3.00     14.0  \n",
              "surface               3.00     15.0  \n",
              "total_chairs         10.00     41.0  \n",
              "Runs                 60.00    341.0  \n",
              "TerrainParks          4.00     14.0  \n",
              "LongestRun_mi         2.00      6.0  \n",
              "SkiableTerrain_ac   690.00  26819.0  \n",
              "Snow Making_ac      200.50   3379.0  \n",
              "daysOpenLastYear    135.00    305.0  \n",
              "yearsOpen            69.00   2019.0  \n",
              "averageSnowfall     300.00    669.0  \n",
              "AdultWeekday         71.00    179.0  \n",
              "AdultWeekend         77.50    179.0  \n",
              "projectedDaysOpen   139.50    305.0  \n",
              "NightSkiing_ac      114.00    650.0  "
            ],
            "text/html": [
              "\n",
              "  <div id=\"df-b1a8f255-0831-4644-9d0f-16742abfd30e\">\n",
              "    <div class=\"colab-df-container\">\n",
              "      <div>\n",
              "<style scoped>\n",
              "    .dataframe tbody tr th:only-of-type {\n",
              "        vertical-align: middle;\n",
              "    }\n",
              "\n",
              "    .dataframe tbody tr th {\n",
              "        vertical-align: top;\n",
              "    }\n",
              "\n",
              "    .dataframe thead th {\n",
              "        text-align: right;\n",
              "    }\n",
              "</style>\n",
              "<table border=\"1\" class=\"dataframe\">\n",
              "  <thead>\n",
              "    <tr style=\"text-align: right;\">\n",
              "      <th></th>\n",
              "      <th>count</th>\n",
              "      <th>mean</th>\n",
              "      <th>std</th>\n",
              "      <th>min</th>\n",
              "      <th>25%</th>\n",
              "      <th>50%</th>\n",
              "      <th>75%</th>\n",
              "      <th>max</th>\n",
              "    </tr>\n",
              "  </thead>\n",
              "  <tbody>\n",
              "    <tr>\n",
              "      <th>summit_elev</th>\n",
              "      <td>330.0</td>\n",
              "      <td>4591.818182</td>\n",
              "      <td>3735.535934</td>\n",
              "      <td>315.0</td>\n",
              "      <td>1403.75</td>\n",
              "      <td>3127.5</td>\n",
              "      <td>7806.00</td>\n",
              "      <td>13487.0</td>\n",
              "    </tr>\n",
              "    <tr>\n",
              "      <th>vertical_drop</th>\n",
              "      <td>330.0</td>\n",
              "      <td>1215.427273</td>\n",
              "      <td>947.864557</td>\n",
              "      <td>60.0</td>\n",
              "      <td>461.25</td>\n",
              "      <td>964.5</td>\n",
              "      <td>1800.00</td>\n",
              "      <td>4425.0</td>\n",
              "    </tr>\n",
              "    <tr>\n",
              "      <th>base_elev</th>\n",
              "      <td>330.0</td>\n",
              "      <td>3374.000000</td>\n",
              "      <td>3117.121621</td>\n",
              "      <td>70.0</td>\n",
              "      <td>869.00</td>\n",
              "      <td>1561.5</td>\n",
              "      <td>6325.25</td>\n",
              "      <td>10800.0</td>\n",
              "    </tr>\n",
              "    <tr>\n",
              "      <th>trams</th>\n",
              "      <td>330.0</td>\n",
              "      <td>0.172727</td>\n",
              "      <td>0.559946</td>\n",
              "      <td>0.0</td>\n",
              "      <td>0.00</td>\n",
              "      <td>0.0</td>\n",
              "      <td>0.00</td>\n",
              "      <td>4.0</td>\n",
              "    </tr>\n",
              "    <tr>\n",
              "      <th>fastEight</th>\n",
              "      <td>164.0</td>\n",
              "      <td>0.006098</td>\n",
              "      <td>0.078087</td>\n",
              "      <td>0.0</td>\n",
              "      <td>0.00</td>\n",
              "      <td>0.0</td>\n",
              "      <td>0.00</td>\n",
              "      <td>1.0</td>\n",
              "    </tr>\n",
              "    <tr>\n",
              "      <th>fastSixes</th>\n",
              "      <td>330.0</td>\n",
              "      <td>0.184848</td>\n",
              "      <td>0.651685</td>\n",
              "      <td>0.0</td>\n",
              "      <td>0.00</td>\n",
              "      <td>0.0</td>\n",
              "      <td>0.00</td>\n",
              "      <td>6.0</td>\n",
              "    </tr>\n",
              "    <tr>\n",
              "      <th>fastQuads</th>\n",
              "      <td>330.0</td>\n",
              "      <td>1.018182</td>\n",
              "      <td>2.198294</td>\n",
              "      <td>0.0</td>\n",
              "      <td>0.00</td>\n",
              "      <td>0.0</td>\n",
              "      <td>1.00</td>\n",
              "      <td>15.0</td>\n",
              "    </tr>\n",
              "    <tr>\n",
              "      <th>quad</th>\n",
              "      <td>330.0</td>\n",
              "      <td>0.933333</td>\n",
              "      <td>1.312245</td>\n",
              "      <td>0.0</td>\n",
              "      <td>0.00</td>\n",
              "      <td>0.0</td>\n",
              "      <td>1.00</td>\n",
              "      <td>8.0</td>\n",
              "    </tr>\n",
              "    <tr>\n",
              "      <th>triple</th>\n",
              "      <td>330.0</td>\n",
              "      <td>1.500000</td>\n",
              "      <td>1.619130</td>\n",
              "      <td>0.0</td>\n",
              "      <td>0.00</td>\n",
              "      <td>1.0</td>\n",
              "      <td>2.00</td>\n",
              "      <td>8.0</td>\n",
              "    </tr>\n",
              "    <tr>\n",
              "      <th>double</th>\n",
              "      <td>330.0</td>\n",
              "      <td>1.833333</td>\n",
              "      <td>1.815028</td>\n",
              "      <td>0.0</td>\n",
              "      <td>1.00</td>\n",
              "      <td>1.0</td>\n",
              "      <td>3.00</td>\n",
              "      <td>14.0</td>\n",
              "    </tr>\n",
              "    <tr>\n",
              "      <th>surface</th>\n",
              "      <td>330.0</td>\n",
              "      <td>2.621212</td>\n",
              "      <td>2.059636</td>\n",
              "      <td>0.0</td>\n",
              "      <td>1.00</td>\n",
              "      <td>2.0</td>\n",
              "      <td>3.00</td>\n",
              "      <td>15.0</td>\n",
              "    </tr>\n",
              "    <tr>\n",
              "      <th>total_chairs</th>\n",
              "      <td>330.0</td>\n",
              "      <td>8.266667</td>\n",
              "      <td>5.798683</td>\n",
              "      <td>0.0</td>\n",
              "      <td>5.00</td>\n",
              "      <td>7.0</td>\n",
              "      <td>10.00</td>\n",
              "      <td>41.0</td>\n",
              "    </tr>\n",
              "    <tr>\n",
              "      <th>Runs</th>\n",
              "      <td>326.0</td>\n",
              "      <td>48.214724</td>\n",
              "      <td>46.364077</td>\n",
              "      <td>3.0</td>\n",
              "      <td>19.00</td>\n",
              "      <td>33.0</td>\n",
              "      <td>60.00</td>\n",
              "      <td>341.0</td>\n",
              "    </tr>\n",
              "    <tr>\n",
              "      <th>TerrainParks</th>\n",
              "      <td>279.0</td>\n",
              "      <td>2.820789</td>\n",
              "      <td>2.008113</td>\n",
              "      <td>1.0</td>\n",
              "      <td>1.00</td>\n",
              "      <td>2.0</td>\n",
              "      <td>4.00</td>\n",
              "      <td>14.0</td>\n",
              "    </tr>\n",
              "    <tr>\n",
              "      <th>LongestRun_mi</th>\n",
              "      <td>325.0</td>\n",
              "      <td>1.433231</td>\n",
              "      <td>1.156171</td>\n",
              "      <td>0.0</td>\n",
              "      <td>0.50</td>\n",
              "      <td>1.0</td>\n",
              "      <td>2.00</td>\n",
              "      <td>6.0</td>\n",
              "    </tr>\n",
              "    <tr>\n",
              "      <th>SkiableTerrain_ac</th>\n",
              "      <td>327.0</td>\n",
              "      <td>739.801223</td>\n",
              "      <td>1816.167441</td>\n",
              "      <td>8.0</td>\n",
              "      <td>85.00</td>\n",
              "      <td>200.0</td>\n",
              "      <td>690.00</td>\n",
              "      <td>26819.0</td>\n",
              "    </tr>\n",
              "    <tr>\n",
              "      <th>Snow Making_ac</th>\n",
              "      <td>284.0</td>\n",
              "      <td>174.873239</td>\n",
              "      <td>261.336125</td>\n",
              "      <td>2.0</td>\n",
              "      <td>50.00</td>\n",
              "      <td>100.0</td>\n",
              "      <td>200.50</td>\n",
              "      <td>3379.0</td>\n",
              "    </tr>\n",
              "    <tr>\n",
              "      <th>daysOpenLastYear</th>\n",
              "      <td>279.0</td>\n",
              "      <td>115.103943</td>\n",
              "      <td>35.063251</td>\n",
              "      <td>3.0</td>\n",
              "      <td>97.00</td>\n",
              "      <td>114.0</td>\n",
              "      <td>135.00</td>\n",
              "      <td>305.0</td>\n",
              "    </tr>\n",
              "    <tr>\n",
              "      <th>yearsOpen</th>\n",
              "      <td>329.0</td>\n",
              "      <td>63.656535</td>\n",
              "      <td>109.429928</td>\n",
              "      <td>6.0</td>\n",
              "      <td>50.00</td>\n",
              "      <td>58.0</td>\n",
              "      <td>69.00</td>\n",
              "      <td>2019.0</td>\n",
              "    </tr>\n",
              "    <tr>\n",
              "      <th>averageSnowfall</th>\n",
              "      <td>316.0</td>\n",
              "      <td>185.316456</td>\n",
              "      <td>136.356842</td>\n",
              "      <td>18.0</td>\n",
              "      <td>69.00</td>\n",
              "      <td>150.0</td>\n",
              "      <td>300.00</td>\n",
              "      <td>669.0</td>\n",
              "    </tr>\n",
              "    <tr>\n",
              "      <th>AdultWeekday</th>\n",
              "      <td>276.0</td>\n",
              "      <td>57.916957</td>\n",
              "      <td>26.140126</td>\n",
              "      <td>15.0</td>\n",
              "      <td>40.00</td>\n",
              "      <td>50.0</td>\n",
              "      <td>71.00</td>\n",
              "      <td>179.0</td>\n",
              "    </tr>\n",
              "    <tr>\n",
              "      <th>AdultWeekend</th>\n",
              "      <td>279.0</td>\n",
              "      <td>64.166810</td>\n",
              "      <td>24.554584</td>\n",
              "      <td>17.0</td>\n",
              "      <td>47.00</td>\n",
              "      <td>60.0</td>\n",
              "      <td>77.50</td>\n",
              "      <td>179.0</td>\n",
              "    </tr>\n",
              "    <tr>\n",
              "      <th>projectedDaysOpen</th>\n",
              "      <td>283.0</td>\n",
              "      <td>120.053004</td>\n",
              "      <td>31.045963</td>\n",
              "      <td>30.0</td>\n",
              "      <td>100.00</td>\n",
              "      <td>120.0</td>\n",
              "      <td>139.50</td>\n",
              "      <td>305.0</td>\n",
              "    </tr>\n",
              "    <tr>\n",
              "      <th>NightSkiing_ac</th>\n",
              "      <td>187.0</td>\n",
              "      <td>100.395722</td>\n",
              "      <td>105.169620</td>\n",
              "      <td>2.0</td>\n",
              "      <td>40.00</td>\n",
              "      <td>72.0</td>\n",
              "      <td>114.00</td>\n",
              "      <td>650.0</td>\n",
              "    </tr>\n",
              "  </tbody>\n",
              "</table>\n",
              "</div>\n",
              "      <button class=\"colab-df-convert\" onclick=\"convertToInteractive('df-b1a8f255-0831-4644-9d0f-16742abfd30e')\"\n",
              "              title=\"Convert this dataframe to an interactive table.\"\n",
              "              style=\"display:none;\">\n",
              "        \n",
              "  <svg xmlns=\"http://www.w3.org/2000/svg\" height=\"24px\"viewBox=\"0 0 24 24\"\n",
              "       width=\"24px\">\n",
              "    <path d=\"M0 0h24v24H0V0z\" fill=\"none\"/>\n",
              "    <path d=\"M18.56 5.44l.94 2.06.94-2.06 2.06-.94-2.06-.94-.94-2.06-.94 2.06-2.06.94zm-11 1L8.5 8.5l.94-2.06 2.06-.94-2.06-.94L8.5 2.5l-.94 2.06-2.06.94zm10 10l.94 2.06.94-2.06 2.06-.94-2.06-.94-.94-2.06-.94 2.06-2.06.94z\"/><path d=\"M17.41 7.96l-1.37-1.37c-.4-.4-.92-.59-1.43-.59-.52 0-1.04.2-1.43.59L10.3 9.45l-7.72 7.72c-.78.78-.78 2.05 0 2.83L4 21.41c.39.39.9.59 1.41.59.51 0 1.02-.2 1.41-.59l7.78-7.78 2.81-2.81c.8-.78.8-2.07 0-2.86zM5.41 20L4 18.59l7.72-7.72 1.47 1.35L5.41 20z\"/>\n",
              "  </svg>\n",
              "      </button>\n",
              "      \n",
              "  <style>\n",
              "    .colab-df-container {\n",
              "      display:flex;\n",
              "      flex-wrap:wrap;\n",
              "      gap: 12px;\n",
              "    }\n",
              "\n",
              "    .colab-df-convert {\n",
              "      background-color: #E8F0FE;\n",
              "      border: none;\n",
              "      border-radius: 50%;\n",
              "      cursor: pointer;\n",
              "      display: none;\n",
              "      fill: #1967D2;\n",
              "      height: 32px;\n",
              "      padding: 0 0 0 0;\n",
              "      width: 32px;\n",
              "    }\n",
              "\n",
              "    .colab-df-convert:hover {\n",
              "      background-color: #E2EBFA;\n",
              "      box-shadow: 0px 1px 2px rgba(60, 64, 67, 0.3), 0px 1px 3px 1px rgba(60, 64, 67, 0.15);\n",
              "      fill: #174EA6;\n",
              "    }\n",
              "\n",
              "    [theme=dark] .colab-df-convert {\n",
              "      background-color: #3B4455;\n",
              "      fill: #D2E3FC;\n",
              "    }\n",
              "\n",
              "    [theme=dark] .colab-df-convert:hover {\n",
              "      background-color: #434B5C;\n",
              "      box-shadow: 0px 1px 3px 1px rgba(0, 0, 0, 0.15);\n",
              "      filter: drop-shadow(0px 1px 2px rgba(0, 0, 0, 0.3));\n",
              "      fill: #FFFFFF;\n",
              "    }\n",
              "  </style>\n",
              "\n",
              "      <script>\n",
              "        const buttonEl =\n",
              "          document.querySelector('#df-b1a8f255-0831-4644-9d0f-16742abfd30e button.colab-df-convert');\n",
              "        buttonEl.style.display =\n",
              "          google.colab.kernel.accessAllowed ? 'block' : 'none';\n",
              "\n",
              "        async function convertToInteractive(key) {\n",
              "          const element = document.querySelector('#df-b1a8f255-0831-4644-9d0f-16742abfd30e');\n",
              "          const dataTable =\n",
              "            await google.colab.kernel.invokeFunction('convertToInteractive',\n",
              "                                                     [key], {});\n",
              "          if (!dataTable) return;\n",
              "\n",
              "          const docLinkHtml = 'Like what you see? Visit the ' +\n",
              "            '<a target=\"_blank\" href=https://colab.research.google.com/notebooks/data_table.ipynb>data table notebook</a>'\n",
              "            + ' to learn more about interactive tables.';\n",
              "          element.innerHTML = '';\n",
              "          dataTable['output_type'] = 'display_data';\n",
              "          await google.colab.output.renderOutput(dataTable, element);\n",
              "          const docLink = document.createElement('div');\n",
              "          docLink.innerHTML = docLinkHtml;\n",
              "          element.appendChild(docLink);\n",
              "        }\n",
              "      </script>\n",
              "    </div>\n",
              "  </div>\n",
              "  "
            ]
          },
          "metadata": {},
          "execution_count": 27
        }
      ],
      "source": [
        "#Code task 17#\n",
        "#Call ski_data's `describe` method for a statistical summary of the numerical columns\n",
        "#Hint: there are fewer summary stat columns than features, so displaying the transpose\n",
        "#will be useful again\n",
        "ski_data.describe().T"
      ]
    },
    {
      "cell_type": "markdown",
      "metadata": {
        "id": "4P98CkG971eu"
      },
      "source": [
        "Recall you're missing the ticket prices for some 16% of resorts. This is a fundamental problem that means you simply lack the required data for those resorts and will have to drop those records. But you may have a weekend price and not a weekday price, or vice versa. You want to keep any price you have."
      ]
    },
    {
      "cell_type": "code",
      "execution_count": null,
      "metadata": {
        "id": "6UPt7J7Q71eu",
        "outputId": "3c1c72ca-9f08-466f-feba-358967392562"
      },
      "outputs": [
        {
          "data": {
            "text/plain": [
              "0    82.424242\n",
              "2    14.242424\n",
              "1     3.333333\n",
              "dtype: float64"
            ]
          },
          "execution_count": 23,
          "metadata": {},
          "output_type": "execute_result"
        }
      ],
      "source": [
        "missing_price = ski_data[['AdultWeekend', 'AdultWeekday']].isnull().sum(axis=1)\n",
        "missing_price.value_counts()/len(missing_price) * 100"
      ]
    },
    {
      "cell_type": "markdown",
      "metadata": {
        "id": "VdBEJ2dl71ev"
      },
      "source": [
        "Just over 82% of resorts have no missing ticket price, 3% are missing one value, and 14% are missing both. You will definitely want to drop the records for which you have no price information, however you will not do so just yet. There may still be useful information about the distributions of other features in that 14% of the data."
      ]
    },
    {
      "cell_type": "markdown",
      "metadata": {
        "id": "wRlnTrG971ev"
      },
      "source": [
        "#### 2.6.4.2 Distributions Of Feature Values<a id='2.6.4.2_Distributions_Of_Feature_Values'></a>"
      ]
    },
    {
      "cell_type": "markdown",
      "metadata": {
        "id": "ZkcMGFYE71ew"
      },
      "source": [
        "Note that, although we are still in the 'data wrangling and cleaning' phase rather than exploratory data analysis, looking at distributions of features is immensely useful in getting a feel for whether the values look sensible and whether there are any obvious outliers to investigate. Some exploratory data analysis belongs here, and data wrangling will inevitably occur later on. It's more a matter of emphasis. Here, we're interesting in focusing on whether distributions look plausible or wrong. Later on, we're more interested in relationships and patterns."
      ]
    },
    {
      "cell_type": "code",
      "execution_count": 28,
      "metadata": {
        "id": "hA-hrEG071ew",
        "colab": {
          "base_uri": "https://localhost:8080/",
          "height": 773
        },
        "outputId": "d71793a6-bf66-4433-fbed-bfafaf88d57f"
      },
      "outputs": [
        {
          "output_type": "display_data",
          "data": {
            "text/plain": [
              "<Figure size 1500x1000 with 25 Axes>"
            ],
            "image/png": "[encoded data removed]"
          },
          "metadata": {}
        }
      ],
      "source": [
        "#Code task 18#\n",
        "#Call ski_data's `hist` method to plot histograms of each of the numeric features\n",
        "#Try passing it an argument figsize=(15,10)\n",
        "#Try calling plt.subplots_adjust() with an argument hspace=0.5 to adjust the spacing\n",
        "#It's important you create legible and easy-to-read plots\n",
        "ski_data.hist(figsize=(15,10))\n",
        "plt.subplots_adjust(hspace=0.5);\n",
        "#Hint: notice how the terminating ';' \"swallows\" some messy output and leads to a tidier notebook"
      ]
    },
    {
      "cell_type": "markdown",
      "metadata": {
        "id": "HIWBoMj471ew"
      },
      "source": [
        "What features do we have possible cause for concern about and why?\n",
        "\n",
        "* SkiableTerrain_ac because values are clustered down the low end,\n",
        "* Snow Making_ac for the same reason,\n",
        "* fastEight because all but one value is 0 so it has very little variance, and half the values are missing,\n",
        "* fastSixes raises an amber flag; it has more variability, but still mostly 0,\n",
        "* trams also may get an amber flag for the same reason,\n",
        "* yearsOpen because most values are low but it has a maximum of 2019, which strongly suggests someone recorded calendar year rather than number of years."
      ]
    },
    {
      "cell_type": "markdown",
      "metadata": {
        "id": "qw5uL0s-71ex"
      },
      "source": [
        "##### 2.6.4.2.1 SkiableTerrain_ac<a id='2.6.4.2.1_SkiableTerrain_ac'></a>"
      ]
    },
    {
      "cell_type": "code",
      "execution_count": 29,
      "metadata": {
        "id": "5Qlme3Fj71ex",
        "colab": {
          "base_uri": "https://localhost:8080/"
        },
        "outputId": "6b25afa7-6c41-4bf3-8a9d-95480081b30f"
      },
      "outputs": [
        {
          "output_type": "execute_result",
          "data": {
            "text/plain": [
              "39    26819.0\n",
              "Name: SkiableTerrain_ac, dtype: float64"
            ]
          },
          "metadata": {},
          "execution_count": 29
        }
      ],
      "source": [
        "#Code task 19#\n",
        "#Filter the 'SkiableTerrain_ac' column to print the values greater than 10000\n",
        "ski_data.SkiableTerrain_ac[ski_data.SkiableTerrain_ac > 10000]"
      ]
    },
    {
      "cell_type": "markdown",
      "metadata": {
        "id": "UD1Q5Kaz71ex"
      },
      "source": [
        "**Q: 2** One resort has an incredibly large skiable terrain area! Which is it?"
      ]
    },
    {
      "cell_type": "code",
      "execution_count": 30,
      "metadata": {
        "id": "PQJmO_DE71ey",
        "colab": {
          "base_uri": "https://localhost:8080/",
          "height": 896
        },
        "outputId": "21af7dfb-ab11-47b5-9afc-5df0810c46a7"
      },
      "outputs": [
        {
          "output_type": "execute_result",
          "data": {
            "text/plain": [
              "                                   39\n",
              "Name               Silverton Mountain\n",
              "Region                       Colorado\n",
              "state                        Colorado\n",
              "summit_elev                     13487\n",
              "vertical_drop                    3087\n",
              "base_elev                       10400\n",
              "trams                               0\n",
              "fastEight                         0.0\n",
              "fastSixes                           0\n",
              "fastQuads                           0\n",
              "quad                                0\n",
              "triple                              0\n",
              "double                              1\n",
              "surface                             0\n",
              "total_chairs                        1\n",
              "Runs                              NaN\n",
              "TerrainParks                      NaN\n",
              "LongestRun_mi                     1.5\n",
              "SkiableTerrain_ac             26819.0\n",
              "Snow Making_ac                    NaN\n",
              "daysOpenLastYear                175.0\n",
              "yearsOpen                        17.0\n",
              "averageSnowfall                 400.0\n",
              "AdultWeekday                     79.0\n",
              "AdultWeekend                     79.0\n",
              "projectedDaysOpen               181.0\n",
              "NightSkiing_ac                    NaN"
            ],
            "text/html": [
              "\n",
              "  <div id=\"df-903db64a-a69a-4f31-8e6f-040ff36280dc\">\n",
              "    <div class=\"colab-df-container\">\n",
              "      <div>\n",
              "<style scoped>\n",
              "    .dataframe tbody tr th:only-of-type {\n",
              "        vertical-align: middle;\n",
              "    }\n",
              "\n",
              "    .dataframe tbody tr th {\n",
              "        vertical-align: top;\n",
              "    }\n",
              "\n",
              "    .dataframe thead th {\n",
              "        text-align: right;\n",
              "    }\n",
              "</style>\n",
              "<table border=\"1\" class=\"dataframe\">\n",
              "  <thead>\n",
              "    <tr style=\"text-align: right;\">\n",
              "      <th></th>\n",
              "      <th>39</th>\n",
              "    </tr>\n",
              "  </thead>\n",
              "  <tbody>\n",
              "    <tr>\n",
              "      <th>Name</th>\n",
              "      <td>Silverton Mountain</td>\n",
              "    </tr>\n",
              "    <tr>\n",
              "      <th>Region</th>\n",
              "      <td>Colorado</td>\n",
              "    </tr>\n",
              "    <tr>\n",
              "      <th>state</th>\n",
              "      <td>Colorado</td>\n",
              "    </tr>\n",
              "    <tr>\n",
              "      <th>summit_elev</th>\n",
              "      <td>13487</td>\n",
              "    </tr>\n",
              "    <tr>\n",
              "      <th>vertical_drop</th>\n",
              "      <td>3087</td>\n",
              "    </tr>\n",
              "    <tr>\n",
              "      <th>base_elev</th>\n",
              "      <td>10400</td>\n",
              "    </tr>\n",
              "    <tr>\n",
              "      <th>trams</th>\n",
              "      <td>0</td>\n",
              "    </tr>\n",
              "    <tr>\n",
              "      <th>fastEight</th>\n",
              "      <td>0.0</td>\n",
              "    </tr>\n",
              "    <tr>\n",
              "      <th>fastSixes</th>\n",
              "      <td>0</td>\n",
              "    </tr>\n",
              "    <tr>\n",
              "      <th>fastQuads</th>\n",
              "      <td>0</td>\n",
              "    </tr>\n",
              "    <tr>\n",
              "      <th>quad</th>\n",
              "      <td>0</td>\n",
              "    </tr>\n",
              "    <tr>\n",
              "      <th>triple</th>\n",
              "      <td>0</td>\n",
              "    </tr>\n",
              "    <tr>\n",
              "      <th>double</th>\n",
              "      <td>1</td>\n",
              "    </tr>\n",
              "    <tr>\n",
              "      <th>surface</th>\n",
              "      <td>0</td>\n",
              "    </tr>\n",
              "    <tr>\n",
              "      <th>total_chairs</th>\n",
              "      <td>1</td>\n",
              "    </tr>\n",
              "    <tr>\n",
              "      <th>Runs</th>\n",
              "      <td>NaN</td>\n",
              "    </tr>\n",
              "    <tr>\n",
              "      <th>TerrainParks</th>\n",
              "      <td>NaN</td>\n",
              "    </tr>\n",
              "    <tr>\n",
              "      <th>LongestRun_mi</th>\n",
              "      <td>1.5</td>\n",
              "    </tr>\n",
              "    <tr>\n",
              "      <th>SkiableTerrain_ac</th>\n",
              "      <td>26819.0</td>\n",
              "    </tr>\n",
              "    <tr>\n",
              "      <th>Snow Making_ac</th>\n",
              "      <td>NaN</td>\n",
              "    </tr>\n",
              "    <tr>\n",
              "      <th>daysOpenLastYear</th>\n",
              "      <td>175.0</td>\n",
              "    </tr>\n",
              "    <tr>\n",
              "      <th>yearsOpen</th>\n",
              "      <td>17.0</td>\n",
              "    </tr>\n",
              "    <tr>\n",
              "      <th>averageSnowfall</th>\n",
              "      <td>400.0</td>\n",
              "    </tr>\n",
              "    <tr>\n",
              "      <th>AdultWeekday</th>\n",
              "      <td>79.0</td>\n",
              "    </tr>\n",
              "    <tr>\n",
              "      <th>AdultWeekend</th>\n",
              "      <td>79.0</td>\n",
              "    </tr>\n",
              "    <tr>\n",
              "      <th>projectedDaysOpen</th>\n",
              "      <td>181.0</td>\n",
              "    </tr>\n",
              "    <tr>\n",
              "      <th>NightSkiing_ac</th>\n",
              "      <td>NaN</td>\n",
              "    </tr>\n",
              "  </tbody>\n",
              "</table>\n",
              "</div>\n",
              "      <button class=\"colab-df-convert\" onclick=\"convertToInteractive('df-903db64a-a69a-4f31-8e6f-040ff36280dc')\"\n",
              "              title=\"Convert this dataframe to an interactive table.\"\n",
              "              style=\"display:none;\">\n",
              "        \n",
              "  <svg xmlns=\"http://www.w3.org/2000/svg\" height=\"24px\"viewBox=\"0 0 24 24\"\n",
              "       width=\"24px\">\n",
              "    <path d=\"M0 0h24v24H0V0z\" fill=\"none\"/>\n",
              "    <path d=\"M18.56 5.44l.94 2.06.94-2.06 2.06-.94-2.06-.94-.94-2.06-.94 2.06-2.06.94zm-11 1L8.5 8.5l.94-2.06 2.06-.94-2.06-.94L8.5 2.5l-.94 2.06-2.06.94zm10 10l.94 2.06.94-2.06 2.06-.94-2.06-.94-.94-2.06-.94 2.06-2.06.94z\"/><path d=\"M17.41 7.96l-1.37-1.37c-.4-.4-.92-.59-1.43-.59-.52 0-1.04.2-1.43.59L10.3 9.45l-7.72 7.72c-.78.78-.78 2.05 0 2.83L4 21.41c.39.39.9.59 1.41.59.51 0 1.02-.2 1.41-.59l7.78-7.78 2.81-2.81c.8-.78.8-2.07 0-2.86zM5.41 20L4 18.59l7.72-7.72 1.47 1.35L5.41 20z\"/>\n",
              "  </svg>\n",
              "      </button>\n",
              "      \n",
              "  <style>\n",
              "    .colab-df-container {\n",
              "      display:flex;\n",
              "      flex-wrap:wrap;\n",
              "      gap: 12px;\n",
              "    }\n",
              "\n",
              "    .colab-df-convert {\n",
              "      background-color: #E8F0FE;\n",
              "      border: none;\n",
              "      border-radius: 50%;\n",
              "      cursor: pointer;\n",
              "      display: none;\n",
              "      fill: #1967D2;\n",
              "      height: 32px;\n",
              "      padding: 0 0 0 0;\n",
              "      width: 32px;\n",
              "    }\n",
              "\n",
              "    .colab-df-convert:hover {\n",
              "      background-color: #E2EBFA;\n",
              "      box-shadow: 0px 1px 2px rgba(60, 64, 67, 0.3), 0px 1px 3px 1px rgba(60, 64, 67, 0.15);\n",
              "      fill: #174EA6;\n",
              "    }\n",
              "\n",
              "    [theme=dark] .colab-df-convert {\n",
              "      background-color: #3B4455;\n",
              "      fill: #D2E3FC;\n",
              "    }\n",
              "\n",
              "    [theme=dark] .colab-df-convert:hover {\n",
              "      background-color: #434B5C;\n",
              "      box-shadow: 0px 1px 3px 1px rgba(0, 0, 0, 0.15);\n",
              "      filter: drop-shadow(0px 1px 2px rgba(0, 0, 0, 0.3));\n",
              "      fill: #FFFFFF;\n",
              "    }\n",
              "  </style>\n",
              "\n",
              "      <script>\n",
              "        const buttonEl =\n",
              "          document.querySelector('#df-903db64a-a69a-4f31-8e6f-040ff36280dc button.colab-df-convert');\n",
              "        buttonEl.style.display =\n",
              "          google.colab.kernel.accessAllowed ? 'block' : 'none';\n",
              "\n",
              "        async function convertToInteractive(key) {\n",
              "          const element = document.querySelector('#df-903db64a-a69a-4f31-8e6f-040ff36280dc');\n",
              "          const dataTable =\n",
              "            await google.colab.kernel.invokeFunction('convertToInteractive',\n",
              "                                                     [key], {});\n",
              "          if (!dataTable) return;\n",
              "\n",
              "          const docLinkHtml = 'Like what you see? Visit the ' +\n",
              "            '<a target=\"_blank\" href=https://colab.research.google.com/notebooks/data_table.ipynb>data table notebook</a>'\n",
              "            + ' to learn more about interactive tables.';\n",
              "          element.innerHTML = '';\n",
              "          dataTable['output_type'] = 'display_data';\n",
              "          await google.colab.output.renderOutput(dataTable, element);\n",
              "          const docLink = document.createElement('div');\n",
              "          docLink.innerHTML = docLinkHtml;\n",
              "          element.appendChild(docLink);\n",
              "        }\n",
              "      </script>\n",
              "    </div>\n",
              "  </div>\n",
              "  "
            ]
          },
          "metadata": {},
          "execution_count": 30
        }
      ],
      "source": [
        "#Code task 20#\n",
        "#Now you know there's only one, print the whole row to investigate all values, including seeing the resort name\n",
        "#Hint: don't forget the transpose will be helpful here\n",
        "ski_data[ski_data.SkiableTerrain_ac > 10000].T"
      ]
    },
    {
      "cell_type": "markdown",
      "metadata": {
        "id": "iaJOzRkh71ey"
      },
      "source": [
        "**A: 2** Silverton Mountain in Colorado"
      ]
    },
    {
      "cell_type": "markdown",
      "metadata": {
        "id": "atTl9pL771ey"
      },
      "source": [
        "But what can you do when you have one record that seems highly suspicious?"
      ]
    },
    {
      "cell_type": "markdown",
      "metadata": {
        "id": "2-t5N56M71ez"
      },
      "source": [
        "You can see if your data are correct. Search for \"silverton mountain skiable area\". If you do this, you get some [useful information](https://www.google.com/search?q=silverton+mountain+skiable+area)."
      ]
    },
    {
      "cell_type": "markdown",
      "metadata": {
        "id": "WiJYeaHC71ez"
      },
      "source": [
        "![Silverton Mountain information](images/silverton_mountain_info.png)"
      ]
    },
    {
      "cell_type": "markdown",
      "source": [
        "![silverton_mountain_info.png](data:image/png;base64,iVBORw0KGgoAAAANSUhEUgAAA1QAAAJoCAYAAABhrqA/AAAJbXpUWHRSYXcgcHJvZmlsZSB0eXBlIGV4aWYAAHjapZdtkjOhDYT/c4ocAQTi4ziAoCo3yPHzaGy/u/vWppKq2GWPzcyAkLpbPeH86583/IOX5BJD0dbrqDXyKqMMmfzo8fXy34uPvH/7qRo/rxTH8/28gpaY38M/TtT+3B6T/Bz/HNP8a6LyXj2tnyc+49L/mkheh+wL8DuV90Tjs1Bm+JeV6+gtlq//833jfU+oXNG6xJBFTi58qq+SX5/Jp/L9zM63/1bez7jP7lOwavPQ3xE9t0omQyN9P/EEnt8Z/zaefWI/QZJ+5Ohr7z9P/ClC/jn+KcKfV31mT+G5PH0b/KUi/0tBwm8Vebb1LcHl80t+jps9m35vzStwrd97nivKLBVg1jeyPvVL7+uAZ8lPsTJT+jvzm2PgS593ZfYNptv7fcH0It6dUrxJePvRXznVtFPjWNJM+oz1wPnOX+N9n3dOTUSKSDpSuOEwdv7Ekt7Ltmfhw8I9Hq4pgdlKOv//O/y3C+7dnqLkRFZ7+Exc4mXxzSZgxfe9YZenrK+a5CfBKf7+Kn4b2xK2RXH8zjzTqxw5PAUVFnrVoH27Mb0nL6ypBEGOM7mNfiCHhXx3+JA0i0qojMy0yHWqCJQUJ1VpMvIUEzL9rJzaO9b/GG/44tXrFnntPL3h+TPG79GKA0EeDCTRFOoT3k7X4eYquJ9MvVLpiWQFoDjPSm3eOWYeVc6s/ejsfXdRMwVxYexW04l5nInMnjNSPmOmrjvHMXfbK/NJR89NqyXLw5bq2l2rmY0z1m1Xbg956WBOlbJrm9pna6Xc3pfNtLXfZKcaEJinrtqaZsvraC1ZNjHl0g8ZWMPC0aZtHmmt95Plym752IkGwEn3aW3kXGVrrW13q2MjXlJ1G+HXXHe+Wfe6IfUxpq27qRw1a2Cef2tazHm1Occ4IqNc1bb6ntRc12hZqfmq0sreZCprDMb5uJSQdGnat3O+jji29V1uGi5S1sc6B81Yc9cz2o1H+FVlyRqkrpyUQx+ZvbBKTqtugsnWNkUVbUWTKZJyTkc+R80l9zVWGhLtDh1kk0CjlVJvC7tuirPT7K3UUweTNtaLVWyNogtoxtk2i1L5btfGXJLPirpjK/Es8mbkJrCVMwVsx91Tr2mMayBalFR1cI34M77q0VSNHLHInW0AwUR10GSpRmgSTpR7WtWqRaEG8GNmARGLhZ0ibOQruo7263T5U+Rq9rlAJViSE1o/tZ3K0hT/XKMnNUcHuyCLkI7yMucQSzNzint05TJsztIL9ahLKbGGhRJGEJEKEUGcFfOptVDg0QsddMXegLTE1ifgd27MNHXvWjryROBni+UbyF1ybBC2JyJ2Ta8Us5pnAHHeI2/iPtN8gTWzNCv0pVUAchYrO5cTzpBB915afOuS93FKnao66l6rj1qWlWkCcaAPtUdf5tq7sCPhKmdaJEcIQfSQV4JL6co4aQvAgL7azwLuLZPb+pgC7w0at2UbWpGGrXeuWG5pNei+h0SSHr+3yWqD1ZE1/jOsdmDs7pQenYvWlAJoUmGdyT9ObcA3wRFMzPVWbShEKwMNgrgCjUaiSGTiaN7z8GdQQ+bIjicHhCYfKRVmDYyWffL8GnmdTL9f/ffFxfVZbENDHFuR5N6lJZnKglSnV7BgZSGlOrBOazpkU70Z8hs6E/uijImxiTAC9ZrwkL0ocm3jocO0jKiBEiO5NIJT4mbBeiIi2Qos/pon9pKK1TjslhFQDYiDpo0N9jq5hbqgFW0r6GNciWq3M2rfLhl1S4Kt29AbHF+7CGczpJOtTVbKHXdXKtWhMRyzkvdqu6HcmJ+MLGRw/gSzNjIAXmBnRoZQtX0X3SPUOW6j1e2ec/N1bkm9GVICWpCoMtvME12fgrQhq7HoMTgCrTce5rz3Gl5JW4LzBIidlgLyzWiVMqEmHUTmcDtKBbAfsMEbGA2ERgBtnDMKuVNw2O8NpW3rYsNjNtQYYUvD0Cx8FwBy6NHvVlJI2tm0Ycg82VH0EDW6HhAv8R5zax+YjkvKbwTbbUBb0bloY4gKqXSJhXij15Uzx1UxTrEnMtKqBMR4r86mDuKwrtOduIoMBeDgXAGPEB5ureIA0Akrsm/LOaG3m4aB2OVRAvWO69BLLvxD0RmLNukDYJKuAEZEb3FvvYpPwun9he/WWn19hRcZpiynGJ4D0JVTp6sdlaXbtaveys/ZaAT9ZdD5SFwpe9Qj6Bs4pJGG3jEVSqvWjtjF1ZBbbKGhfUZbAC0ViYn+J5XrWz2XrEClmrENh+TNTRcP1SKOweYDIjwHmlXpg6ClIJdgHNuZ4WHj0QVC0nldZV65AwmNglHzZWFhINazuwl4J4Xps9MsJ0tPMo9V6XP7zjqNhyzuNwDKJTUgkpIxPEM8Azzw8AV1YGyeE2djkWYMpAXMY73UqQIibXYEtTNZSbeQtJZtugGg+4bmKK+76mXHsdOSHABEZyM2lPUIxuVKVrQO5VPaFuxpOKhxo9L96VQTvAWcBZ3bJR7fUtfz3CbejRdMS8N5SUOAX7ABj27DHIdsnY5AowGq7KJ3CbRLCiNYk57byhBxsKlouYFqfDbkmpcWoLeyNhDWiJ3pB2hpQcSaPzHleULe3OrdAafQ3Q8aq1RDJ9Xa9aLpAA1MQ4O2rlcdZ1LLRR5GvoYdXDne0Oj4iqokWIJxoI+6GmJ1yG50JSFSdZjiLoD881DWN8/4cHJhb6CVCYIRCFsFGnvonfar8f0HX9aQaVRslPw35bPvgCw7rOLGzUlQmiv+JUl2sXaPIhd8ZFA2N/BcPQPyTvXEILMXUnnKWpXuin2lD1JD0xYa1EbjKVkhVQ54G63ivQGHL+6uH8EA7ajmwqfG/jpQkrSEfUXAnDeP69QGNqEwjLn35IHt0hRHB4R2Hsi7U6X0hQ5MI+GZY3c0CV+AU1c3zkUDKo3R/b7UwA0uZAWmUKnMgrgHnAjN2p615qwx1ceOw++8vFP0QHxnoAiY1HrpHub1rA27/j7QV+jYir1Dc/H5Gi9u83OxXEWqVZWWTQ0Qnm00ErhL7TcSQ0ugLePqeKpFcrGdCcM7eIDWDil3xxfkhuc6Llt2Z+iYZ8SQ57B+z6bdEhB+fXS3Tegwm4JsaGyFcFwyeb7miWFcRXjwW3g61FtigJ9IOcGqCWaRHSfkehgc6P7o401X8RHFXNb28BZKuuk4jT6ryABPVcA0/Bucw6/IN5chUwAAAARzQklUCAgICHwIZIgAACAASURBVHic7N19fFP13f/x1znJadO00mKjpFNqAYWMGwmMSRDEohPrUK96+WPLpZtkjm3drqkVN61uc51zWu97zfmz29QVndhdzMv83NTinFQBKUwhKHgVFKmFjQopptCmaW7O+f1x0tJCW0qhLcrn+Xj00TY55+R7bpKc9/neHMUwDAMhhBBCCCGEEEdNHe4CCCGEEEIIIcRnlQQqIYQQQgghhBggCVRCCCGEEEIIMUASqIQQQgghhBBigCRQCSGEEEIIIcQASaASQgghhBBCiAGSQCWEEEIIIYQQAySBSgghhBBCCCEGSAKVEEIIIYQQQgyQBCohhBBCCCGEGCAJVEIIIYQQQggxQBKohBBCCCGEEGKAJFAJIYQQQgghxABJoBJCCCGEEEKIAbIOdwGEOFHoukGkvZ1oNEYk0k48niCeSAx3sYQQQgghxHFitViwWi3YbKmkpGjYUlNRVeWYlqkYhmEcp/IJ8ZnU0homHI4QbotgT7OZby6b+eZK0bThLp4QQgghhDhOorGYeRE9Yl5E7zj/s9ttZKTbB7RMCVTipBVqPkBLSxir1UJGhn3AbyIhhBBCCPHZ1dIapqUlTDyeICPDTlbmKUc1vwQqcdKJtEcJBj8lJUXj1FMzsVosw10kIYQQQggxzOKJBPv2NRONxnA4RmJLTenXfBKoxEll36fNtIYjnHYUbxIhhBBCCHHyiLRH2Rv8lHS7jVNHZh5xeglU4qSg6waNnwTNWqmRmcfc+VAIIYQQQnx+6bpBsOlT4vEEzlGOPs8dJVCJz71oLEYwGCIjw86IU9KHuzhCCCGEEOIzItR8gHA4gsOR1etgZXIfKvG5pusGwWCIESPSJUwJIYQQQoijkpV5CiNGpBMMhtD1nuuhhryGSjego8Ys1KrzRp3Oxo9h2+4Yn7bqxOIG6TaVL2SpTDxD4cKJGueOVg+b9/MimogRM2IAaIpGikWG6T6e/rV7r9RMCSGEEEKIY9JRU/WFnNMOe25IA5Wug6pCexyeXx/nLxsT7G2xAgaGHoWuJVEUVGsqqhHlvLEWfBeojBv1+RmNLWEksCgWnq7z88f6lwC49qwFLPpiYedz4tjs+7QZXTdwZGcNd1GEEEIIIcRn3J69+7BaLYcNVGEdqgLohhmmduxNcP9LOh/t04hHYhhEsKamYyQUjEQEVVFIGAqWlDT0eIx4Is66ehvv7orznQvjLHCbRVY+4zVVHdmxLR7hgN7a+XfX58TARdqjtIYjnJFz+nAXRQghhBBCfA44skfyz917sNvTuo0WPSSBykg21fugUeeOP+uE2jTURAuqloFdDTPX1c7UsyycMTINzQqhMHzQGGXNVp2te+wY8TARq513dkT4qtvKZzxLAXSug6qoGAmj8++uz4mBMftNfcppjpEymp8QQgghhDguVFXhNMdIgsFPOfOMUZ2PD3qgMgyzNqmpBX7253ZC4RQsRpiEJZ2LJkT51lwbzqzDx8aYMSYFrwdefz/B469bmXpmhJ8U2j43faj6qoWSGqpjs/9ACykpmtxnSgghhBBCHFe21BRSUjT2H2jt7KM/ZE3+yl9uY180DVVvIWGxc92sBN+cY57w6sbB4NXBMAwsqsLFkyxM/AKcmqF9bsKUGFwtLWGcTsdwF0MIIYQQQnwOZWWdwp49+4YuUCkKvP1Rgtp6DVVvRbdmcIkrwjfn2NANs3mbqnB4O7dkukroBjkj+z9Ag5FIoCiK2WGrg65jGAaKpR/LMRJmYZQu8xs6YEA/BoroCIeW5OyGYT5mUQ8+B8laqP4GxETCXJ+OxGkY5ggf/Vmfk0xLaxir1YJVto0QQgghxOdW4OMEr74XZ/XWOK3tkJ4KcyZYmT/FivuswT0PTNE0rFYLLa1hMtLtQ1ND9ZeNcVRrKnosTlZqG9+7yGbWSHHkwSUsqnJY7VWPkhN1hiZdN4OIxQKqejC79LowAzNIdewAHYw4KNbu4apjul6K0DUcJnQzSFmS/3d9zkIfO7rjJTqGRey6TtD9sX5tnJNHOBwhI8M+3MUQQgghhBCD5L6/tPPqe/Fuj7W2w4p346x4N86l51q59fLUQS1DRobdPO8cikDV1GoQqI8Tb09gSbVzyaQomXalM2wcKqH3sqAeOhZ1zt8lVETXvEFs7SqiH23DaG1FTU8nZdx4NM9ctNlzzekOCyEHQ5IRfBGa/oK+/z2I7wfrCNQRU1CyrwDHlcnpuoeqjsUpCrzboPNGXYIPG+NEYjAqS2PmOFjgtrKxPsGOoFlNNSXX4JxRKfQ0aL2iJBeqqhixKLGVrxJ/Zx3tu3aiYJCScybW82aRcvFlZrCSUAWYg1GE2yKcftqpQ/iqAUo9XgK+avxFeYSqfHhKs6ioKyd/CEshjs5Q7KeaIhdFkTIClYXYBvD8YerLKSiowlNVS6n7GKYRQgghjqDxkz2seG0lX7+6EJut72ASibTzp+f9XPqVeThHDf7oyl3D1HUXaEzNteA+y0Lg4wSbGhI8vSrGinfN5wczVGWk2wk2mTf7HfRAVfdPndaoGUKMeDszxvQ97HlPIatPyTAR/+cuwuX3oG56BxUFDQMFBR0DPtxGpPovtLlnkF58O5YzzjwYQpK/jfB2jK0/QG19HVSw6MlCthvQ9A7srUTPuAhl/P9FsY+ja6hSFGhtN/jN32L8bbOBYk0Fw1zPHZ8q1H4MK7e0cSACHx9IQ7HAt/Q2zhkFCaP7qgAYyeZ80a3v015+L9btH2BgkIJi1up9uJXEqr+z/y//g/3WO7GOzpNQBUTa27Gn9evU9DjKo7C0jPw859C+bH0FhUUhSqtLONnPm0NVPgoCRdSWefo9T5aniLIyG65BLNeRuIrKKIu4+xemhBBCiCFU/drrfNywi6XPVrHoWm+voSoSaWfps1U07tlL9Wuv47vWO6jl6mjmB/Dbb6dx9qiDwcF9lhmsZo+38r0n21jxbnzQm//ZUlOItLcPfqBqDJkBw4hF0JQ4ox3mQBQ9DTARS8Cf18WI6QqGoSfjQ3eKAihWTsuIU3CuFRQFvfFftNz2Q2x7G9lvgF0xaFMtKKk2jPYIaXqCiKJwyrvvcODW/2TEQ4+jOr8AegJUC0akHmNTAaryMfF2C9ZUnXhUA4sdEmGsKTHiUQvWtpXomy4F92soaXkYhg6oRGLwsz9H2bInFYxWDN0KiQhpKQqRqAFWO5v+mYIej6BZwpBiJ8VqrlvX/NjR7ctq0Yh/uJW222/C0rKfVgNSgKgtFVQLtLZgVSB12/scKLmJzPLfoZ426qQPVdFojJQUbYhfNQt3QeEQvyZE6mqpiwxnHDhx1AUCRI52pjwPhXmDUJij4HQXMvRHjhBCCHFk3quvojIZlHoLVV3D1KjTT8N79VWDXq6OmqfrLtC6hamuzh6lct0FWmdN1aAGKlsq0WiMo60POmrtcR0l2S/JokJa8nzX6KGtWywBv18ZZdnbVp5dn8Kz/9C6/7yt8cd/aDwXUKh8M4ZuKJBI8Ol9paTt/YRW1YLF0KHw64z8v0+TvexFRj5WCVcuxJLQaVUspAU/IXTfL8wwpShgJNC3fBtV+ZhEJAVFSZA4/UYs59Vinf0hli+/hX76f6IqcRLtKahKA4nN14OR6Mwvv/17O1v2pkK0FdQULnbFefhaG0u/Z+e/rrMxf2IUXY+jKAq6YTZr7DY4RYfkP4n2CPsfuAtry36iioLFno72vZs49ck/cerT/0Nm2a9RJ7mJKCr24B4O/Nd9g7b/PksikfYjVksPRChQQbE3H7fLhcvlJt9bTEUglHw2QKnHRWFF/SFzNVLldeHy+Q852Y/g97lweStpNJdObUURhR43LpcLd76Xkqq6LvOYy/dV1lLpy8fl8vG7RwtwF9dCYyVelwtvVWOyoLVUFBWS73bhcrnwFPgoq+5SrvoKCl0FlAdqqfAV4HG7cLnz8ZZUc2jpD+p4/QD+Em9y2fl4y2oIhQJUFBWay/EUUlxV123OOn8pvgIPLlfydYor6dxsRKj2uXD5qrtvn2ofLpcPf/LBmiIXriI/df4SvPke3C4X7gIfFYEIEKLK58LnjxDx+3C5CihPFqG+62u73BT4Sum6KUJVPlyuYmoOWceaMh8FHre5n31l1IboXWMN5b7k+nfuuz7CXaiG4nwX+cU1hDrWrcvxEQlUUeItSB5nLjyFPsp7KkAouf9cLlzuAnxltfRVzPqasi77oQBfaV/7OzlPf7afp5TqmlIK3S7yywIdK0FlsffgMVhYTGWge+n6vZ5CCCGGjc2Wiu9aL6NOP60zVEUi7Z3PHxqmfH3UYh1Pa7aZgWr2+L7rhKbmWrpNP1hstlQikfbBD1SpVhXDSABmkGiLmY8rA6hJ0eM6RFtJhOPYrDqGAbH1q0nd8i7NgBaPk37T7WT8YAnWsWejpGdgHTeejB/+CNt/LiFFj9OMQsqWAO1r3wBFxdjzIpbIm8RbrahqO+qEx7CMfxAlYwpYM1FOmYo6/hGMsx/GYmkn3mrF2r4KPfgKqqqyvTHKS+/qGJEwumrnP2bC7Vemcm6uhVMzYOIZFn68IBXvTAXFmobSx12mjOSgE5HVr2PbsZ1WQ0G1aKT/7B7S/s81qKc7UTOz0GZ4SP1KASQS7FctqOvWEP3H2pO6dgogHk8c/xv5Rqop8ZVT7yqlqqaGmupKSlz1lHuL8fd5DuikoNADtX5qup5hR2rw14KnsBAnECjz4itvxF1aSU1NDZXFeQRKvRT5GztnsdmgvqqcGk8pVf5SrrvBT5XXCU4vVbUB828ClHt9lDe6KamsobammvJC8Bd7Ke5WgHqqSqvIKvFTG6gjUFlAyF9Mqb/3Oh6bDQKV5dQVVlATqKO23EVdZTGFvgpsxVXUBuqo9tmoLi3r3Cah6iK8JTXYvBVU19RSU1lCXl0ZXl/FEU/mD31tAuWU1RVSXlNLoK6G0rwA5cXl1JGFt8JPsQtsBeXUBsy/CZThK/FDQTn+6hpq/BUUUk1xUTl1fbxOoKKMancp1bUB6mrL8dRXUlRW28scjVQWF1FJPuVVNdTUVFNZ5CRQWkRJj7PUUVFUTE1eCZXl+WQd+nSkhhJfKTVZXir9NdRU+ynzRKjwFVHV2G1CqsvKaSwso7LaT1VxHnWVPoq7T9RlscV4i6qIFJThr6mhutKHraYYb3FN78GvH9vPZgNCNVRURvBV+qnwuYF6KrxeyuqcFFVWU1Pjp8zTSLnXR+f1hn6vpxBCiOHWW6garjAF5sATQK+1Ux06aqVa2/uc7JipqoKuG4MfqHJGKhhxc21ihpWdQTM06D3kCs0Ci+dpXDMjzjfOi3HNl6Nc8+Uo/zEjxrVfjnHhOTESukpCN4OaxQLtb76OVVVJwyBx7nRsV/w7JBKd4QRdx0gksP+7l/jEc7EZBprFQnTNG+bTe14AVcWaEieRPg/ljO+aQ6cbyfkNHcNIYBl9A4m0OVhS4mBRiX/yAgBv/G8CxZqGjoXRI9rwzdUwutRCdfz2zU3BmREhgRWjp5WHznEuIm+9iaKqpKugzL2YlBlm3xA9uJfI/zxHc9E3aX30AXTDID0RJ8WiEv9g63HYW59t8USCFO04N/mrr6M+4sRTmI/L6cSZ56agtBJ/VQn5h50Vd5dVUICHWvxdAk2kpopaPBQUZEGkmvLKelzF5ZQWuHE6nbgLyyjzZlFbUdXt5L8xq4Cyonzcrjxs2LBlAdggK9kDp7aSyvo8ispKKXA7yXLm4Skqp9gdorqyulsNRl5hCV6XOZ/NXUhBHtQFeosayXK7vBR7zBXOyi/ATQQ8RfiSy8kryCePOgL1APVUVdQQyS+h3Ocmz5mF011AWVkhWXWVVAaOsM0Pe3EPRSUezF5qTgoLPdBYR10IsGWZJ/e2LLJsyW3hLqLS76ei2IMrz4nT5aGoKB9bfS21fZy0R1xeSgvySK4kXk8WkbpALwGwkbo6yMv34nE5cTrzcHvLqfRXUHxYp7YQ1UU+yiNeKit85PW0OJuHEr8ff7kPt8uJM89FfrEPDwGqA90SObb8EkoL3bjyXLh9ZRR7oNZfzeGr1khVRTUhTykVxebxm+f2Ul6aT6S6ovcA0+/tF8FVVEah24XLCdRWUFHnxFtWjtedh9PpIr+kjCJXHZUVgaNcTyGEECeCnkLVcIUpMIdGB/jwk95GsTMFPk50m36wpGga0Vhs8PtQTchRyUg1OBBRUKyp/OOjKNPHWMwmb4dUJmgWuOb8lF6X9ep7cd78MAUMOD15b6rojh3EEgnSVAXr+ReYTQm73nNKVSFuVvelzpqL+r/vEUkkMD5uAD0OkW0QNTspqactODi/mpxfUVEMc37ltMtR/rUGogZq2/+CYfDhXhV0HVVLZebZUSwq3UYwtChmeNQs8KU8lZffT8VIJHpcv44y6zs/JppIoKkqqee6iX9QR+Qvz9P+1hvY9zdjV1USGLScMgL9gnlo868g9YsTB7B3xBG58sl3VlBZ7CPi81Lg8eBxZeFyHyFNAWQVUOAppcxfS6QgHxsRavy14CmjIAsI1FKHk0JPXrfZ3PkuqAoQCIEr+TJOl5u+hr2oq60jYnPh6datKguX2wn+APUUJgevsJHncnabJssGkSOcy+a58g4OnmDLwpZ8rJPNRhaR5HLqCdSBq/CQARdcHlz4qa8LgfsohmJwubqHkCwbNkKEei1zFtRXUlJWQ119I6FIhEgkQgRXn+vpdLm6lze5YXqexUVBfhb+Mh9FjV4KC/LJd+fhdB2apkLUlvkoDrgpry7pY7VtZIUClJWVEqhvpDHUUWbwRCLQWTIb7vyur5GFy+UEfx2NcMgxUkdtAFzF7m41YjZ3Pm5Kqa0DX48HVX+3nwtPl6LUB+qI4KZb8cjD486iPFBLPW7y+r2eQgghThQdoaqjTxUwLGEKzKZ+r74XZ822OGeP6j0zbGowz7U7mv4NtkEPVNkZClPPsrL2Y3Ngir9tNvDOMhiR1vP9pXoaNj2hm4Fk5ftxMFQUVWXcKHO48HhLC1YgZhhomVkoioJxyEI7mheqWSOJG6AbBkZrC8QjGIkDZt+lOKA5zPmNw+4ybP7SToME5j1+481gxGmNKuh6HIslhZEZSo/DoHfcwHhkhoJqMW+P1TMVDAM9HAYMWg0D9dk/oH/aRJaeIBU4oBtYxp5Nylcu49R581GzHb1vfHEcuCnxV5FXUYG/soSqsgg4PXhLSg/WZvQqi4JCD6WlfmrJJz9Sg78GPGUF5gluJESERiq9LioPmzePUAg6zoRtWX2faEZCkc6g05XNZoNQqEsosB3Hc9ZeFhQxX6+zxqhzcrN8jUd94mw7qqlDfh+FJXW4i8spL3PhtAGBUvKL6vt+laPaLjbyy/1UVVZQ7q+guLIMbE48vjLKij0Hg01tGUW15vSNXfbnYeor8XnLaCwopbw8nzynDSLVFOeXHva6hx4K5j7uIfgl90NdeQGu8sNf0tNLgfq//WzdtlkoFAKqKXL1MFhKVqNZS9rv9RRCCHGiUXr5eyhdeq4ZqJ5eFWP2eGuPTf8+/ETn6VVmH6OrzxuawcqG5Ma+V0638tb2OKqRYH8sncf/3k7JFamdzf667pRDh02PJyDFClv/pbOxQSURa0NVLXx5bAooCpaMdJRPQFMU9FCyYdMhqcYwDPPuUaFPsSqQQEFPz8Cw2lAtI8wCWEGJ7e2Y45A1SP4f2wsWzHv+WjJBsWLXoqiqFcOA/W0d95DqPreavEfV/jYDPdHjLbWSdFAU1LQ0VMUMV9qeRtIsKiGLlbSZczhl/gK0L8/qdrNfw9BRLEOyK09OWW68JRV4SyBSH6C6spTSYh+2qhpKjjBmeVZ+IZ5IqdlvKmQGq7KC5FmoLQsbTgoqKinKO2RGmw3nUYzEnpVl6zyB7ioSikDW4UFrUHUEp9AhJ+y9Ba0ujr3RV4gafy0RTxnlRZ4ur95bTdOxcOL2lVLpK4VIPbVV5ZSW+SjKqsbvyzMnyfJQWlFMqMxLWUkFnqqiHodqr6/2E7AVUFHuPTgMfo999CKH1bJFIr3sY1sWWYCrqIrywkODk40sZ0/pbuDbLysrC2wuyvyHD+Vvs2Xh5GjWUwghxIni0D5TQJ+j/w0m91kW5k8xQ9X3nmxj0QUpTD3LwtRclcDHCd5t0Fm6Kgow6EOmdzXofagMA740xsKssXGMlHSUeAt/r0uh8s2YGTSgc+Q73Tj4k9ANDAOsFtizX6fsr1F0HVTNxpQzDSZ+wSx6yphxpFksxAxoT/aLUlSzGR4Aum7+D7SvfZOoAamqijUvD0W1Qtp4SFEgDok9fzHnV5RufahQzPmNvX/FiAMaGOmTQVHIc+igWtBjUdZ9GE/WuhmdYbHjd0I32LBDR49FUZSeN3tHU0DLWWNItaiAQjQllZjXx8jf/IGMO+9F88wBiwUjlhzdQ1XNMNVT1dhJxmKxEO3YLsdLY4Ca2vrOf215bgpLS8inkbr6fpyiZ+VT6IlQ66+hproW8r3kd5z5ujy4aaQxlEVeXt7BH6cNW5bzqEJQnseFLVJHbbeuUI0E6hrB5R7i+y2ZTQ/rauu6n4Qnmzi6XFkcrN3oHgLrzE5YRy9y8I9QBMjK6hIGQlRX9Ta4xABF6gnUBA72W7Ll4fGVUeQ5ZB1chRS63RSVleAOlFNSXtfDwiASCnUGoA6Nfj+1cEjKjByyjULU1zUe3izSfHHcbqivD3U/vvKc2GzOw2q6OpY/0O2X53aRFWmkkbzur5d1MLz1fz2FEEKcCHoagKKv0f+Gwm1XpDJ/ilmRsHRVlCV/bOPie1q55dlItzD16ntxvvtkGy2D+P0SjcVI0ayDH6g63FSQSnZqG7pqx6K38ew6K7/0t/PPfQaqYtZMqcrBH4uqoCjwzg6dW6sS7ApZSdYtsXheamdTwZQ584jrCdoUBcvmAG3+/zb7TXXc1Cn5d9sLVVi2vEtEUYjpOqlzLwJAOe0qSOjEo1YsbW+i73oMFEtniDJ/qxg7H8XStppEzAoJUE//dwAudFnQo20oRoz6T1N5dk0MVVE677PVsT7PrY2za38qFmIovY1El8xEqbPziSUSGApoegLrudOxjjm726SKptH24p9pL7mR2Mc7TvoR/gA0qwW9twE/Bqq+ihKfj6LKWuoaQzQ21lFbUUEtebhd/Yk8WeQXegjVlFFeA/ne/C59kQoo8jqpLSumvKaOxlCI+oCfUm8+BUX+Pi/c22xZ0BigNlBPfQhzgIi8eipLy6ipayQUqqe2ooTygBNvceEQ90xxUliUj622jOKqAPWhEI0BPyWlfiKeInzJqok8twtqq/HXm/+HAuWU1xztp16yD1h9DbV19TRGnLhdWVBTSWUgRKixjuqyYqpsHvKoJ1DXeHzO2yN1VBR78ZX4CdQ3EmqsJ1BTTlUAPJ4e4muej/JSD/UVxXSMMN7taY8bW6iGSn8doVAjAX8JxbVOPFlm36Sux0Kjv5Ty2npCoUbq/KWU14KnsKCHxntOvEUF2KpLKapM7of6AFXFheQXFlPb44Y4hu3n8eFz1VFRUkZ1oNEsX005vvx8vMlh/o5mPYUQQgyv3kbzO9KQ6kPhtitSeehaG/OnWDsHnkhPhfPPsfDQtTZuuyKVsaerbP9EZ8mzgxeqdN1AVdXBD1SKYlaeZGco/PL/pDLSniBhsaMmWnnzg1SKnmrjgb9GWfFunC27dLbuTrBhR5z/+Uec26raubUqys6mBIoexbCk8YN5MPEM1az5MQxSPXOITp5GJhCzWGl79EFaHn2Q+IdbMVpbiH+4lZZHH6DtsYdpt1rJUiA+7Ty0L88GQ0c5/QriaRdiTY+jJ1Lhg2L0rcUYBwIQb8Y4EEDfehN8uIR4IhVrepy4/RJUx3x0Q8d1RgoXT1RQbemoeht/WG3w8MtRtu3WaYkY7Nir8+iKKH94Mw6JdgyUbvfg6nb6nwyBaXPmER0/kVMUSBgGrXcuIbz8WfTgHozWVuL1H9H6eDnhX99PfMM62n5wHdH1bw32rjzhddwL4LjylFFZlk+kqpjCfA/5+V5Kqm14KyrNIbr7IaugEE+onnry8eZ3f85dWkWl10ZNiZd8j4cCXwX1rlIqKwp77W4DkFfoI98ZoNxbQHFlHeCiuKqSoqxaSrz5eDwFFFfb8FVUUXqEZomDIauggqqyfCKVPgo8HvJ95TS6S6ms8Hb2L8orKqMkv5HyAvM+Vb7KLIpL8o8y/NnI93nJq6/EV+ilog7cJRUUuesp93rwFBRTZSuivLwEn8dGTXEBxdXH4VM1q4DyyhJc9eX4CvLx5BfgKw3gLKqi3NtzW02nt4xSTyOVxaUcOqCdLb+Ucq+TQEkhHk8hpdUuSsrLKfa6CPl9FJQGkjU4eXhLi6CiiHxPPoWldeQVVfbQpK9jueVUlRcQqSoy90NBEZWhfMqryvH0sqEHvv1cFFVVUewMUObLx+PJx1taS1ZxFZXJNq39Wk8hhBDD7khDo58Iocp9loXbrkjlxVvS+fsd6bx4Szq/XGjrbOb3yDfSBj1UddwDVTF6usPuINANs6amfm+CB17W+bBJIxYJo2BgSUnH0BMYiQiqAgldwZJiNx+LR1CsNlQlQVE+XPXlFLPpnwodo1okPtnNgR/9ANue3ezXDewKRFQLpNqgPUKqrhMxDDItKmHnGZzywGNYThvV2ZzPiHyMvvESLEo98VYVa6pOPKqBxQ56GKsWI96uYs3QSRhno7pfRbGdiWHogMqBiMFtVRG2h9IwIq1gsaHoEdI0hfa4QUJNA8MgEW/HohgoWjrfz49w1QwbFe/9N0vr/QB8a0wh3538NQASDTto+dEP0EL7aDUgFYja0lBSUjHCraQmYrSjkK5A++gxnHLXA1i+cOZQ7MoTVrgtQktLmNNPO3W4iyKEEEII8ZlV+WwVHzfsOuJofpFIO5XPVvHJnr2clXsmvmu9Q1zSvrVElSfSFwAAIABJREFU4OY/tvHRHp1xo1QevjaNjOPYbKfxkyAjRmRgKS0tLT1+i+2dopjdmkZmqFwy2UKKEmfnPoWIkQaAoccBCwYWFFU9ONCCAeeOVrjtqwoXTtTMYKZ2WahhoGacgjbrAiL1O9Aa/4kFBYuho8XjWA0dKwoKEJ/hIeNn92I5fVQyjJkDPyhaForjcoz9dVjiH4IFVDWBamlHVROggqoYJE65DMuk51Bso835FBVFgVRNYc4EK7uCMRpCKckh163E0DDUFBSLwrk5UU47Bfa2aiiqhRl5cb74BSvrPnmPd8PbwKJw7inj+fKoycQTMawjs7HO8BD7cBup+/aa42Yk4lij7ViMBCrJ8THOm0PGnfdiOd1Jj8MmnkQsFgvBfSGyMk8Z7qIIIYQQQnxmOUedTrCpiW98fWGfg05YrVYmT/wiu/71Lwq+chEZGelDWMojS7HCRRM11m9P8NEenX98lGDeRI2U4zSWW3BfiOxTs4auhqqDbhioyZP+5rDOmg903t0JHzbG2HdAJ65DWoqCM1PlbKfKrLOtzBirJueFHrsfdQkSsdrVxN56k+hHH2CEW8Geju3sCVjPn4t23vmHTZ98gI6xBo3gSyj7/kKi+T1I7Ad1BJaRUyH7Sji14LDpoft9p9ZtN1i1VWf7J1HC7QY5IzVmjlO4crqVe19s540PU8HQueHiKFdOt7Fs68v8d/3LAPzHmK/y9fFfJWEksKCComDoOrGVK4itXUX79g8x2sIoGRmkjnehzbmIlPPn9rJOJ6c9e/dht9vISLcPd1GEEEIIIcQJoKOmCsymgMejlqqlNUw4HOH0004d+kDV4dBwlNAhGjdH9rOoZq1PX9Mf5pBAYeg6JBIoVmv3oNFr8OgekgxDN2/oq2rdHj90uq7iCQOrReksb8f9szoUPdXG9qYUjESMu662cv45VmK6jq6bNw62WixYlIMzGF1GKATMkf30BFis5nodcZ1OPi2tYVpawjhHyf25hBBCCCGEqaMP1fFq8tf4SZCMDDsZ6fahuQ9VT9TkYBV6MgtYVLNmqquEeVumzpHy+pQMFEYigaIoZhDpCCMdQ6irah/BI/m4kQBFMYc2VzruwNxxt2GVQ8NUQofte3Re2hhj+x6452spnTcttqrmfbSsFrPvWH1QwUjE0NQE4043q081VQW15zs9d4apRMIcHl3TAK1znQzDQLFYJEx1kZFu59PQAeKJBFbL0Nx7QAghhBBCnNiOZ9+paCxGLJ7obBE1ZMOm96QjSPUWlvp6rtdlWixdOlkldQ1XR14Ah28WtYfHTAciBrcua6P6f1PZFkzloZdjHIiYZVcUM0yFWg3+a0WMhKGiWlOYPNrCqEyl/7eO6ik0qaq5ruIwp2TY2bevebiLIYQQQgghPodCoQNkjsjo/H/Ymvx9HphjzyssXxfj96s11HiYuJLKGZlR8r9oJTMNmlpg5fsx9rRoqMTRFY37v6YwPc9y5GaMYsB2/vMTTnOMxJbac+2fEEIIIYQQRyvSHmVv8FNGnzGq8zEJVMeoo/vSo69G+evmFOLRdhRFRbVqZncrFfRoFBQFVdNYNDPKtbNTpNvTIIu0RwkGP+ULOaejSmoVQgghhBDHSNcN/rV7D45DLtpLoDqOqjfF+O9/wK6mBDpWFIsVIx7FqhrknWbFO9Mgf6JVwtQQ2fdpM/F4Qu5LJYQQQgghjtmevfuwWi2cOjKz2+MSqI4TwzBQFIVI1GDjxzof7dFpixmcYlM422lh6mgVq0UG5Btq/9q9h4yMdEaccmLdF0EIIYQQQnx2hJoPEA638YWc0w97TgKV+FzTdYPGT/YyYkSG3JtKCCGEEEIctZbWMPv3t+AcdVqPXUmGdZQ/IQabqio4HCPZv7+F/Qdah7s4QgghhBDiMyTUfID9+1twOEb22i9faqjESaGjpspqteLI7v0NIYQQQgghhK4bBJs+JR6P91oz1UEClTip7Pu0mXA4ctjoLEIIIYQQQsDB0aLtdtthA1D0RAKVOOl03D8gNUXj1FMzscoNkoUQQgghTnrRWIxQ6ADt0dhR3c9UApU4ae0/0Erz/hY0q4WMDLsMWiGEEEIIcRJqaQ3T0hImFk+QOSLjqEeHlkAlTnotrWHC4Qjhtgi21BRstlRstlRUVSFF04a7eEIIIYQQ4jiJxmLoukEk0m7+tEexp9mw220DvrgugUqIJF03iLS3E43GiETaicUTJBKJ4S6WEEIIIYQ4TlI0K6qqYrOlkpKiYUtNPebByiRQCSGEEEIIIcQAyX2ohBBCCCGEEGKAJFAJIYQQQgghxABJoBJCCCGEEEKIAZJAJYQQQgghhBADJIFKCCGEEEIIIQZIApUQQgghhBBCDJAEKiGEEEIIIYQYIAlUQgghhBBCCDFAEqiEEEIIIYQQYoAkUAkhhBBCCCHEAEmgEkIIIYQQQogBkkAlhBBCCCGEEAOkBoPB4S6DEEIIIYQQQnwmSQ2VEEIIIYQQQgyQYhiGMdyFEEIIIYQQQojPIqmhEkIIIYQQQogBkkAlhBBCCCGEEAMkgUoIIYQQQgghBkgClRBCCCGEEEIMkAQqIYQQQgghhBggCVRCCCGEEEIIMUASqIQQQgghhBBigCRQCSGEEEIIIcQASaASQgghhBBCiAGyDncBhBAnnmCwCf+LL7FhY4BwWxv2tDSmT3NTeOUCHI7s4S6eEEIIIcQJQzEMwxjuQgjxWRD/cBvRt94g2PYpK+bkMT4rjwvPOG+4i3XcrVqzlueqlpNmT2P6tKnY0+yE28Js2LiJtnAbi6+/junT3MNdzBPGir/9nY2Bd/s17fRpU5n/lYsGuURCHK6hYSevvraSYFNT52N2exquCePlmBRCiGMkgUqIfmh57GHaXqhCSU+n7cILuW3SAT4Ifcz4rDwemHMrX0g/fbiLeFwEg03c+YtfMW3aVK71LsRut3c+Fw6HebZqORs3buKun/9Eaqoww5T/xb+SO3p0v6Zv2LmTwisv59JLLh7kkn0+BINNPPGHp6nbuq1f07smjGfxt66TY/MQDQ07KXvgEbKzT+32ngbzmLzG+zUumD1rmEp3cmho2AlAbm7/PiuEEJ8tEqiEOIKWxx4m8upfSL/uu6Rd/R+dj28N7eAX635DSyzMs5c+yCla+jCW8vj4/VNLqdu6jV/+/CeHnXiBGap+9otf4Zownu9cv2gYSnhiuff+hwG4/dYl/Z7ebk/jph9+fzCL9bnxbNV/s2HjpsPCfU86Av/0aVO51vu1ISrhia8jTE2bNrXH96wck4OvoWEnd951DwB33XmHhCohPodkUAoh+hD/cBttL1QdFqYAJmSN4cE5t7E/2spzW/961Mve8lITX/xpkJLt3a9pNG/8lLG/DrMHWFm1h7kvxY5lFY7Kho0Bs5lf8uR11Zq13PmLX7FqzVoA7HY706dNZePGTf1aXrDmfnyLl/Dr9eHDntv98q/wLb6NJ7Yev/IPp98/tRTf4u+zYWOgz+nC4bY+n99e9RO+89u+l3GyaGjYhSM7u0sTUwV7mtlMreP/jp/p09w4srNpaNjVxxK38cQN3+c79/yd3d0eb2blPTfw643Hfx2GU09hasPGAL7F3+eJp57unO5IxySEaahZStlPb+MHNyzhBzcs4Ue/qGDZxmTzweY3KSt6lNWHv80HT/Dv/LKognVD9/E4BGKs+80N+IruZ2Xw0OeaWf3ADfg+d+v82dW89e88fk8pNyXfEz+47X4ef3kbzf2aeRurNx5sfhtreJt1DeaODa9/lO/c82b/lnPC2cITN3wf3+Kefm7goTUD+5B476kl3P78zuNc1uNLBqUQog/ta2pQ0tMPC1MdvpB+OleMmcdf62v47uSv93/BsSjPbFa5fYHCY2vbiYyzYTtOZT4WbW0RHNkHm0utXrOWhp27WL1mbWeTIEd2NuG2I52AHWQfobF9zSaaz5tFZuejO1n91n4yRxy/sg+3NW/VAvC/W7dJH7NBUPbAIwBMGH8Ot9+6pPP/DpVPPN6/BWkjyGx+iaU1bkryP79NA3urmXoneTFk9VtrWXz9df1aVmzzch56sY3CH/+ckhw7ECO4cRllv60g8+c/YUHflYeDwzGXWx6ehaYNw2sfpdzc0dx15x2dfx9Jpr2JlesbmfdV58EHg2+zcre9y2eoGFbNa3niN6+Tef0SHpyWjQaEG97kifIKnsj8ObfM7ntPhbe+zvKNFzBnmvkZtP215ayeMJGZuRr2ad/mvyZrDMfb6thNYvGjj7MYgI9YdtsjBL2PcuO0YS7WEJBAJUQfVG0n9ium9znNpMxzCXycOKrlNm8Ns/L0NG6fobDh9TAv7rfxtRMgXGRnn9rtavW13oU8W7WcSy852Gk9HG4jO/vU/i907ERcH61iXXAW8x3Jx7avYp12Dq7MDzoni+1+m2V/eIENwThgxTHtKr7/zRk4gPd+u4Tl2qWMC29h9/42msMjmPPNb7Nggh2at7Dsd8vZEIxBDLTRM7jm+quYMsRnHjf+5/d4Z+MmLjj/+PVFCa9/lJvecHLN6CY27GxidzCNmd+8HMfG19nQ2MTu5hHM/24R83M1IEzdy0+z7I0dNMcA+xjmf+s6FowzT4AbapbyxIsfELaPIGfyReTuXEbDhfdxy3nmNlz+lJ91jWFAwzGtkMVeNw4gvH0FT/zxTRrCEItp5Ey7nMXJ/TKc+h2gDpPNvKvHsK5qGeum3cDMno6TXraHfc2j/OitGdz7Y/PiQEPVT7hz/XhKHl6EC4htrOCmV87hrjvcbH/mSfybm4kRB/sY5n2jY18Mvr6a+V2aHIDiS9Om9nt5zbs/IZzjYXpOR/k1HNOu4Wd3h9Ec0HEpvXnjMspe2cLu5jbskxdy4/dmkQMQDLD0D3427I6haZA59lIWXT+XXK3v93Z4zaPc9JaThdmNvNfURjAYI+ey6/h+/mi04Js89NMPmP9oEVM2PspNb5zJotFNrNu5j2AwjOMr13HjJWPRjnTsn4ByJk8k+NYqGr66kNzkY7vX19I84RwcG+MHJ+xruz5lbtfcj15n+4Rvc693DA01y1j62raDnw/fuIb5Q3RMfu4072I3o5k32QxTAPbcuSz++SRi9uSHSm+fq1uX88tnNtEc28HtD1xEoXsLy9bvJ7z5V9y5cxElY1dw02tTefCOuWjrB3psa+Zzr+wgDMTIxHXZf7A4fzTDeg2ij2OW2E5WP/Mc/s3NoIHmmEThNxYyM6d7iU/U7yQJVEL0IdWjoe99o89pPvnnFBK7vngUS03w/1bFmDU/k0wNvjnhAKWBBF+bazm2wh4HrgnjWfNWLVf92+WAeTX10P5Bq99a26XJVT9ok5gzbRvL3tjJ/KtHAzHee2MLmedfg+OtD5LnYs2s/uNS6sbezIN3jEULB3j8p0+zbMJEbjzPDho0bG1k4c+XMMUOzesf5fanXsJ130J4ZRnrsq/hwR9PQiPM9r8tY+XmJqbMHtrah+nT3Me9ZkpDg+07CH/jZm7J0Wh4vpQ7f/NXrrl7Cbc4zOaBD722jXnXT0Lb6ufxV2IsvPs+5mTG2P3yI9z5hxVMufsqcne/yRNVnzDljrtZmAvBNU/yyxrIvVADmnj1sSfZMLqIu24ejz3WyKvl9/P435z87BKN1X9aQeyyu3nwPDvEGln9jJ8NDTOYn3uk0g+ue+9/GEVROv8v+fHN/ZwzBqMXsOi8+/l1VYAp33MfciW4j+0xbSo5z2+hITaLKVoTdR/ZGefYxXsN4MqF7Zt34nAXkrn5BZZuHUPJ3QvJ1SC8+QWe+Mc2mse5B72G4Uh9pnJzR3d7PBwOH7HWxDH5S+S+6Oeh37Yxf/ZEXGNH47BrZDq6rE18BxsaF3DL3ddgT75/X9o8g8WTm3jpsadpmHwzD/54NBpNrHzkV/z6+TO51zu2z/d2jgZs3ULw9p9wyzjNbOb306dZOeEnzO9yjmW+T95n99dv5ZZcDRpe4PZ7XmLD7BuY2dzXsT80jrYPlTZhFjN3LmXl1kIWTdAwa/RjzPSOZ/vG95NTNfa5XTU0dm9upPCO+1icCbHNS3no+f0U3lHKvByN8Oal3PnYcnLuW8SUz0At3wkn50vMdDzC0geWEvzKLFwTxpCbqWHP7Pje6etzdSHfz99CWXAh935vEuAh/I+fsuHCn3DLbDvh9Ss6X2bAx3b4bZZX7WPO3b8yL2Q2v83SZ95m++zRuIZtf/d1zI6m4fkKljVfys/um0uOFqPh5Uco+93r5P780i7LaDphv5OkD5UQfVBOmQotm+BA731aVmyKM/WsowhDeyI8s9/GN8eZfT++NCuVyNththx7cY/ZVVdeTrCpiRV/+3uPz6/4299patrHVVdefhRLTcN1oRvW17IdILyF1ZudzDsvu8uJbCbziu/jLu9Y8+qZfTzTR8cINh+sLcucMIsp9o6/p5LbvIPtQcjMziT20VpWb95Jc8zOuEsWs3iIw1RvwuFj7FSiATlTmZ68QudwZqPlTmV68lKcw5lNrHk/MYAJ1/Dgw0XMyTRnzJk8hszmJpqB8EfvsztnBnNyNUDDMXs+0zs2fnAL6xqczL9yvLk/NCdzLhxDwz+2EMRKZhrsXrOKDQ1NxDQnc64vGpYvrgnjz2HC+HPIzT2z8zHDMDp/jo6dcVcuZMpHy1m2+ZB91Nf2cIxneqYZoAhv473YeOa7NbZ/1Aw08t5H4JrgRBuRSWbzNlau38bucAz75Ku40Tv4YQpgxWuvk519ar8Gjfn9U0sJNjV11lr1KudiSn5exLzMnax7voI7b7yBm35RwbL1jXR257E6mfOVseY2s49mnCNGc3MMglvYsPtM5nyl48p4NnNmj6d586bOfmy9vbcBcE5lzrjkGaBjEi5HI+/tPGSfaYBjYvL4BnJG42A/zeEjHPsnrFHMOz+TDTVbiAGx7atYp81iTtccdqTtqoE2YQbTkwfd9vXvw7RLmZf8LLFPvojp9vdZ9znpwzrktLEsvOMnLP6yne1vLOOh227kO7fdz+MvbyEY4wifq0fzOgzs2NZGkGlvYsMbb7M9GIbMGSz64VXDGKY4wjHbyIbN+3HlzzIvpKCRO9tDzu5N1HXrTHbifCcdSmqohOiDctq/Qca5xN9fjHXqn8GW1+35+/7Szif7DRbNTen3Mt9ZG+b9T3UWlnQ5KYirPLM9g7JxSu8zDgGHI5t/u2IBz/3pz3xxwvhuV1IbGnby3J/+zL9dcfQ399VyL2CO/RFWbi4kJ7yKurGzWJQJK7tME9y6iuWvvM3u5GYJB+PYJx983p6Z1uUfOxphmsPguOSH3GJ/iVdfeZLlv2nDMdnDwm8OfZO/Dhs2BnBNGM87GzfxXNVyHrzv7iOOUNcnzXqwiYYGaFr3/zuEd7LueT8rP0oGrNh+mjnHfCrcBva0bgE2JxPziz3cRDi+k+W/uA1/5/MxNPuZhMlk5vduhVdW8Orv7ufx5jRcsy/nmqtnkDPEX8yH1pT2d2TFXtkncY13DLc/46fu5wsOPt7n9nDimhBj2UdNxPZvITh6LtMngP+VDwhPC7M9PJ7CXEBbSMkP38T/Nz8PVe0kljOVBV8fmuZVuaPPZOPGTTQ07OyzJuT3Ty1lw8YAt/94Sb/69WiO8czzjmceQKyZ7RtfZdkz9/O4djc3jgVI69KfqcsxG95PGDuZXVZds6ehhdvo+ATs7b1t/j+iy3GrkWmHWLiHURm0Ed3eDhoQix3h2B8iR9uHCjQc53nIeaWWDeFJ2N/YguPCJeR0vezWn+1q79iuMZrDYZq3PslNXd82sRjjwmH4jPbWGXaakymXLGTKJQuBMMGtm/A/U0FZ0w3ce2FfnyNH+zoDOLa1SSy64zpWvvg6S+9ZSlAbw/QrF7Jo9jA2+evzmG2jOWwn096ldHY7dsIEw3RpznfifCcdSgKVEEdgnfo88XcuJr5uBmrOIlrtF/PCjkuofjfGJ83mlfFNHydwntuPt1OsnWcCFkpvPY3vdOmGtGftPuavjVI6LnWQ1qL/rvq3y2nYaTYb6rjfVDgcNpsRuc/tbA54dJzMPD+bX65Zy+pwI65LpmLn4AhHZgffteTcfDN3TcgEwqx+5DZe7bKEcJfaKsLhLh/MdsbNXsj3Zy+EcCPrqh7l8WdG8+APZwz5acKqNWt58g9Pkzv6TILBJsJtbZ3bcbBtf76CZcFL+dkdc80vlu3L+VG5eWnPbk+DcOxgbQLNBDu+1TOzsVvHs+DuG5jT0wazO5l59SJmXg2x4BaWP/YkS9eMGfIBHXyL+x7WeyB9quzTFnLNmntY+uJE5nV8GR9he8Qmj6f5b9t4z7GLnMlnouWGyW3cRN3WNnaP9dBRmZI5YS6LJszFHCHvSR56zE/uw9fgOupSHp1LL7mY1WvWUvbAI5T8+OYeT+CPLkzF2L11E8ERM5iSk3xIy2TceYUsWP8my7Y2wtg+ZrePwM4OMyAlL3LEwm3EkkGpmb7e2yRPwjqfpDkM2lFcoOjz2D+RZc5g3tiXWL1mLfbNTuZcfcj77QjbtfsqamTa7Thmf48HvX3tLNFf4d1beG+/k5kTOvaLHceEWSz8ylp+9MZOmq/s+3Ok4TiU4UjHtuaYxPzrJzGfGM3bX+fx8ifxjy5l4XDV5vR5zKaRaQ+zOxyj80phc5gwI3Acuv1OkO+kQ0mTPyGOxJaHdeY7qKNvRN/r54P/XUH1phhTcy08+592br08lfv/2s6Kd+NHXFTz5jZWjEyl4JAxHU6fZOPsujAr+j943qD6zvWLSLOn8cQfzKGV/+s3FaTZ047p3lOO8y4gd+tLvNQ4iXkTDrmUFN5PmBHkOs1P2fDWVazeCbH9XU6ltr7JhmTVf3D92+x2jMHlCLPhqft5fE2T+aVizybXOTxXWzvCFEDDzl2dIyE27NzVbYjqwRGjOdyG5nDi0DDblb+xhXAsTjgG9tFn4tj9Dht2m9MG17zeuS3JnMTM3B2srNmZ/GIOs/1vS3liTRPEtrHsnkd5NTmcr+Y4k9wR5tXRoVby45v7/BmYTGZ6C3GsX86rHVUWfW0PQJswldzGVby0dQRTJthBG8OU7B289NpOcqeNRwOCNRX88plAsn+gnZycbOwM3Ua7/dYlZGefStkDj3TeULbD0dZMATSvf4HHf7eMDR3Vx8Ro3vo6r35kZ9wEZ5/z4pjEzNxdrFyT3J6xRla/sQ3HtBmdAy70/N5OPhncxOqt5uvGGt7mveBopozt/6XoPo/9IdLRh+rOu+45bH/0zs702efQ8MpL1I2d1dl0r1M/tmtX486bSGzjwXWPBd9m2W9XUPdZCJcnop2rWPabpSzf3NT5zo4Ft/DSW7vInDCGzCN9jmCGic7Nr/Xn9gXd9XlsN6yg7IEXkvtXIzNnFJnD3Veuz2N2NNMnZ1P32tpk7XGMhjdWsTt3avfWJifQd9KhpIZKiP6wZqGOvRN17J1MB5ZdcvCpjpqp+//aDsClvdZUJfh/q9o5230Kh53GjEjlyjMO8MQ/EuSfcrwLf/TsdjvfuX4RZQ88QtkDj7B12weU/PjmY2u6ljmVOWOXs9zhObwdd46HwtmbWPqLn/BqZiY5kxew8OpJ/LqqgsdH38ocwDFhNHVP3Y+/sYlmzmTBdxeQi52cr1zAhj8+zI+eNwOtPWcqi741NLVTdnta55fgBbNndQ4tP/Q0ply2gNzfPcmPbksj0zGG+f++kHk7n2TpPS/g+PmlLL5yF48/cBuv2keQe/5FzMzdlLxKms38715H8Jknuf0181vJPnYu13wzG7Rs5l/2Nk/87qe8FAaw4pi8kEVDdCUwN/dMNm58lw0bNx3x2NuwcRNNTfuYNu3co3sRxywWXbaK2/+0P/lAH9sDQBvDdMdOnmi+iEWZAJmMm6DxxP+MYNEEs4yO8+Yzc/Nz/HLJc8QAzX4mM6+/btBrpzrY7XZuv3UJ997/cLeaqoGEKdBweZew+MXlvFT+U55oBjSwO8Yw3ftDFk6z0/cNc5zm9vzDk9z+hnn1OXPyQm688uDr9/zeTtay5E7Csb6CO59pojmsMc77beY56H+bvdy+jv0TmzZ5LtP5gHD+1B4+z468XbsvayG3XLaMpff8hGXEiWnZTLnsOmSQv4Gxn/dtSvCz7Pn7uek3YdA0sDtxnXcdJVeafYH7+hxxuKeSU7OUH922he/fvQjXl8fgryrlpq2LKDmvn4Xo69jO9bBg7NMs/elt5vtIG8G4y65jwbD2Ner7mB13dRHXPPM0ZUtWmH0AnW4Wf/diHHDwvoHa+GH9TuqLYhx9b14hRA9WvBvn/r+284v/Y2PO+OEfse94uPf+h9m67QOmuc/lph/23eRqML331BKWZd7Mvf+fvfuPbqM+8L3/NtiR3cVqkkaQEJeEqAVLBSKzbKRLNzJdUEiLWtJouwR1d7HaPgf13DZOz8FeeGp3u7XvhTq9z8bs3oM4t0WhzyJoqSAUtU2spY3dNshZnsiFRoY2SiFRgERpAjLFVuJmnj9kO7LjH4kI5Aef1zmOLc1o5jujiWY++v4Y38leBL43tsSf4akf/+SkL0737NnLrZ+5hZs9N77LJZvJ6/ykpYM9vm/z5boz/bXl1A4e/CP/56GHeel3v595ZgoDV/xfX7jjlPv4na/efvtt7u34f/jjHw8xb96HyB48eIph6t033f/tt7f/29jw0aevS+SZOfZHa6bOpn0v55tz43P9fKUaKpHT5OZryvmLyjIcl50fYQoK/an+z0MPnwUB4Ow0ul9efOl3MzbX+MAHqs5cmHq7jwdaHqfiC1/nS1d9gLfTv+RXb9aw4hSaTp0J8+Z96J0PPvE+9oEPfIC2b7awJf4Me/Zm+FLgH99/F/RnybH/vtvv8u47S45tKVCgEjmNzpeaqVG1V17B//r2/zjTxTir3ey58ewPnB9w8Ll/SPHd//dfaDzDebboAAAgAElEQVQKVFzCtf9wB584QyMhynvrrD8+30069uV8pWP7rKImfyIiIiIiIiXSKH8iIiIiIiIlUqASEREREREpkQKViIiIiIhIiRSoRERERERESqRAJSIiIiIiUiIFKhERERERkRIpUImIiIiIiJRIgUpERERERKREClQiIiIiIiIlUqASEREREREpkQKViIiIiIhIicrPdAFE3msL79p/povwrtv3nUvOdBFERERE3hdUQyUiIiIiIlIiBSoREREREZESlWWzWeNMF0JERERERORcVGYYhgKViIiIiIhICdTkT0REREREpEQKVCIiIiIiIiVSoBIRERERESmRApWIiIiIiEiJFKhERERERERKpEAlIiIiIiJSIgUqERERERGREilQiYiIiIiIlEiBSkREREREpEQKVCIiIiIiIiVSoBIRERERESmRApWIiIiIiEiJFKhERERERERKpEAlIiIiIiJSIgUqERERERGREilQibwjWf7zX/+Zf3924EwX5H3t5R+vp+nhFEdPy9KOsu8XIb718PPkTsvyznd7ePLef+Z7v51h7x/awYP3hvjPV0/PuyQiInK2KD/TBRA5FxxNP8W9D25ncOkdfOvzV1Dxnq15kJef+z0VS69h4RQrPXrgeTb9cAs7Xn2L4cp5XP2JW/nc8suommqJr/QSifyU31Z/in/5ihPzKUwffOXXPP5EDy+89hZc9GHqPLfyuf+24D3cHydj5n02naOv/pzv/7IS79euGdn2w7zw4yhPPreXw8PlXLxkGatuuxlb9SQvPvRrNtz3U16Z8HTt37Vw53Uj78jRw7zwsx8Q+dVhrr7zHvzWUy/jOWnutdzueZ7v/ODn2L52MwvPdHlEREROEwUqkRkdZVciRcXHbFS8tJ0XBq/g2qnSyuk2+Hue+fEOrv7YFOFg8Hc8/r2fMODyse6OBXBgB4//8Kf82hrkpktPnH3/cxt5MD7MRywXUT50itMHUzz+8M/JLf8893zJAq9u4/uP/AePz12H/8qzKFLNtM+mNUDyp9vhui9x7Uhg2veL/+D7Ly3g9uBt2Krf4oUf/wfff/gimr7yceZOfPnQWwyWf5Tb7/JRW7TuisqRA2ZwN0+GfsCuiy/nkvLDpW3fOcx83c0s+8V3iT13PXdeN1kiFREROfcoUInMZLCfbS9VcnXwZioP/Tvbdg5w7cSLwaE/EPvuM/x69xsMVy9g2adv43NXzQFGapCeeIYde95guLySi63X89nV9XykGhjo5d/v3U7tuq9y08WFReWe/S5tiY9y11fmELv3B/x2CF5sayO5et0JF6G5nT28MOdvuOcTVxRqU6rr+co99VNvCjb+cZ2TqsS/kdx5atNzO7fxQtUy1n1iSSFIXHkzq657ngcT/Qxeec2EGrHDdP/rBl503Er1c0+RvPg2/ucddioOpXjyiWd4Yc9BBriIhVe6WbXayeIq4GiW7U9E2bzzNQ4PQbXlcpat9uG1VnP0t//B//30HP77PbewuLBXeeHhdp6c80W+8ZnLjq/26PN8b+I+W7KXJ3+4he17DjJEJRdfdi3ev7uFq09IQ8Ch59m2ezbXr14w8sQetiXeoPaTX+LaS6uAapZ95ka239vNtlc/jndiaB0cYrDyIubOrT6h5q8wfZiLPUG8V77Go//8h8nfpOJ9/tIWHv3xDnZl34LK2Sz82I3cvvpaLqko7K8dTz/Flt++xqEhqL7sGlau/hTLLi4kuaOHUsRGtnu4cv64mstpj8mXHuOeJ6r4nAe2/XI3hwaG4OLr8d9Rz0fG3qfHiP3mIIOV87jas2z8ieRQapr9vYC/um423YkUuetOrB0VERE5FylQicwg17edF+dci/dSCxXXLWBL4nkOXVdcOzHMK7/cQe3nv8S37ijnwK8e4d9/+BRWawPXlu8h9nCUXdbbaPqinbnDr9H9yHf53g/mcM+Xrpn+grLiGr4YfI17//01bmxtYNkJtWJH2ffSa5gvvprkw//GMy8dZLByAXWfupXPXTd5M7zF1zkB2D/FKqebfiCdpfxS97imWgsvW8Dwzr3s55qRoFNcfnj5ud+x8u/u4rOXVlLBa8S+V9gXX7njCuYOv8avf7iRh35YzT132BlMRHn81Q/z3+8JsrhqkH3PRfneI1uw3vO3fGS6/TRunRP32SA7Ho7ywhwf93zRjpnDvPD0RiJPf5hv3DExBMLgnt+zr3oJnxt9cwdeY9/AbOouK5qzegGL57zBvlcH4dIJSxgcZJC32PZIiEg6y3CFhY/89QpWLV9SeK/nXsHH5wK8NvO2HP0dsR/soPxTQf7ndXNgYDdbHn6ERxOXs275Rex6eiOPv3oNX/zaHXykepiXf/EID37vp8y961Y+UvEaW74XZdeVn6fpix+m/NVtPPS9R3j84nX845LsDMdkOQw8z7aBO7jza7dScfQ1ntwQ4snnrqFp+Rz2Jx7j8d0Wbr8ryLXVQ/T/7BG+P8DIezTIjqen39+XXLmE6ng/uwad711Nr4iIyLtIg1KITCvL9sReFl53DZcAcx11LHp1O9teHT9X1ZVu6q3VVFRUsfCvr8fGH/ht+ii8miR5+HJu/KSduRVA1QLqP3ENFbt38OLgOy3bEIcGhjnUl+TAX67hnn+5m3tWz+OVJ/6DTa+c7o7/R8kNDVFVXTnu2YqqSsoHB5h8U4apuGwZ9YuqqaqogFe2s2Pgo6z89BVj++Ljnmsof2kH/YMwODAIFRdRVQ5QxcLr/p5vfONvsb2j1oTDDA4OU1F1ERUVQMUcrl79Ne6dJEwBHNqTBcuHj4flgTcYpIqqcTNXUl0Fg4MntpkcBKorhqlasoIvBoN84ZMf5lD8YR76Zba0sg9BRWUlFUBF9RK8X2ll3fI5cPT3bOuDaz99Mx+prgCqWPzXbq4eTLF9D/DKdrYfvpwbPUuYW1GBedH13H7HLfzVHE7ymPwwy1yXFUJ5xQJqLy3n0KuHgQF2/eYgc5fWc+3cCqioxuZZVhSmT2J/z/kwl5Dllfdfi0cRETlPqYZKZDqvbue/sh/G7Sg036PazrIlP2VzYg/e1aNNzcqZe+mc4zVCFXOYWw27BoYYHDrMYPUcLi6+IJ8zj7ns5sBh4J12IxkepvxKN6uuslABVF11CzcvuY9N/99rfG7RZTO+/FRMnWum+hgpp/ri4xs4mD3M4aHf89DXX5gw33wODcC1y29m2UtRvtO2g0XWJVy9dBl1jgXvsFlYNdd6rue/Hvke39i5gNorbVz9l9dSt6h60u0ZHByivKpyygE9ZlJ11Rq+cVXRExffwu2Hd/OdxA72LT/FgRgqPsrKTy7gwch9fMNyObVX2qhzXYttbgUMHObQ0Bu88r+/zrYJL7MeHmSQwwxWW5g7tiEVXGItfCkw+NwMxyRA+UVUF02vKAcYBg5zYACqL55dtNHzmFvJyIiIJ7G/qyqpLh9iUANjiojIeUKBSmRKR9mVeJ4Dw2+x6d5/ZtPo08PDDF+0nf5PXzZt7cnYf66pKove8f++Sqoqy6moqiwKB1WY51YyOPjWO134BBVUVVYyODDEUY6Hq8HBtxiuskwZQCrKizayHMovWsad37h1iiZ8dj73tY9y4yu/54XfPE/yZyE2/2oFX/nKx7n4HZS8ynoz6+65nn0vpUjufIHND/6cZ1xf5K7PXDbz6ITVs6nid+QG4PhGDnFogBNq66Yy1zIHpqzFm04FC5c38K3rXqN/5+/4bd82vv+dHq72fwX/pUD5PG5c9zW8k+ycweeAo8NTL/q0HpPj1/OO9reIiMg5SE3+RKYy+Hu29Q1T+9mvcM9d64p+fFw13M+2naOXyMMcyha1Xzp6mEMD5ZirK6myzKFq6DAHiq+mDx/kEHO4dKzyZpjixmMDh0/2q/sKFlrnMfjKaxw6/moOHRiiuvqiU97cmVxsXcDwq3/gwNgzR9m3+zXKL738pGpequZYqB7Ksr94844OkBvdN0cHGTxawdxFduo/s4Z1625l8avb2D46BvnR4aJL97cKIeckHB0c5GhFNQuvcuK97Uvcc4eNwee2sWuyMlZVMjw4dDz8VC9gUfVB0q8WvYEDe3hlYB7Wif2ngP19P+HxZ/eMyysH9mSh2lJSZeTg4CBULcB2XT2f+9LXuNMFyUR/ofap/C32F5eLo+QGCo8nO+72//bX/Do9cJLH5FSqmVsNAwfeOP7UwBvsL8rvM+7vwSEGhiup0iB/IiJynlCgEplCbud2Xii34b5uAXPnzjn+c/HV1H+snBcT/WM3fh18aRu/fnUQOMq+xDb6uZyrrBWwqI66OX/gmZ/9jkNHgcE9dMefh48tw1YFVFuYW/kG+/aMpIOBFNt2vnE8OJRXUs4ABw4PcnSSWoVLli5j0eGfE/nFHnKDA+x77ids3jOba68rNPcbTP+ax3+aGgtcgwMD5AYGGBgYBoYYGBggNzA4FgCmm27+2DKuHtzOk7/YzaGBAfa/1MWTfeVc+9cfPbmah0XXcu2cvTzz4x3sP0phlLonQtz7cC+HGGRH5Dusj+xg/yDAUQ7t2csh5nBxNVTMtTB3aA8vj6S5wfQ2th1gYuXIifvs7d08vv47PPjLPeSOAkcH2Jd+g8HqOZM2JZx7qQWye4sC6mVc75rHrvhP2PHqAIMDe/j1Ez9n/2XLuPbiQjlffvYpnuwr9JEylw/wwtNRNvW9Rm5wgP2/3cLjibdY5Co0t+PoILmBAXKHhhhkmOGBw4XHk1VfvbqFDfc+TCw9UHh/Bl/jlQNDVM2dTXnF5VzvqOTFeBcvFA4s9j37A76zPsoLgxw/7n6cYv/gILlXunn8hz2kB8tnPianNYfaj83j0G+62XHoaOGeWvHt7But2Tp6Evv78F72Y2HRnJnWJSIicm648Jvf/OY3z3QhRM5GiSee5DXrp7n1qg9y4bgpFzK3Okfi5/2Y6uwc+81zlLk8VPzqEcJP/Cfb9n8Q120+/ma+CfggH/nohzjw3E+IPvVTtmxL86fL/oZ/XFVXGBCAOSz84B9JxGJs2f48v9lTwbK6Sl542cT1H/8IF/2FieHfb+dnP9vK70xX4br8L8YXsqqGqy+DF5/5KU/8pIfnXq3i2r/1c6u1cGU8sPOn/OC/jnHd8isws5vH/8e/8cjPf8V/7XmbY2+m2dbzK7b2/IG/+MvrWFw1w3SzhSs+Wkn6mRjRn/yc7S+D7TN+VtmrJ+wfgCFe2Z7g9fkuXItGr9KrucJ2CYdeeIbok5vZsvV5Xp3t4Lbb6rnMVMEC6wIGno+z6akYP97yK5KZSq5e/VlWLKqC6kuY96edbNkUp/u5PtJHrsH1oT/w4oV2PmGbwxsvbeO/hq7gRoeFC4v3WdVy/v4TZtLPxHj8J5v52dbn+B2LuPVzn8RWfWKpKyr/RGprClPdyFDuwEWXX8GCPyb52Y838+Oefg7Ou56/v+3jLDQBHOF3Wx7nmQEbN101h4qLrVzxgf0k/rOLTT/bynPpPJfdeBt///H5VACHtn+Pf3nwp2z9VT8Hjw3z+gvb2NrzKxIDl3PTVRMSRvUirqjeS8/TMTY93UU88Tv+NN/N7Z9ZyocqLmTuR65gXnYHP94UY1P8V7xw+BJu/PxnWTav4vhxl/wZTz7dxdadf2LBjZ9jzV/No2KmY/KPKZ55AZZ+wo5lpCiHdvaQ5CpuuupDXFRzGX+RSbDpqZ+yJbGbY0uXsyTbz+Dlbq5dOI+PLC6fdn8f6tvCM287+PTHa0ruqyYiInI2KTMMwzjThRCRd8senvzuH7j+S/WFGhKZwQDbv7uBZy79Evd8asHMs8speo3Y+u+y7xMn3lNNRETkXKUmfyLnsaOvvMC+iy9XmDpp1dR9ahk89ww7NArdaZd7bgvby5fhXaowJSIi5w8FKpHzWMWiW/jKZ07v8Onnu4pL/4Z/vO4wsSeeH+sjJ6fBoR08Hh/CfdvfsFDD/YmIyHlETf5ERERERERKpBoqERERERGREilQiYiIiIiIlEiBSkREREREpEQKVCIiIiIiIiVSoBIRERERESmRApWIiIiIiEiJFKhERERERERKpEAlIiIiIiJSIgUqERERERGREilQiYiIiIiIlKj8TBdA5L1iGMaZLoKIiIiIvIfKysre9XUoUMl561QClMKWiIiIyLlputA08Rrv3QhYZYauJOU8M9UhrUNdRERE5P1lqgB1OoOVApWcVyYezjM9FhEREZHz08TQNNPjUqnJn5wXpgtOU/093XMiIiIicu6YKRyVlZWNXfONzjvxccnrVg2VnOtmCk8Tf58477vfWVFERERE3k2Th6PRxxN/T/f3qVINlZzTTiZAHf891Wv0nYKIiIjIuW6yWqiprvNG5y2urSo1VClQyXmhODyd+HfZuOfLytS3SkREROR8MVkTvmPHjv9dCE/HJq29eidBapQClZyzJquJGv93Yb4LL7yACy644D25D4GIiIiInHmGYXDs2DGGh4c5dswYV2M1sSZrNFSVGq7Uh0rOSROb7U0Wpi688AIuvPDCM1VEERERETkL/PnPf2Z4eBgoG6mxGt+navRn1KmGqgtOZ2FF3muTNd0zDKioKFeYEhEREREuvPBCZs2aBRhj14qns/uHApWccyYPUca4mik17xMRERGRUWVlZSNfto8PVcWtnEadarhSoJJz1uQHv6GaKRERERE5QXl5+dj14ukIUqMUqOScNv6bhTKFKRERERGZ0miomjgStJr8iVAIVxdcoENaRERERCZ3wQUXjIzmd/pum6OrTzmnTBwqffTv0Xaw6jslIiIiIlMZDVTF/e8nXlcW/z6pZZ72Uoq8R95p9ayIiIiIvD9NNchZKRSo5LwwWnUrIiIiIjKd4zf1PT3N/hSo5JxXStWsiIiIiLy/na5rSAUqERERERF535jsxr7vhAKVnBdUOyUiIiIip0pN/uR9b/QeAiIiIiIipSnTfajk/WWqA161VCIiIiJysk7XNaUClYiIiIiISIkUqEREREREREqkQCUiIiIiIu8rGuVPRERERETkLKBAJTKJbCJMk9+D02HDarViczjx+puIJHPHZ0p34LE6aUkC5OkK2rD6o+SmWug5J0GTw4rV6qYtOfkc+a61OKxWrL4I2fe2cCVK0OK04g2lz3RBRERE5DyhQCUyQa67Cd/nO+lf6KctFOXprqeJdDbjpIdWv59QamRGi5emjlZ8Ne9t+bIRP86m7vdsfbNmZYlHE+RPmJIj/kQP+Vmz3rOyjJenK+ggEDuVCGvF19rBWrflXSuViIiIvL+Un+kCiJxd8iQejbHP1kxkfYCxrGS1U+eaR97XTl9fGuxWMNtZ4bO/5+VLJVOThJt3yyzsdXWk4lESrS7qTUWTcnGiCTN2e57UlK9/N6XpTeXBeyqvsVDn9b1bBRIREZH3IdVQiYyTZyBf+H1CaDHV0x6LE/JbC4/HNfkrkosRtFnxhjMTFt1Nk8OKp2MkfuSShNf6cDtsWK02nN61hBNFDefSITw2Dx1dUdZ6bNh8/8b/9tv5whMDDDzxBaxWD8cXFabJ58Zhs2K1OfD4m4ikRmtuCs0RbcEoqWgTPrcTh82GwxMglJi5dsfsdlOXixPtHr9HsvEoCZMT55KJuzBDV1sAr9OGzWrD4fQS7Ojm+N4o7AffhP2TaHJg9YYL86VDeG0eOhLdhAKFppc2hxtfU4xCY70ugrZPs3HfEXoa67A6mkgAMLpuBzardeQ1EVJjRZ/Q5G/G9YiIiIhMT4FKZBwzTk8ds/o7Ca4N05XKnnptkNmNt76a/lic4siQT8SIDyzB47UDaUJ+Px39CwmGYnR3R2lz7qMzEKC4e4/pSI74/TEsjRGiHWv4h9DTNNmg+pZOEskojXYgHSbg76BvSSPhWIJELERgXi+t/kaiGQATpllwJNnJ+pSXzngvfX1xWq1J1jd3zly7ZPHgc+XpeSJe1D8sQzySxOLx4SyutSJHd4ufL0fzuDuixBNxIm1OspEvEGhLntq+PJIh2h7F3BSlt6+f3rCH3BNNtEdzwAo64224AWdbN8medlxAOhSkMZLF0RYm1t1NLBTE0ttKoGWyJosnsx4RERGR6SlQiUxQ4w8RbqqHeDtf/rQLu82NN9BERzRB5qQSgRn3ahfVqRg9Y4kqTyLWw4DNh88O+e4QoX4Lvo71+F1WamrsrGjtIGjtJxwqvvg/CO4mWr112K0WzGYzJhNgqsZiNmMCkpEwfWYvbe0+6qwWLFYX/vZmPPkewrGidJZ30tBcT40JMNXg9bqYta+f/hlHk7Dg9rnId0eJj2aMTJxoyoLHV8e4PJWNszG2D0djB831dmosNdhXtNLmX8LuaJjuU0tU1Pia8dvNhb1a58Oz5AipZGGbTBYzzAKT2YzZXChFjS9ENBamdUUd1poarC4/d3oWcrA3Pk2N0/TrEREREZmOApXICcy4giHifQmefqiDJp8DcybOg82fp94dIJKaORWYXatxmVLEekbSSj5JrOcgNq8HK5Dp72dglgO3vTiOWHE45nGwv6+oZmsWNod1mjVl6e/fB3YX4xZltuGwQrovfTycWe1Yi+YxVc/CRJ7cSYQci9tHPQmiscL2pGNRUhYP3jrT+BnTSVJHFuJwjB+pw+q0MWugn74JrSCnV82SJcXLMWMxQT4/dYFNZsjE2wh4PbidTpwOB4HIPshP0oTzHaxHREREZJQClchUTBbs9T6C7fcTifeR/FELbnpoa4/OPES4uZ7VbhPJWJwskE9G6ck58HkL4SiXzcGRn/BluxWr9fjP5x89CNlM0fLNmMymKVYCkCOXg1mm6vE1RZgxm+FIfqAoSJiYbknTb4+b1fUmktEYGVJEo/3UeH3UnVCcHDlMWMzjnzaZzJjJkz+lVnQmTq3AObpbfHw5tA9bsINwNEYsHifkX3ia1yMiIiJynEb5E5kgn8uSM1mwTLjINtcFWOsJ0RNPkQamH3jbRL3XjakxTk/Wx8JYDzl7EM9IRYjZYoZqOx3RJhwTX2kyz7DscaUaF5yOF3kkaNVMDFqlMlO/2o3pyzHiXRniu0f7gk2crRCcshOCUz6XI4f5hKA1bp53WiGUTxCNHcTWGKHVe7xWL62aJhEREXkXqYZKpFgmjL/ORSA8Wf+ZLLv35cBSc1KBx1TvxW1KEO/pJhbPUefzjg3DXmOzMW8gQ5bxNVQ1ZhNmi2XmEDSWESzYbAshlSBZnBty/fSmwe60n7bKF1O9D091inB7nMwSD5OOGG+vwz5rH30T2vale/s5Um3DVgNgwmSCXLa4wBl27x4orWCji8kfYYCRsDo2rZto/OC42UREREROJwUqkWI1PppuX0J6vR9fS5hYIkkqlSTRHaUj6Kelx4wn6GO6Xk1jTPX43CYSofXEc3X4PJaiSQECtjSh5jZiyQzZbIZUVwcBjwf/pGFulBmzCQZ299CdSpPJQV0giDMXo70lSjKTJZtOEGnuoMfsIeA9jXcdNrnweczs27cPq2+KfWD2cKdvIX2dzYS602SyGVJdbTRHMtj8AVwmACt19lns7omSzAHkSIXbiWZP9QbBs6gG0okeUukMObMNp7UwSEcikyWb7qYj+CB5pwNyu+lP5xSqRERE5LRToBIZx4yrPUqkw4ulP0xL4G/59Kf/lkBjJz15B82PxAh5T7ZBngmXzwO7d5Nz+XCPe5mdYCRC48I+OgIeXC4P/vZe5jWGCQeni2tm3A23sySzkS/4/IRSQI2fUKQZ2+5OAh4XLm8j4bybzkgnJ13Uk9yeOp+HebNseD1TldGMqzXCAz4T0WYv9S4P/vY+ljSGCTeP1pZZ8La0s5oofqcNh9PH+uztNPlqmDXZ/b+mLE49/oCD3BON+Pzt9OSsBDpaqM9FCNS78AQeJOfrYH1rAI8lSbsvODKMvIiIiMjpU2YYhnGmCyFysgzDYPSQNQyDY8eOYRiM/D5GVVXVGS6hiIiIiJzN3nrrT5SVwQUXXEBZ2QUjv0cflwFQVlY29vdMVEMlIiIiIiJSIgUqERERERGREilQiYiIiIiIlEiBSkREREREpEQKVCIiIiIiIiVSoBIRERERESmRApWIiIiIiEiJFKhERERERERKpEAlIiIiIiJSIgUqERERERGREilQiYiIiIiIlEiBSkREREREpEQKVCIiIiIiIiVSoBIRERERESmRApWIiIiIiEiJFKhERERERERKpEAlIiIiIiJSIgUqERERERGREilQiYiIiIiIlEiBSkREREREpEQKVCIiIiIiIiVSoBIRERERESmRApWIiIiIiEiJFKhERERERERKpEAlIiIiIiJSIgUqERERERGREilQiYiIiIiIlEiBSkREREREpEQKVCIiIiIiIiVSoBIRERERESmRApWIiMgZ0nd3LWVlZdyw8XXgdUKuMsrKHNz34pkumYiInCwFKhERkXfD61vZ0HADtfNnU1lWRlnlbBa71nDf5pfHZpm/ch3/9E//RINj9ntYrhA3VM6nYet7t0oRkfNZ+ZkugIiIyPmnj/tWruSe38Ci+lU0rJkPL2/lsad+wD2f7OON5Ivc54D5NwS574b3tmSvb36MRB4Wv7erFRE5b6mGSkRE5HR7eSubfpOHRUE2bX2M0IYNhDYl2Pqvt3HrbTcw/403gIlN/sYbnebY8HLxk9SWlVHm2MDLAK9v5r5VLhbPrqSycj6ONRtIvDEy7+Y1zC4rY3FwI6FVi6mcvYaO4HwWBLrJs5+HP1FG5ZpNAAy9+BjrVtYyv3K0Jq2BDWMLgsS6xZSVzWbNYwk2rKpldmUllYtv4O7NJ5ZbROT9RoFKRETkdJs9n/km4PXNbNiY4PUhgEoc6x5j02Mh1t0wcxM/x5pVXAn8ZtNmRmPLi5s38xLgbFjFYvq4+4ZV3LP5DW647zEe27CSoU1fY+WajYX5KysBeH3T3Wx43UUwuIr/FtzAnU4TYHqV1+UAACAASURBVKK+MczGdS54/THWuG6nc+sQjuC/8q/rVjK772G+dsNKNoz05aqsrATeZOvd69jqupv7gi4qX+nm2w3fZOvQ6d11IiLnGgUqERGR0232Ku4L3coiXuLhwH9jQdVsFjtuYM26EJtfPskE4ljDqiuBxCY2vwHwMps3/QZwsmbVYti6gY0v5TGt/CYbGlaysmED9638IG9uCbFpJIFVAvnKVYS2PsaG+9aw3LGGVYsBZrN4VQNrXPN5ceN9PPUmLAo+xuYN61h332Ns+uZSyPeyIZQYX6Yb7uOxuxsIbthA8Epgf4LEy6dhf4mInMMUqERERE67SmobNvHy60l+Fr6XxttczH4jwQ86v8wnax0EN78x8yJwsGblIsgn2LR1CF7fzKY+wFkIRa+/+DL7gfxTtzOnqoqqqjl89qk3gZdJFI0SaHLcgKtyqnUM8WLiRcCE4wbH2LOLHQ4+CLzy4osUl7TWVUthUfNZPL/w+jdUQyUi73MalEJEROTdMtvBygYHKxvuBobo27AS19e62bhhE/etbJjx5Y6GVSzq7GTrpq28/sYmEnlwrlnFYhhrBvjBWx9g893HwxCVlcxfDPQdfzxlnjpVlcf/OG3LFBE5x6mGSkRE5DR7eeMaaudXsrhhc1ENTyW1tYuZDeSHhjipih1HA6sWwZubN/LNx7aSx0lDoc0e82truQQYegMWu1y4XC4WVw4xNFTJ7Bm7aA3BSL+uWlctkKdva9/Y1Bf7+ngTuNLh4D0c0F1E5JykQCUiInKaLb5hJYuH8rzy8CpqHStZ09BAw6obqF31MPv5IPVrVjL/pJbkYM2qRbD/Bzy4JY+pvmGkDxRwQ5CGKyHf/U3WrAuxcUMDK12f4BMNG3lxmrRWOXs28CabN9zNhk0vsrjhbm69BF4JNbDq7g2E7lvDqm/+Bj5Yz91Bx9QLEhERQIFKRETk9FvcwKbEo/zTrQ4qX97KDx5+mIc390HtrTSGt7IpuPikF+Vas4pFAJhwrVlVFMQc3Lf5SRpvns2LoS8TuHsTQzc08uTm+6bpMwWu4N3UX2Ji/9YQGza9yND8NTy29VHudEFiw9f48jc3g+sOwls30XDyxRQRed8qMwzDONOFEDlZhmEwesgahsGxY8cwDEZ+H6OqquoMl1BEREREzmZvvfUnysrgggsuoKzsgpHfo4/LACgrKxv7eyaqoRIRERERESmRApWIiIiIiEiJFKhERERERERKpEAlIiIiIiJSIgUqERERERGREilQiYiIiIiIlEiBSkREREREpEQKVCIiIiIiIiVSoBIRERERESmRApWIiIiIiEiJFKhERERERERKpEAlIiIiIiJSIgUqERERERGREilQiYiIiIiIlEiBSkREREREpEQKVCIiIiIiIiVSoBIRERERESmRApWIiIiIiEiJFKhERERERERKpEAlIiIiIiJSovIzXQCRs8nBgwfPdBFEREREZBrz5s0700UYR4FKpMjZ9h9URERERM5uavInIiIiIiJSIgUqERERERGREilQiYiIiIiIlEiBSkREREREpEQKVCIiIiIiIiVSoBIRERERESmRApWIiIiIiEiJFKhERERERERKpEAlIiIiIiJSIgUqERERERGREilQiYiIiIiIlEiBSkRERADIpSI0+Tw4bVasNifeYIhEtjAt1eHGarWe+OMNkZ50aRm62gJ4nDasVhsOt5+maIr86ORsglDQi9Nmw2pz4PatJZzMTbKcPIkWN1ZbkFj+ZMuSJx1twud2YLPacHqD45adT0dpCfjx+9cSSow+n6LDY8XqXEvXxGKk2nA71tJdyk4VkfOeApWIiIhArotmfwe7HU2E4wkSsQ6c2U4CzVGygL0xRiKRKPrposMzjyVOJzWTLC4dbqQxXk1jtI90uo94m43+liBtSYAs0eYg4byfcG8/6f4eOj376Ay0nBBm8qlOWmM5ZhU9N1NZ8ok2Am39ONqi9CTihHx5QoFmYlmANOH2blwdESIhP5n7O0mOLXkW1fk47R2J48FPRGQGClQiIiICeTOe5k46W1dgr7FgsdbT6HdBOkUGwGTGYrGM/ZgzEUIpNy2NdZgmWVwmmcLk9OGtMQEmLPU+nJYsu/uzQIZUOo/d58VuBjBT5/Vize9md7Z4KWnCzVGsfi/W4qenLUue7kiMvLeF5norFksNdYEWAjXdhOOjCz8yutGQzxeFJxPuxkYssVY6U4pUInJyFKhEREQELC58/vqx2qZ8JkEoksTi9mA/YeY04dYYNY3N1JsnX5x9RT2m3iixdB7Ik01E6c3Z8TgtgB2P20IqGiWVA8iRjMVJ17hxFlV3ZcKthC3NtPgmqwObqixp+vrz2OvsRUHPisNmJp1IAVYCTW66m334go9S09SMq3hxC/20+CHSGpmiKaOIyHjlZ7oAIiIichZJh/B619N/pJolt7QTaXedUAOV6+oknPcR9lmmXIzF20Fn0k9whZ1GgFkLuWV9hIAVwISrNUQwEODTde2FF8xz0xJupG50ZZkoraE8wYiPGkJTrufEsuTI5qC6enzSM1tM5PsHyAFmu5/1Yf8USzRT19iG1xOkNeohMm2YExFRDZWIiIgUs/oJxbr40UPNOHa34F/bxbhWeGSIPtiDNRCYpOaqaK5oI409Ntq7kqTTKRJhL/taArQl8kCWrqYgYXMjTyfTpFMJfhSEUKBppA9Vllh7B9lA20gAm3ItJ1UWgFPqFGVy0dziJt3RPtLvSkRkagpUIiIiUsRMjdVKXb2f9R1+TPEHiWeKJqdjRFN2fJ6pa6cgTSycoCbQjNdqBkxYXI3c6c4SjSYg28PGuAnvWn+hD5XJQl1gLR5TnEd7cuS62+hIe2kLzBCTJi2LGYsZBgbGj26RzeUwzatmihaKJ+6FFa002xN0dHSTg0n7iYmIgAKViIiIALmuJjzejqIR744rrtzJ9sZJWz04p8tT5MnlgfyEaqEj+bHpk64lX/ideDTOvkyUgNOBw+HA4euk/0icJqeTtbHjQWnyslhx2kykEsmitaTo7Sv0qzp5FnwtjVji7XT0ncLLROR9R4FKREREMNe5qMmEaW3rIpXNkk0nCK2PkrF6cBd1I0ol05iWLOGEPJXpoqMlTOG2TlY87hpSkU66MoVYk02GeTBhxu2pA4sTjz1D9P7jg1KkIg8Sz9fhdVqo7+gh0RMnHh/5CQdYMstNayxGu8c8Q1lMuAI+TLH1dHSlyeYyJELtRHIeGrzTpsATWf20+U1EO6Ko5Z+ITEWDUoiIiAhYfHSGc7S0t+N372OAeSxxeekMBYuGLM9x8GAe8xLziU3gsr3Eon1YggFcZhN1zWE6aWW9z0HjQTAttONpDtO6wgyYCYRCZFvXE3C2cBAT86wuAqEOCmNLWMaHpJwZEybMFgvmsRVPXRZTXTPh9W00t/tw7cszz+ahOdzOipNt73d8SdgbW/DFPs+jSlQiMoUywzCMM10IkZNlGAajh6xhGBw7dgzDYOT3Maqqqs5wCUVERETkbPbWW3+irAwuuOACysouGPk9+rgMgLKysrG/Z6ImfyIiIiIiIiVSoBIRERERESmRApWIiIiIiEiJFKhERERERERKpEAlcrZKh/Da/ESyAGlCXhv+iIaZEhGREhSfU3JR/DYPHekzXSiR84MClcgk8ukuOtb68DhtWK1WHE4PgZYIydzMr3131ODriNDmOcV7qEwqRzIaIzXZfTVF5H0vl4wQdNuw+iIn3Hsplwyz1uvEZrVic/poiqRGbp6bIeyzYrWe+ONsSUy5rkxXGwGPA5vNhtMToKO7eI1ZEqEgXqcNm82Bx99GV2b0hWF8k6wrEB39kM6RDK/F67RhtdpwePy0xNLHb/SbSxJe68PtsGG1OfEGw+M+3/PpKC0BP37/WkKJHOSiBGwO1naP/+DMRQPYrF7CmXFPk2xxYvOFyYwt7yw7p5jdtEU68dfMPOvM3sVzSjZBaOx9cuD2rSU8utO6m3BMcgxYraNfRE6UJx1rwe9xjBy/HgJtXWTGyp2hqy0w8h7ZcLj9NEVTk96COte1FqfVSdPooZ2PEbBNVhYbwa6ibQl6cNqs2Bxu/C2xonVn6e5Yi9/vJ9ASIz3yfKLFidXqoS05sRTdNDnctE12F245MwyRc8ixY8eMP//5z8af//xnY3h42Dhy5IiRzx8xBgeHjLfffvu0rGNo5wPG6qW1xvKGbxtPP7vT2LVrl7Fj6yPGXbcsNWpv+rrx7JunZTUz2/WAcUvt7cYjB07zct982rhzaYPxo/dqO0TknLHrRw3G8uW3G3c1LDdqVz9ijPv4eXOL8dVlS43bH3jW2HvggLF367eN1UuXG3dtHTIMwzCG3jxgHDhQ9LN3i3HX8mXGV7dM/mEztOPbxk3LVhvf2rLT2Htgr7HjoTuNm276lvHs0EhZHlptLL3pLuNHO/YaB/buNH501y3GTV/dYrxpGIax89vGTbUNxo/2jl/nmyOvPfB0g7G09pbjy37kTmNZ7U3Gt3cahmEcMH7UsNRYuvrbxtZdB4w39z5rPNSwzFh659Mj27vLeKDhq8bTBwzDePNZ4+u3f8vYYRwwHrm91lj29WeLt8DY8tWlRm3tUuP2HxXvqV3Gt2+qNW55YFdhLp1TSrS3sM8bHjC27jpgHNi703j6rpuM2mVfNQqH3Jvjj7cDB4ydD91uLFv9gLFrssXt+JaxvPYW4+tbDxhDhmEM7X3a+Ory4+/TrodWG7XLv2o8vXfIMIwh48DWbxm31C43vr5j4vZuNe5avtSorV1m3DV2OAwZb04oy4Fnv23csqzBKBwae41Hbl9qLLvzEWPH3gPGgV1bjK/fUmvcVDggjaEtdxm3f3unMWQYxt5HGow7R46nZ7++zFi6dKlRe8sDxs5xhdhq3LV0ufGtiWWTkzYw8Jbx1ltvGW+//bYxODhk5PNHjCNHjhjDw8Nj15nHjh076eWphkpknAyR5k7SrvVEw814XXasVit19X7WR0IErDl2j3yllE/HaPF7cNhs2BxOvMEQiaJvxaad3r0Wh6eFSMiP0+ahIwVkumjxOUe+qQ0S6iv+iq24yV+GsNdGINxFKOjD63HidHppih3/irTwLbIbh82K1ebE1xQtfHuYjxF0NxIf6KHF6SAQLawjmwgR9LkLZXV6CYYSx7+ZznTR5veMLGvCt8Qicl7J4aEzFiHoPPEOuNn4RuJmPy1BFzUWCzX1zbT4IP5onBxgMluwWI7/5OIP0mNtHbmR70R5usMRTIEOWlfYqbHUUBcIEY+34jIBJAmHs3jb2vHV1WCpseNbHyN+/wrMALkcOfM8FtaMX+foTX+z2WrcrUXL9q/Fa8nQ15eFXC+xhAlvSzP1VgvmGheBtiDW7jDxsQ++I2PlJJ8njwWn20qut4fU2DYk6emz4PVaScWTx2syMj30Ziw4nVZO5zkl291BwFM4R9icHgId3WM1YKd8ThnX5O8sOqck23DbfGM1fgu97XR2BKm3WrDU2PEGfVhzu9mdBTCPe+8tplThmGkJFN2IumiTd/eTtTjx11swAaYaLz6niXRfoeYyk0xhcvrw1pgAE5Z6H05Llt39xefiPMnOdnqdQbzjGowUbjp9vDzQ82AUU7ClcKPqdIxI0kpjm5+6GgsW6wpa13rIRsMkRo+z46sgX/TQ7G3Elw/RGtGJ92ymQCVSLBMnljbjbfByQuM6s4vm0P347SbIJ+kINtG7pIlYXz/9PWF8+RDB5ljhpDHTdEyQjRPNNBDpidJozxJtbSZmbiTW109v9E6IxUgfmViIEaYjJCJxalqixOK9xFotxFs66M4D+QQdwQ52OzuI96VJ9XRg62uhOZwGk5dQ5E6WzHLT3ttH2GeBTITGYIRZgTA9/f30RYNUR4I0RjJAjlh7M/GFTcT70qT7YjQt6aG5PcYZa/0oIu+aOp+fusnyD5BOpDHZnNiLnrPX2cmnkpzQFScbpT0EwZZJPksBSNHbZ2KJqZem0Yt+b/B4c65ML305KzX72vC7HYUmf4EOxloE5nLk2EdkrQ+304HT7WNt+PhFuz1wP/f7i0qaz5DNmVm40Ezh4tWEyVRUHMtCLKRJpgCsBJrcdDf78AUfpaapGRdgdbupyfTSO3pdm+qhN+/E63diScYZbZWV6+shZXbjqeP0nVPSYYLBGNXBCL39/fRFGqmOBmkca2t4npxTajwEG/04zAA11Pt9uEZ3XC5NVzhGxurGeUJTxULQ6XG20FhnmjixsLudXupyPUS6M+SBfKaLWC/Ue+swAfYV9Zh6o8TSeSBPNhGlN2fH4zz+zuVTnbTGbbQ0O5niv0mhqF1tdGS8tPgL0S7f30fa4sBWdBCY7C6suX76M2Ba0cqd3E/A56c17aXFVzyjg+YWD9mOVqLqRn3WUqASKZZJk8FKnX2G+VJRYhkXweYV1JgAs53AnV5MiSg9uZOYDjBQg69xBVaLGVO+l3jChOdOP1YTYK4j0ODGNGuqAszC4vbjHTmpWGxOavL7Ct/amVy0xnuJtLqwmMBkqcfntIx9CzdROhYhaW+k1WvFTOFbu8aAlWQ0ToY8uVwek9lSuPgw1bCiPU5fyDvtyUREzjd5Dg7kMFvG/883VVdjymUnfMGSJ9HZScq9Fv9kVQUA+Sz7sjl6oklcbXH6+uJ0ODN0BFvoygGZDNmBBJG4naZoL309Yfz5CI2NUbJADrCY8phdTYQiUULNDvZ1BgiGJxtlIUt3y3p67I001pvA7MRtzxILjfZhyZIMbyRxJM/BgcKnpMnuZ304SjQSIuga2Wa7B6c5Rby3cFWb6e0lW+fGVefGSR/xdGHbk11JTE4PdXDazinpeJSUNUCzb+Rz2uql0VdDKhY/Xkt1PpxTLC78Qd+EUJ+kzW3FWreC5n4HneFmTtid2Sjro2aCjfVTn5tq/HR2OOgN1mO3WrHXN9Ln7qRtpKrJ4u2g07OblhV2rFY7rkCcJe2dBMaO4TTh1ig1za2smLY7c5rI/T3UNTYymu1yuSyYLePLZjFjJkcmC2ChvjlEJBoh3O4rvGdFzPXNNLtSdLR16cvMs5QClchkZuhcm9u9j5xlIUuKPx1rrNSQIZ2ZeToAsxaycPRDOZslgwVr8ZdSNVam6y9sqSme2cTxz9882UQnjV43TocDh8NBILqP401YxsukMhzpbcZV1JG2vr2PI5k0WSx41wYwx/w43T6CLSGiyexMu0dEzkNTXosz4eovF2djzIQvUD9xSpEjwBHsgVZ8djMmUw31zU148z3EEoUaArDib/JTZzFhstQRaPFhTkbpyYJ5xf309ERp97uwW63UeVvpCFpJRaJFTfKAfJrYWj/Nuz2EQ/6Rz9Qa/B3tOPtbqLfbsDl8rM+5cS9kmsABYMfjNo0078vR25PG7qnDRB1uZ5benjSQIt6bx7Wibvy2v8NzSiaVgSULx50Tauw1I4FtxHl7TrHTGOni6R89QOPCXhr9bSQmpIpUOEzKFcA33QamQgRb+3GHukml06S6O3H2NRIIFY6YTLSRxh4b7V1J0ukUibCXfS0B2hIjw65EWgmbGmnxTj84VD4RIpzz0uCZ4WvHUzqRWvC2NGLtaacjoTPw2UiBSqSY1U4NaRInM1zRVLOYTnK6aepLjYJcacElHSbYGKc6GKanr4++vj7C/oVTz2+CWZ4HSKXTpIt/etupA8yuZqI9PURbfCzJ99Dpd+NtSypUibyvmDBXm8llx38u5QYOkjebx33zno1H6a7x4ZuuVsY0j2rTLMzVRZ+DJgsWy0gtkdmCeZYZc/GCLVZqyJGd4iv6miU1UFxblksS8vvpOBIgEmkeV+thsvq4P95HKtlLX18PkcYajmQtzLNM97lswuVxQTJOMpcgnqwZaQ5moq7eTqanj2wqTm+uDs9oH7TTeU6ZyXl7TjFhrrFir1tBYH0bnlyEjT3FB0GSaCyLe7Vn2pYTyUiYVF2Q5vqakT5UK2gO2ElHY6RIEwsnqAk047WaARMWVyN3urNEownIRmntzBNs808bSiFPIhLH5PaN9AUsMJst449NGHlsoeZkB++t8dMWtBBt7SSlaqqzjgKVSDGLG689R+zByIl9AvIJ2jxu1nblMC9ZiDm3j93FH2qZNBlqsFuYcfoJzBYsZEmPG9QiQ3aq9u7TyPX1krZ4CHitI+fhLP39Uze8rrHWQLpv/PbmsmRHzm75XI68yYJ9hZ/m9RHiIQ+5sY60IvJ+YXXZyff3Fn1W5EklUpjsxf2qcvTGk1iczkkHBihaGnV2SPUW1SflM2SyJhbOM4HVgdU0IYhkUmQodPhPx9poiYy/CE/3pcFiLfRVyqcIB4NEl7QRDfknNKHKk0nESGTAZDZjAvKJLpImO+4ZmuaZXB7qcn3Eoz2kLM6xvjwWp5uaVJx4Ty8Zu4exbjen6ZxSY6+B3bvHLSOdyozUYk3ifDinZKIEPX7GteIceR/Hha9UnJ5sHfWu6QNl/oQXjgz+UPiH3NjfRY4UHmfjUXoOpuj0FWroHA4/kX0HiQUcuMfdFiBJvBccnvEHksnmwJrto69oXIlcXy9psw3bKQxdbw204CdMa2T3yQdteU8oUImMU4O/rRF7qh2/v41od4p0Ok2yO0yTL0jE5CVQb4Y6H96aBKGO7kIb/FyS8P0x8NyO28zM0ycyO/HU5Yg/GCGVg3w2QefGXvLTNj+ZnGnhPMzZPvrSeQp9A9qI5cyQzRY6N5vMmMiSzuTI58Hq9VOXibA+nCIH5DPdtPk9BMJpyCdo8bgJhJOFk2E+S6p3HzlLzRQdzUXkXJbLZslms2SzeSA38nehZsPiuR1PLkJ7KEEmmyXd3UF7zIS3obhpX5pkKo/VfmKcyiXCtIS6RwaOsOBt8JCP/v/s3X+Mm/lh3/m31u48uxeINu7EOLjhNgfSbYdsfUPmLiLrqzhBISqHikFxohFANO4g+lCIzt0Or3caNunOoO1ycO5ycC0ooBGNQ5aLAssFcssFDNHB7bBNlnTOS8KpOE0gTuuIgyTiFM0+iuF9Zr3WM/Xqe3+QI3F+aWbp9eqHPy+AmiGfh8/3+zwcfR9+nu/3eZ5lCs0BjtNntbBCw5MkFbPAmuNS0qKxvEi9b+MM2hSX6zhzKRIe8E7ZNAp5CvUetmPTXy2yVLWJpJMEgH4lT9FJUshFhm3fzmMUWPq1AtlckfbAwe7VWVxq4EldZu6oL6meKInQgEalhRtOPAiNvihRT5dytY8vGh8LOR/PPiWQSBHqVymN7qXl9mtcrdlEUolDAtUTuk+x21TLteH9uXxhwlaX0lKZZt/Gtkd/I26E5NhVKJ2NdQZe/+7hkgC4dKuLFOrDRBZKxPG0yxSb9uiiFE1K1S7eRJIAARJxH71qidXRVRftboWvtz3EExG8qTLtdotGozF81EskT50isVKnlo88KHKwzrrjI7L3JKhAikykT3m5Snf0N1coNfFl0sQ+0ocRIV9IYpdKNNRL9Xj5CV7iXeRj90nch8oYY+7eesu8fPmCOTM7Y/z+GTN7+ry5/NJ1c+vu+DzXzYsXz5jZGb+ZmT1jLlx5zdx875jT375iZmevmLfHC7193Vy5cNrM+GfM7NnL5pW3rpmLMxfMa7eNMeaWuXZ+xlx87V1jzG3zyoUZc+GV22PvfcVcmLlghi/dNtevnDenZ2bMzOxZc+naDfPu6D4os5feMO+am+aVi6eN3z9jLozuv/HuO9fM5fOnzcyM38zMnjUXX3rL3B6t63s3XjEvjKb5Z2bNmYtXzBs37xoRedq8Y67M+o3fv/ex07YY897N14btgd9vZs9cMC9ev2V2twZvmxdmZswLb+9f+u1XzpuZsy+P3U/nPXPztRfM+dPDdvbMhSvmjd2NrLn+4qgdnjltzr/wirnx3vh7r5gLZ2aN3+83s6fPmxdeuTG8R5W5bV65cNB6+B/cR+q9d8y1S2dH7fOozTvmVrp17bzx+2fM5bfG1/yuefvKrPH7D7430MexT3n37ZfNpbOnzczMjJk5fd5cvvbOg/uEfdR9yntvmIszZ83Lt3a212OyT7nxkjkz8+Dvzbz7tnn58nlzesZv/P4Zc/r8ZXPtnd030rp97byZOX/tgM/vPfPGpRkze/9mUXfNzTdeNBfPzA634exZc/HFsc/g7m3z1kuXzNnTM8NtduaCufLaTXPw7bVumJfOjN+Haufll8yZmUPuyfXuO+ba5bPm9GibXDrG39w7L542Z/b9Qb1n3nrh9KF/a3I8H/d9qE4YY8yjDnUix2WMYedP1hjDvXv3MIbRz3s899xzj7iGIiIiIvI4e//9H3DiBDzzzDOcOPHM6OfO8xMAnDhx4v7vR9GQPxERERERkQkpUImIiIiIiExIgUpERERERGRCClQiIiIiIiITUqASERERERGZkAKViIiIiIjIhBSoRERE5D6nWyUbDxJIVUc34R2fVmE+GSUYCBCMplio9hjeBnVAJRUgENj/iC62Dy1rsFogkwgTDAaJJjIUm+Ml2rTLWZLRIMFgmES6wOpg540VUgeUlant3O3UoVuZJxkNEggECSfSLI5uijtaESrzKeLhIIFglGS2MryZ7Ijbr7GYSZNOz1NuO+DUyATDzDddxjm1DMFAkspg18t0F6MEUxX2vCwiTykFKhEREQGgX8uQzNU5GfAytXeis8pitsSdZIlGu02jGGWjmGWx6QI+0pU27fbYo3mNC9OniMZDB5bldotkltbwL1RptBqU0xaN5TLtUWbpV7JkayfJlBu0GlWy0x1Wiqs4AI6NMxWn2NxdZinpAcCu58gUN4gWajTbDSoZD42FLKUegE0tl6G0GaVQa9FtlEi5ZTL5+ihA9qksN4kVq1TLaQZXS3Q9cRIRl06jO74GtJtdmBrQ6IwHwT6NjkMgEcf3434gIvJE+PSjroCIiIg8HhwSlOppPNUk9cbuVnEg1wAAIABJREFUaXbjVRqeNLVsbBgU5vIspupkXm/gzCXxeLx4x+bvV75OK7BE/ZzngJJcmpUqVqbG0rkAAL5MmUZmZ3qXSsUmWaySilgApFbqpO5X1MHxnGLat7vM+3W1TxJfWmDp3DDM+dLzJMsp1tZs8HWoty2S1TxzAQAvmUKWeqJCw06S9gJs368nrouLl2g8gFNr0SNGaFTH1pqXZNJDo9HFTZ3DAhi06Ay8RKOB4210EXniqYdKREREAIik0kQOyj9Av93HCkYZ728KRUK4vS79vTPbNZbLkF1MHhh4oEdnzcJvdVhIRYdD/pJZKjvj7gYd1pwAvs0C6Xh4OOQvU+T+iEDHwWGT6nyKeDRMNJ5ivtK+P0QxlLnK1fRYTd0BtuNhetoDuICFZY1VxzuNlz7dHkCAzEKcZj5FKvs6voU8MSAQj+MbdOjsjOPrtei4UZLpKN5ug+6oZ81Za9HzxElEDtnIIvLUUaASERGRI7jc2XLweHenLevkSSzHxtkzb7tUohefJ31YJ41rs2k7tGpdYoUGa2sNitEBxewiqw4wGGBvtak2QizUOqy1KqTdKrlcDRtwAK/l4oktUK7WKOfDbJYyZCv7oh1g01xcoRXKkZuzwBMlHrKpl+sM3OH0buVV2tsud7aGqcgKpVmp1KhVy2Rjo3UOJYh6eveH9w06HexInFgkTpQ1Gv3hundXu1jRBMpTIj89FKhERETkSPvOqbrP2v3UafBq3SKVmds7Zcw2sE0os0Qq5MGyfMzlF0i6Leptl2EvUoD0QpqI18LyRsgspvB0a7Rs8Jy7SqtVYzkdIxQIEEkuUcwG6FVr9MaLcfvU59PkNxJUyunROU0+0sVlouuLzIWCBMMpVpw48WmwDl9JIEQibtFrdHFx6LT6hBIRLCLEozadVh/o0ei4xM5FHrLuIvK0UaASERGRI1h4TnpwbIfx69w5W3dwPR7G+63sRo2mL0Xq4GtRjBZ3ipPWFJ6TY7HD8uL1jnqJPF48Ux484wv2BvDhYDv7lgaAz+8bXqzifuW6lNNpitsZqtX8rqGMViDF1cYavW6HtbUW1ZyPbdvLKe/DYpBFLBGDboOu06bR9ZGIegGLyFyIQWsNu9eg40RIRA8ZNykiTyUFKhERETlSIBbCXe+MnS/l0mv3sELj51U5dBpdvNEoD78kQ4BICHqdsf4kd8DAtpg+ZUEgTMDq0+6NxbdBjwFevF7o1wssVru7wl1/rQ/ewPCcLbdHJZul5i9QK6cJ7MpJLoN2nfYALI8HC3Dbq3StEIdckPA+K5Yg4qzRqLXoeaNER5fx80bj+HoNGq0Og1CC6MEnjonIU0qBSkRERABwbBvbtrFtF3BGvw97pbyJiyScKsvlNgPbpt8ssly3SF4aH9rXp9tzCYT2xymnXWGx3BxdOMJL8lICt7ZMoTnAcfqsFlZoeJKkYhZYc1xKWjSWF6n3bZxBm+JyHWcuRcID3imbRiFPod7Ddmz6q0WWqjaRdJIA0K/kKTpJCrkI3F8n+37vVr9WIJsr0h442L06i0sNPKnLzB01Ts8TJREa0Ki0cMOJB6HRFyXq6VKu9vFFdbl0kZ82J4wx5lFXQuS4jDHs/MkaY7h37x7GMPp5j+eee+4R11BE5EnVZiH8Zd7c2vt6mMVmjYwPnF6VxXyJxvodrOkwyXyRpWRgLFA1mQ9mobzO1bndSxlUkiSqcWqN/KhHy6FXXSRfarB+B6bDSXLFZVI73Ulun3ohT7HeY9P1EExkKSxnRkP3HHrVAkvlBmubW5w8FSSeLbCcieBhQCU1x/La/jU8dfE1OssxcNqUc0uU2xu4lp9IaoHi0rljBaF+Ocm5lT6Ja2uUz+2suUtzIcpX3vRw6Y0WS7oihchj7f33f8CJE/DMM89w4sQzo587z08AcOLEifu/H0WBSp4oClQiIiIi8uP4uAOVhvyJiIiIiIhMSIFKRERERERkQgpUIiIiIiIiE1KgEhERERERmZAClYiIiIiIyIQUqERERERERCakQCUiIiIiIjIhBSoREREREZEJKVCJiIiIiIhMSIFKRERERERkQgpUIiIiIiIiE/r0o66AyOPkzp07j7oKIiIiIvIQp06detRV2EWBSmTM4/YfVEREREQebxryJyIiIiIiMiEFKhERERERkQkpUImIiIiIiExIgUpERERERGRCClQiIiIiIiITUqASERERERGZkAKViIiIiIjIhBSoREREREREJqRAJSIiIiIiMiEFKhERERERkQkpUImIiIiIiExIgUpERERERGRCClQiIiIiIiITUqASERERERGZkAKVyGOpTzkZJF21P9liV+cJRhdpf7Klioj8mFy65TTRYIDwfPOTKdJeZT6epNh1P5nyPgFOc4F4YpG286hrIvJkUaASGVPPBgkEAoc8oix2H3UNP36DZpXmYPQklqNazhJ6pDUSkUfJ6VbJxoMEUlV2H9Jx6dcXSSeihIMBgtEEmcIqg0OWs8ugSjocIFHsPXjNblPOJokGgwSCYeKpeSrd0Tf55gLhA9vhNAcfZ2pTLXcJLTVprcxNuOZj+qvU2g87oGVTX1piPVEgF7F2TzpoXQ9cRJtyOkogmKV+QCY7/HMAcOnXFkgGj1HOR+CZW6IQbpAvtnl6YqLIT54ClciYRKFBs9mk2WxyfTHK1MnzlFabo9fq5J+6pGHTulqk1h899QSIRHx4HmmdRORR6dcyJHN1Tga8TO2Z5rYLZBY6TOfK1Ftt6qUUbi1HrnJUpLKpL5fpuVO7Xqvls1TcNJXOOv31FqXEJqXMIqsOMLdEo92mPfa4vhjlVDhO1HtAEe4WW64Xf9CHxzpg+kfUq61Qajxkvbpliu0IuVyE3cUdtK4HVLdXJpVaYu1UgJMHTH/Y5wA2qwtJMlXw+R5ezkfnYS6XxVtfoXqspCwioEAlsovl9eHzjR5eCywPpwI7r3mxBnUW0wnCwSDBcJRktszOQUx3NUswvki1Mk8qEScejZLIVugdepjPoVtdIJWIEg4GCScyFFYP2YO5feqLaRLRMMFgmHh6kVp/uOBeIU5wzxFMt71ANJyh7gB2k2I2STQYGB4FTi9SHwAMqKbjLK1t8c1skPD8Ku6eIX9u//D1pTlPOL5IvbZIOpkgHo0ST5c1VETkCeaQoFSvko3uP6ziemJkSyWWkxF8Xi+BWJbLcYt+t3/AksaWuVqgOEiQnhuPHgN6fZdQKknIA+AhkkwScDfYsIfPvV7vg4fVo1KxSS5mCOwroE42ukBje5NX08HRkL8j2teHtanFJKmvb7D5appgvMD+gQkuzWodJ36RxJ7NdPC67uc6XtLlOuWMn4PmfNjnAA7bkUVqtSUSB4XLPbqFOOH5KvXFNMlElHA0ycJqn151nlQyQTQcJ11sc7/p9iVJR3pUqx9fz5fI006BSuS43C7F7AId/wL1tXXWWxVSbplsvo4NWEzBZo2anaHSaNFqVUgMimQPGY5h1/NkS3dIlRqsra/RWPTTyWfZP7tLu5BhcT1Mod5hfb1FKb5BIVOg7UIolcDXq9OwH8zfrbdwYyniHofVpRxVJ0Wl06e/Vid/qsFCvoaNj3S1woWTJzlfXmft6rndO/Yj1hcssOtU7RSVemO4vnaJ5ZoOa4o8qSKpNJFDuqg9oSTpc6FRO+Fidyu82rGIJR/Sde80KSyvkyjkiO7qTAmRiHvp1Wr0HACHbr1B3xcn6tu7EJduaZlWdHH/8DoAT5JyZ4XE1DSXquusXZ07on09ok3N11hJTDF9qcp6a4nIvgJ7tDoOkXN7eqcOXdcDqhxLkQodHroe9jlAgGR6jmNkKQAsy2KrVWOQqlBvdKhl4M1cmhU3R7XeoFVJYFeuUr+/D/ESjYcYdDrHG84pIgpUIsfWq1EfxMjmz+GzAE+IzOUkVrtG6/6hvQipTGQ4ZM4KkU6FsDst9h+/tWlVm3gzi6RDHsDCO5cjG+nTqO9JVG6Tah2Si3liXgvwEMlcJuE0qHWBUIqEr0ujtbM37FJvuMQuxPHg4VypRauSGR4FtnwkklHodw+o04Trmx59qbBCxIMWg552wSJPM6eWIRgIEUtXsHIVSucO+2o/DEKd6CK5fenAIrZUJuuW+ZVIgEAgwpcqFrlSjn2Zya6xUvOQzc0dczjyEe3rUW3qkRtgkw3bi98/XpuHreuj5jIVSJIcbdhAMMhJQiRTASzACkUJMKA/1nT7/H6sfu/o/YSIAPDpR10BkSeFs7GJ451m1z7UF8BH58GO6OQ002PfLTxeD9h9bNgzTGVAb7DN+so5Aiu7y5k6Odg9t73J5tYm3/xSgNf31Cm66QAhkgkf1XoHJ5XE023QcuMszg0r6vYbFFcqtHoDHBfAZZvkx7O+1ilOjU23rOHyReTp5UkWqYdt7LUaK8UMWatGJbWvWwm3V2KpEWSxflAQslldyFLx5LjeTROybLrVPNnMAtONq5wbe0OvUqEXy1HeX8Qhjmhfj2xTjzgJy7Fx8OIbq+PD1/Ux4PU+6NGyLCzr5IO224Ip3N0tt9eDx91gy+XIzSEiClQiH81hWeGwHc6h2cICpogWWlTTBx3d3XNccMrP5XqD/L6TB4ZCyQTeap2Wk2S63sCJLzJnAW6bQnaRtXiZanlu2NPUnCecO6xex6y/drAiP70sL4GAl0AgRMlZI1Gu0kvl91wdtE91qYY3V98Vju6zW7zasEjW0qNzqLxEMvMkKmlebzmcS+68qUutbhNfTHyEoHJE+zqoHNGmftSDQkesq4g89TTkT+SYPP5pPM4mG+MXXRj0GeAjtLPP3tpkc+zqELZtgzdwwFh3H6EA9Hv9Xbtux7b378q9fqYtm4318YJdbHvseShJwttmtd2m3nCJp+aGmcdeZ80OkMyMwhTQX99g6+NaXxH5qdEuJEksNHe1UZYFuAcEkH6N6tod2oUE4XCYcDhM9ptbbFTShJNlegeGFnd/luk1aNkR5mIf5SjOEe3rcdrUh/F48WAz2Jn9yHV9AtkOjnWKkzp4JnIsClQixxVJkfS1KRebDFzA6VK5WofEReI7RyWnelRLTWwXsJuUq3188fj+q1LhIZGaw62vUGrbDE/wLpNNpCi093yjsGKkkx6apSKrw4LpVXMkE/nh5YWB4bA/L52vr9By46R2vnx4vPgY0FkbAC6DZpGVhstJ9w53Ru+1LJc7GwOcvV+KjrO+IvJUcWwb27ax7WFbM/zdwQVCUT9OfZnFWpeBbTPoVimUe3jjyWEbN1iluFgZXukzkKPWbtNqNGg0GjQadZYTJ5lOlWhUM4S8URKhAbWrDy5K0at+nYYbITl2ZTtnY52B17976PGRjmhfj9GmTgHO5ia24+6Pfp5p/F6bjZ2jTUetK+C0KywWH9yzy3WG23lgu4B7f7s77tGfw4P5h8O4d5ZlOx/fcOvBxgZuIHTAvktEDqJAJXJsEfLlFaIbSyTDAYLxHPXpPJXlcw+GongSpCN1MvEgwXiOtdASpdzBV8DyJItU8tN08gmCgTCJXIPppTJL+47EWsSWKqxEN1hOhgkEo2SqU2QrxV3DS0LJBJ61NZx4kvuL8CRYWIoxKCQIBuNkaz7mywVSvjYLiQWaboRkKkBveY54tr7n5pHHWF8ReYq0KSRixGIxvvzqBttrK/xKLEYslqE6AM+5FSrLYTZLGRKxGIlMmTvxFSpLowvTOB3qtTrDjh8Lz/hlz70+Tk2B5fHi9VhAgEy5TIoKmWiQQDBOpmqRKZdIjfWAOwMbPN5jX9Fux8Pb16PaVIvYhSTeZo5YfIHmvpwSIh710F3tjgLOUesKznqdWr0zujS5SyMfJxaLMffVN7mz3WJpLkYsFifXcI/8HOiVSMVixGK/wvLaNpuvf4VYLEYsVfqYesMcOq0evmiUY5+2JvJT7oQxxjzqSogclzGGnT9ZYwz37t3DGEY/7/Hcc889usqtzhNc8lDpLBN7dLUQEXlEXFbnc2wtlXeFoqeR2y2QyGySb5VJHusIU5dCpkO6kn38e30GFVLJOsl6jYwSlTyl3n//B5w4Ac888wwnTjwz+rnz/AQAJ06cuP/7UdRDJSIiIj8+p0ljK0z4KQ9TAFYkSz7WpVQ++GywvdxunXV/9PEPUzg0SxXsxAJphSmRY1OgEhERkR+f5xwrT0IPzMfCS7KwRLCep9Q9OlJZkSWqS/tvEfy4cZoFltfiFJdiupiryEegIX/yRHmsh/yJiIiIyGNPQ/5EREREREQeEwpUIiIiIiIiE1KgEhERERERmZAClYiIiIiIyIQUqERERERERCakQCUiIiIiIjIhBSoREREREZEJKVCJiIiIiIhMSIFKRERERERkQgpUIiIiIiIiE1KgEhERERERmZAClYiIiIiIyIQUqERERERERCb06UddAZHHyZ07dx51FURERETkIU6dOvWoq7CLApXImMftP6iIiIiIPN405E9ERERERGRCClQiIiIiIiITUqASERERERGZkAKViIiIiIjIhBSoREREREREJqRAJSIiIiIiMiEFKhERERERkQkpUImIiIiIiExIgUpERERERGRCClQiIiIiIiITUqASERERERGZkAKViIiIiIjIhBSoREREREREJqRAJSIiIiIiMiEFKpEnWLcQJ5hdxf1ES+1TTgZJV+1PtFQRkcO5dMtposEA4fnmJ1Okvcp8PEmx+8m2wD9JTnOBeGKRtvOoayLyZFGgEtmlRzERIBB48AiGoyQyi9T6T89O8yPrr1Jr7wQoH6lilULC+0irJCI/GU63SjYeJJCqsvewidOtMJ+MEgwECEZTLFR7xzugM6iSDgdIFHvjL7JaSBMPBwkEwyQyRZrjBdptytkE0WCAYDhOerHO4NDC2lTLXUJLTVorcx9hbQ+xq807iE19aYn1RIFcxAIGNIsZktEwwUCQcCLNYq1/+LZxe9QWUvfXPZ5aoNobSzFHrPvEn8MRPHNLFMIN8sX2J3ygTuTJpkAlss8Uwctv0G63abebNKpFUm6DfKZI7+g3P5V6tRVKjcHomYU3FCGgPCXy1OnXMiRzdU4GvEztneisspgtcSdZotFu0yhG2ShmWWwe9dXbpr5cpufuXmKvnCXXmiZfbdFtVcmerJPLVhi2NAOquSwVMpQbbVq1RfxrC2RKh7TC7hZbrhd/0IfHmmjVd9dtV5t3gG6ZYjtCLhfBAnrFDNm6RbpUo9VuUMl4aOUzFLsHVpbmYobFNT+5SoN2o0pueo1CpkjbhSPXfeLP4Tg8zOWyeOsrVB+y+iKymwKVyAEsrxev14vX68MXmiN7Oc5Je5ONnf2V3aSYTRINBoZHF9OL1O/vfBy6lXmS0eCwhyuaZL7S5f6xx8EqhUySeDhIMBwnNV+l+5DhFXa7TDYVJxwMEowmyZbb+44aHzWv21wgGs5SHy/HqZMNR1louuwcKU6EgwQCQcKJDMXRoeJeMUnq6xtsvpomGC/Q3Tvkz+1RHR1pDe490urUyARTFOsV5lNJEvEo0USWak/HPkUeRw4JSvUq2ahn3zS78SoNT5rFbAyf14tvLs9iChqvN3jYCDFntUBxkCA9N550ulSrA+ZySyRDXjzeEKmlHKFelWoP6NepdgPkCmkiPi/ewDmW5hPYtQrtfQXUyUYXaGxv8mo6OBry59CtLpBKRAkHh21aYXUsIbh96otpEtHwsN1KPxiFsL/N28ulWa3jxC+S8AyfW+EMy6Ui6VgAr9dHJH2ZxLTNxsZBW2bAHaLkCsukIj68vhCpfJqQs8ba4Oh1/6ifQ7cQJzxfpb6YJpmIEo4mWVjt06vOk0omiIbjpIvtB+/1JUlHelSrP62HEEU+OgUqkaO4feq1DsQSRC0Ah9WlHFUnRaXTp79WJ3+qwUK+Ngw6vTL50h1SlQ79fo9WOcWdcp5yD6BHMZOnM71AtbPOeqtMartENr968BeSQZVctspUpkJrfZ21WpaT1Sy5gw4dPmReK5YkbrVZbT8IMk67TtuKk4pZ2NU8ubqHbK1Dv9+hmoFqrsCqA6F8jZXEFNOXqqy3lojsKtShuZihuBGl2Fhjfb1BMbpBIVOg6QKWBfSo1S1y1TqNVoNiuEthpf7QL2Ai8mhEUmki+7MUAP12HysYJTT2WigSwu116R+2QKdJYXmdRCFHdLyDyl5n3fYRDY8V5g0S9g1YX3dw19foe8MEx3rCrVCMgLPO+t7mz5Ok3FkhMTXNpeo6a1fnsOt5sqU7pEoN1tbXaCz66eSzDEccurQLGRbXwxTqHdbXW5Tiw3ar7R7V5gH0aHUcIueGvVNgETiXJnV/wzn0ahUaToTEAcEUAqRWrpKNjQVMe4BtefF5OXLdP+rnYFkWW60ag1SFeqNDLQNv5tKsuDmq9QatSgK7cpX6/SN1XqLxEINOB3VSiRyPApXIPtusFRMEg8HhI3SOxfUoxWKK4f7Nw7lSi1YlQ8gDWD4SySj0Rzszx8HBwuPxABbeSIZqp0E+BHSr1O0480tz+CzAEyI9n8RqvknrgITRr1fphnIsJQMMi0qSywTo1hr7dnQPndeKkYxbtOo74+Jd2vU2ViJFxAJvqkynUSIV8AAeQskkIXedtaOuO+G2qTVc4vM5Yl4L8BLLXWbOaVC7H94sohdTBKzhtovEQjDoa0ct8kRxubPl4PHuDgjWyZNYjn3IARKXbmmZTnSR3N6UZg9w8ODZ9bIHrwccx8FxbPB42TXZ68GDw+DI6+HYtKpNvJlF0qFROzyXIxvp06j3wG1SrUNyMT9qtzxEMpdJOA1qBw7R28PZZMP24vfvD0vN+TCBQIRU8Q7Jcpm07zjL61JcquFJL5DwcMS6T/Y5TAWSJCPDABcIBjlJiGQqgAVYoSgBBvTHGmWf34/V7x0elEVkl08/6gqIPH6mCGaqlNOjw4OuzVpthaVkhq1ahZQP3H6D4kqFVm+A4wK4bJMczh/LkI9nWUxEKUeixJNJ0slzBDzgbGyyudXiq6Fv7ikzOPySsGf/POgN2O7kiQXyuyecCu4b9vfweS1iyThWvk7bnWOOJvWWh0Q5NjzC6vapF1aotPrYrgu4bG37CB95asQmG66PpG/sSKvlY9rrsr65s2v34PU+mG5ZgOvqhGeRJ8y+c6ruO/ikJbdXYqkRZLE+t7dpm8yxG40BvcE26yvnCKzsnjJ1cgD2Jptbm3zzSwFe3/PO6KbDYetzn2Pj4MV3wErFluqsZges179OMZvBU62SDT1keXaTxUyetXCJSj50eMlj6/5RPwcAvF7ud3hZFpZ1klM79bdgij1tsteDx91gy334YkVkSIFK5ACW14vPt3No0YcvX8TuJChXe6RyDoXsImvxMtXyqKepOU84t/PuAKmrDRL9Nq1Wg3p1iWTpdZZrFRIWTJ26SKWzTOxYFYGpxDXWyucO3Kd1P8K8xFLEyVHvusTcOh1PgnIMwGF1MUNxM0ulXiHitYbnPkXLx9tWx5pLRJ5sFp6THhzbYfw7trN1B9fjPyAw9aku1fDm6pw7KE15fXhoYe86kDTsffJ4PXjwjoLLmJ0gc+QFcSxgimihRTV9wMyDCkz5uVxvkA8c9P7JD/dYXh8Br49AKAQbURYrXbIrB7f2br9KNl3CzZSpZiP3N4PH87B1/6ifg4h8EjTkT+S4XHBdF+x11uwAycwoTAH99Q22xmZ0HBdPIEYys0S5XiPva1NpDPBM+/E6G2yMdy+5NvYhJxT5Aj7or+0eduHY2Afs74+c14qQikOn3qZZ72AlkqNzA/p01lwi6fQwTMFwLP72MbaJd5ppa0Bv/Hq+7oBN22J6Wrt2kadJIBbCXe+MtTEuvXYPK7T7fB4A+jWqa3doFxKEw2HC4TDZb26xUUkTTpbpeYOEvX066+OXCl9jzQ4QDXqwgmEC9ugiDSPOWoe+J0jwyGF0PkIB6Pd2X7bcse3hc6+factmY7xsXOzDGuK9PF482Azuz96jkk6QrY037DtR55BwNqiRS5ex8jUqY2EKOHLdP9LnMCnbwbFOcVJHzESORYFK5ACubWOPHoNBj2Z5ifK6l0QyBB4vPgZ01gaAy6BZZKXhctK9wx0HBtU08VSB1VHIcPprdAcWPq8HIimSvi7lQo2+y+hKUykS2eqB5xQFkmkigyorlR4O4A6aFNIJMpX9I9uPntcikorjdq7y9ZaHRGrnVOvhEd9ee3RFwH6dwqvrWFMO9iiNTQHO5ia2s2dYiDVHKmHRuFqibbuATbt4laY3SSqmPbHIk8a53/a5gDP6fdgb4k1cJOFUWS63Gdg2/WaR5bpF8tLcMD4MVikuVoY3hQ3kqLXbtBoNGo0GjUad5cRJplMlGtUMISKk0wHapQL1no1jd6kulehH0iQDQCBFJtKnvFylO3Cwe3UKpSa+TPoYvfseEqk53PoKpbYNuNjdMtlEikLbBStGOumhWSqO2mmHXjVHMpFndRSSDm3zADzT+L3jV/ALEA66NItLVNsDbHtAr75Iqekhnhi2s067wmJx9cEl4fMFevFFFuPW2Da3h0PIj1j3Iz+Hj8FgYwM3EOLADjwR2c+IPEHu3btnPvzwQ/Phhx+aH/3oR2Z7e9u47rb54Q/vmg8++OBjKOGmefms3/j9Y4+ZWXPm/GXz8lu3zV1jjDF3za3XLpuzszNmZua0Of/Ca+bmu++Yl87OmJnTV8zbd2+bt166aM7Ozhi/329mTp83l19+27y7U8Ttt8xLl86a2Znh+89eftm8/e6hFTLvvnPNXD5/2szM+M3M7Flz8aW3zO1hRcyNl86Ymctvjer18HmHVX/HXDntN/6zL5ubYy+/d+OauXRm1szMzJozF66Y67dum7eunDEzM2fNSzeMee+tK+bsjN/4Z18wb929Za6dnzEXXxtV+u5N89qVC+bM7MxwW1180Vy/NSr07nVzaeaMeWmssLvXL5mZMy+ZG5N9QCLyE/OOuTJuZzsNAAAgAElEQVS7p/3z+43ff8G8cns4x3s3XzMvnD9tZvx+M3vmgnnx+q377Y+5+ZI5M/Ng3r3efmHWnH15vOUZaytnTpuzl6+Zd8bbwnffMdcunzWnR+3ZpZfeMocs2pi7183lmTPmpfsNy3vmxmsvmAtnZs2Mf8bMnrlgrrxx80Fd794y11+8OGq3Zszp8y+YV268d39xu9u8fYWZt6+cNrMvvL1reW+9dMmcPT1j/DvlvXbT7Czx9isXzMyZl4bt7ntvmEv7trHf+P0z5vJbx1v3h34Oe9x8+YyZuXz9wfR3XjSnZ18wb9+f4y3zwsxp8+LYtnvj0syez0rk6bK19b55//33zQcffGB++MO7xnW3zfb2tvnRj350/3vmvXv3jr28E8YY86hDnchxGWPY+ZM1xnDv3j2MYfTzHs8999wjrqGIyE8rl9X5HFtLZVJP+Y2/3W6BRGaTfKtM8lijm7sUMh3Slezj3+szqJBK1knWa2SOc5VCkSfQ++//gBMn4JlnnuHEiWdGP3eenwDgxIkT938/iob8iYiIyI/PadLYChN+ysMUgBXJko91KZV7x7qEhduts+6PPv5hCodmqYKdWDjeJd9FBAD1UMkTRT1UIiLyWLDrzKfK+Eo18pGn45xRp7lAatmiUFsmpusKyVPs4+6hUqCSJ4oClYiIiIj8ODTkT0RERERE5DGhQCUiIiIiIjIhBSoREREREZEJKVCJiIiIiIhMSIFKRERERERkQgpUIiIiIiIiE1KgEhERERERmZAClYiIiIiIyIQUqERERERERCakQCUiIiIiIjIhBSoREREREZEJKVCJiIiIiIhMSIFKRERERERkQp9+1BUQeZzcuXPnUVdBRERERB7i1KlTj7oKuyhQiYx53P6DioiIiMjjTUP+REREREREJqRAJSIiIiIiMiEFKhERERERkQkpUImIiIiIiExIgUpERERERGRCClQiIiIiIiITUqASERERERGZkAKViIiIiIjIhBSoREREREREJqRAJSIiIiIiMiEFKhERERERkQkpUImIiIiIiExIgUpERERERGRCClQiIiIiIiITUqAS+chsqqkAgUCScv+AyW6dbDBAILpI9ziLay8QDQQIzq9OVp6IiIiIPDIKVCJ72W0qC2kS0TDBQIBAMEw8NU+5OTje+60gycxlLmcTeH+yNRUR+dg53SrZeJBAqoq9a4pLv75IOjFsG4PRBJnCKgN3fJYBq4UU4UCUhfa+BVOZTxEPBwkEoySzFbrOT3x1RER+4hSoRHbpUc5kWH6zixuIk7p0iYtzPpy1b7LylQzF3nGWESCZz5PPzOH7SVdXRORj1K9lSObqnAx4mdo7sVsks7CGf7HBWr/PWi3HyUaObGXUde60KaRSXLWnCex7s00tl6G0GaVQa9FtlEi5ZTL5+p7QJiLy5FGgEhk36NBY34bpNOXqVZaXllgu16gunidxPorXOehwqkNzIU4gECZd6eMeMOTP6VaYT8UJBwMEglFS81V6exe1fYfVYoZ4OEgwnCBT7nLowVt3wGohQzIeJhgME08tUOu5h8398PKb84QDAeKLNarZOMHwPE0Au0k5OzyaHAxGSc7vPpp8rHUSkSeKQ4JSvUo26tk/bWMd2xslPefFAixfklTUor/WxwVwXALzNWorSab3vblDvW2RXMwzF/Di8cXIFLIEmhUahyQqp1thPjnWxizUGG/m7GaRbDJKMBAknMhQbI8W1JwnnFikWk4TDSZGB8IcutUFUoko4eBw/sLqYNeyMonosOctHCe1UKN/eJMqIrKLApXIOI8X7xRgt6jUutgugEUoc5Xy1WUysb1fMlwG1Ry5NzeZvlCinAlg7V2ms0o+s8w3e16SyyUKSS+9by6RKbYZ319vt0tc3QiSySYJsEFrJUexfdAe3aVdSPPVV7tY8SVKK1lC9pvkM4s0D8x7R5RvDWtsN4pU7DDp9Dl89Cims6w0HaL5EqWlOG5jmUyuNjyafMx1EpEnSySVJrI/SwHgiSaJOC2qzQEu4A5WqXdgLhkZtnu+OdLnfDtNyh4uYO2e5p3GS5/uQT3/bptitshGtEhjrU+vVSS4tkh+pzdsUCWba3Byvkan16GagVo2T80GsMBuUBtcotqqkQuBXc+TLd0hVWqwtr5GY9FPJ58dhi23STFfw8rWhj1vjSLRjQL56jGHeYvIT71PP+oKiDxWPAkWlhP0Fhu8mf8Sb+ZPMh0MEY4mSWVSzPl2f1OwO0WyhRZEF6ksz3Hg9xArxHzlNS5bAUIhL1bUofbmEmtrawyIEdiZz5uiWM4TAuKsc25lnUa9x3Jsz8BBp8GrtU04dZGFpSQRIOK0aCzVeb21xFzS85HLt4AtK0GhukzMAtoL1Da2mUrkWErNYRGDVoOvNqo07BRpzzHXSUSeHr40pWKXdHaO0DbAFP6LZarJY5wt6okSD9mUy3UyK0l8lk238irtbZfI1jBs7WLFWGp0cD2eYbvqnSMV9VJb6+MSYFCv0gtkKJ/z4QFC6SJlT/fBUrZ8pHLnCHgBbFrVJt5MnXRo2D5653JkI1FK9R75nMuWA1MnPcP3e2Pka2sfwwYTkZ8WClQiu1gEUmVaiR7NRotWs0Nnrc03X+3wzWqFi+Uay3M78/apFtbZ3oZgPE7gwKOygGXhdKqs1Dr0Bw4u22wDuM6u3pypYPh+EAkE/Uyxzp3NTZy9Z2LZPfrbwJ3X+XLo9V2T+r0BJEOTlR+KERmtg72xyR2ARo7IrsUN6PYhHTveMkXkKdIrk11aJ15uUp/zwWCVQjZHplylng0d8WYf6eIy3ewic6EFpk56iaTTxKe7bO873wrAxW6XWLraoDcYtSvuFsxtAzDoDWB6euzCP14iyXMP3j41zfT9iQN6g23WV84RWNldytTJAVhzzOdDZHJRooEY8XiCZHr/ATQRkcMoUIkcxBNiLhViLpUFXHqVDKnlDrVXG+Tn4qOZtvFEEgT6DTrlZeqpCgcdqHXqebIrLQhfplRLEXAb5L60wnGOfx74PWPH9AVKpfTYuQoWlm9/39Cxy5+a2jdc8WSiQOVy8MELloXX9+Otk4g8mbrVCr3IEtU532iI3znymVeJluv0siGOilRWIMXVRooVxwGPB8utk614OeU9ILj0K2RzDfwrFVrJ4VDqbiFOenN8JpcD+rZGhY2/agFTRAstqumDe9NCmQqd1PBAWqNeIZcokyjVWTl3yPhHEZExOodKZMygNk8iGiS+0By7IIRFwD+NB9h23bEemCCZQpliLsrUVotCsXngRST67R5bQCCVYS4UwOv2OWhk/vb6Gju3meqvb7ANeKen9w8j9IWGV9BytpgKRYhEIoS8wzMUPAecvHDc8sd5/X5OAa4DvsiwDJ/l4roWHs9kyxSRJ5t7/5+x19ydf45+96Bdpz0AyzMcWue2V+laIeIHJDFnrUPfmyCT3Dkv1WZ9/cHVK3whH2xsjF0hcECzUmH1wHv1+QgFoN/r76q+Y9v3nzuOMzqQlmW50qCShvrrjcMvDCQiMkaBSmSMLzqHz91m880siWSG+YUFFrJpEtk3ucNJosn4vntL+VILpP1w581lygecXO0NDIfs9WplarUyueU1rFPAoEO92cdh9B1lUCM/X6RSXiBXXgemSaQO+KZhJbiYPAVbDZazRaq1MrlMmi+nlw68WtZxyt8nliblh+1OiVyhSq2yQCb1Zb6cH175aqJlishjz7FtbNvGtl3AGf0+HHIXSsTxtMsUm/boohRNStUu3kRyOFzZHc0/2GILF/fOYPh81CD0awWyuSLtgYPdq7O41MCTuszcAV1M1vQpPPYaa30XsOlWCtQdD9g2NhBIpAj1KyzXetiOTa+6TL7UYuvADiUPidQcbn2FUtsGXOxumWwiRaHtQq9IKj68SuDwaoU91jYcPNPTB/d+iYjsZUSeIPfu3TMffvih+fDDD82PfvQjs729bVx32/zwh3fNBx988LGUcffWdfPy5QvmzOyM8fv9xj8za86cv2xeeuOmec8YY8y75rULfuP3nzfXbg3f895bL5jTfr+ZufiauX33urk84zf+0y+aG8YYc/eGeeXSWTM7M2Nmz1wyL7/9rrn12kVzesZvZi+8Ym69/YKZ8fvN6StvmOsvXjCnZ/xm5vR588JrN83dQ8ozd2+Z6y9eHNVxxpw+f9lce+fdQ1boiPLfuTKs+wtv7X7f7bfMS5fOmtMzw21w9tJL5q3bx1zmx/JJiMgn6x1zZdY/bPd2PS6YV24bY8xdc/ONF83FM7NmZmbGzMyeNRdfvG5uDRsqc/u1Cwe8129mr7wznOG9d8y1S2fN7Ix/+N6X3jK3D6uKuW2uXzlvTo/KuXTthnn35jVzYXbGzF56w7xrjHn37ZfNpbOzZsY/Y2bPDtshY4wxb18xs7NXzNu7lveeufHaC+bCmdH8Zy6YK2/stLF3za03roym+c3M7Blz4YVXzI33Pt6tKyKPj62t9837779vPvjgA/PDH941rrtttre3zY9+9KP73zPv3bt37OWdMMaYRx3qRI7LGMPOn6wxhnv37mEMo5/3eO655x5xDUVERETkcfb++z/gxAl45plnOHHimdHPnecnADhx4sT934+iIX8iIiIiIiITUqASERERERGZkAKViIiIiIjIhBSoREREREREJqRAJSIiIiIiMiEFKhERERERkQkpUImIiIiIiExIgUpERERERGRCClQiIiIiIiITUqASERERERGZkAKViIiIiIjIhBSoREREREREJqRAJSIiIiIiMiEFKhERERERkQkpUImIiIiIiExIgUpERERERGRCn37UFRB5nNy5c+dRV0FEREREHuLUqVOPugq7KFCJjHnc/oOKiIiIyONNQ/5EREREREQmpEAlIiIiIiIyIQUqERERERGRCSlQiYiIiIiITEiBSkREREREZEIKVCIiIiIiIhNSoBIREREREZmQApWIiIiIiMiEFKhEREREREQmpEAlIiIiIiIyIQUqERERERGRCSlQiYiIiIiITOjTj7oCIo+VxncIpv4UZ98EL1/74zn+p889gjqJiIiIyGNLgUpkXGKW5h9/YddLdq3Dl9/4HF9UmBIRERGRPTTkT2SXKX72c88+eFjf5//+zbv83Zf/Cp8/aPZGm+DfuMFv/9Z3+JX/7ncIP3+dX/kH/5Fb3/p3fOVvN4h+/htEL/wxN++O5r/7ff5l9neJPv8mfu83iP7t7/Av/3B7OO37f8KXvb/L//naGonn3+RLvzV807vf+nd85W//DkHvm/g/3+Ar/8zm3UNq/2/+we8QzPwx//Li7+D//A2+Ddz97m1+/e+8NXz/89dJXPx3fPvPAf6Cf/Q3vsFX6x+O3r3Nb194k+n/5o+4tbPAP/wj4s9/m//37jb/5jfbJD7/JtOeN/B/vsFXf/MveO/H3t4iIiIiTzYFKpFDfci/+dq/5e2/Ncv//oufOmSeT8Gfb/IN/hr/z//3d2i/+TzvXuvw5Vee5Z/8boLOH0T5m3/Y4//6Vx8C2/ze//YtvvZdL//8D/4uG/Yv88/PbPGPL/xbfu8u8OyngC2+UfsU/+T3k/zWl5+FP+3za+kNrF/7W7TtC/T+9QyeV77Nr/3WDw6szbN8Cvdbf8KN5Bdp/8EsX7z7F3zt4nf49l/9G6zevsDGH53hV91/z//81du8y2f5pV+EG9/6/vDNd7/Ht7/7MwTc73Hjz4cvvfud7zH4wuf4he/+e/7+11x+9c0km87/QPv1/wr7n/0B/+IPP+ZNLiIiIvKEUaASOcyf/wlfq/4l/pff+Dk+89AZP8uvpjw8Czz7hf+Cz1vwC+nneR7gs5/lF/7qh9z+s7tw1+a3v3mPX/qNEF/83KeAZ/nib/w1fum9/8Bvf2unl+hD/no6xBd/forPPAu3ahvc+EKIf/IlD58Bnv355/k/fu0kN177D9w+qCrPfoj7mZ/j7335s/zsZz8Ff/SnfOPPvPyv/3ia558d1ufv/f3nsb71J7z9/U/xC+f/c5zvfG+4rO/+R2785Z/nf/zCD/i9P/wQ+JAbv/99Ame9/Ox7/wmHZ/jMZ6aAT/Gzv/hXeOPWL/MP/+uPZ1OLiIiIPKkUqEQOcfM3b3Hzb/0VfvXnj5jx2Wfxfnbn92ew+EvDMAPAMzwLcPdD+PMPuHX3P+Ov//xYb9ezP8Pzn/sQ+8/+084LPD82/fYffYD7+39AxPMG06NH7Ne/h/tnW4cO+7M+dxLf6Pf3vvsDnM/9DIHPjs3wl0/yPB9w68/gM7/4c3z+j21u3oXbv/89+IKX//7sz3DzX30f+D7vfOcv8cUzHjjzef7h2Q/49f/2OvG/0+Yf/dYmt75/5CYUEREReerpohQiB/oLfrt2l1/6p//lEb1TgHX8pT57nJms3b9b5/8mvdenj/deGA0dHHP34Nl4Fvh5L3/zZ/+Yt//oLu63fsBf/8pnef5zn4HXvsft78K373r5h18A8PCrlV/ml79r8/a/2uQbr9zg3Nc2+Kf/+szRgVNERETkKaYeKvn/27vzuKrqxP/jL5DrBYuLoteNTQFBQVTIPUgtl75q2uQypd9qUltsbEabHHWq0WomdVp0msr8jTpTfqVSccaFymVyQcVtcCc3MAUVvYoCCRcvwu+PC8hyQbxqbu/n4+GDu5zlc8895+HnfT/LEUf2nGTtaW96RFc1dsoJjerg657L/mOXr7xmvUja6Vr4+hscruIXUgcOZZJS9sULVs5UFZIq8Aq5D1PWRVLKtiYdzyGNOoQ3BKhL9w6X2Z9wgrXb69KjQy0IaUz4cQtrEzJI79CYKHeAy2RduIxXiJmBL7dj3qaHmeRv4e/xjsdyiYiIiNwrFKhEHMg6dIH0Rp7lu8pdL/fGDO3nysqpyWw+fRmwsnlyMusa+TE0xnFwCx4USNTxVN799AJZgPVYBpP7rWT4p5XvlOVQhwAG+lv4eEoGaVbgwjn+PjUN+gfSvfizRfWvz5F5R0hsZCaqLuBely4h55jz6QXCe5rxAtLmrqfzI7v5rjgMZh3KJOl4LfwaOg6CIiIiIvcKBSoRB7KPW8HLnYY3dKu16DEzhikhFsa1X4qPeSXj9tZnxpK2dK2qP19AEJ8uCcW4IIFI82LConezP7o981421XCf9Zn0ZQe6Hkqit99iAiO2ssy/NQtm+JR2ZXTv0Ijw4znkd6hfPDW8Ow90qE3KYXe6x9gL5jeyEzN65vBu9FJ8TIuJ7HuA/OGdmDa49nUdEREREZE7nUtRUVHRrS6ESE0VFRVRcsoWFRVRWFhIURHFfwvx8PC4xSUUERERkdvZTz9dxMUFXF1dcXFxLf5b8twFABcXl9LHV6MWKhEREREREScpUImIiIiIiDhJgUpERERERMRJClQiIiIiIiJOUqASERERERFxkgKViIiIiIiIkxSoREREREREnKRAJSIiIiIi4iQFKhEREREREScpUImIiIiIiDhJgUpERERERMRJClQiIiIiIiJOUqASERERERFxkgKViIiIiIiIkxSoREREREREnKRAJSIiIiIi4iQFKhEREREREScpUImIiIiIiDhJgUpERERERMRJClQiIiIiIiJOUqASERERERFxkgKViIiIiIiIkxSoREREREREnKRAJSIiIiIi4iQFKhEREREREScpUImIiIiIiDhJgUpERERERMRJClQit4Gd73Qn9MXV5AOsGktoxzfZ4mjB6t67Ximz6dtyOAssACnM6hfOk/Ynd6+dc3j+1VgOVHxc3XK3uizyM8gg/q1XmLYu61YXRERE7gBut7oAIgJhz33KV/m+GK+2YOdX+Gq2kaCbXiJfBr+3gN5m803f0y0V2p+JvzbQ5EYtV42sg/8hdlkCB1JOk1XgRh1Tffwj+zDsyS74G27MPmrElsbWbTYiHgykzs3eV9YGpv3uSw4EDub9PzxCg/IF4cD8N5i2HqLHT2dU6M0uTC4pm5IxdGxvP97Vqk/0c+OI8vK62YUSEZG7gFqoRG4DRt8wIoNMV1/QFERkpC81WPJ6S4Q5rB1Bd3meok5jgoLqXz1Y1HS5qpz6Dx/MWEVu+BAmTv+Av380nbd//TBeB2P5YN5+cm/EPmoq9Xti1x+17/Pn4OZBnbNb2Hqqwuu2o2zcaaOOx89Ujtxk4r9K5LitJgsb8PIPpInylIiI1IAClUhF6at5+1cDiG4bTmjb7vziN1+yM7v4vfVjaRPzJssXv8mT/foQ3bEL0U/NZkt25c1kLx5BaL/ZpJS8sPNPRAeG88Kq/JIlWP5iFI/8Jbl8l7+K29nyJo+0Hcz0nfnluvzlrxpNaMybLJg3ll/07E50xy488uI/SS7dSDY7F0zgFz270KZlOG16juDtVenlPufrT3QhtGU4HXqOZtbOst37KnT5s2xg+osD6NCyBc1bRhH91JssL7OpivJTVvD6U31o0zKc0LZd6PvibLaUbH79WNr0fJMFs4bToWUfpicD+SksHj+ADi3DCe04mNeXr2Z6z3BeWO7oiFQvd9PfeP6tlZTW31MW8dqoV/hoZ0lNOpetH7/KpLi0arvW5R6MZdIrf2FRiu26u+DlpiZzyqs9j/cNp4lXHQx16tAg6CFGvTCSIR2L47HDfZxj1buv2MtaxvG4KTz/7n84C3B2F7Ez/sxrr7zC86+8zjuzN5BSkpb2zeHlN2JZ+82H/PalKSzaEMtvZ2whK3Uxk176M/GnAFsaa+f9xb7+S6/y2rufs/Z48QZyE/ngpb+waNt/mPXun5k0YQK/feMz1tYslRTzJSIwm42by38G28FE9jYIIahsa1F1ZcnawLSSMhfLWvfhle963xxenhDL1k2xTHtrCq+9OoHX3lvJgVzAtoOPJswlKS+Zz199lQ82ZQHnSPrqQya98gq/GvUKL7/xNxbtK+niV77LX8pXr/Py7A0kffU3/vjG6/z2lQm8M38/6hAoIiKgQCVSQTLTfzWBLb6v8dW2/RxM+JTB+R/xwvjV2DOTESzxLLAM4vP4lWxMmEtvy0e8vbhyujB1foiwlK2lYSx95y6Mgb4kb/iheIkf2LLTSOeHwqouTsqXvPCbBMLem8WEyPIdAo0Y4cQSFp/9FZ+vWWcvS/p7vPCXZAAsyyfwwl8tDP5oJXsOJPGfNwPZMv5le4DBwuI3JrDc9Bu+2b2f7UtehBXxpFxyVIhsVr0xlgXZT/D5tsMc3b2MCeY1vDY+DocjrPJ3Mf3FCWwJeo1vdu/nYMJcBufP5oXxK4qXN4JlDYtP/IqvEhYxNgxS5o3j9fWB/HFNEnvWvE3YivdZkG5ftJJTG/jovViSqqjN1gkNw//UodJQcTb1KIbG9Tm+r6RCn86BVAMtW/tVfdxPbeCj2fvxH/EiQ4Kq7x+Wte1zps1OpGIDTLkyNW6M17ldrNqUVq5lyODfjuhIv2papeoT1cGPs/uSy2w/g607z+HftR0NSGPRzC840OBxJn74N/4+/SWibfF8NG9X8X4MkLWbjeceZuL03/P4Q8N488nmGPwGM/Wz1+nXJJe98z9mUUYLRv3pQ/7+2WRGhZ4mduYi9toAgwFIY+M2A4+Pf52p0yczKvAosXE7rqmFq2XHMGw7t3C89BUbezcl06RDexqUHt6rlOWqDJC1g7VZnfnd5Cm8P30MUVkriN10Dgzt+c343jRxC+PZDz/kdw96kbXuc2Ztq0O/P0znn3OmM7EnrJ29iCQHH8xgMJC7M4EDkSN5+09/5q+Te8OmWOJTKi8rIiL3HgUqkbJ2fslyy0OMffMhfI2AKYzhv+2Hcf0S1pe2QrVj8PB29rq+MYxuYUbSfzhReVu+HYk0/8CWZIBsdm44S+SwnpiSt9pbrVJ2sTO/E90iqyiLZQOvv/gR/HYu7/euqu9dOwY/187eBdAYxvBBrbBsSSAFC+tjN2B+7nWGh5kAI+Zuv2F0ZAqrViRD/lZWbTHS+6WnCDICpnaMeO4hjLUd7cNE74/WsfGfv8K+KV969+8EKbtwWJ9MjmN5eidG/75X6TEc8VI/jFvKHMMcHwb/thdBZhNG0lm/OgXfwS/wmK8RoymM4W8+RZDDcAc06cLj7TL4fOa/rrTElNUghCCvdA6kAeSSsi+LoG5tqZN22B5KTh0lxdaCiMAqtp+1n88/iYcBrzAq8up9vrw69ifa9m8+Kum650jQ4/zmuRBOffUuL7/yOu/M+JzY1TtIOXv1pNAg8gH8T+0gqSRRndrN3rPNiY6sDykJbM0K4/Enw+3BpI4fPQa0x7BvC3tLCpNXn+gB7ewtYxU3bjvExp02Igb0p6WXAfCi5YDeROTuZuPBkrIZaNm9C00MAHUICvWFcxn21rEaMoTGEGXbxdqSEyZ3PxsPNiI60gQlu6lRWa6mOdHdA+2f0+BHhJ+Bs2nnHC7p9eBL/PVPI4luUgeog3/H9vjb0klxGNRtGJp0pndocfRt0Jwgr2xOnbt6uRbG/Ztxv3/d4b+Fcf+u4ecSEZHbmSalECkjO+UEJ3ISeLFVfIV3WpFe0hxjNGMuM4jJaAQcdtYLoltneHtDCkSeYH1KIN3eewjjP2azM/tFzDs3kB75BJ2NVA4m+T8w68V4Nhh/w5rhQVVPVuHpi2+ZrGUym8CSioUTJKdf4of3HqX5e+VXqW06AZazpGPmsTLrGn0D8cVxP778lNVM/8vnrE9OJzvf/nkv0d/hstkpJ8g2+1BuSJhvEL5sI6Vk87XLlvss6RbwDfQts3wrwhrguAUMA/69XmJU2l/4aHZj3hzXpcJkB42JCIXYfRkQeI69GY2JGBGOYc1KUnL74JW6n7OBXWjpqOHJlk78JzvYa+jH1O6NKwcQh+oT/eKLnHp3Nh98M4aJff0crGfA/8FnefvBIZxNOcSBg8ns3f4vpn0dS9ATY/hd38Cq99WgHZ38/83Wfefo16Q+p3bu4FRQDCVvK9sAACAASURBVFFekLvvHGfzkvlo9H8rrOTL2ZJg4OZNg6pyYdY5Ttnq06l+mb0b6tPAy8bxs7kQCuCBl+nK+wYDYCvgWjr9YQgkuqOBjzYfwhYUgm3fFlL8HmJUA7cr5/7VylJNg+KV5U14lWnuMxiAqkpqy2DrV/9m1b7TZNlsgI3cgvoEVfXBTF5lWhINZbZd/Vky6PHHOH3GQurRH8u9Hti8GYMef6zadUVE5M6gQCVSlhFqN3iSz7e9Q2dH71czbsjRxiIfaocldheWlFR2mh9irLkVBKWyfmc25g2pBD3UyfEEEzk/kGLuRbsts5m+vB//77Eazg5RmutqA7Xp9M46vhruYN30fzpYOdthLCR/K2+/+Ed2dpvFV7OLW+7Wj6XNb2pSjgpKkqHRQUQ0VvnEgTo0CawPa9LJslGm2xiAgaDWzclaf5SsUxmkeIXxuJcvNM5gb2ouXvtO06R1iONudnlpnDK1JejgKhZta89vOtZwVgJDfYIau7ExLfsqVew6NAhqR3RQO6L7Qta2z/jjvH+z8cFX6VHlOvZuf4u27yerVzh7t2cQ1LMtXkCuAQymGH734TBaOlr1HCWpouqi1+Tz3QD+XbtQ571EDjzpS9amowR1f4Y6ZNySskAuSfM/ZtG5Pvxu8isEeRns48VeXXnD91SrVi2ee/oppn/wET9dvAjA/ffdx3NPP0WtWrVu+P5EROTnpy5/ImWYfAMxZ6eSUrZpJN+CxcGkEzXaXueHCEtJYNX6reRHtsMXE2GdGrBzQzzrk0107uzreMUG/Xl/9kz+9mYrtrwxgeVV3Q4qJ/1KyxlgsZwFcyBmfAkLgpQfUstlm2yLxf7c1AAzlnKfMz/lBBZH3ewsP7DTEsRjzxWHKSAlOZWcqj5zkA+m7BOklD1m6Smk40OYw1zYAF8TWMp9kB9IrqZPWe6+WD5YBkPGDsHRECf7OKr9JO07jC2wOQ2og3+oFyn7drA3zYOWofWrKHx7Ro0ZxegnfTkw/wu21mjWARspcR/z+bmH+N2IcAdBLZcDqz9nzqaMSu94+TXHizxyrzIgqUHkA/gf30FSyi62ng0hurU96NWp3xiv3AxOlS2nLYusmg5w8qpPA8M5jpftumY7x9ksAw0a3OD5Bpu0J7pBMhu37WBrWgt6tK6w/RqVxVauW2XWOScvTDI4kGojqFuMPUwBtrSjnCpwcnNXcf/99/Orp4fh6uqKq6srv3p6GPfff//N2ZmIiPzsFKhEyop8gsd8dzHrnThS8oH8FJa/MYRHXvyyZo1T6auZ/sY/r8z6Z25LpHkXs2JPENmpFQBBka3IX/9PVmV3pFuV81HYBzP5Dp7Onzvv4vXxcY73X/sHFvx1A5Z8wLKBWbEp+HaLIQgTvQc9RP7y95i5xQLkY9k5mxd6DuHtLflg6kTvyGxWffYlydmQb9nKzH9sJd/RGCpTA3xJZ8vOdCCf9PXvMX11Pp6lQTOfnQve5O3lxZ23IgfxmO9WZv1lA+n5QPYu5v01Hno/RTeHzXG+dO5s5ofY/8cqC5CdzOJ3viTd4Xgu4NR/+GjeUaJ+/RLRDapYxqs5QV5HiV9/jqBQe1+xJkG+2PZ9T1JuCBH+VaxX3EbS4MFneDb0KJ/PS7zqWKGz2+Yya6cvo8b2qeL+RnVoYDhH0vzPmLVuP8fPZpGbm8WplB0s+r/vOdWkPRFXu/lUg3ZE+6ez8estnArsQlRJw1lQZzo1OEr8V4mcsmHvxjb/L0z6ZEOV5TbgBrnpnMq1YTOEEx1pIGnZCg5k2YAsDsTFs9erPdGhN7q9qD6dujbiQFw8p1o/VLnL5dXK4tWYBnXOcTy1OD1m7WLtznM173poqIOBbE6dzcVm86KBFxw/eIgswHZqB7Gr0zG45ZGVfU2dGWssKLAZTwx8jCcGPkZQYLObsg8REbk1FKhEygljwj9n0jv7//GLtuGEtv1fZmb3428fPUUVbUnlWbayfPEKkkt/OA+jW2Q+J04E0rlklr6wToSlp5Id+RBVzUdxhZnH/vQ2nZP/zGsLHEQqUy+Gt4vn2ZhwQmPGsjPsDf72W3tKMz02nc9/78uW8X0IDYzikd+sxvfNT/ljZyNgZvh70+md/RG/aBdOh6f+ifm5XxFJfuXueqZeTHizE+nv9CG0ZXdeiPNl7Oy3Gey7ldd6TmB9fj4pq5eweENJFb4dE2ZPp3PKH+nbtgWhMWNZ7juez//Uq8r7Z4X9dia/D9rFazHhhPb7M8n9X6DKXo5NHmHih69fZfY9PyICCzh7rhEtA4uX8wvB/+xpcgPDanBjZC86PT2MlmmLmLPO8aQGJRp0fIn3//QsEdU06DTo/hITnw4nd30s096YyMu/eYN3PllBSv1+TBzbhyrzXan6RHRtTEpqBi0fDCvTCubHkLEjicpdyTuvvMLzr8zg37ntGf3CQ1SZNVt3IYIdfPDqFBalGIh4egzDGh9mzhuv8quX3mJOWnNGjR3ieIzZdfLq2AX/XDciHmzucJxZ9WUJ4fEn25MV9xa/fePPvDP/KBE9wzHYatgc1ySM6KBs4t+ewLTVNqJ/2R//g1/w2kuvMukf+2k5aCRDOrqx9eM/E3uTZu97sEtHHuzS8eZsXEREbhmXoqKioltdCJGaKioqouSULSoqorCwkKIiiv8W4uHxc90l9Dawaiyhb3hWPd7rDpOfX2ZoVf4GXuk4AePsRN6/Gz6ciIiI3DZ++ukiLi7g6uqKi4tr8d+S5y4AuLi4lD6+GrVQicgtl75gMG1iRrM4JRvyLeycN5v1xk70ruYWXSIiIiK3A83yJyK3nO/g6bz/wx+Z/kQXxudAg1YPMfqjt+ldVR9BueXOrv6QP8YdrXIMkyFyJH99sd3POHOfiIjIraEuf3JHUZc/EREREbke6vInIiIiIiJym1CgEhERERERcZIClYiIiIiIiJMUqERERERERJykQCUiIiIiIuIkBSoREREREREnKVCJiIiIiIg4SYFKRERERETESQpUIiIiIiIiTlKgEhERERERcZIClcgNcGbBenxMSxix4nLxK+eYGLwYnwf2sv+WlkxuF989twQf03q+OH2rS3JjOH/O3x7XxpEPV+NjWsrY1cUvHDpAL9Ni2o213MJSiYjInUiBSsShS+xfvJfRfVfTyW8JgabF+JiW0Kr1agY/t5eley6VW9rY0Jvu0WaiGtW6ReV15CJrPz3M2mO3sAjHDvOYaTE+psU8NPlCtYtaV2+hlWkxPqbljE34mcp3DY4sPsAXCVan1zdHmOne0ws/4w0s1DXYP3klPqbFDJ7r+DNYV9iPf2DfFM44WuBCGsPNi/EJTmIz13POGwiLaUT3DnUxXeOaN5XXfTzQsxFdIgy3uiQiInKHcbvVBRC5/VhZ+tz3vByXi9HfTJ9hLQgPcMdotbJ/ewYr4w7y8oqTJMb2YFqv2gB49YpgQa9bXOyKTmfw4cRkglq0oEfArS4MpMSl8t+3onjA4buXWDnvNNk/c5lq7gILp+5jaf/GPBPj7tQWHng1hgWv3uBiXYPw/o3wnZFDUryFrJF+eFV4P2mFxX78t58m8UIQA+uWf9+6/QRJ+WDq2ZQowN3pc97EM/+I4RlnVr2ZGvkxbYnfrS6FiIjcgdRCJVKBNWEvk+NyMfWMZP2+bsyaHsGYl1vw/KsRzPyyF1viAgnKz2H+xIO3dXc+6x4LR251IYr5tvfCdPwE81dfdrzAhZMsXGMjKMLz5y1YTV24wP7jt7oQ1ynChy4NIX/7CZIqNVJdYOXGfIwtPDHnW/hue+XvaX+8hWxc6dLfjHORUkRE5O6kQCVSQfahHCxA+CAfHP1e7dWrNTNiOzF3ZgC+xa9VHk9Snr271RJGLL7k4N0LvPvAYnz8NvNdaa+4i6z9dDuDH1hOoHkxPualdHp4M5MXZ1O2Lmzf73LGJlzku7Hf0868hE4TMlj6xBKCBqWTjY1Fg+zd6CZuL1nrEvsX7GLEg9/QylzSlfF7Rn+YQVq5ivY5JrdejM/DKaQdy+Ddp1bTyc++fLsHEpi84mJNDym0aUx3r3xWxmaQ5eDtM3HHSMz3okd0FVX1Yxn8/aX1PBS8lEDTYgL9ltPriSQWVuh6mfbp9/iYljB6RcUNWPni4cX4mLfwXfErWaXH7hL7FyQx+IGSbX/DY8+l8N8LZbbpv4N1+ZA+Yw0+psX0+vBKW1rW9hQmPmHvGupTsv5Te/nuUPlzodIYquIxOw9NvsCZhMOMfrj4+zAvpVPfJBYeqiJ8Osvdm0djDJBlYeX2Cu8dymDzcVeiRgYTZbSRGF+xe+YFVibkg9HMo9H2Ln5XO+evrJrBxAcW4+O3nr8fuoyjMVRn5n5fPJ7JyuYPN9Or9HteyeAJaRypFABrdn3Y93+BhWPX85DfktJz990VF8mvuFwVY6hq+v2KiMi9S4FKpAJTI3eMwP4VFsdjSajNA/39eDTGVKnbVFXChwcQRCGJcZbKgWJPGt8dBlPPALrXBbjIwie+538nZpDVphlTZnbi05mh9OAcc0asYciHF0orjUZcARuWebuZnODOwElh/LqnJ12mdGXqoDqAK13GdWFuXGdGtQC4zH8nr+ex0UdIMjbm1zM78em8tjzdwca6KRt5bNiPpJUWrHhszJl0xg3by5meEcz7T29WxbelC6eZ89xW/n6ohgfA2JiB/Yxkr0hlXaWhVBdZusBCfvtmDAhxsO7pNEY8spEpcVaCh7dmxrxOTJvkg9eeVMY9spbJDlpTalYmV4zY2D81kdFxBp7+rAerdvTg0xH3cSRuJyPHZWAFzP3aMndKI8wlj2OjeWvQfQBYt+/isb47mb+nNj3GtWXGrPZMGeGNdeNBRvbdznfVTUBhrIU7kJ2wm+ETLUS92onlm3qzbJYfpu2pjHtiL/917pNVoRZd+pkxks/mNeW/hDMJp0nmPrpHN6Z7B7AknCzf+nrMQuJhoEPT4nO0hqwX+PsTW5l/3ItfL+nC8yFVjLdyrwXYSJqSwMSN3oz5RzeWb+zGjGEG9s/ayuDRJ8pcNzW/PuAiC0esZ9y8c9AzjKnzOvCHkZ7sn7ieyWtsVy/+9Xy/IiJyz9AYKpEK3HuGMioig0/it9LtwRM8PcKPPjFmwkNqO9/VKaQpQyP2MXXjMRIv+PBomUrp/riTpGBkyLDGuANZK3YzeU0hXWb0ZPHI+0qXGzi8KUEPr2HK1L0sGx7D0EZgNIKRQhK3G5i7sQM9Srd7Hz06GCDOhm+0D4+WjHU5lsqUGVkQ0ZrF37ckuGTbg/2IYiUj4/bywWo/ZvayV3yNRuDwBYzz+jBzcPGnDzExbdJpVo44ybI1F3k+5EoZq+ZK9+E+mGN/ZH68lYHDyxzJQ2ks3OFKlxlN8XM/WWG9y6ydvIuVZ4wMiO3BrP61i1/3Y2jPOvR6cB9zJqQy6vsWDlsTq2OfG6KQ5NPerNoUQXhxkYLfakvSijV8siaNRBrTI6A+j8Z4MpnTEGLm0f5XvryUPbl4hZj59cxo/tChJCw049GQBDqPTmfOCiuPjqz+rLHsvcyvd3Tj+ZJxbiFteWvNCYbEnmTZnnY80OYaP1g1vGKaEmU8SeKaDI68Vbf4+79EYvw5aNiMLm3uw6unJ0yxsPkYhBeXKWtjBvuBsP6NaVjjvVlZOjqBKTsMDImN4Q8dal91jZSs+iz7T0seKD5k4W26krX3GybFHWThFB+eD7i264Pth/lgjQ1Tz/Ys/kez4rL7MbSfJ4Pb7wSqn4DiRny/IiJy91MLlUhF7vX5Q/zDzBhhxnQonU/GJTKg/TKC/L7hsaeS+HiBpULXuJowMXC4F2RZWLqxbIvKBZauyIGGPgyNqQVcYt28DLKpy4CetThz2lrmX2269q8LDsa4mHo2KxOmqpYWn0YSEDWiWWmYsqvNoyMaYyafdfGZ5Vcymnm6f/lKo1dAHczAmWM1PxDuMYEM9C8kcW5amVYw2L/gGMlGM0P7OwpmmSyNz4eGPjzdv0KFPKQZT0cAO06y9jpaCoL6B5SGKbs69iCRlYul+okJCR/ZleWbupWpbAPWy5j878MMpB2qQbfIDgEMLDdpSC382twHWDlzo1tAGpnpEwHsPc3mkm1bM/lueyGmmKaEA8ExZny5wLqNJd0pL5O4IpN8POkRXZPwDHCJ/05IYFwcdJ/VjZn9axY6fPsFlIYpO3d69K8LXGDd9ktc6/VxJMFCOq5EDWtaPggG+PF0z6v/93dDvl8REbnrqYVKxJG6dRk6sxtDp1nZn5DB5o0WEhMsJMankhSfytSJ3oya15W3etX812m/fs2ImribdXEZWPv72Fu7irv7+Y4IoKs7QC77jxUCFiZFrGBSFduyHLcCVyq3fjWczCFtz0XASHAbB+X2r4sfx0g6fpEszFe6M3q5Y664uLEWRiA7v7BG+7Wry9MjvJgz5UeWHmrBmBCAcyyMy8HUM4w+jag8ruV0NilZQLRXhQAI4I5fiAF2XCTlONDoGopSRsOQih+uFhjtlW1rpQJVdIn9C5L5YO5Jkg5bsWSVPx6+VaxVlrGRe+VWn+Kp1fOr3b+VtR8ms7TsWB53M8/PbEZ4levcR4/+XkzZcY6VCZd4ZnBt2H6SxCxXovp528/JiKZEeaWycoUF63Af3Mnku+028A+gT41ayy5zZO5WJs7KwndcD+YOr2kIAz8HrZ3mhu4YKeTMcStQeE3Xx5lDuYA7fgEVW8dqExziDvFX6/Z3/d+viIjc/RSoRKrj7k54r2aE92rG8wDWi2xesJeJE9OZM2w74fuKuxbVREBThrTfy6Q1aSRafejhXtLdrw6jhtcvXuiyvRJtNDMpNrSKinEtTBVCgMm9Zo3N+fk2wB2To3shuRvs9fgLl8sHmxpuuyaCBzUjaspuFi64wJi36mJNOMbS4wa6z2iKF1Qes5ZlwwoY3Ws7vGeR/XNfJsv520Ph/G2h7OPRhszIwtg+kFdnNCU8oPgYHjrMyNHpNdyOs/cus5K4IJVFh8u8ZLTRY1qzCi1u5QX3NOM7JYuk+EysgxuTssaChbr0iSkOHe7ePNrBlWXbT5Jk9aHroRMkngHzCJ9qgloZx1MZN66QfCA/wUKKtX615bnCFaNX5XPNvfj8y88q5Fqvj/z8y1R1vhu9DEB1gepGfb8iInK3U6ASuRbu99F1ZGdmHPqGAbMsLE24xNDBVx8bYncfjw6vz5Rxp1mYcJkevXLs3f1ahDK0Q8kyBvu4JVzx69C4Rt34roW9EnmZbEctH1abPUjVrXUdIeMqAvwYEr2XSXGp/HdSW7IXpGFp2JSnY6oIFV4GvIB86yWyodIYtmxrIWDA66oV9suVW7+ulzWDTz7NIt8/kP/7Jqq4hbHkvZ/jbsp1+cN/B/OHa12tjQ89Gh5hfsJJ9ls9SUrIgRat6Vr6w0BtuvSrD2syWXfoMg3XWEjHwICSFqyrya9F+OiuvOq+l5Ezkhk92cyq6fVrsG5hcWgqz2q1hx572HK9tuvDWIvSEFZB1umrtE7d8u9XRETuFBpDJVJONgvHbmbwU4ervYeTV6PiwezXWEtv2D+AKKONdXEWrMXd/cKGB5T5pf0+okJcIf8CiXsdbMB6yeG04zUVHHEfkM+RPZWbdKyHLnAE8G3hWePZC6+dOwNHmDEez2BRQgYL4234DgosX1ktq5EJ34bAoSwH38dFjhyygfE+wlvYXzGWdJWj4sx/VtIdT9novOM5pOWDMcJMVIXyH9l+DovjtW4D3vTpaYAz50jcm0niXvCNMZfrUtkwphFh5JC4MYekjTn26dI71LAlrUUg06Y3psdbnZjUHlJmbWVKgqPbBVR2ZG/lMUnpe3PJxxU///u41uvDL6QOYOXIsYr7v0TK4as0a96x36+IiPzcFKhEyqkNxy0kxiczbvI5x+Hl9Ak+mJcFxrp0j65p61SxRo0ZGuNK9pqTLIw7SQpeDB1UtjNbLboMb4yJfJbO+LHc5A1gZeGwb4kM3lLmflVXc7m425Ndw55+RBkhad6PFQKKlZXzTpJNHXoMvsHNYhV49Qykj1cua6ceJDHLk4Gl3R0d8WZoTyOcOcH8FeUrxdY9qSzcAcYOvqVTedunvC+sNFmANeEY392AG/PmZ5UJal7u9taz09ZylWvroRQmz8vFCA5bXG69WnTpb8ZEDus+TSMp30BUvwrfeYiZrv6wf80BvtteiDHmGqdLB8DE8/+IortXLvOfS6rROWtZkcracstdYOGKHPu11qEW13p9BHeoj5lCkmJPlu9OeiiV+QlX+W7u2O9XRER+buryJ1KOO0NnRLG233aWzVhLZJyZ7j29CPZ3x5Rl5cihTBLXZJKeb6DLtCieDrj6Fituv88wM8Y1aUydZ4P2bXm0wja8+rflrZ7nGLdmB4/1zeTXw8005CKJCw4zf+Nlwsa1qFHl1tTwPoxkse7DJD4+Xhe/6EAGtglk2qQfeWzKPgb3zS3e9iWSVhxhfrwN32HtebWmLRHOqtuYof2MLIvNhIjWDK12ooNadH2rHQPWbGXZc2vJfzmYgRG1yT+ewfxPj5Hs5c2Uac1KJ3Vwj/aju9dJVn66m48jwng0oBZn9vzIh1Nz8IuA9ENOVoD9PWkIJK3Yx+SQpvj6N+L5/o0ZGu1K4sZkXh7ryqietcnafoL5C7J4YGZreG4n6zYe5u8r4NGeZuf2e5O4R9unT18XdxKMjRy0PtWle7SBObHprASi+jV2rtUyoBkzZpyk94h0xo1OI+pLv2qnXQ/zz2Fcvy0MHeFDuNclkuYlM+cw+A4LK50J8Zquj5hgft3+R6asSWLwUxd4uqcnHM9k2YJMTDGesKaaVqpG1/b9+mn2dBGRe5YClUhFAX7M2uHFwHlHWLjYQlLcOVZmFQKumPw9CR8Uyh9GtmBgB+dqUF49m9HdeJqVWa50Ge7n4P5J9zF0ycOYP03mk7knmDo2lXwM+IaYGTUrjFeH163RWBav/mFM6nmBD9ccY+phC0NmBTCwTW3CX+3Gcv9kPphxkg/HppKNAXOIN0NntOfVkfWv4T5DzqpFj5E++Mam0nC4n4PZ+ypo5MesTe5ETU5m/oLdjDtTCF51CO8ZytxJYTxa9maxdf2YEXuRcRMP88mgtUw1Ggjq4MeYL7tgmrqCxEOQb6XyYKwalGHSuHRe/tTCnMkXCBpRl+f7mxj6jxjOjN3FnAU7eXmBAd+IRoz6Rzeej3Fl88vH2P/pSaaOhYabzDdvXJoz6jamTwdYtxHo0JQulQJ6LaJ6mjHGniQfL/rEOJ8WGg5uz7T4lYyMS+Llud4sHlnVkq74vdyJaVnJTP00iTmHbdDQk+6jo5j2VtlAdy3Xh4nnl3SDcbuZsyaVKfFgbmFm4Mxofp2VROSai9X02nW/pu9XgUpE5N7lUlRUVHSrCyFSU0VFRZScskVFRRQWFlJURPHfQjw8PG5xCUXkWp1ZsJ7I0efoPm8gCwbf5BZSERG55/3000VcXMDV1RUXF9fivyXPXQBwcXEpfXw1GkMlIiIiIiLiJAUqERERERERJylQiYiIiIiIOEljqOSOojFUIiIiInI9NIZKRERERETkNqFAJSIiIiIi4iQFKhEREREREScpUImIiIiIiDhJgUpERERERMRJClQiIiIiInJPqekMfjWhQCUiIiIiIuIkBSoREREREREnKVDJHaeqJtob2XQrIiIiIne3G1WnVKCSO5r9hC+61cUQERERkTtW0XX9MK9AJXcFtU6JiIiIyLW6EXVIBSoREREREblnuLholj+RckouCLVSiYiIiEhN3ag6pAKV3BVcXFwoKoKiIo2nEhERERHHCgsLSwNUUZG6/Mk9zsXFpdJFUFhYeItKIyIiIiK3u8uXLwOVg5SjemVNKVDJHcVR06z9ArD/LSgouFVFExEREZHbXEFBQWl4KluHLOFMN0AFKrlrlHT7K/nlQURERESkhM1mo6ioqLTOeKPG3ytQyR2t7C8MJfcQKCgo0FgqERERESlVWFiIzWZzWHe8nu5+oEAld7Cq+766cOnSJXX/ExERERFsNhtWqxUXFxdcXV0BxyHK2VDlUqSf8uUOVHLalv175V/J6/bnbm5uuLq6Fl9AIiIiInK3Kyws5PLly6U9lyqHqYo9nZyfRt3tRhde5Odk7wNbVO45FAElfWMpvZAqh7BbUGARERERuWlKslDZcOTq6lrai8nRRBRll3eGApXckRwHKUp/gSgbqgBcXV1KQ1XZZR1Ro62IiIjI7a2qAFR5JuiS+mDlMHWjuv2py5/c0arq+lf+sUu5111cKocmXQYiIiIidyZHoaikaudoAoryrzvf1a90fwpUcicre/o6Clfl/1a9joiIiIjc2RzfT6ri86pDlAKV3LOqCkhVBavKy96YexCIiIiIyK1S0hPJcRe+qwWo6xlDpUAld4XquvBdrUVKl4CIiJw/f57Tp0+TmZkJgLe3N40aNaJevXq3uGQiV5eSkkJqamqNlg0MDCQoKOgml+jn5ygQ1TQ8Xe8NfjUphdwVKk40UXmSiquvKyIi955Lly6xfft2UlJSyr1eUjkNCgqiQ4cO1K5d+1YUT6RGjh49yunTp2u0rIuLCy1atLjJJbo9XC043ag6oAKV3FWqmv0PahauRETk3nHp0iVWrVpV2ipVr149goODAThy5Ajnz58nJSWF8+fP06dPn2sPVXlJzH4vnszQ4bz2y0AMxS9nJn7GX4/35q1fBt6YD2KzsPdgAS1bNyndh10Omz6eTlxaheXdmjFo4ige9HRmZ3n8uCsNU7sQvJ0t71VUfXxsZO5bxaLVyZzMsWK77IZnkzD6PNGXqIYGh9uyO0Ts29/jM+Ylut3wQt/84+Gstm3bArB79+5K79WsPnQzzp8KTq5k6gJ4ZnwfPG7kdVFmu741mA3weilQyV2nqmnRq7tw1O1PROTes23btnJhasCAJgSPRQAADf1JREFUAaXPw8LCWLZsGefPnyczM5Nt27YRHR19TdvP3pVEXvuHCdi/jSO2QFpVV+e/HpYkVmwxE1wpUAG4EfrU67zY7kbt/BSbv00i8lYEiDObmbvkFB1HjeHFph5ADkeW/ZN5C7bhM+5BGlW5YghDxvuBx80o1C08Hj+LG33+3ByV6nhV3GvK4bI3gAKV3LUqXjDVhSa1XImI3FsyMzPLdfMLDg7m/PnzLF++HIABAwYQHBzM9u3bAfsYlcjISO6///4a7uE8u5IuEzWsEz7521l/yEpYa3uN3sXFBfKPED93GUknf6LAsxWPPzuYKG+wndzKl19v4IgV3Nzq0arXIIa0qwfH4nl7oRsjx/fBB648H+PH+i8SseS489fZVp556UH7+/Y9lVYqHf8/l8ORb+L4124LeYAp8BGeeiKKRgbIO7aeLxZu5kQBgJmOT/yS/qEFbPt8IbsuFHDw/QX0H9mRAzM3EDS+pLXiEF/8sfh5zkqmfm0lomEq23K6MvalTrAvnthvk8ksAEO9MPoP7UeEN2A7xfrYr/jPMfBs6EdkQ5fiCnGFMl84y3lTCK186hRPJ2WiRd/nGJ/jhreLC9mJc5iZ2oKuHOXA+fNk2prw6LNP0tH7EIvfL26hssYz9es8IgJ+4sczVnJy3Gg5YDi/CPUgM+EzPk5tTgSnOJGTQw5N6D9sMBHeYDuTxKKF6zmSUwBuZqKe+CX9g6wVjscgGu7+mi+3WLBRAJ4t6D90MFENa3jK3GDV1W1qVu9x/vxxfLw8gDyOfLOA2B3nMXiaCQ69HxcXzyv7qOK6cHw+2pvIMnct5Ytvk8nMA8/Qhxk2tFOZawBcXM6y/rN/sjf8f3kxxtGPDtdPgUruGQpNIiJSIiMjo9zzkuBUwlEl8vjx44SHh9dsB2f2st0Qxcj6tfFuH8Ti1QewRkThUbxta2o63mNeYXLDAo4s+ZgvvjtMm+HuxMeuxeV/xvBOa09sZzbxycdL2Bw8igddXErL5GIvoP1xnXCGDwhh35Ywxo2KqtAIU2YdB/8H5u1axvxkb54Z9xzBHjkkLfiM+Zv8Gd8Dvl+UgKH3WN5p50nerv9j6vIEolr2o9OgR9ieepRHfv8krTjEQZcrN0sttz+DCy4XDpPT+yXeae0JmVuZuSid1i+No2dTA5mJc5j5r500GxVFwdZlrLQ+yPjJnfC2HWfFx3MpaOqgzAFtaZP/Nf+IdeGR9iG0DGyCqbaJ+vWvfGc/pWbQeNxz9PK08eOSmXyxKY1OA8oeBwMuGXvJ6TeWV0I9sKUsZerCtURN6ofJYF/fd/xzPOEJp9f+jU++O0yr4Z6s+mIVP0W/xB+61IOTK5k5ZxnB458sfzxytvLxRg9+Mf73tPKwV/RXpGbwQKMmNTtnbrCK53hZNQ9Uzpw/BVUer1bnE1j8Xw8ee/V5ojzz+OHrj9nu0qZ0H46vi3pVno8+mZuYv/wnHhzzBzp657Btzsd8uSmI8aElYdDKD0v+j831BjL2JoUpUKASERGRe1BJ1z5HoqOjuf/++0lOTq7xOhWd2LIHj7a/sncDC4ik5flVJOVEXRl34t+xeNyPgeC2zWHJUc6ccedIXgt+0dq+kKFhGzo0/J4Dx2zXMV6lgCNLpjFpyZVXDJ5RPDO+N3n7j+LdeQzBHgCeRLVvzr9Xp5LZoxP9x0+E4uqnR1ALGi45SiaU++X/6vyILG5FyEvdywn/rrzY1L5N73Yd8fl2D0dsERhSLTRqG2Y/VgZ/IkPrsi3HweY8Qhg25lm2JWxm27LNLDpfgHdgGx7p25eOxdt1C2hDS08AA95NPMlLtVbezv0t6Bhqj54G/xb45G3gWCZEAARFEVl8rBv5+8MO+/fyQ14L+revZz8iTTvS0fszdp6EVmVbn9w88OAU23el4t0ukEbtBvLMNR2v25ET50+4tcrj5XMmjeyAjkR4AnjQqn0IHsfL7M7RdUFIleejZ+oPnAjoSKS3vQwdn32NSIMBTtrLfjrxa1ZmdmXEqJCb0+OzmAKViIiISDF/f38CAgL49ttv+emnn5zbiC2VzfszOJbzPuOXX3nZZ9d5HoyxT8Pu4el+pYLn4YFHgZW8PCt5Hh5lKn7ueLgXkGe1gtOByo3g/xnDU62vVPkMbu54UMC2vAJOrP6MP64teacAm6cnedg4vWsV/96YSrYNwMqZAr9r37OHJx7FTQJ5eXkUpC5l6tvxpe/bMNM6x0pBXgEeHlfK5+HpAY4CFYCnPx37+tOxL5Bn4YctS/lyThwe458kAMDNrUwrRBXV3LLH2OCGBzZsBcVvubtfWd/Drfh7KSDvp718OfXwlW0UFBCQkwdlA5VHG4aNKuC71auY/a0Fmrah/9C+RHnfmvFHNe+eWh0nzp9qjleeNQ/KHWP3ckHH4XVRzfmYl5OHm1uZ7RkMVx6fT2LR8gIM4R0x3YAjUR0FKhEREbnneHs7nkLA39+fzMxMh61RVa1TkS01iR/Mg3hzUtSVitzJlUz9eg+nY7phAGxWKzaKf3PPKyDPzR0PD3c88ixkU9IS9BN5Vjc83N0r76SggIKaVuM87sfkWblS7+nhRsD/jGFMlwppLXMTM5ecosOYl3iwocH+fGbFqd5KCwK2kg9eUPqwUhE8PHEP7cabz7ap0O3KRpIH5OVZKZk1Ii8nz+E28k4mc4TmRDQtrnJ7mGnV42FaJizl2Hnsgaom8vIo3YPNSl6BAY/iTebllP1e8shz87R/L/dH8Is/Dia44rYqBD+PplH84tkofkEOP36zgNlL9hI8KuqmV+gdOXLkyI3Z0LWeP2fWV3m8shMNFJQ993NyyCvza4HD6yJzG19WcT6aPD0oyLOSR/HZk5fD6QJ3+wQl7s0ZMqYrx+bGsWhfc55pffPaqFxv2pZFREREblNNmjge17Jx40a+/fZbh+8FBNSkyp7HgR2H8Q5vUb4S3bQVLQuS2H7S/rQgJYmdmQA2juw+BP7NadgwhFYeh9m8y15Lt53Zw/ZMPyICDOBZF1PeeTJtxevsT70SCgxuYC0TEmrEQLPw5pz5bxInird5esdSYndYwPoTeW518a5nAPI4smUvpwus2GyAmwEDVvLyADzx9MzhZI49RuUd3MOxAsd78whshc+xJLZlFi97chOxS5LJxkCzwCac3n2ITIC8VDbvv+AwmOUd20zsgqUknSn5pHmc2LGZI/gRZL6Gj249yrZ99m1kH9zDsXp+NCup0x/fU/y95HFk99Er34vnUTbvK05Peams+XolR/LKHw/bsZV8/PlWTtvsx8a76f03bcxOVfz9/WnXrl21/zp16nQD9lTN+VPN8TI19cPz2B725gDkkLTjcLnz1uF1Uc356BHYCp+T20g6Y7Nvb+HHfLHjgn1jHmYaeQfSf2gYJ5YsLd7nzaEWKhEREbnneHt7ExwcXOlX/I4dOwL2KdXLCg4OrlkXqrzDbD5oJnJAxT56/kSGFvDFjuN0rQeeoc3JXv4ZU0+eJ889jCGjQjAAfYY/zJdff8bb3wJu9Yj45S/p6AnQhkdaJ/GvmZ+xvt79NAsNvNLbrGkYrXLieG/qWZ6ZNJBWNTwGHu0G8tTJOL54fzM2m33M1uPDzeDZkT5B/+TLqTPw9DbTqldvHj3+Nf+evYlGY0Jo7b+SL6f+jZMjX6FbDz/mxn7GzHqeeIc2J9jzsOOdeXdi2BMZxM6dyX8KCsDdj64DiltuOvflkYNf897bGzB5N6drqB/kVE5m3l2G82LBUv49930W5RRQ4OaOd9MwHh3Vm1YGyK7h56Zecxqmfs1731rIKahHx6EP4wNkAh5BZs6U/V6eLfleHmHRws94ezkU4E5w98F08wDwK3M8/pdunnHMnvo9BYCbZ3P6/DLiZ2udCg4OJiYm5mfaWzXnD9Ucr4CHGdLuc758byorPM1EdA6j4Ul7y6ZHQRXXhae5mvOxI08NOMWXc6exIs8NU+jDPBNtBsuVchoCevNUu4+Zt2QPAc+2uSnfh0uRbsAjIiIi96BLly7xzTffcP78+dLXSn6937p1a+lr9erVo2/fvtd+Y1+5/ZS54WvFCTYyEz9j5vHevH2jbrj8Mzp8+DAtWrS41cW4Z6mFSkRERO5JtWvXpm/fvmzdurW0papskAL7r/6dOnVSmJLbmsLUraVAJSIiIves2rVrExMTQ3h4OKdOnSqdjMLb25uAgIAbNFOaiNzN1OVPRERERETESZrlT0RERERExEkKVCIiIiIiIk5SoBIREREREXGSApWIiIiIiIiTFKhEREREREScpEAlIiIiIiLiJAUqERERERERJylQiYiIiIiIOMntVhdA5Oeie1iLiIiI3FtcXFxu+j4UqOSudS0BSmFLRERE5M5UXWiqWMe7GQHLpUg1SbnLVHVK61QXERERubdUFaBuZLBSoJK7SsXT+WrPRUREROTuVDE0Xe25s9TlT+4K1QWnqh5X95qIiIiI3DmuFo5cXFxK63wly1Z87vS+1UIld7qrhaeKfysve/MHK4qIiIjIzeQ4HJU8r/i3usfXSi1UckerSYC68reqdfSbgoiIiMidzlErVFX1vJJly7ZWORuqFKjkrlA2PFV+7FLudRcXja0SERERuVs46sJXWHjlsT08FTpsvbqeIFVCgUruWI5aoso/ti9Xq5Yrrq6uP8t9CERERETk1isqKqKwsJCCggIKC4vKtVhVbMkqCVXOhiuNoZI7UsVue47CVK1artSqVetWFVFEREREbgOXL1+moKAAcClusSo/pqrkX4lrDVX/H/aHvueAvkMvAAAAAElFTkSuQmCC)"
      ],
      "metadata": {
        "id": "Tvk8SzMc4uKF"
      }
    },
    {
      "cell_type": "markdown",
      "metadata": {
        "id": "nV4Bqfq971ez"
      },
      "source": [
        "You can spot check data. You see your top and base elevation values agree, but the skiable area is very different. Your suspect value is 26819, but the value you've just looked up is 1819. The last three digits agree. This sort of error could have occured in transmission or some editing or transcription stage. You could plausibly replace the suspect value with the one you've just obtained. Another cautionary note to make here is that although you're doing this in order to progress with your analysis, this is most definitely an issue that should have been raised and fed back to the client or data originator as a query. You should view this \"data correction\" step as a means to continue (documenting it carefully as you do in this notebook) rather than an ultimate decision as to what is correct."
      ]
    },
    {
      "cell_type": "code",
      "execution_count": 37,
      "metadata": {
        "id": "7GMVLL8871e0",
        "colab": {
          "base_uri": "https://localhost:8080/"
        },
        "outputId": "17e983ce-74c7-4e81-a17e-8a0f526ff661"
      },
      "outputs": [
        {
          "output_type": "execute_result",
          "data": {
            "text/plain": [
              "26819.0"
            ]
          },
          "metadata": {},
          "execution_count": 37
        }
      ],
      "source": [
        "#Code task 21#\n",
        "#Use the .loc accessor to print the 'SkiableTerrain_ac' value only for this resort\n",
        "ski_data.loc[39, 'SkiableTerrain_ac']"
      ]
    },
    {
      "cell_type": "code",
      "execution_count": 38,
      "metadata": {
        "id": "socGIXFj71e0"
      },
      "outputs": [],
      "source": [
        "#Code task 22#\n",
        "#Use the .loc accessor again to modify this value with the correct value of 1819\n",
        "ski_data.loc[39, 'SkiableTerrain_ac'] = 1819"
      ]
    },
    {
      "cell_type": "code",
      "execution_count": 39,
      "metadata": {
        "id": "lIfGABEz71e0",
        "colab": {
          "base_uri": "https://localhost:8080/"
        },
        "outputId": "3df08184-246f-402d-e544-1107ae29fc38"
      },
      "outputs": [
        {
          "output_type": "execute_result",
          "data": {
            "text/plain": [
              "1819.0"
            ]
          },
          "metadata": {},
          "execution_count": 39
        }
      ],
      "source": [
        "#Code task 23#\n",
        "#Use the .loc accessor a final time to verify that the value has been modified\n",
        "ski_data.loc[39, 'SkiableTerrain_ac']"
      ]
    },
    {
      "cell_type": "markdown",
      "metadata": {
        "id": "ZSHUOaVR71e1"
      },
      "source": [
        "**NB whilst you may become suspicious about your data quality, and you know you have missing values, you will not here dive down the rabbit hole of checking all values or web scraping to replace missing values.**"
      ]
    },
    {
      "cell_type": "markdown",
      "metadata": {
        "id": "4UtL2jQf71e1"
      },
      "source": [
        "What does the distribution of skiable area look like now?"
      ]
    },
    {
      "cell_type": "code",
      "execution_count": 40,
      "metadata": {
        "id": "F3c1wij371e1",
        "outputId": "9172d840-2065-43b7-cb8e-4edc6edd7884",
        "colab": {
          "base_uri": "https://localhost:8080/",
          "height": 472
        }
      },
      "outputs": [
        {
          "output_type": "display_data",
          "data": {
            "text/plain": [
              "<Figure size 640x480 with 1 Axes>"
            ],
            "image/png": "[encoded data removed]"
          },
          "metadata": {}
        }
      ],
      "source": [
        "ski_data.SkiableTerrain_ac.hist(bins=30)\n",
        "plt.xlabel('SkiableTerrain_ac')\n",
        "plt.ylabel('Count')\n",
        "plt.title('Distribution of skiable area (acres) after replacing erroneous value');"
      ]
    },
    {
      "cell_type": "markdown",
      "metadata": {
        "id": "FhWUDWIi71e1"
      },
      "source": [
        "You now see a rather long tailed distribution. You may wonder about the now most extreme value that is above 8000, but similarly you may also wonder about the value around 7000. If you wanted to spend more time manually checking values you could, but leave this for now. The above distribution is plausible."
      ]
    },
    {
      "cell_type": "markdown",
      "metadata": {
        "id": "NItjKDd071e2"
      },
      "source": [
        "##### 2.6.4.2.2 Snow Making_ac<a id='2.6.4.2.2_Snow_Making_ac'></a>"
      ]
    },
    {
      "cell_type": "code",
      "execution_count": null,
      "metadata": {
        "id": "zo9bYEEs71e2",
        "outputId": "a4293e02-f98a-4e3a-9a91-eb0d6c9174c7"
      },
      "outputs": [
        {
          "data": {
            "text/plain": [
              "11    3379.0\n",
              "18    1500.0\n",
              "Name: Snow Making_ac, dtype: float64"
            ]
          },
          "execution_count": 31,
          "metadata": {},
          "output_type": "execute_result"
        }
      ],
      "source": [
        "ski_data['Snow Making_ac'][ski_data['Snow Making_ac'] > 1000]"
      ]
    },
    {
      "cell_type": "code",
      "execution_count": null,
      "metadata": {
        "id": "wz_qOatp71e2",
        "outputId": "1ce12a5c-84f2-49a5-a57c-ccd9a38b3923"
      },
      "outputs": [
        {
          "data": {
            "text/html": [
              "<div>\n",
              "<style scoped>\n",
              "    .dataframe tbody tr th:only-of-type {\n",
              "        vertical-align: middle;\n",
              "    }\n",
              "\n",
              "    .dataframe tbody tr th {\n",
              "        vertical-align: top;\n",
              "    }\n",
              "\n",
              "    .dataframe thead th {\n",
              "        text-align: right;\n",
              "    }\n",
              "</style>\n",
              "<table border=\"1\" class=\"dataframe\">\n",
              "  <thead>\n",
              "    <tr style=\"text-align: right;\">\n",
              "      <th></th>\n",
              "      <th>11</th>\n",
              "    </tr>\n",
              "  </thead>\n",
              "  <tbody>\n",
              "    <tr>\n",
              "      <th>Name</th>\n",
              "      <td>Heavenly Mountain Resort</td>\n",
              "    </tr>\n",
              "    <tr>\n",
              "      <th>Region</th>\n",
              "      <td>Sierra Nevada</td>\n",
              "    </tr>\n",
              "    <tr>\n",
              "      <th>state</th>\n",
              "      <td>California</td>\n",
              "    </tr>\n",
              "    <tr>\n",
              "      <th>summit_elev</th>\n",
              "      <td>10067</td>\n",
              "    </tr>\n",
              "    <tr>\n",
              "      <th>vertical_drop</th>\n",
              "      <td>3500</td>\n",
              "    </tr>\n",
              "    <tr>\n",
              "      <th>base_elev</th>\n",
              "      <td>7170</td>\n",
              "    </tr>\n",
              "    <tr>\n",
              "      <th>trams</th>\n",
              "      <td>2</td>\n",
              "    </tr>\n",
              "    <tr>\n",
              "      <th>fastEight</th>\n",
              "      <td>0</td>\n",
              "    </tr>\n",
              "    <tr>\n",
              "      <th>fastSixes</th>\n",
              "      <td>2</td>\n",
              "    </tr>\n",
              "    <tr>\n",
              "      <th>fastQuads</th>\n",
              "      <td>7</td>\n",
              "    </tr>\n",
              "    <tr>\n",
              "      <th>quad</th>\n",
              "      <td>1</td>\n",
              "    </tr>\n",
              "    <tr>\n",
              "      <th>triple</th>\n",
              "      <td>5</td>\n",
              "    </tr>\n",
              "    <tr>\n",
              "      <th>double</th>\n",
              "      <td>3</td>\n",
              "    </tr>\n",
              "    <tr>\n",
              "      <th>surface</th>\n",
              "      <td>8</td>\n",
              "    </tr>\n",
              "    <tr>\n",
              "      <th>total_chairs</th>\n",
              "      <td>28</td>\n",
              "    </tr>\n",
              "    <tr>\n",
              "      <th>Runs</th>\n",
              "      <td>97</td>\n",
              "    </tr>\n",
              "    <tr>\n",
              "      <th>TerrainParks</th>\n",
              "      <td>3</td>\n",
              "    </tr>\n",
              "    <tr>\n",
              "      <th>LongestRun_mi</th>\n",
              "      <td>5.5</td>\n",
              "    </tr>\n",
              "    <tr>\n",
              "      <th>SkiableTerrain_ac</th>\n",
              "      <td>4800</td>\n",
              "    </tr>\n",
              "    <tr>\n",
              "      <th>Snow Making_ac</th>\n",
              "      <td>3379</td>\n",
              "    </tr>\n",
              "    <tr>\n",
              "      <th>daysOpenLastYear</th>\n",
              "      <td>155</td>\n",
              "    </tr>\n",
              "    <tr>\n",
              "      <th>yearsOpen</th>\n",
              "      <td>64</td>\n",
              "    </tr>\n",
              "    <tr>\n",
              "      <th>averageSnowfall</th>\n",
              "      <td>360</td>\n",
              "    </tr>\n",
              "    <tr>\n",
              "      <th>AdultWeekday</th>\n",
              "      <td>NaN</td>\n",
              "    </tr>\n",
              "    <tr>\n",
              "      <th>AdultWeekend</th>\n",
              "      <td>NaN</td>\n",
              "    </tr>\n",
              "    <tr>\n",
              "      <th>projectedDaysOpen</th>\n",
              "      <td>157</td>\n",
              "    </tr>\n",
              "    <tr>\n",
              "      <th>NightSkiing_ac</th>\n",
              "      <td>NaN</td>\n",
              "    </tr>\n",
              "  </tbody>\n",
              "</table>\n",
              "</div>"
            ],
            "text/plain": [
              "                                         11\n",
              "Name               Heavenly Mountain Resort\n",
              "Region                        Sierra Nevada\n",
              "state                            California\n",
              "summit_elev                           10067\n",
              "vertical_drop                          3500\n",
              "base_elev                              7170\n",
              "trams                                     2\n",
              "fastEight                                 0\n",
              "fastSixes                                 2\n",
              "fastQuads                                 7\n",
              "quad                                      1\n",
              "triple                                    5\n",
              "double                                    3\n",
              "surface                                   8\n",
              "total_chairs                             28\n",
              "Runs                                     97\n",
              "TerrainParks                              3\n",
              "LongestRun_mi                           5.5\n",
              "SkiableTerrain_ac                      4800\n",
              "Snow Making_ac                         3379\n",
              "daysOpenLastYear                        155\n",
              "yearsOpen                                64\n",
              "averageSnowfall                         360\n",
              "AdultWeekday                            NaN\n",
              "AdultWeekend                            NaN\n",
              "projectedDaysOpen                       157\n",
              "NightSkiing_ac                          NaN"
            ]
          },
          "execution_count": 32,
          "metadata": {},
          "output_type": "execute_result"
        }
      ],
      "source": [
        "ski_data[ski_data['Snow Making_ac'] > 3000].T"
      ]
    },
    {
      "cell_type": "markdown",
      "metadata": {
        "id": "t7cbt7Hj71e2"
      },
      "source": [
        "You can adopt a similar approach as for the suspect skiable area value and do some spot checking. To save time, here is a link to the website for [Heavenly Mountain Resort](https://www.skiheavenly.com/the-mountain/about-the-mountain/mountain-info.aspx). From this you can glean that you have values for skiable terrain that agree. Furthermore, you can read that snowmaking covers 60% of the trails."
      ]
    },
    {
      "cell_type": "markdown",
      "metadata": {
        "id": "9l6I1KM571e3"
      },
      "source": [
        "What, then, is your rough guess for the area covered by snowmaking?"
      ]
    },
    {
      "cell_type": "code",
      "execution_count": null,
      "metadata": {
        "id": "plhDt6dL71e3",
        "outputId": "99dd7249-dbe3-4463-ad9e-bb435856ea53"
      },
      "outputs": [
        {
          "data": {
            "text/plain": [
              "2880.0"
            ]
          },
          "execution_count": 33,
          "metadata": {},
          "output_type": "execute_result"
        }
      ],
      "source": [
        ".6 * 4800"
      ]
    },
    {
      "cell_type": "markdown",
      "metadata": {
        "id": "zSq2JiP-71e3"
      },
      "source": [
        "This is less than the value of 3379 in your data so you may have a judgement call to make. However, notice something else. You have no ticket pricing information at all for this resort. Any further effort spent worrying about values for this resort will be wasted. You'll simply be dropping the entire row!"
      ]
    },
    {
      "cell_type": "markdown",
      "metadata": {
        "id": "MsAP3Tdf71e3"
      },
      "source": [
        "##### 2.6.4.2.3 fastEight<a id='2.6.4.2.3_fastEight'></a>"
      ]
    },
    {
      "cell_type": "markdown",
      "metadata": {
        "id": "MeLUshJR71e4"
      },
      "source": [
        "Look at the different fastEight values more closely:"
      ]
    },
    {
      "cell_type": "code",
      "execution_count": null,
      "metadata": {
        "id": "neEVby0P71e4",
        "outputId": "48da896b-169f-4e38-b2e3-54faad250b35"
      },
      "outputs": [
        {
          "data": {
            "text/plain": [
              "0.0    163\n",
              "1.0      1\n",
              "Name: fastEight, dtype: int64"
            ]
          },
          "execution_count": 34,
          "metadata": {},
          "output_type": "execute_result"
        }
      ],
      "source": [
        "ski_data.fastEight.value_counts()"
      ]
    },
    {
      "cell_type": "markdown",
      "metadata": {
        "id": "XKGIfGR871e4"
      },
      "source": [
        "Drop the fastEight column in its entirety; half the values are missing and all but the others are the value zero. There is essentially no information in this column."
      ]
    },
    {
      "cell_type": "code",
      "execution_count": null,
      "metadata": {
        "id": "NQBYcNWO71e4"
      },
      "outputs": [],
      "source": [
        "#Code task 24#\n",
        "#Drop the 'fastEight' column from ski_data. Use inplace=True\n",
        "ski_data.drop(columns=___, inplace=___)"
      ]
    },
    {
      "cell_type": "markdown",
      "metadata": {
        "id": "wBgHMntI71e5"
      },
      "source": [
        "What about yearsOpen? How many resorts have purportedly been open for more than 100 years?"
      ]
    },
    {
      "cell_type": "code",
      "execution_count": null,
      "metadata": {
        "id": "BtOWf2iO71e5"
      },
      "outputs": [],
      "source": [
        "#Code task 25#\n",
        "#Filter the 'yearsOpen' column for values greater than 100\n",
        "ski_data.___[ski_data.___ > ___]"
      ]
    },
    {
      "cell_type": "markdown",
      "metadata": {
        "id": "Zbmtjx5b71e5"
      },
      "source": [
        "Okay, one seems to have been open for 104 years. But beyond that, one is down as having been open for 2019 years. This is wrong! What shall you do about this?"
      ]
    },
    {
      "cell_type": "markdown",
      "metadata": {
        "id": "mwg4G4Ti71e5"
      },
      "source": [
        "What does the distribution of yearsOpen look like if you exclude just the obviously wrong one?"
      ]
    },
    {
      "cell_type": "code",
      "execution_count": null,
      "metadata": {
        "id": "V1hXoG-271e5"
      },
      "outputs": [],
      "source": [
        "#Code task 26#\n",
        "#Call the hist method on 'yearsOpen' after filtering for values under 1000\n",
        "#Pass the argument bins=30 to hist(), but feel free to explore other values\n",
        "ski_data.___[ski_data.___ < ___].hist(___)\n",
        "plt.xlabel('Years open')\n",
        "plt.ylabel('Count')\n",
        "plt.title('Distribution of years open excluding 2019');"
      ]
    },
    {
      "cell_type": "markdown",
      "metadata": {
        "id": "9bTgcJYI71e6"
      },
      "source": [
        "The above distribution of years seems entirely plausible, including the 104 year value. You can certainly state that no resort will have been open for 2019 years! It likely means the resort opened in 2019. It could also mean the resort is due to open in 2019. You don't know when these data were gathered!"
      ]
    },
    {
      "cell_type": "markdown",
      "metadata": {
        "id": "rCDJq0If71e6"
      },
      "source": [
        "Let's review the summary statistics for the years under 1000."
      ]
    },
    {
      "cell_type": "code",
      "execution_count": null,
      "metadata": {
        "id": "UFhLuFnh71e6",
        "outputId": "80bfa20d-1fc3-480d-c050-00982382c9d9"
      },
      "outputs": [
        {
          "data": {
            "text/plain": [
              "count    328.000000\n",
              "mean      57.695122\n",
              "std       16.841182\n",
              "min        6.000000\n",
              "25%       50.000000\n",
              "50%       58.000000\n",
              "75%       68.250000\n",
              "max      104.000000\n",
              "Name: yearsOpen, dtype: float64"
            ]
          },
          "execution_count": 38,
          "metadata": {},
          "output_type": "execute_result"
        }
      ],
      "source": [
        "ski_data.yearsOpen[ski_data.yearsOpen < 1000].describe()"
      ]
    },
    {
      "cell_type": "markdown",
      "metadata": {
        "id": "dz9UgJyV71e6"
      },
      "source": [
        "The smallest number of years open otherwise is 6. You can't be sure whether this resort in question has been open zero years or one year and even whether the numbers are projections or actual. In any case, you would be adding a new youngest resort so it feels best to simply drop this row."
      ]
    },
    {
      "cell_type": "code",
      "execution_count": null,
      "metadata": {
        "id": "PptDlAWG71e6"
      },
      "outputs": [],
      "source": [
        "ski_data = ski_data[ski_data.yearsOpen < 1000]"
      ]
    },
    {
      "cell_type": "markdown",
      "metadata": {
        "id": "eDtce02J71e7"
      },
      "source": [
        "##### 2.6.4.2.4 fastSixes and Trams<a id='2.6.4.2.4_fastSixes_and_Trams'></a>"
      ]
    },
    {
      "cell_type": "markdown",
      "metadata": {
        "id": "-3ef_SNr71e7"
      },
      "source": [
        "The other features you had mild concern over, you will not investigate further. Perhaps take some care when using these features."
      ]
    },
    {
      "cell_type": "markdown",
      "metadata": {
        "id": "BCqqNdlH71e7"
      },
      "source": [
        "## 2.7 Derive State-wide Summary Statistics For Our Market Segment<a id='2.7_Derive_State-wide_Summary_Statistics_For_Our_Market_Segment'></a>"
      ]
    },
    {
      "cell_type": "markdown",
      "metadata": {
        "id": "iUU9cu2371e7"
      },
      "source": [
        "You have, by this point removed one row, but it was for a resort that may not have opened yet, or perhaps in its first season. Using your business knowledge, you know that state-wide supply and demand of certain skiing resources may well factor into pricing strategies. Does a resort dominate the available night skiing in a state? Or does it account for a large proportion of the total skiable terrain or days open?\n",
        "\n",
        "If you want to add any features to your data that captures the state-wide market size, you should do this now, before dropping any more rows. In the next section, you'll drop rows with missing price information. Although you don't know what those resorts charge for their tickets, you do know the resorts exists and have been open for at least six years. Thus, you'll now calculate some state-wide summary statistics for later use."
      ]
    },
    {
      "cell_type": "markdown",
      "metadata": {
        "id": "jRMBuNbI71e7"
      },
      "source": [
        "Many features in your data pertain to chairlifts, that is for getting people around each resort. These aren't relevant, nor are the features relating to altitudes. Features that you may be interested in are:\n",
        "\n",
        "* TerrainParks\n",
        "* SkiableTerrain_ac\n",
        "* daysOpenLastYear\n",
        "* NightSkiing_ac\n",
        "\n",
        "When you think about it, these are features it makes sense to sum: the total number of terrain parks, the total skiable area, the total number of days open, and the total area available for night skiing. You might consider the total number of ski runs, but understand that the skiable area is more informative than just a number of runs."
      ]
    },
    {
      "cell_type": "markdown",
      "metadata": {
        "id": "zRGx1_0P71e8"
      },
      "source": [
        "A fairly new groupby behaviour is [named aggregation](https://pandas-docs.github.io/pandas-docs-travis/whatsnew/v0.25.0.html). This allows us to clearly perform the aggregations you want whilst also creating informative output column names."
      ]
    },
    {
      "cell_type": "code",
      "execution_count": null,
      "metadata": {
        "id": "YYRCo3Rf71e8"
      },
      "outputs": [],
      "source": [
        "#Code task 27#\n",
        "#Add named aggregations for the sum of 'daysOpenLastYear', 'TerrainParks', and 'NightSkiing_ac'\n",
        "#call them 'state_total_days_open', 'state_total_terrain_parks', and 'state_total_nightskiing_ac',\n",
        "#respectively\n",
        "#Finally, add a call to the reset_index() method (we recommend you experiment with and without this to see\n",
        "#what it does)\n",
        "state_summary = ski_data.groupby('state').agg(\n",
        "    resorts_per_state=pd.NamedAgg(column='Name', aggfunc='size'), #could pick any column here\n",
        "    state_total_skiable_area_ac=pd.NamedAgg(column='SkiableTerrain_ac', aggfunc='sum'),\n",
        "    state_total_days_open=pd.NamedAgg(column=__, aggfunc='sum'),\n",
        "    ___=pd.NamedAgg(column=___, aggfunc=___),\n",
        "    ___=pd.NamedAgg(column=___, aggfunc=___)\n",
        ").___\n",
        "state_summary.head()"
      ]
    },
    {
      "cell_type": "markdown",
      "metadata": {
        "id": "nOpMIY6E71e8"
      },
      "source": [
        "## 2.8 Drop Rows With No Price Data<a id='2.8_Drop_Rows_With_No_Price_Data'></a>"
      ]
    },
    {
      "cell_type": "markdown",
      "metadata": {
        "id": "A_Op3Wfi71e8"
      },
      "source": [
        "You know there are two columns that refer to price: 'AdultWeekend' and 'AdultWeekday'. You can calculate the number of price values missing per row. This will obviously have to be either 0, 1, or 2, where 0 denotes no price values are missing and 2 denotes that both are missing."
      ]
    },
    {
      "cell_type": "code",
      "execution_count": null,
      "metadata": {
        "id": "iqll3mcx71e8",
        "outputId": "b1289d8a-74fd-4c44-f85e-1562350f262a"
      },
      "outputs": [
        {
          "data": {
            "text/plain": [
              "0    82.317073\n",
              "2    14.329268\n",
              "1     3.353659\n",
              "dtype: float64"
            ]
          },
          "execution_count": 41,
          "metadata": {},
          "output_type": "execute_result"
        }
      ],
      "source": [
        "missing_price = ski_data[['AdultWeekend', 'AdultWeekday']].isnull().sum(axis=1)\n",
        "missing_price.value_counts()/len(missing_price) * 100"
      ]
    },
    {
      "cell_type": "markdown",
      "metadata": {
        "id": "-y1Ku7zd71e9"
      },
      "source": [
        "About 14% of the rows have no price data. As the price is your target, these rows are of no use. Time to lose them."
      ]
    },
    {
      "cell_type": "code",
      "execution_count": null,
      "metadata": {
        "id": "hdS2efAV71e9"
      },
      "outputs": [],
      "source": [
        "#Code task 28#\n",
        "#Use `missing_price` to remove rows from ski_data where both price values are missing\n",
        "ski_data = ski_data[___ != 2]"
      ]
    },
    {
      "cell_type": "markdown",
      "metadata": {
        "id": "2KWy3jJK71e9"
      },
      "source": [
        "## 2.9 Review distributions<a id='2.9_Review_distributions'></a>"
      ]
    },
    {
      "cell_type": "code",
      "execution_count": null,
      "metadata": {
        "id": "gLpAcqgg71e9",
        "outputId": "5340c74b-4d23-4f20-bff7-9c3d73c43a03"
      },
      "outputs": [
        {
          "data": {
            "image/png": "[encoded data removed]",
            "text/plain": [
              "<Figure size 1080x720 with 25 Axes>"
            ]
          },
          "metadata": {
            "needs_background": "light"
          },
          "output_type": "display_data"
        }
      ],
      "source": [
        "ski_data.hist(figsize=(15, 10))\n",
        "plt.subplots_adjust(hspace=0.5);"
      ]
    },
    {
      "cell_type": "markdown",
      "metadata": {
        "id": "f1tagNDz71e-"
      },
      "source": [
        "These distributions are much better. There are clearly some skewed distributions, so keep an eye on `fastQuads`, `fastSixes`, and perhaps `trams`. These lack much variance away from 0 and may have a small number of relatively extreme values.  Models failing to rate a feature as important when domain knowledge tells you it should be is an issue to look out for, as is a model being overly influenced by some extreme values. If you build a good machine learning pipeline, hopefully it will be robust to such issues, but you may also wish to consider nonlinear transformations of features."
      ]
    },
    {
      "cell_type": "markdown",
      "metadata": {
        "id": "HcDn383f71e-"
      },
      "source": [
        "## 2.10 Population data<a id='2.10_Population_data'></a>"
      ]
    },
    {
      "cell_type": "markdown",
      "metadata": {
        "id": "2IcKFR8D71e-"
      },
      "source": [
        "Population and area data for the US states can be obtained from [wikipedia](https://simple.wikipedia.org/wiki/List_of_U.S._states). Listen, you should have a healthy concern about using data you \"found on the Internet\". Make sure it comes from a reputable source. This table of data is useful because it allows you to easily pull and incorporate an external data set. It also allows you to proceed with an analysis that includes state sizes and populations for your 'first cut' model. Be explicit about your source (we documented it here in this workflow) and ensure it is open to inspection. All steps are subject to review, and it may be that a client has a specific source of data they trust that you should use to rerun the analysis."
      ]
    },
    {
      "cell_type": "code",
      "execution_count": null,
      "metadata": {
        "id": "v1l6Jnjy71e-"
      },
      "outputs": [],
      "source": [
        "#Code task 29#\n",
        "#Use pandas' `read_html` method to read the table from the URL below\n",
        "states_url = 'https://simple.wikipedia.org/w/index.php?title=List_of_U.S._states&oldid=7168473'\n",
        "usa_states = pd.___(___)"
      ]
    },
    {
      "cell_type": "code",
      "execution_count": null,
      "metadata": {
        "id": "rLO_F0vZ71e-",
        "outputId": "abdc1845-4287-4fe4-b172-8e4ff2b10a47"
      },
      "outputs": [
        {
          "data": {
            "text/plain": [
              "list"
            ]
          },
          "execution_count": 45,
          "metadata": {},
          "output_type": "execute_result"
        }
      ],
      "source": [
        "type(usa_states)"
      ]
    },
    {
      "cell_type": "code",
      "execution_count": null,
      "metadata": {
        "id": "kBkwv2L471e-",
        "outputId": "a6d95e99-8942-403d-e47e-29a6334c188b"
      },
      "outputs": [
        {
          "data": {
            "text/plain": [
              "1"
            ]
          },
          "execution_count": 46,
          "metadata": {},
          "output_type": "execute_result"
        }
      ],
      "source": [
        "len(usa_states)"
      ]
    },
    {
      "cell_type": "code",
      "execution_count": null,
      "metadata": {
        "id": "n-GZGduH71e_",
        "outputId": "f02cd982-107b-46de-bed2-112f1094a4f0"
      },
      "outputs": [
        {
          "data": {
            "text/html": [
              "<div>\n",
              "<style scoped>\n",
              "    .dataframe tbody tr th:only-of-type {\n",
              "        vertical-align: middle;\n",
              "    }\n",
              "\n",
              "    .dataframe tbody tr th {\n",
              "        vertical-align: top;\n",
              "    }\n",
              "\n",
              "    .dataframe thead tr th {\n",
              "        text-align: left;\n",
              "    }\n",
              "</style>\n",
              "<table border=\"1\" class=\"dataframe\">\n",
              "  <thead>\n",
              "    <tr>\n",
              "      <th></th>\n",
              "      <th colspan=\"2\" halign=\"left\">Name &amp;postal abbs. [1]</th>\n",
              "      <th colspan=\"2\" halign=\"left\">Cities</th>\n",
              "      <th>Established[upper-alpha 1]</th>\n",
              "      <th>Population[upper-alpha 2][3]</th>\n",
              "      <th colspan=\"2\" halign=\"left\">Total area[4]</th>\n",
              "      <th colspan=\"2\" halign=\"left\">Land area[4]</th>\n",
              "      <th colspan=\"2\" halign=\"left\">Water area[4]</th>\n",
              "      <th>Numberof Reps.</th>\n",
              "    </tr>\n",
              "    <tr>\n",
              "      <th></th>\n",
              "      <th>Name &amp;postal abbs. [1]</th>\n",
              "      <th>Name &amp;postal abbs. [1].1</th>\n",
              "      <th>Capital</th>\n",
              "      <th>Largest[5]</th>\n",
              "      <th>Established[upper-alpha 1]</th>\n",
              "      <th>Population[upper-alpha 2][3]</th>\n",
              "      <th>mi2</th>\n",
              "      <th>km2</th>\n",
              "      <th>mi2</th>\n",
              "      <th>km2</th>\n",
              "      <th>mi2</th>\n",
              "      <th>km2</th>\n",
              "      <th>Numberof Reps.</th>\n",
              "    </tr>\n",
              "  </thead>\n",
              "  <tbody>\n",
              "    <tr>\n",
              "      <th>0</th>\n",
              "      <td>Alabama</td>\n",
              "      <td>AL</td>\n",
              "      <td>Montgomery</td>\n",
              "      <td>Birmingham</td>\n",
              "      <td>Dec 14, 1819</td>\n",
              "      <td>4903185</td>\n",
              "      <td>52420</td>\n",
              "      <td>135767</td>\n",
              "      <td>50645</td>\n",
              "      <td>131171</td>\n",
              "      <td>1775</td>\n",
              "      <td>4597</td>\n",
              "      <td>7</td>\n",
              "    </tr>\n",
              "    <tr>\n",
              "      <th>1</th>\n",
              "      <td>Alaska</td>\n",
              "      <td>AK</td>\n",
              "      <td>Juneau</td>\n",
              "      <td>Anchorage</td>\n",
              "      <td>Jan 3, 1959</td>\n",
              "      <td>731545</td>\n",
              "      <td>665384</td>\n",
              "      <td>1723337</td>\n",
              "      <td>570641</td>\n",
              "      <td>1477953</td>\n",
              "      <td>94743</td>\n",
              "      <td>245384</td>\n",
              "      <td>1</td>\n",
              "    </tr>\n",
              "    <tr>\n",
              "      <th>2</th>\n",
              "      <td>Arizona</td>\n",
              "      <td>AZ</td>\n",
              "      <td>Phoenix</td>\n",
              "      <td>Phoenix</td>\n",
              "      <td>Feb 14, 1912</td>\n",
              "      <td>7278717</td>\n",
              "      <td>113990</td>\n",
              "      <td>295234</td>\n",
              "      <td>113594</td>\n",
              "      <td>294207</td>\n",
              "      <td>396</td>\n",
              "      <td>1026</td>\n",
              "      <td>9</td>\n",
              "    </tr>\n",
              "    <tr>\n",
              "      <th>3</th>\n",
              "      <td>Arkansas</td>\n",
              "      <td>AR</td>\n",
              "      <td>Little Rock</td>\n",
              "      <td>Little Rock</td>\n",
              "      <td>Jun 15, 1836</td>\n",
              "      <td>3017804</td>\n",
              "      <td>53179</td>\n",
              "      <td>137732</td>\n",
              "      <td>52035</td>\n",
              "      <td>134771</td>\n",
              "      <td>1143</td>\n",
              "      <td>2961</td>\n",
              "      <td>4</td>\n",
              "    </tr>\n",
              "    <tr>\n",
              "      <th>4</th>\n",
              "      <td>California</td>\n",
              "      <td>CA</td>\n",
              "      <td>Sacramento</td>\n",
              "      <td>Los Angeles</td>\n",
              "      <td>Sep 9, 1850</td>\n",
              "      <td>39512223</td>\n",
              "      <td>163695</td>\n",
              "      <td>423967</td>\n",
              "      <td>155779</td>\n",
              "      <td>403466</td>\n",
              "      <td>7916</td>\n",
              "      <td>20501</td>\n",
              "      <td>53</td>\n",
              "    </tr>\n",
              "  </tbody>\n",
              "</table>\n",
              "</div>"
            ],
            "text/plain": [
              "  Name &postal abbs. [1]                                Cities               \\\n",
              "  Name &postal abbs. [1] Name &postal abbs. [1].1      Capital   Largest[5]   \n",
              "0                Alabama                       AL   Montgomery   Birmingham   \n",
              "1                 Alaska                       AK       Juneau    Anchorage   \n",
              "2                Arizona                       AZ      Phoenix      Phoenix   \n",
              "3               Arkansas                       AR  Little Rock  Little Rock   \n",
              "4             California                       CA   Sacramento  Los Angeles   \n",
              "\n",
              "  Established[upper-alpha 1] Population[upper-alpha 2][3] Total area[4]  \\\n",
              "  Established[upper-alpha 1] Population[upper-alpha 2][3]           mi2   \n",
              "0               Dec 14, 1819                      4903185         52420   \n",
              "1                Jan 3, 1959                       731545        665384   \n",
              "2               Feb 14, 1912                      7278717        113990   \n",
              "3               Jun 15, 1836                      3017804         53179   \n",
              "4                Sep 9, 1850                     39512223        163695   \n",
              "\n",
              "           Land area[4]          Water area[4]         Numberof Reps.  \n",
              "       km2          mi2      km2           mi2     km2 Numberof Reps.  \n",
              "0   135767        50645   131171          1775    4597              7  \n",
              "1  1723337       570641  1477953         94743  245384              1  \n",
              "2   295234       113594   294207           396    1026              9  \n",
              "3   137732        52035   134771          1143    2961              4  \n",
              "4   423967       155779   403466          7916   20501             53  "
            ]
          },
          "execution_count": 47,
          "metadata": {},
          "output_type": "execute_result"
        }
      ],
      "source": [
        "usa_states = usa_states[0]\n",
        "usa_states.head()"
      ]
    },
    {
      "cell_type": "markdown",
      "metadata": {
        "id": "MFDJPZaF71e_"
      },
      "source": [
        "Note, in even the last year, the capability of `pd.read_html()` has improved. The merged cells you see in the web table are now handled much more conveniently, with 'Phoenix' now being duplicated so the subsequent columns remain aligned. But check this anyway. If you extract the established date column, you should just get dates. Recall previously you used the `.loc` accessor, because you were using labels. Now you want to refer to a column by its index position and so use `.iloc`. For a discussion on the difference use cases of `.loc` and `.iloc` refer to the [pandas documentation](https://pandas.pydata.org/pandas-docs/stable/user_guide/indexing.html)."
      ]
    },
    {
      "cell_type": "code",
      "execution_count": null,
      "metadata": {
        "id": "R-eqWLfU71e_"
      },
      "outputs": [],
      "source": [
        "#Code task 30#\n",
        "#Use the iloc accessor to get the pandas Series for column number 4 from `usa_states`\n",
        "#It should be a column of dates\n",
        "established = usa_sates.___[:, 4]"
      ]
    },
    {
      "cell_type": "code",
      "execution_count": null,
      "metadata": {
        "id": "nsBwxpD971fA",
        "outputId": "51092a03-4174-468b-9a5f-45fdf1ca1af8"
      },
      "outputs": [
        {
          "data": {
            "text/plain": [
              "0     Dec 14, 1819\n",
              "1      Jan 3, 1959\n",
              "2     Feb 14, 1912\n",
              "3     Jun 15, 1836\n",
              "4      Sep 9, 1850\n",
              "5      Aug 1, 1876\n",
              "6      Jan 9, 1788\n",
              "7      Dec 7, 1787\n",
              "8      Mar 3, 1845\n",
              "9      Jan 2, 1788\n",
              "10    Aug 21, 1959\n",
              "11     Jul 3, 1890\n",
              "12     Dec 3, 1818\n",
              "13    Dec 11, 1816\n",
              "14    Dec 28, 1846\n",
              "15    Jan 29, 1861\n",
              "16     Jun 1, 1792\n",
              "17    Apr 30, 1812\n",
              "18    Mar 15, 1820\n",
              "19    Apr 28, 1788\n",
              "20     Feb 6, 1788\n",
              "21    Jan 26, 1837\n",
              "22    May 11, 1858\n",
              "23    Dec 10, 1817\n",
              "24    Aug 10, 1821\n",
              "25     Nov 8, 1889\n",
              "26     Mar 1, 1867\n",
              "27    Oct 31, 1864\n",
              "28    Jun 21, 1788\n",
              "29    Dec 18, 1787\n",
              "30     Jan 6, 1912\n",
              "31    Jul 26, 1788\n",
              "32    Nov 21, 1789\n",
              "33     Nov 2, 1889\n",
              "34     Mar 1, 1803\n",
              "35    Nov 16, 1907\n",
              "36    Feb 14, 1859\n",
              "37    Dec 12, 1787\n",
              "38    May 29, 1790\n",
              "39    May 23, 1788\n",
              "40     Nov 2, 1889\n",
              "41     Jun 1, 1796\n",
              "42    Dec 29, 1845\n",
              "43     Jan 4, 1896\n",
              "44     Mar 4, 1791\n",
              "45    Jun 25, 1788\n",
              "46    Nov 11, 1889\n",
              "47    Jun 20, 1863\n",
              "48    May 29, 1848\n",
              "49    Jul 10, 1890\n",
              "Name: (Established[upper-alpha 1], Established[upper-alpha 1]), dtype: object"
            ]
          },
          "execution_count": 49,
          "metadata": {},
          "output_type": "execute_result"
        }
      ],
      "source": [
        "established"
      ]
    },
    {
      "cell_type": "markdown",
      "metadata": {
        "id": "2KIbjy-x71fA"
      },
      "source": [
        "Extract the state name, population, and total area (square miles) columns."
      ]
    },
    {
      "cell_type": "code",
      "execution_count": null,
      "metadata": {
        "id": "mjXEdQn071fA"
      },
      "outputs": [],
      "source": [
        "#Code task 31#\n",
        "#Now use the iloc accessor again to extract columns 0, 5, and 6 and the dataframe's `copy()` method\n",
        "#Set the names of these extracted columns to 'state', 'state_population', and 'state_area_sq_miles',\n",
        "#respectively.\n",
        "usa_states_sub = usa_states.___[:, [___]].copy()\n",
        "usa_states_sub.columns = [___]\n",
        "usa_states_sub.head()"
      ]
    },
    {
      "cell_type": "markdown",
      "metadata": {
        "id": "1SsR_Eow71fB"
      },
      "source": [
        "Do you have all the ski data states accounted for?"
      ]
    },
    {
      "cell_type": "code",
      "execution_count": null,
      "metadata": {
        "id": "pG5R3yVR71fB"
      },
      "outputs": [],
      "source": [
        "#Code task 32#\n",
        "#Find the states in `state_summary` that are not in `usa_states_sub`\n",
        "#Hint: set(list1) - set(list2) is an easy way to get items in list1 that are not in list2\n",
        "missing_states = ___(state_summary.state) - ___(usa_states_sub.state)\n",
        "missing_states"
      ]
    },
    {
      "cell_type": "markdown",
      "metadata": {
        "id": "Q9zOw_3x71fB"
      },
      "source": [
        "No?? "
      ]
    },
    {
      "cell_type": "markdown",
      "metadata": {
        "id": "ebX7vsUC71fB"
      },
      "source": [
        "If you look at the table on the web, you can perhaps start to guess what the problem is. You can confirm your suspicion by pulling out state names that _contain_ 'Massachusetts', 'Pennsylvania', or 'Virginia' from usa_states_sub:"
      ]
    },
    {
      "cell_type": "code",
      "execution_count": null,
      "metadata": {
        "id": "asdKNnRU71fC",
        "outputId": "c7c0f782-5a36-4292-f6c2-1ce0e80d7183"
      },
      "outputs": [
        {
          "data": {
            "text/plain": [
              "20    Massachusetts[upper-alpha 3]\n",
              "37     Pennsylvania[upper-alpha 3]\n",
              "38     Rhode Island[upper-alpha 4]\n",
              "45         Virginia[upper-alpha 3]\n",
              "47                   West Virginia\n",
              "Name: state, dtype: object"
            ]
          },
          "execution_count": 52,
          "metadata": {},
          "output_type": "execute_result"
        }
      ],
      "source": [
        "usa_states_sub.state[usa_states_sub.state.str.contains('Massachusetts|Pennsylvania|Rhode Island|Virginia')]"
      ]
    },
    {
      "cell_type": "markdown",
      "metadata": {
        "id": "vaeeJFxc71fC"
      },
      "source": [
        "Delete square brackets and their contents and try again:"
      ]
    },
    {
      "cell_type": "code",
      "execution_count": null,
      "metadata": {
        "id": "rEaDt5i_71fC"
      },
      "outputs": [],
      "source": [
        "#Code task 33#\n",
        "#Use pandas' Series' `replace()` method to replace anything within square brackets (including the brackets)\n",
        "#with the empty string. Do this inplace, so you need to specify the arguments:\n",
        "#to_replace='\\[.*\\]' #literal square bracket followed by anything or nothing followed by literal closing bracket\n",
        "#value='' #empty string as replacement\n",
        "#regex=True #we used a regex in our `to_replace` argument\n",
        "#inplace=True #Do this \"in place\"\n",
        "usa_states_sub.state.___(to_replace=___, value=__, regex=___, inplace=___)\n",
        "usa_states_sub.state[usa_states_sub.state.str.contains('Massachusetts|Pennsylvania|Rhode Island|Virginia')]"
      ]
    },
    {
      "cell_type": "code",
      "execution_count": null,
      "metadata": {
        "id": "LEaVgDrW71fC"
      },
      "outputs": [],
      "source": [
        "#Code task 34#\n",
        "#And now verify none of our states are missing by checking that there are no states in\n",
        "#state_summary that are not in usa_states_sub (as earlier using `set()`)\n",
        "missing_states = ___(state_summary.state) - ___(usa_states_sub.state)\n",
        "missing_states"
      ]
    },
    {
      "cell_type": "markdown",
      "metadata": {
        "id": "s4U7IkFU71fD"
      },
      "source": [
        "Better! You have an empty set for missing states now. You can confidently add the population and state area columns to the ski resort data."
      ]
    },
    {
      "cell_type": "code",
      "execution_count": null,
      "metadata": {
        "id": "GYSp414T71fD"
      },
      "outputs": [],
      "source": [
        "#Code task 35#\n",
        "#Use 'state_summary's `merge()` method to combine our new data in 'usa_states_sub'\n",
        "#specify the arguments how='left' and on='state'\n",
        "state_summary = state_summary.___(usa_states_sub, ___=___, ___=___)\n",
        "state_summary.head()"
      ]
    },
    {
      "cell_type": "markdown",
      "metadata": {
        "id": "IAuJkiJD71fD"
      },
      "source": [
        "Having created this data frame of summary statistics for various states, it would seem obvious to join this with the ski resort data to augment it with this additional data. You will do this, but not now. In the next notebook you will be exploring the data, including the relationships between the states. For that you want a separate row for each state, as you have here, and joining the data this soon means you'd need to separate and eliminate redundances in the state data when you wanted it."
      ]
    },
    {
      "cell_type": "markdown",
      "metadata": {
        "id": "u4aSPefG71fD"
      },
      "source": [
        "## 2.11 Target Feature<a id='2.11_Target_Feature'></a>"
      ]
    },
    {
      "cell_type": "markdown",
      "metadata": {
        "id": "5g8JHizP71fE"
      },
      "source": [
        "Finally, what will your target be when modelling ticket price? What relationship is there between weekday and weekend prices?"
      ]
    },
    {
      "cell_type": "code",
      "execution_count": null,
      "metadata": {
        "id": "m8jwnuWS71fE"
      },
      "outputs": [],
      "source": [
        "#Code task 36#\n",
        "#Use ski_data's `plot()` method to create a scatterplot (kind='scatter') with 'AdultWeekday' on the x-axis and\n",
        "#'AdultWeekend' on the y-axis\n",
        "ski_data.___(x=___, y=___, kind=___);"
      ]
    },
    {
      "cell_type": "markdown",
      "metadata": {
        "id": "cYgHhN8X71fE"
      },
      "source": [
        "A couple of observations can be made. Firstly, there is a clear line where weekend and weekday prices are equal. Weekend prices being higher than weekday prices seem restricted to sub $100 resorts. Recall from the boxplot earlier that the distribution for weekday and weekend prices in Montana seemed equal. Is this confirmed in the actual data for each resort? Big Mountain resort is in Montana, so the relationship between these quantities in this state are particularly relevant."
      ]
    },
    {
      "cell_type": "code",
      "execution_count": null,
      "metadata": {
        "id": "H0FAuMg_71fE"
      },
      "outputs": [],
      "source": [
        "#Code task 37#\n",
        "#Use the loc accessor on ski_data to print the 'AdultWeekend' and 'AdultWeekday' columns for Montana only\n",
        "ski_data.___[ski_data.state == ___, [___, ___]]"
      ]
    },
    {
      "cell_type": "markdown",
      "metadata": {
        "id": "vBJxJRPN71fE"
      },
      "source": [
        "Is there any reason to prefer weekend or weekday prices? Which is missing the least?"
      ]
    },
    {
      "cell_type": "code",
      "execution_count": null,
      "metadata": {
        "id": "Ij-E60w271fF",
        "outputId": "69de6c6e-47eb-487e-b424-a98f5cd7806d"
      },
      "outputs": [
        {
          "data": {
            "text/plain": [
              "AdultWeekend    4\n",
              "AdultWeekday    7\n",
              "dtype: int64"
            ]
          },
          "execution_count": 58,
          "metadata": {},
          "output_type": "execute_result"
        }
      ],
      "source": [
        "ski_data[['AdultWeekend', 'AdultWeekday']].isnull().sum()"
      ]
    },
    {
      "cell_type": "markdown",
      "metadata": {
        "id": "cmnUVHG-71fF"
      },
      "source": [
        "Weekend prices have the least missing values of the two, so drop the weekday prices and then keep just the rows that have weekend price."
      ]
    },
    {
      "cell_type": "code",
      "execution_count": null,
      "metadata": {
        "id": "cZIrK9M271fF"
      },
      "outputs": [],
      "source": [
        "ski_data.drop(columns='AdultWeekday', inplace=True)\n",
        "ski_data.dropna(subset=['AdultWeekend'], inplace=True)"
      ]
    },
    {
      "cell_type": "code",
      "execution_count": null,
      "metadata": {
        "id": "ysLwiwAe71fF",
        "outputId": "9fdbbd81-6b29-40cd-dcb6-c4d43a8d5968"
      },
      "outputs": [
        {
          "data": {
            "text/plain": [
              "(277, 25)"
            ]
          },
          "execution_count": 60,
          "metadata": {},
          "output_type": "execute_result"
        }
      ],
      "source": [
        "ski_data.shape"
      ]
    },
    {
      "cell_type": "markdown",
      "metadata": {
        "id": "h2ZBXaiv71fF"
      },
      "source": [
        "Perform a final quick check on the data."
      ]
    },
    {
      "cell_type": "markdown",
      "metadata": {
        "id": "5ha_lCvj71fG"
      },
      "source": [
        "### 2.11.1 Number Of Missing Values By Row - Resort<a id='2.11.1_Number_Of_Missing_Values_By_Row_-_Resort'></a>"
      ]
    },
    {
      "cell_type": "markdown",
      "metadata": {
        "id": "eFNd6-Rw71fG"
      },
      "source": [
        "Having dropped rows missing the desired target ticket price, what degree of missingness do you have for the remaining rows?"
      ]
    },
    {
      "cell_type": "code",
      "execution_count": null,
      "metadata": {
        "id": "y_XQIACA71fG",
        "outputId": "e5f64e76-6747-49d1-8dde-2d51939dc527"
      },
      "outputs": [
        {
          "data": {
            "text/html": [
              "<div>\n",
              "<style scoped>\n",
              "    .dataframe tbody tr th:only-of-type {\n",
              "        vertical-align: middle;\n",
              "    }\n",
              "\n",
              "    .dataframe tbody tr th {\n",
              "        vertical-align: top;\n",
              "    }\n",
              "\n",
              "    .dataframe thead th {\n",
              "        text-align: right;\n",
              "    }\n",
              "</style>\n",
              "<table border=\"1\" class=\"dataframe\">\n",
              "  <thead>\n",
              "    <tr style=\"text-align: right;\">\n",
              "      <th></th>\n",
              "      <th>count</th>\n",
              "      <th>%</th>\n",
              "    </tr>\n",
              "  </thead>\n",
              "  <tbody>\n",
              "    <tr>\n",
              "      <th>329</th>\n",
              "      <td>5</td>\n",
              "      <td>20.0</td>\n",
              "    </tr>\n",
              "    <tr>\n",
              "      <th>62</th>\n",
              "      <td>5</td>\n",
              "      <td>20.0</td>\n",
              "    </tr>\n",
              "    <tr>\n",
              "      <th>141</th>\n",
              "      <td>5</td>\n",
              "      <td>20.0</td>\n",
              "    </tr>\n",
              "    <tr>\n",
              "      <th>86</th>\n",
              "      <td>5</td>\n",
              "      <td>20.0</td>\n",
              "    </tr>\n",
              "    <tr>\n",
              "      <th>74</th>\n",
              "      <td>5</td>\n",
              "      <td>20.0</td>\n",
              "    </tr>\n",
              "    <tr>\n",
              "      <th>146</th>\n",
              "      <td>5</td>\n",
              "      <td>20.0</td>\n",
              "    </tr>\n",
              "    <tr>\n",
              "      <th>184</th>\n",
              "      <td>4</td>\n",
              "      <td>16.0</td>\n",
              "    </tr>\n",
              "    <tr>\n",
              "      <th>108</th>\n",
              "      <td>4</td>\n",
              "      <td>16.0</td>\n",
              "    </tr>\n",
              "    <tr>\n",
              "      <th>198</th>\n",
              "      <td>4</td>\n",
              "      <td>16.0</td>\n",
              "    </tr>\n",
              "    <tr>\n",
              "      <th>39</th>\n",
              "      <td>4</td>\n",
              "      <td>16.0</td>\n",
              "    </tr>\n",
              "  </tbody>\n",
              "</table>\n",
              "</div>"
            ],
            "text/plain": [
              "     count     %\n",
              "329      5  20.0\n",
              "62       5  20.0\n",
              "141      5  20.0\n",
              "86       5  20.0\n",
              "74       5  20.0\n",
              "146      5  20.0\n",
              "184      4  16.0\n",
              "108      4  16.0\n",
              "198      4  16.0\n",
              "39       4  16.0"
            ]
          },
          "execution_count": 61,
          "metadata": {},
          "output_type": "execute_result"
        }
      ],
      "source": [
        "missing = pd.concat([ski_data.isnull().sum(axis=1), 100 * ski_data.isnull().mean(axis=1)], axis=1)\n",
        "missing.columns=['count', '%']\n",
        "missing.sort_values(by='count', ascending=False).head(10)"
      ]
    },
    {
      "cell_type": "markdown",
      "metadata": {
        "id": "YTOcKm2K71fG"
      },
      "source": [
        "These seem possibly curiously quantized..."
      ]
    },
    {
      "cell_type": "code",
      "execution_count": null,
      "metadata": {
        "id": "f8HfOMDY71fH",
        "outputId": "f96d4e45-11f6-4854-b353-8a1265df4195"
      },
      "outputs": [
        {
          "data": {
            "text/plain": [
              "array([ 0.,  4.,  8., 12., 16., 20.])"
            ]
          },
          "execution_count": 62,
          "metadata": {},
          "output_type": "execute_result"
        }
      ],
      "source": [
        "missing['%'].unique()"
      ]
    },
    {
      "cell_type": "markdown",
      "metadata": {
        "id": "5bq9xgVu71fH"
      },
      "source": [
        "Yes, the percentage of missing values per row appear in multiples of 4."
      ]
    },
    {
      "cell_type": "code",
      "execution_count": null,
      "metadata": {
        "id": "hhMsRCcJ71fH",
        "outputId": "4d7659d2-884a-4e7a-b47b-88d9063c9a08"
      },
      "outputs": [
        {
          "data": {
            "text/plain": [
              "0.0     107\n",
              "4.0      94\n",
              "8.0      45\n",
              "12.0     15\n",
              "16.0     10\n",
              "20.0      6\n",
              "Name: %, dtype: int64"
            ]
          },
          "execution_count": 63,
          "metadata": {},
          "output_type": "execute_result"
        }
      ],
      "source": [
        "missing['%'].value_counts()"
      ]
    },
    {
      "cell_type": "markdown",
      "metadata": {
        "id": "gJhx8LVz71fI"
      },
      "source": [
        "This is almost as if values have been removed artificially... Nevertheless, what you don't know is how useful the missing features are in predicting ticket price. You shouldn't just drop rows that are missing several useless features."
      ]
    },
    {
      "cell_type": "code",
      "execution_count": null,
      "metadata": {
        "id": "wm_b7aMY71fI",
        "outputId": "bfa231aa-9a63-458e-b4eb-4e014c9de3ea"
      },
      "outputs": [
        {
          "name": "stdout",
          "output_type": "stream",
          "text": [
            "<class 'pandas.core.frame.DataFrame'>\n",
            "Int64Index: 277 entries, 0 to 329\n",
            "Data columns (total 25 columns):\n",
            " #   Column             Non-Null Count  Dtype  \n",
            "---  ------             --------------  -----  \n",
            " 0   Name               277 non-null    object \n",
            " 1   Region             277 non-null    object \n",
            " 2   state              277 non-null    object \n",
            " 3   summit_elev        277 non-null    int64  \n",
            " 4   vertical_drop      277 non-null    int64  \n",
            " 5   base_elev          277 non-null    int64  \n",
            " 6   trams              277 non-null    int64  \n",
            " 7   fastSixes          277 non-null    int64  \n",
            " 8   fastQuads          277 non-null    int64  \n",
            " 9   quad               277 non-null    int64  \n",
            " 10  triple             277 non-null    int64  \n",
            " 11  double             277 non-null    int64  \n",
            " 12  surface            277 non-null    int64  \n",
            " 13  total_chairs       277 non-null    int64  \n",
            " 14  Runs               274 non-null    float64\n",
            " 15  TerrainParks       233 non-null    float64\n",
            " 16  LongestRun_mi      272 non-null    float64\n",
            " 17  SkiableTerrain_ac  275 non-null    float64\n",
            " 18  Snow Making_ac     240 non-null    float64\n",
            " 19  daysOpenLastYear   233 non-null    float64\n",
            " 20  yearsOpen          277 non-null    float64\n",
            " 21  averageSnowfall    268 non-null    float64\n",
            " 22  AdultWeekend       277 non-null    float64\n",
            " 23  projectedDaysOpen  236 non-null    float64\n",
            " 24  NightSkiing_ac     163 non-null    float64\n",
            "dtypes: float64(11), int64(11), object(3)\n",
            "memory usage: 56.3+ KB\n"
          ]
        }
      ],
      "source": [
        "ski_data.info()"
      ]
    },
    {
      "cell_type": "markdown",
      "metadata": {
        "id": "p-Pwd2Tz71fI"
      },
      "source": [
        "There are still some missing values, and it's good to be aware of this, but leave them as is for now."
      ]
    },
    {
      "cell_type": "markdown",
      "metadata": {
        "id": "cdVVGzB971fJ"
      },
      "source": [
        "## 2.12 Save data<a id='2.12_Save_data'></a>"
      ]
    },
    {
      "cell_type": "code",
      "execution_count": null,
      "metadata": {
        "id": "63_2O5Uz71fJ",
        "outputId": "5da3b920-4f58-4930-f3dc-057eb5eef1a1"
      },
      "outputs": [
        {
          "data": {
            "text/plain": [
              "(277, 25)"
            ]
          },
          "execution_count": 65,
          "metadata": {},
          "output_type": "execute_result"
        }
      ],
      "source": [
        "ski_data.shape"
      ]
    },
    {
      "cell_type": "markdown",
      "metadata": {
        "id": "b-VrSQy471fJ"
      },
      "source": [
        "Save this to your data directory, separately. Note that you were provided with the data in `raw_data` and you should saving derived data in a separate location. This guards against overwriting our original data."
      ]
    },
    {
      "cell_type": "code",
      "execution_count": null,
      "metadata": {
        "id": "AWdtQCIN71fJ"
      },
      "outputs": [],
      "source": [
        "# save the data to a new csv file\n",
        "datapath = '../data'\n",
        "save_file(ski_data, 'ski_data_cleaned.csv', datapath)"
      ]
    },
    {
      "cell_type": "code",
      "execution_count": null,
      "metadata": {
        "id": "B5AOR17471fK"
      },
      "outputs": [],
      "source": [
        "# save the state_summary separately.\n",
        "datapath = '../data'\n",
        "save_file(state_summary, 'state_summary.csv', datapath)"
      ]
    },
    {
      "cell_type": "markdown",
      "metadata": {
        "id": "a0OIUFuP71fK"
      },
      "source": [
        "## 2.13 Summary<a id='2.13_Summary'></a>"
      ]
    },
    {
      "cell_type": "markdown",
      "metadata": {
        "id": "dXDGjK-u71fK"
      },
      "source": [
        "**Q: 3** Write a summary statement that highlights the key processes and findings from this notebook. This should include information such as the original number of rows in the data, whether our own resort was actually present etc. What columns, if any, have been removed? Any rows? Summarise the reasons why. Were any other issues found? What remedial actions did you take? State where you are in the project. Can you confirm what the target feature is for your desire to predict ticket price? How many rows were left in the data? Hint: this is a great opportunity to reread your notebook, check all cells have been executed in order and from a \"blank slate\" (restarting the kernel will do this), and that your workflow makes sense and follows a logical pattern. As you do this you can pull out salient information for inclusion in this summary. Thus, this section will provide an important overview of \"what\" and \"why\" without having to dive into the \"how\" or any unproductive or inconclusive steps along the way."
      ]
    },
    {
      "cell_type": "markdown",
      "metadata": {
        "id": "MDlJeCRh71fL"
      },
      "source": [
        "**A: 3** Your answer here"
      ]
    }
  ],
  "metadata": {
    "kernelspec": {
      "display_name": "Python 3",
      "language": "python",
      "name": "python3"
    },
    "language_info": {
      "codemirror_mode": {
        "name": "ipython",
        "version": 3
      },
      "file_extension": ".py",
      "mimetype": "text/x-python",
      "name": "python",
      "nbconvert_exporter": "python",
      "pygments_lexer": "ipython3",
      "version": "3.7.4"
    },
    "toc": {
      "base_numbering": 1,
      "nav_menu": {},
      "number_sections": true,
      "sideBar": true,
      "skip_h1_title": false,
      "title_cell": "Table of Contents",
      "title_sidebar": "Contents",
      "toc_cell": false,
      "toc_position": {},
      "toc_section_display": true,
      "toc_window_display": true
    },
    "varInspector": {
      "cols": {
        "lenName": 16,
        "lenType": 16,
        "lenVar": 40
      },
      "kernels_config": {
        "python": {
          "delete_cmd_postfix": "",
          "delete_cmd_prefix": "del ",
          "library": "var_list.py",
          "varRefreshCmd": "print(var_dic_list())"
        },
        "r": {
          "delete_cmd_postfix": ") ",
          "delete_cmd_prefix": "rm(",
          "library": "var_list.r",
          "varRefreshCmd": "cat(var_dic_list()) "
        }
      },
      "types_to_exclude": [
        "module",
        "function",
        "builtin_function_or_method",
        "instance",
        "_Feature"
      ],
      "window_display": false
    },
    "colab": {
      "provenance": []
    }
  },
  "nbformat": 4,
  "nbformat_minor": 0
}